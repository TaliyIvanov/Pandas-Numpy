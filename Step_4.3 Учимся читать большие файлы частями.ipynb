{
 "cells": [
  {
   "cell_type": "code",
   "execution_count": 1,
   "id": "11afc618",
   "metadata": {},
   "outputs": [],
   "source": [
    "import numpy as np\n",
    "import pandas as pd"
   ]
  },
  {
   "cell_type": "markdown",
   "id": "ef451988",
   "metadata": {},
   "source": [
    "# chunksize"
   ]
  },
  {
   "cell_type": "markdown",
   "id": "856be81f",
   "metadata": {},
   "source": [
    "Загрузим и разобьем данный датафрэйм на фрагменты. Чтобы поочереди с ними работать.\n",
    "Такой подход очень эффективен если у нас огромные датафрэймы.\n",
    "\n",
    "В этом нам поможет параметр chunksize"
   ]
  },
  {
   "cell_type": "code",
   "execution_count": 43,
   "id": "0e4c0a3b",
   "metadata": {},
   "outputs": [
    {
     "data": {
      "text/plain": [
       "<pandas.io.parsers.readers.TextFileReader at 0x2a0232878b0>"
      ]
     },
     "execution_count": 43,
     "metadata": {},
     "output_type": "execute_result"
    }
   ],
   "source": [
    "reader = pd.read_csv('Z:\\\\Programming\\\\DataSciense\\\\Stepik_Pandas_Numpy\\\\Step.4.4_Задача2.csv', \n",
    "                 sep = ';', chunksize=2 )\n",
    "reader"
   ]
  },
  {
   "cell_type": "markdown",
   "id": "2f68b4f3",
   "metadata": {},
   "source": [
    "Мы получили \"умный\" объект, который вытащил 2 строки из датафрэйма. \n",
    "\n",
    "Теперь нам надо его попросить показать их.\n",
    "\n",
    "Осуществим это с помощью цикла."
   ]
  },
  {
   "cell_type": "code",
   "execution_count": 23,
   "id": "4f7ca6d5",
   "metadata": {},
   "outputs": [
    {
     "name": "stdout",
     "output_type": "stream",
     "text": [
      "                   job        company          ssn  \\\n",
      "0      Records manager  Duncan-Garcia  241-62-8803   \n",
      "1  Mental health nurse       Rose-Lee  899-12-4937   \n",
      "\n",
      "                                  residence  \\\n",
      "0  309 Danielle Cliffs\\nNorth Amy, NC 69960   \n",
      "1          Unit 5929 Box 0845\\nDPO AE 45149   \n",
      "\n",
      "                                 current_location blood_group  \\\n",
      "0  (Decimal('-79.694044'), Decimal('145.837904'))         AB+   \n",
      "1  (Decimal('16.6696785'), Decimal('-38.243842'))          A-   \n",
      "\n",
      "                                             website     username  \\\n",
      "0  ['http://www.lara-atkins.info/', 'https://vela...  lambertemma   \n",
      "1  ['http://jackson-sanchez.net/', 'https://www.g...        greid   \n",
      "\n",
      "           name sex                                    address  \\\n",
      "0    Stacy Reed   F  9881 Brown Mission\\nWest Marcus, CO 88576   \n",
      "1  Carol Farley   F                   USNS Burke\\nFPO AE 09663   \n",
      "\n",
      "                      mail   birthdate  \n",
      "0         vsmith@yahoo.com  1980-01-04  \n",
      "1  graceholloway@yahoo.com  1918-07-08  \n",
      "---1\n",
      "                              job         company          ssn  \\\n",
      "2  Furniture conservator/restorer  Potts and Sons  261-41-9484   \n",
      "3                Ambulance person      Rivera Inc  201-43-6181   \n",
      "\n",
      "                                           residence  \\\n",
      "2  130 Vargas Trail Apt. 244\\nNorth Rebecca, WV 1...   \n",
      "3             7173 Adrian Shoal\\nWest Paul, NJ 24509   \n",
      "\n",
      "                                 current_location blood_group  \\\n",
      "2  (Decimal('-27.9623815'), Decimal('75.091620'))          B-   \n",
      "3   (Decimal('20.706462'), Decimal('-99.445622'))          B-   \n",
      "\n",
      "                                             website      username  \\\n",
      "2  ['https://www.mclaughlin.com/', 'http://www.gi...  scottmercado   \n",
      "3  ['https://smith.net/', 'https://garcia-nichols...     kristin75   \n",
      "\n",
      "               name sex                                            address  \\\n",
      "2  Russell Whitaker   M         9023 Julie Highway\\nJonathanfurt, NE 70139   \n",
      "3    Maureen Powers   F  9431 Cunningham Divide Suite 663\\nKnightcheste...   \n",
      "\n",
      "                mail   birthdate  \n",
      "2    ghart@gmail.com  1946-09-11  \n",
      "3  stacy77@yahoo.com  1960-07-01  \n",
      "---1\n",
      "                          job          company          ssn  \\\n",
      "4  Contracting civil engineer   Hatfield Group  878-83-6667   \n",
      "5                Estate agent  Harrison-Larsen  780-62-6737   \n",
      "\n",
      "                                           residence  \\\n",
      "4  558 Andrea Prairie Apt. 869\\nGeraldside, TX 73555   \n",
      "5                          USS Walters\\nFPO AA 57066   \n",
      "\n",
      "                                 current_location blood_group  \\\n",
      "4   (Decimal('-5.886452'), Decimal('105.424264'))          O+   \n",
      "5  (Decimal('-16.818435'), Decimal('-24.144586'))          B-   \n",
      "\n",
      "                           website       username             name sex  \\\n",
      "4  ['https://curry-mitchell.com/']        lhansen  Edward Mcdonald   M   \n",
      "5       ['http://www.brooks.com/']  huertaanthony  Randall Baldwin   M   \n",
      "\n",
      "                                             address  \\\n",
      "4  58853 Jennifer Brooks Suite 754\\nMichaelfort, ...   \n",
      "5           320 Cynthia Light\\nPort Alyssa, NC 58746   \n",
      "\n",
      "                        mail   birthdate  \n",
      "4           emoore@yahoo.com  1940-10-02  \n",
      "5  thompsonphillip@yahoo.com  1986-12-13  \n",
      "---2\n",
      "                                   job      company          ssn  \\\n",
      "6  Social research officer, government  Mills-Smith  273-12-9262   \n",
      "7           Psychologist, occupational   Welch-Ward  051-51-3449   \n",
      "\n",
      "                                   residence  \\\n",
      "6  4686 Whitney Cove\\nEast Johnton, MI 29720   \n",
      "7    6444 Herrera Mills\\nTonyabury, UT 75601   \n",
      "\n",
      "                                   current_location blood_group  \\\n",
      "6     (Decimal('-86.601344'), Decimal('34.919924'))         AB+   \n",
      "7  (Decimal('-68.5063845'), Decimal('-172.417969'))          A+   \n",
      "\n",
      "                                             website   username  \\\n",
      "6  ['http://day-sandoval.biz/', 'http://gomez-roc...       ecox   \n",
      "7                              ['http://dixon.com/']  cmartinez   \n",
      "\n",
      "               name sex                                            address  \\\n",
      "6  Christine Brooks   F  709 Hall Circle Suite 075\\nWest Krystal, MN 26789   \n",
      "7    Micheal Parker   M  03834 Crystal Land Suite 820\\nNew Michelleberg...   \n",
      "\n",
      "                     mail   birthdate  \n",
      "6  kimrosario@hotmail.com  2016-04-21  \n",
      "7    nrichard@hotmail.com  1946-12-05  \n",
      "---3\n",
      "                           job       company          ssn  \\\n",
      "8  Careers information officer   Lopez-Walsh  438-82-5734   \n",
      "9                Administrator  Grant-Santos  532-83-7870   \n",
      "\n",
      "                                   residence  \\\n",
      "8   11945 Kevin Summit\\nWarrenfurt, MN 38811   \n",
      "9  814 Anna Mountains\\nPort Tyrone, MS 08953   \n",
      "\n",
      "                                  current_location blood_group  \\\n",
      "8  (Decimal('17.0921015'), Decimal('-151.157305'))          A+   \n",
      "9     (Decimal('65.854303'), Decimal('92.687064'))          B+   \n",
      "\n",
      "                                             website      username  \\\n",
      "8  ['https://mitchell.com/', 'http://frederick-wh...      markhall   \n",
      "9  ['http://www.richardson-rodriguez.org/', 'http...  floresdenise   \n",
      "\n",
      "           name sex                                           address  \\\n",
      "8  Nicole Kelly   F                  Unit 3115 Box 0267\\nDPO AA 05952   \n",
      "9  Mike Johnson   M  660 Daniel Springs Apt. 789\\nHansonton, PA 38505   \n",
      "\n",
      "                         mail   birthdate  \n",
      "8  edwardswilliam@hotmail.com  1978-06-06  \n",
      "9     millerwilliam@gmail.com  1910-11-08  \n"
     ]
    },
    {
     "ename": "KeyboardInterrupt",
     "evalue": "Interrupted by user",
     "output_type": "error",
     "traceback": [
      "\u001b[1;31m---------------------------------------------------------------------------\u001b[0m",
      "\u001b[1;31mKeyboardInterrupt\u001b[0m                         Traceback (most recent call last)",
      "Input \u001b[1;32mIn [23]\u001b[0m, in \u001b[0;36m<cell line: 1>\u001b[1;34m()\u001b[0m\n\u001b[0;32m      1\u001b[0m \u001b[38;5;28;01mfor\u001b[39;00m df \u001b[38;5;129;01min\u001b[39;00m reader:\n\u001b[0;32m      2\u001b[0m     \u001b[38;5;28mprint\u001b[39m(df)\n\u001b[1;32m----> 3\u001b[0m     \u001b[38;5;28;43minput\u001b[39;49m\u001b[43m(\u001b[49m\u001b[38;5;124;43m'\u001b[39;49m\u001b[38;5;124;43m---\u001b[39;49m\u001b[38;5;124;43m'\u001b[39;49m\u001b[43m)\u001b[49m\n",
      "File \u001b[1;32m~\\anaconda3\\lib\\site-packages\\ipykernel\\kernelbase.py:1075\u001b[0m, in \u001b[0;36mKernel.raw_input\u001b[1;34m(self, prompt)\u001b[0m\n\u001b[0;32m   1071\u001b[0m \u001b[38;5;28;01mif\u001b[39;00m \u001b[38;5;129;01mnot\u001b[39;00m \u001b[38;5;28mself\u001b[39m\u001b[38;5;241m.\u001b[39m_allow_stdin:\n\u001b[0;32m   1072\u001b[0m     \u001b[38;5;28;01mraise\u001b[39;00m StdinNotImplementedError(\n\u001b[0;32m   1073\u001b[0m         \u001b[38;5;124m\"\u001b[39m\u001b[38;5;124mraw_input was called, but this frontend does not support input requests.\u001b[39m\u001b[38;5;124m\"\u001b[39m\n\u001b[0;32m   1074\u001b[0m     )\n\u001b[1;32m-> 1075\u001b[0m \u001b[38;5;28;01mreturn\u001b[39;00m \u001b[38;5;28;43mself\u001b[39;49m\u001b[38;5;241;43m.\u001b[39;49m\u001b[43m_input_request\u001b[49m\u001b[43m(\u001b[49m\n\u001b[0;32m   1076\u001b[0m \u001b[43m    \u001b[49m\u001b[38;5;28;43mstr\u001b[39;49m\u001b[43m(\u001b[49m\u001b[43mprompt\u001b[49m\u001b[43m)\u001b[49m\u001b[43m,\u001b[49m\n\u001b[0;32m   1077\u001b[0m \u001b[43m    \u001b[49m\u001b[38;5;28;43mself\u001b[39;49m\u001b[38;5;241;43m.\u001b[39;49m\u001b[43m_parent_ident\u001b[49m\u001b[43m[\u001b[49m\u001b[38;5;124;43m\"\u001b[39;49m\u001b[38;5;124;43mshell\u001b[39;49m\u001b[38;5;124;43m\"\u001b[39;49m\u001b[43m]\u001b[49m\u001b[43m,\u001b[49m\n\u001b[0;32m   1078\u001b[0m \u001b[43m    \u001b[49m\u001b[38;5;28;43mself\u001b[39;49m\u001b[38;5;241;43m.\u001b[39;49m\u001b[43mget_parent\u001b[49m\u001b[43m(\u001b[49m\u001b[38;5;124;43m\"\u001b[39;49m\u001b[38;5;124;43mshell\u001b[39;49m\u001b[38;5;124;43m\"\u001b[39;49m\u001b[43m)\u001b[49m\u001b[43m,\u001b[49m\n\u001b[0;32m   1079\u001b[0m \u001b[43m    \u001b[49m\u001b[43mpassword\u001b[49m\u001b[38;5;241;43m=\u001b[39;49m\u001b[38;5;28;43;01mFalse\u001b[39;49;00m\u001b[43m,\u001b[49m\n\u001b[0;32m   1080\u001b[0m \u001b[43m\u001b[49m\u001b[43m)\u001b[49m\n",
      "File \u001b[1;32m~\\anaconda3\\lib\\site-packages\\ipykernel\\kernelbase.py:1120\u001b[0m, in \u001b[0;36mKernel._input_request\u001b[1;34m(self, prompt, ident, parent, password)\u001b[0m\n\u001b[0;32m   1117\u001b[0m             \u001b[38;5;28;01mbreak\u001b[39;00m\n\u001b[0;32m   1118\u001b[0m \u001b[38;5;28;01mexcept\u001b[39;00m \u001b[38;5;167;01mKeyboardInterrupt\u001b[39;00m:\n\u001b[0;32m   1119\u001b[0m     \u001b[38;5;66;03m# re-raise KeyboardInterrupt, to truncate traceback\u001b[39;00m\n\u001b[1;32m-> 1120\u001b[0m     \u001b[38;5;28;01mraise\u001b[39;00m \u001b[38;5;167;01mKeyboardInterrupt\u001b[39;00m(\u001b[38;5;124m\"\u001b[39m\u001b[38;5;124mInterrupted by user\u001b[39m\u001b[38;5;124m\"\u001b[39m) \u001b[38;5;28;01mfrom\u001b[39;00m \u001b[38;5;28mNone\u001b[39m\n\u001b[0;32m   1121\u001b[0m \u001b[38;5;28;01mexcept\u001b[39;00m \u001b[38;5;167;01mException\u001b[39;00m:\n\u001b[0;32m   1122\u001b[0m     \u001b[38;5;28mself\u001b[39m\u001b[38;5;241m.\u001b[39mlog\u001b[38;5;241m.\u001b[39mwarning(\u001b[38;5;124m\"\u001b[39m\u001b[38;5;124mInvalid Message:\u001b[39m\u001b[38;5;124m\"\u001b[39m, exc_info\u001b[38;5;241m=\u001b[39m\u001b[38;5;28;01mTrue\u001b[39;00m)\n",
      "\u001b[1;31mKeyboardInterrupt\u001b[0m: Interrupted by user"
     ]
    }
   ],
   "source": [
    "for df in reader:\n",
    "    print(df)\n",
    "    input('---')"
   ]
  },
  {
   "cell_type": "markdown",
   "id": "d3270379",
   "metadata": {},
   "source": [
    "Такой reader не хранит в себе все. Он хранит ссылку на файл и он понимает, где он сейчас находится.\n",
    "\n",
    "Цикл for на следующей итерации запрашивает значения и выводит."
   ]
  },
  {
   "cell_type": "markdown",
   "id": "0be9bf8c",
   "metadata": {},
   "source": [
    "Теперь давайте на практике перебирать значения."
   ]
  },
  {
   "cell_type": "code",
   "execution_count": 54,
   "id": "a708157c",
   "metadata": {},
   "outputs": [],
   "source": [
    "data = [['Girev', 'Andrey', 'ВИП', 2815, 29, 58, 6358, 'Moscow', 'Xiaomi'],\n",
    "       ['Bykin', 'Stas', 'Все за 300', 3634, 37, 78, 602, 'Kazan',\n",
    "        'Samsung'],\n",
    "       ['Ivanov', 'Alex', 'Всё за 800', 410, 47, 81, 3582, 'Moscow',\n",
    "        'Huawei'],\n",
    "       ['Andreev', 'Sergey', 'Всё за 500', 1981, 75, 98, 5442, 'Kazan',\n",
    "        'Apple'],\n",
    "       ['Girev', 'Stas', 'Всё за 800', 4969, 43, 61, 8510, 'Moscow',\n",
    "        'Samsung'],\n",
    "       ['Bykin', 'Andrey', 'Всё за 500', 4308, 49, 39, 2525, 'Moscow',\n",
    "        'Xiaomi'],\n",
    "       ['Kozlov', 'Igor', 'Всё за 800', 300, 60, 31, 8543, 'Yakutsk',\n",
    "        'Samsung'],\n",
    "       ['Girev', 'Alex', 'Промо', 4199, 47, 90, 3925, 'Kazan', 'Apple'],\n",
    "       ['Petrov', 'Nikolay', 'ВИП', 4810, 72, 88, 7188, 'Moscow',\n",
    "        'Apple'],\n",
    "       ['Andreev', 'Sergey', 'Всё за 800', 4118, 52, 53, 419, 'Yakutsk',\n",
    "        'Apple'],\n",
    "       ['Smolov', 'Stas', 'Промо', 1991, 28, 67, 5016, 'Kazan', 'Xiaomi'],\n",
    "       ['Girev', 'Igor', 'Корпоративный', 1430, 69, 19, 9520, 'Yakutsk',\n",
    "        'Samsung'],\n",
    "       ['Kozlov', 'Andrey', 'Корпоративный', 113, 71, 82, 2785, 'Kazan',\n",
    "        'Apple'],\n",
    "       ['Ivanov', 'Sergey', 'Промо', 3394, 39, 12, 2718, 'Yakutsk',\n",
    "        'Xiaomi'],\n",
    "       ['Smolov', 'Sergey', 'Всё за 250 (архив)', 3493, 32, 6, 8959,\n",
    "        'Yakutsk', 'Huawei'],\n",
    "       ['Kozlov', 'Stas', 'Всё за 800', 4565, 59, 82, 3168, 'Moscow',\n",
    "        'Apple'],\n",
    "       ['Vlasov', 'Andrey', 'Всё за 800', 3192, 29, 74, 2852, 'Yakutsk',\n",
    "        'Xiaomi'],\n",
    "       ['Smolov', 'Alex', 'Корпоративный', 3764, 71, 22, 2768, 'Moscow',\n",
    "        'Huawei'],\n",
    "       ['Vlasov', 'Sergey', 'Всё за 800', 3816, 28, 35, 5734,\n",
    "        'Vladivostok', 'Apple'],\n",
    "       ['Bykin', 'Alex', 'Промо', 817, 65, 34, 2131, 'Vladivostok',\n",
    "        'Samsung'],\n",
    "       ['Andreev', 'Nikolay', 'Всё за 500', 385, 49, 62, 1815, 'Kazan',\n",
    "        'Xiaomi'],\n",
    "       ['Bykin', 'Igor', 'Всё за 500', 2642, 38, 11, 3787, 'Moscow',\n",
    "        'Xiaomi'],\n",
    "       ['Girev', 'Sergey', 'Все за 300', 4230, 62, 68, 5512,\n",
    "        'Vladivostok', 'Samsung'],\n",
    "       ['Bykin', 'Sergey', 'Всё за 800', 4100, 48, 39, 227, 'Moscow',\n",
    "        'Xiaomi'],\n",
    "       ['Girev', 'Stas', 'Все за 300', 3371, 53, 24, 7946, 'Kazan',\n",
    "        'Apple'],\n",
    "       ['Smolov', 'Sergey', 'Корпоративный', 3577, 70, 71, 8847,\n",
    "        'Yakutsk', 'Huawei'],\n",
    "       ['Mezov', 'Nikolay', 'Всё за 250 (архив)', 2742, 28, 19, 7115,\n",
    "        'Yakutsk', 'Huawei'],\n",
    "       ['Smolov', 'Stas', 'Всё за 500', 2644, 41, 33, 8341, 'Moscow',\n",
    "        'Xiaomi'],\n",
    "       ['Vlasov', 'Andrey', 'Всё за 500', 4725, 26, 93, 9441,\n",
    "        'Vladivostok', 'Xiaomi'],\n",
    "       ['Ivanov', 'Nikolay', 'Всё за 500', 2785, 41, 5, 2901, 'Moscow',\n",
    "        'Samsung']]\n",
    "\n",
    "df = pd.DataFrame(data, columns = ['surname', 'name', 'tarif', 'balance', 'age', 'sms', \n",
    "                                   'voice', 'city', 'phone'])"
   ]
  },
  {
   "cell_type": "code",
   "execution_count": 58,
   "id": "309e67cc",
   "metadata": {},
   "outputs": [],
   "source": [
    "df.to_csv('Z:\\\\Programming\\\\DataSciense\\\\Stepik_Pandas_Numpy\\\\Step.4.3_df.csv')"
   ]
  },
  {
   "cell_type": "code",
   "execution_count": 80,
   "id": "297375c9",
   "metadata": {},
   "outputs": [],
   "source": [
    "df2 = pd.read_csv('Z:\\\\Programming\\\\DataSciense\\\\Stepik_Pandas_Numpy\\\\Step.4.3_df.csv', chunksize=3)"
   ]
  },
  {
   "cell_type": "code",
   "execution_count": 81,
   "id": "e63228ec",
   "metadata": {},
   "outputs": [
    {
     "name": "stderr",
     "output_type": "stream",
     "text": [
      "C:\\Users\\user\\AppData\\Local\\Temp\\ipykernel_3696\\203521726.py:1: FutureWarning: The default dtype for empty Series will be 'object' instead of 'float64' in a future version. Specify a dtype explicitly to silence this warning.\n",
      "  totals = pd.Series([])\n"
     ]
    }
   ],
   "source": [
    "totals = pd.Series([])"
   ]
  },
  {
   "cell_type": "code",
   "execution_count": 84,
   "id": "98724550",
   "metadata": {},
   "outputs": [
    {
     "name": "stdout",
     "output_type": "stream",
     "text": [
      "   Unnamed: 0  surname    name       tarif  balance  age  sms  voice    city  \\\n",
      "3           3  Andreev  Sergey  Всё за 500     1981   75   98   5442   Kazan   \n",
      "4           4    Girev    Stas  Всё за 800     4969   43   61   8510  Moscow   \n",
      "5           5    Bykin  Andrey  Всё за 500     4308   49   39   2525  Moscow   \n",
      "\n",
      "     phone  \n",
      "3    Apple  \n",
      "4  Samsung  \n",
      "5   Xiaomi  \n",
      "----\n",
      "Sergey    1\n",
      "Stas      1\n",
      "Andrey    1\n",
      "Name: name, dtype: int64\n",
      "----\n",
      "Series([], dtype: float64)\n",
      "----\n",
      "Sergey    1.0\n",
      "Stas      1.0\n",
      "Andrey    1.0\n",
      "dtype: float64\n",
      "2\n",
      "   Unnamed: 0 surname     name       tarif  balance  age  sms  voice     city  \\\n",
      "6           6  Kozlov     Igor  Всё за 800      300   60   31   8543  Yakutsk   \n",
      "7           7   Girev     Alex       Промо     4199   47   90   3925    Kazan   \n",
      "8           8  Petrov  Nikolay         ВИП     4810   72   88   7188   Moscow   \n",
      "\n",
      "     phone  \n",
      "6  Samsung  \n",
      "7    Apple  \n",
      "8    Apple  \n",
      "----\n",
      "Igor       1\n",
      "Alex       1\n",
      "Nikolay    1\n",
      "Name: name, dtype: int64\n",
      "----\n",
      "Sergey    1.0\n",
      "Stas      1.0\n",
      "Andrey    1.0\n",
      "dtype: float64\n",
      "----\n",
      "Alex       1.0\n",
      "Andrey     1.0\n",
      "Igor       1.0\n",
      "Nikolay    1.0\n",
      "Sergey     1.0\n",
      "Stas       1.0\n",
      "dtype: float64\n",
      "Итерация 3\n",
      "    Unnamed: 0  surname    name          tarif  balance  age  sms  voice  \\\n",
      "9            9  Andreev  Sergey     Всё за 800     4118   52   53    419   \n",
      "10          10   Smolov    Stas          Промо     1991   28   67   5016   \n",
      "11          11    Girev    Igor  Корпоративный     1430   69   19   9520   \n",
      "\n",
      "       city    phone  \n",
      "9   Yakutsk    Apple  \n",
      "10    Kazan   Xiaomi  \n",
      "11  Yakutsk  Samsung  \n",
      "----\n",
      "Sergey    1\n",
      "Stas      1\n",
      "Igor      1\n",
      "Name: name, dtype: int64\n",
      "----\n",
      "Alex       1.0\n",
      "Andrey     1.0\n",
      "Igor       1.0\n",
      "Nikolay    1.0\n",
      "Sergey     1.0\n",
      "Stas       1.0\n",
      "dtype: float64\n",
      "----\n",
      "Alex       1.0\n",
      "Andrey     1.0\n",
      "Igor       2.0\n",
      "Nikolay    1.0\n",
      "Sergey     2.0\n",
      "Stas       2.0\n",
      "dtype: float64\n",
      "Итерация 4\n",
      "    Unnamed: 0 surname    name               tarif  balance  age  sms  voice  \\\n",
      "12          12  Kozlov  Andrey       Корпоративный      113   71   82   2785   \n",
      "13          13  Ivanov  Sergey               Промо     3394   39   12   2718   \n",
      "14          14  Smolov  Sergey  Всё за 250 (архив)     3493   32    6   8959   \n",
      "\n",
      "       city   phone  \n",
      "12    Kazan   Apple  \n",
      "13  Yakutsk  Xiaomi  \n",
      "14  Yakutsk  Huawei  \n",
      "----\n",
      "Sergey    2\n",
      "Andrey    1\n",
      "Name: name, dtype: int64\n",
      "----\n",
      "Alex       1.0\n",
      "Andrey     1.0\n",
      "Igor       2.0\n",
      "Nikolay    1.0\n",
      "Sergey     2.0\n",
      "Stas       2.0\n",
      "dtype: float64\n",
      "----\n",
      "Alex       1.0\n",
      "Andrey     2.0\n",
      "Igor       2.0\n",
      "Nikolay    1.0\n",
      "Sergey     4.0\n",
      "Stas       2.0\n",
      "dtype: float64\n"
     ]
    },
    {
     "ename": "KeyboardInterrupt",
     "evalue": "Interrupted by user",
     "output_type": "error",
     "traceback": [
      "\u001b[1;31m---------------------------------------------------------------------------\u001b[0m",
      "\u001b[1;31mKeyboardInterrupt\u001b[0m                         Traceback (most recent call last)",
      "Input \u001b[1;32mIn [84]\u001b[0m, in \u001b[0;36m<cell line: 1>\u001b[1;34m()\u001b[0m\n\u001b[0;32m      8\u001b[0m \u001b[38;5;28mprint\u001b[39m(\u001b[38;5;124m'\u001b[39m\u001b[38;5;124m----\u001b[39m\u001b[38;5;124m'\u001b[39m)\n\u001b[0;32m      9\u001b[0m \u001b[38;5;28mprint\u001b[39m(totals)                    \n\u001b[1;32m---> 10\u001b[0m \u001b[38;5;28;43minput\u001b[39;49m\u001b[43m(\u001b[49m\u001b[43m)\u001b[49m\n",
      "File \u001b[1;32m~\\anaconda3\\lib\\site-packages\\ipykernel\\kernelbase.py:1075\u001b[0m, in \u001b[0;36mKernel.raw_input\u001b[1;34m(self, prompt)\u001b[0m\n\u001b[0;32m   1071\u001b[0m \u001b[38;5;28;01mif\u001b[39;00m \u001b[38;5;129;01mnot\u001b[39;00m \u001b[38;5;28mself\u001b[39m\u001b[38;5;241m.\u001b[39m_allow_stdin:\n\u001b[0;32m   1072\u001b[0m     \u001b[38;5;28;01mraise\u001b[39;00m StdinNotImplementedError(\n\u001b[0;32m   1073\u001b[0m         \u001b[38;5;124m\"\u001b[39m\u001b[38;5;124mraw_input was called, but this frontend does not support input requests.\u001b[39m\u001b[38;5;124m\"\u001b[39m\n\u001b[0;32m   1074\u001b[0m     )\n\u001b[1;32m-> 1075\u001b[0m \u001b[38;5;28;01mreturn\u001b[39;00m \u001b[38;5;28;43mself\u001b[39;49m\u001b[38;5;241;43m.\u001b[39;49m\u001b[43m_input_request\u001b[49m\u001b[43m(\u001b[49m\n\u001b[0;32m   1076\u001b[0m \u001b[43m    \u001b[49m\u001b[38;5;28;43mstr\u001b[39;49m\u001b[43m(\u001b[49m\u001b[43mprompt\u001b[49m\u001b[43m)\u001b[49m\u001b[43m,\u001b[49m\n\u001b[0;32m   1077\u001b[0m \u001b[43m    \u001b[49m\u001b[38;5;28;43mself\u001b[39;49m\u001b[38;5;241;43m.\u001b[39;49m\u001b[43m_parent_ident\u001b[49m\u001b[43m[\u001b[49m\u001b[38;5;124;43m\"\u001b[39;49m\u001b[38;5;124;43mshell\u001b[39;49m\u001b[38;5;124;43m\"\u001b[39;49m\u001b[43m]\u001b[49m\u001b[43m,\u001b[49m\n\u001b[0;32m   1078\u001b[0m \u001b[43m    \u001b[49m\u001b[38;5;28;43mself\u001b[39;49m\u001b[38;5;241;43m.\u001b[39;49m\u001b[43mget_parent\u001b[49m\u001b[43m(\u001b[49m\u001b[38;5;124;43m\"\u001b[39;49m\u001b[38;5;124;43mshell\u001b[39;49m\u001b[38;5;124;43m\"\u001b[39;49m\u001b[43m)\u001b[49m\u001b[43m,\u001b[49m\n\u001b[0;32m   1079\u001b[0m \u001b[43m    \u001b[49m\u001b[43mpassword\u001b[49m\u001b[38;5;241;43m=\u001b[39;49m\u001b[38;5;28;43;01mFalse\u001b[39;49;00m\u001b[43m,\u001b[49m\n\u001b[0;32m   1080\u001b[0m \u001b[43m\u001b[49m\u001b[43m)\u001b[49m\n",
      "File \u001b[1;32m~\\anaconda3\\lib\\site-packages\\ipykernel\\kernelbase.py:1120\u001b[0m, in \u001b[0;36mKernel._input_request\u001b[1;34m(self, prompt, ident, parent, password)\u001b[0m\n\u001b[0;32m   1117\u001b[0m             \u001b[38;5;28;01mbreak\u001b[39;00m\n\u001b[0;32m   1118\u001b[0m \u001b[38;5;28;01mexcept\u001b[39;00m \u001b[38;5;167;01mKeyboardInterrupt\u001b[39;00m:\n\u001b[0;32m   1119\u001b[0m     \u001b[38;5;66;03m# re-raise KeyboardInterrupt, to truncate traceback\u001b[39;00m\n\u001b[1;32m-> 1120\u001b[0m     \u001b[38;5;28;01mraise\u001b[39;00m \u001b[38;5;167;01mKeyboardInterrupt\u001b[39;00m(\u001b[38;5;124m\"\u001b[39m\u001b[38;5;124mInterrupted by user\u001b[39m\u001b[38;5;124m\"\u001b[39m) \u001b[38;5;28;01mfrom\u001b[39;00m \u001b[38;5;28mNone\u001b[39m\n\u001b[0;32m   1121\u001b[0m \u001b[38;5;28;01mexcept\u001b[39;00m \u001b[38;5;167;01mException\u001b[39;00m:\n\u001b[0;32m   1122\u001b[0m     \u001b[38;5;28mself\u001b[39m\u001b[38;5;241m.\u001b[39mlog\u001b[38;5;241m.\u001b[39mwarning(\u001b[38;5;124m\"\u001b[39m\u001b[38;5;124mInvalid Message:\u001b[39m\u001b[38;5;124m\"\u001b[39m, exc_info\u001b[38;5;241m=\u001b[39m\u001b[38;5;28;01mTrue\u001b[39;00m)\n",
      "\u001b[1;31mKeyboardInterrupt\u001b[0m: Interrupted by user"
     ]
    }
   ],
   "source": [
    "for df in df2:\n",
    "    print(df)\n",
    "    print('----')\n",
    "    print(df['name'].value_counts())\n",
    "    print('----')\n",
    "    print(totals)\n",
    "    totals = totals.add(df['name'].value_counts(), fill_value=0)\n",
    "    print('----')\n",
    "    print(totals)                    \n",
    "    input()"
   ]
  },
  {
   "cell_type": "markdown",
   "id": "dea69721",
   "metadata": {},
   "source": [
    "Прогнав несколько итерраций, мы с вами увидели, что наша серия Тотал с каждой итерацией увеличивается."
   ]
  },
  {
   "cell_type": "markdown",
   "id": "98e55098",
   "metadata": {},
   "source": [
    "# Сохранение данных в датафрэйм"
   ]
  },
  {
   "cell_type": "markdown",
   "id": "abc76df3",
   "metadata": {},
   "source": [
    "Делается это с помощью функции to_csv\n",
    "Пример:\n",
    "df.to_csv('Z:\\\\Programming\\\\DataSciense\\\\Stepik_Pandas_Numpy\\\\Step.4.3_df.csv')"
   ]
  },
  {
   "cell_type": "markdown",
   "id": "27a24257",
   "metadata": {},
   "source": [
    "Для того, чтобы сохранить отдельные колонки из всего df у нас есть параметр columns\n",
    "\n",
    "Пример:\n",
    "\n",
    "df.to_csv('Z:\\\\Programming\\\\DataSciense\\\\Stepik_Pandas_Numpy\\\\Step.4.3_df.csv', \n",
    "\n",
    "columns=['name','balance','city'])"
   ]
  },
  {
   "cell_type": "markdown",
   "id": "666396ee",
   "metadata": {},
   "source": [
    "Чтобы сохранить без заголовка, ставим параметр hader = False"
   ]
  },
  {
   "cell_type": "markdown",
   "id": "4f526507",
   "metadata": {},
   "source": [
    "При сохранении: index = False\n",
    "При загрузке: index_col = 0"
   ]
  },
  {
   "cell_type": "markdown",
   "id": "ff0659e4",
   "metadata": {},
   "source": [
    "Наш новый стажер Алексей попытался загрузить csv файл в датафрейм, но столкнулся с ошибкой:\n",
    "\n",
    "\n",
    "\n",
    "Алексей что-то слышал о том, что файлы могут быть записаны в разных кодировках. Кодировка это как язык. Представьте, что вы пытаетесь прочитать предложение на латинском языке: \"Carum est, quod rarum est\" держа в руках русский алфавит. \n",
    "\n",
    "В русском алфавите нет таких букв поэтому вы не сможете прочитать предложение. Для этого нам потребуется латинский алфавит! Тоже самое и с файлами - чтобы правильно их прочитать и понять каждый символ, необходимо взять в руки правильный алфавит)\n",
    "\n",
    " \n",
    "\n",
    "Чаще всего в качестве алфавита (кодировки) используется utf-8. Именно она по умолчанию используется в функции read_csv, но некоторые системы формируют csv файл с использованием других алфавитов (кодировок). И тогда возникает конфликт: read_csv ожидает файл в кодировке utf-8, а на деле файл в другой кодировке - возникает ошибка. \n",
    "\n",
    " \n",
    "\n",
    "Но как избежать таких ошибок?\n",
    "\n",
    "Надо понимать в какой кодировке сохранен файл, который мы хотим прочитать. Если открыть файл через Notepad++, то внизу справа вы увидите имя кодировки:\n",
    "\n",
    "![](https://ucarecdn.com/a13d365d-c154-47b7-a8bc-848b12ee2927/)\n",
    "\n",
    "если UTF-8 - переживать не стоит. Функция read_csv по умолчанию работает с такой кодировкой. А что если:\n",
    "\n",
    "![](https://ucarecdn.com/8b51188c-4013-4fe9-94bd-49b00ac1e10b/)\n",
    "\n",
    "тогда у функции read_csv надо задействовать параметр encoding  и указать имя кодировки:\n",
    "\n",
    "read_csv(..., encoding='windows-1251')\n",
    "\n",
    " \n",
    "\n",
    "И тогда файл будет успешно прочитан! Всегда следите за кодировкой! \n",
    "\n",
    "Кстати, по умолчанию функция to_csv сохраняет файл в кодировке utf-8, но вы можете задать другую кодировку. В этом вам поможет тот же параметр encoding"
   ]
  },
  {
   "cell_type": "markdown",
   "id": "3c126072",
   "metadata": {},
   "source": [
    "# Практические задачи\n",
    "## Задача №1\n",
    "Вы оказались в аналитическом отделе некоторой социальной сети, которая объединяет людей занимающихся благотворительностью. Для вас подготовили выгрузку пользователей в формате csv. Загрузите файл в датафрейм и оставьте только пользователей женского пола. Сохраните датафрейм в формате csv без индекса и в кодировке utf8. Оставьте только две колонки: username и mail Разделитель значений: точка с запятой. Порядок записей не меняйте. Ответ загрузите на степик.\n",
    "\n",
    "Первые несколько строк ответа:\n",
    "\n",
    "![](https://ucarecdn.com/e2a47966-2e86-4b1c-ac1c-c779788fe014/)"
   ]
  },
  {
   "cell_type": "code",
   "execution_count": 88,
   "id": "cc446cc1",
   "metadata": {},
   "outputs": [],
   "source": [
    "df = pd.read_csv('Z:\\\\Programming\\\\DataSciense\\\\Stepik_Pandas_Numpy\\\\Data_4.4\\\\4.3.11.csv', sep=';')"
   ]
  },
  {
   "cell_type": "code",
   "execution_count": 95,
   "id": "229e6657",
   "metadata": {},
   "outputs": [],
   "source": [
    "df_f = df[df['sex']== 'F']"
   ]
  },
  {
   "cell_type": "code",
   "execution_count": 96,
   "id": "894ec6a8",
   "metadata": {},
   "outputs": [],
   "source": [
    "df_f.to_csv('Z:\\\\Programming\\\\DataSciense\\\\Stepik_Pandas_Numpy\\\\Data_4.4\\\\4.3.11_Female.csv', \n",
    "            sep=';',\n",
    "           index=False,\n",
    "           columns=['username','mail'])"
   ]
  },
  {
   "cell_type": "markdown",
   "id": "22d07782",
   "metadata": {},
   "source": [
    "## Задача 2\n",
    "Прочитайте первые 50 записей выгрузки и определите количество мужчин."
   ]
  },
  {
   "cell_type": "code",
   "execution_count": 139,
   "id": "7bfac66c",
   "metadata": {},
   "outputs": [],
   "source": [
    "df = pd.read_csv('Z:\\\\Programming\\\\DataSciense\\\\Stepik_Pandas_Numpy\\\\Data_4.4\\\\4.3.13.csv', sep=';',\n",
    "                nrows = 50)"
   ]
  },
  {
   "cell_type": "code",
   "execution_count": 140,
   "id": "6fd451c6",
   "metadata": {},
   "outputs": [
    {
     "data": {
      "text/plain": [
       "M    27\n",
       "F    23\n",
       "Name: sex, dtype: int64"
      ]
     },
     "execution_count": 140,
     "metadata": {},
     "output_type": "execute_result"
    }
   ],
   "source": [
    "df.sex.value_counts()"
   ]
  },
  {
   "cell_type": "markdown",
   "id": "4d03dea9",
   "metadata": {},
   "source": [
    "## Задача 3\n",
    "Вася сделал для нас выгрузку в формате csv, но забыл рассказать про кодировку. Определите в какой кодировке сохранена выгрузка.\n",
    "Ну это задача на внимательность того, что ест ьв курсе. Просто через NotePad открываем файл и определяем кодировку Windows-1251."
   ]
  },
  {
   "cell_type": "markdown",
   "id": "57310a4e",
   "metadata": {},
   "source": [
    "## Задача 4\n",
    "Скачайте выгрузку и организуйте её чтение чанками. Размер каждого чанка установите в 30 строк. Для пятого чанка с данными определите сколько пользователей с группой крови A+\n",
    "\n",
    "Группа крови хранится в столбце blood_group"
   ]
  },
  {
   "cell_type": "code",
   "execution_count": 157,
   "id": "f57d7123",
   "metadata": {},
   "outputs": [],
   "source": [
    "df4 = df = pd.read_csv('Z:\\\\Programming\\\\DataSciense\\\\Stepik_Pandas_Numpy\\\\Data_4.4\\\\4.3.11.csv', \n",
    "                       sep=';',\n",
    "                      chunksize=30)"
   ]
  },
  {
   "cell_type": "code",
   "execution_count": 158,
   "id": "a18d0af8",
   "metadata": {},
   "outputs": [
    {
     "name": "stdout",
     "output_type": "stream",
     "text": [
      "4\n"
     ]
    }
   ],
   "source": [
    "for i in range(5):\n",
    "    df = next(df4)\n",
    "print(len(df[df.blood_group == 'A+']))"
   ]
  }
 ],
 "metadata": {
  "kernelspec": {
   "display_name": "Python 3 (ipykernel)",
   "language": "python",
   "name": "python3"
  },
  "language_info": {
   "codemirror_mode": {
    "name": "ipython",
    "version": 3
   },
   "file_extension": ".py",
   "mimetype": "text/x-python",
   "name": "python",
   "nbconvert_exporter": "python",
   "pygments_lexer": "ipython3",
   "version": "3.9.12"
  }
 },
 "nbformat": 4,
 "nbformat_minor": 5
}
