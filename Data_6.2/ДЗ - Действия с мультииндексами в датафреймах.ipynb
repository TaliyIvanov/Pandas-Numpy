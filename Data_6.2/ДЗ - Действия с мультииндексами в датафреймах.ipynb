{
 "cells": [
  {
   "cell_type": "markdown",
   "id": "d6fbe9b7",
   "metadata": {},
   "source": [
    "# Домашнее задание \n",
    "# Тема: Действия с мультииндексами в датафреймах"
   ]
  },
  {
   "cell_type": "code",
   "execution_count": null,
   "id": "dc679223",
   "metadata": {},
   "outputs": [],
   "source": [
    "import pandas as pd\n",
    "import numpy as np"
   ]
  },
  {
   "cell_type": "markdown",
   "id": "5f2207ef",
   "metadata": {},
   "source": [
    "## Задание 1\n",
    "### Постройте датафрейм заполненный нулями так, как это показано в ячейке ниже. Первые две колонки являются мультииндексом. Для заполнения датафрейма нулями воспользуйтесь функцией zeros из библиотеки numpy"
   ]
  },
  {
   "cell_type": "raw",
   "id": "eba7e651",
   "metadata": {},
   "source": [
    "               Владивосток       Казань Новосибирск      \n",
    "                    Кол-во Сумма  Сумма      Кол-во Сумма\n",
    "Группа 1 Альфа         0.0   0.0    0.0         0.0   0.0\n",
    "         Бета          0.0   0.0    0.0         0.0   0.0\n",
    "Группа 2 Альфа         0.0   0.0    0.0         0.0   0.0\n",
    "         Бета          0.0   0.0    0.0         0.0   0.0"
   ]
  },
  {
   "cell_type": "code",
   "execution_count": null,
   "id": "597df007",
   "metadata": {},
   "outputs": [],
   "source": [
    "df1_result = ......"
   ]
  },
  {
   "cell_type": "markdown",
   "id": "5ad1fb4f",
   "metadata": {},
   "source": [
    "### Получившийся датафрейм сохраните в csv файл и загрузите на степик"
   ]
  },
  {
   "cell_type": "code",
   "execution_count": null,
   "id": "4ace8f35",
   "metadata": {},
   "outputs": [],
   "source": [
    "df1_result.to_csv('df1_result.csv')"
   ]
  },
  {
   "cell_type": "markdown",
   "id": "540e7c33",
   "metadata": {},
   "source": [
    "## Задание 2\n",
    "### Загрузите датафрейм из файла task5.csv. Поменяйте местами уровни так чтобы сначала шел тип парковки (платная/бесплатная), затем округ и район. Отсортируйте так чтобы сначала шли бесплатные парковки в алфавитном порядке по округу, а внутри округа в алфавитном порядке по району*. \n",
    "\n",
    "#### *Некоторые названия районов записаны наоборот: вместо район Нижегородский записано Нижегородский район. Из-за этого сортировка по алфавиту будет идти не совсем так, как вы ожидали. Оставим результат сортировки по алфавиту как есть (переносить слово район для корректной сортировки не будем)."
   ]
  },
  {
   "cell_type": "code",
   "execution_count": null,
   "id": "febbb79e",
   "metadata": {},
   "outputs": [],
   "source": [
    "df2_task = pd.read_csv('task5.csv', index_col=[0, 1, 2], header=[0, 1]) # не редактируйте ячейку"
   ]
  },
  {
   "cell_type": "code",
   "execution_count": null,
   "id": "b7d9bdc8",
   "metadata": {},
   "outputs": [],
   "source": [
    "df2_task"
   ]
  },
  {
   "cell_type": "markdown",
   "id": "005706a7",
   "metadata": {},
   "source": [
    "#### Обратите внимание, наш датафрейм немного усложнился: у мультииндекса строк пропали названия для уровней (добавлять их не стоит) и появился мультииндекс для колонок. Теперь в датафрейме содержится дополнительная информация о рейтинге парковки: маинимальное, максимальное и среднее значение"
   ]
  },
  {
   "cell_type": "code",
   "execution_count": null,
   "id": "a42fa133",
   "metadata": {},
   "outputs": [],
   "source": [
    "df2_result = ......."
   ]
  },
  {
   "cell_type": "code",
   "execution_count": null,
   "id": "6309626e",
   "metadata": {},
   "outputs": [],
   "source": []
  },
  {
   "cell_type": "code",
   "execution_count": null,
   "id": "267de3ed",
   "metadata": {},
   "outputs": [],
   "source": []
  },
  {
   "cell_type": "code",
   "execution_count": null,
   "id": "e8472f09",
   "metadata": {},
   "outputs": [],
   "source": []
  },
  {
   "cell_type": "code",
   "execution_count": null,
   "id": "3512f141",
   "metadata": {},
   "outputs": [],
   "source": []
  },
  {
   "cell_type": "markdown",
   "id": "79f38768",
   "metadata": {},
   "source": [
    "### Сохраните на степик только первые 27 записей датафрейма."
   ]
  },
  {
   "cell_type": "code",
   "execution_count": null,
   "id": "ecc85efb",
   "metadata": {},
   "outputs": [],
   "source": [
    "df2_result.to_csv('df2_result.csv')"
   ]
  },
  {
   "cell_type": "markdown",
   "id": "765d5496",
   "metadata": {},
   "source": [
    "## Задание 3\n",
    "### Загрузите датафрейм из файла task5.csv. Из мультииндекса строк сбросьте уровень в котором содержится информация о типе парковки. Сохраните данные из этого уровня в отдельную колонку под названием `type`. Из целого датафрейма вырезаем только данные о рейтинге, сортируем записи по среднему рейтингу в порядке убывания и загружаем на степик ТОП-10 записей."
   ]
  },
  {
   "cell_type": "code",
   "execution_count": null,
   "id": "c27fc112",
   "metadata": {},
   "outputs": [],
   "source": [
    "df3_task = pd.read_csv('task5.csv', index_col=[0, 1, 2], header=[0, 1]) # не редактируйте ячейку"
   ]
  },
  {
   "cell_type": "code",
   "execution_count": null,
   "id": "dfc73800",
   "metadata": {},
   "outputs": [],
   "source": [
    "df3_task"
   ]
  },
  {
   "cell_type": "code",
   "execution_count": null,
   "id": "f292fe2f",
   "metadata": {},
   "outputs": [],
   "source": [
    "df2_result = ......"
   ]
  },
  {
   "cell_type": "code",
   "execution_count": null,
   "id": "7ba7bf05",
   "metadata": {},
   "outputs": [],
   "source": []
  },
  {
   "cell_type": "code",
   "execution_count": null,
   "id": "792c5de5",
   "metadata": {},
   "outputs": [],
   "source": []
  },
  {
   "cell_type": "markdown",
   "id": "24d3400a",
   "metadata": {},
   "source": [
    "### Сохраните и отправьте файл на степик."
   ]
  },
  {
   "cell_type": "code",
   "execution_count": null,
   "id": "4a07d133",
   "metadata": {},
   "outputs": [],
   "source": [
    "df2_result.to_csv('df3_result.csv')"
   ]
  },
  {
   "cell_type": "markdown",
   "id": "48151c55",
   "metadata": {},
   "source": [
    "## Задание 4 \n",
    "### В одном из прошлых заданий мы выбирали все районы восточного административного округа и искали где больше всего мест на бесплатных парковках. Загрузите датафрейм из файла task5.csv и попробуйте найти в каком округе больше всего парковок (и платных и бесплатных вместе). Учитывайте только те районы, где средний рейтинг парковок больше или равен 5 "
   ]
  },
  {
   "cell_type": "code",
   "execution_count": null,
   "id": "16931648",
   "metadata": {},
   "outputs": [],
   "source": [
    "df4_task = pd.read_csv('task5.csv', index_col=[0, 1, 2], header=[0, 1]) # не редактируйте ячейку"
   ]
  },
  {
   "cell_type": "code",
   "execution_count": null,
   "id": "24ce6f3e",
   "metadata": {},
   "outputs": [],
   "source": [
    "df4_task"
   ]
  },
  {
   "cell_type": "code",
   "execution_count": null,
   "id": "4821a251",
   "metadata": {},
   "outputs": [],
   "source": []
  },
  {
   "cell_type": "code",
   "execution_count": null,
   "id": "b71c1377",
   "metadata": {},
   "outputs": [],
   "source": []
  },
  {
   "cell_type": "code",
   "execution_count": null,
   "id": "1ca9454e",
   "metadata": {},
   "outputs": [],
   "source": []
  },
  {
   "cell_type": "code",
   "execution_count": null,
   "id": "3b070e20",
   "metadata": {},
   "outputs": [],
   "source": []
  },
  {
   "cell_type": "markdown",
   "id": "e818ec13",
   "metadata": {},
   "source": [
    "### Правильный ответ выберите на степике"
   ]
  },
  {
   "cell_type": "markdown",
   "id": "416c0644",
   "metadata": {},
   "source": [
    "## Задание 5\n",
    "### Загрузите датафрейм из файла task5.csv. В этой задаче вы попробуете перейти от мультииндекса к обычному индексу с сохранением информации об уровнях. Сейчас на нулевом уровне колонки разбиваются на Capacity и rating, а на первом уровне Capacity и rating детализируются на count/sum и min/max/mean соответственно.\n",
    "### Попытайтесь уйти от иерархии с сохранением информации о ней: сделайте обычный индекс с названием колонок:\n",
    "#### Capacity_count, Capacity_sum, rating_min, rating_max, rating_mean\n",
    "\n",
    "#### Не пытайтесь руками составить список и присвоить его т.к. на практике у вас может быть много колонок и руками перебирать будет долго. А еще можно что-то перепутать и тогда будет ошибка в последующих расчётах. Попробуйте перебрать значения мультииндекса в цикле и собрать тот самый список, который уже и присвоите обратно в датафрейм"
   ]
  },
  {
   "cell_type": "code",
   "execution_count": null,
   "id": "04e46847",
   "metadata": {},
   "outputs": [],
   "source": [
    "df5_task = pd.read_csv('task5.csv', index_col=[0, 1, 2], header=[0, 1]) # не редактируйте ячейку"
   ]
  },
  {
   "cell_type": "code",
   "execution_count": null,
   "id": "27db25dd",
   "metadata": {},
   "outputs": [],
   "source": [
    "df5_task"
   ]
  },
  {
   "cell_type": "code",
   "execution_count": null,
   "id": "d514c66a",
   "metadata": {},
   "outputs": [],
   "source": [
    "df5_result = ......"
   ]
  },
  {
   "cell_type": "code",
   "execution_count": null,
   "id": "d3c947c5",
   "metadata": {},
   "outputs": [],
   "source": []
  },
  {
   "cell_type": "code",
   "execution_count": null,
   "id": "f1f25c72",
   "metadata": {},
   "outputs": [],
   "source": []
  },
  {
   "cell_type": "markdown",
   "id": "a8dc546f",
   "metadata": {},
   "source": [
    "### Сохраните и отправьте файл на степик."
   ]
  },
  {
   "cell_type": "code",
   "execution_count": null,
   "id": "5bed5409",
   "metadata": {},
   "outputs": [],
   "source": [
    "df5_result.to_csv('df5_result.csv')"
   ]
  },
  {
   "cell_type": "markdown",
   "id": "fd268435",
   "metadata": {},
   "source": [
    "## Задача 6\n",
    "### Загрузите данные из task5.csv. По всей Москве рассчитайте:\n",
    "### -Общее количество бесплатных парковок,\n",
    "### -Общее количество платных парковок,\n",
    "### -Общее количество мест на бесплатных парковках,\n",
    "### -Общее количество мест на платных парковках\n",
    "\n",
    "### Введите в поле с ответом получившиеся значения через пробел. В ответе должны быть целые числа\n",
    "### Пример: 10 12 90 110"
   ]
  },
  {
   "cell_type": "code",
   "execution_count": null,
   "id": "4deb7e9e",
   "metadata": {},
   "outputs": [],
   "source": [
    "df6_task = pd.read_csv('task5.csv', index_col=[0, 1, 2], header=[0, 1]) "
   ]
  },
  {
   "cell_type": "code",
   "execution_count": null,
   "id": "4a256c7e",
   "metadata": {},
   "outputs": [],
   "source": [
    "df6_task"
   ]
  },
  {
   "cell_type": "code",
   "execution_count": null,
   "id": "ea8d7175",
   "metadata": {},
   "outputs": [],
   "source": []
  },
  {
   "cell_type": "code",
   "execution_count": null,
   "id": "fac4c2ef",
   "metadata": {},
   "outputs": [],
   "source": []
  },
  {
   "cell_type": "code",
   "execution_count": null,
   "id": "38cd4643",
   "metadata": {},
   "outputs": [],
   "source": []
  },
  {
   "cell_type": "code",
   "execution_count": null,
   "id": "f8e1befb",
   "metadata": {},
   "outputs": [],
   "source": []
  },
  {
   "cell_type": "code",
   "execution_count": null,
   "id": "b5a619d8",
   "metadata": {},
   "outputs": [],
   "source": []
  }
 ],
 "metadata": {
  "kernelspec": {
   "display_name": "Python 3 (ipykernel)",
   "language": "python",
   "name": "python3"
  },
  "language_info": {
   "codemirror_mode": {
    "name": "ipython",
    "version": 3
   },
   "file_extension": ".py",
   "mimetype": "text/x-python",
   "name": "python",
   "nbconvert_exporter": "python",
   "pygments_lexer": "ipython3",
   "version": "3.9.12"
  }
 },
 "nbformat": 4,
 "nbformat_minor": 5
}
