{
 "cells": [
  {
   "cell_type": "code",
   "execution_count": 3,
   "id": "699c2a68",
   "metadata": {},
   "outputs": [
    {
     "data": {
      "text/plain": [
       "array([0, 1, 2, 3, 4, 5, 6, 7, 8, 9])"
      ]
     },
     "execution_count": 3,
     "metadata": {},
     "output_type": "execute_result"
    }
   ],
   "source": [
    "#Копируем элементы одного массива в другой. Для того. чтобы 2ой массив не влиял на первый \n",
    "#и можно было работать отдельно функция - .copy()\n",
    "import numpy as np\n",
    "m1 = np.arange(10)\n",
    "m1"
   ]
  },
  {
   "cell_type": "code",
   "execution_count": 4,
   "id": "2d2a58e6",
   "metadata": {},
   "outputs": [
    {
     "data": {
      "text/plain": [
       "array([3, 4, 5])"
      ]
     },
     "execution_count": 4,
     "metadata": {},
     "output_type": "execute_result"
    }
   ],
   "source": [
    "m2 = m1[3:6].copy()\n",
    "m2"
   ]
  },
  {
   "cell_type": "code",
   "execution_count": 7,
   "id": "e1a88a85",
   "metadata": {},
   "outputs": [
    {
     "data": {
      "text/plain": [
       "array([0., 0., 0.])"
      ]
     },
     "execution_count": 7,
     "metadata": {},
     "output_type": "execute_result"
    }
   ],
   "source": [
    "m2 = np.zeros(3)\n",
    "m2"
   ]
  },
  {
   "cell_type": "code",
   "execution_count": 6,
   "id": "f9deadcc",
   "metadata": {},
   "outputs": [
    {
     "data": {
      "text/plain": [
       "array([0, 1, 2, 3, 4, 5, 6, 7, 8, 9])"
      ]
     },
     "execution_count": 6,
     "metadata": {},
     "output_type": "execute_result"
    }
   ],
   "source": [
    "m1"
   ]
  },
  {
   "cell_type": "code",
   "execution_count": null,
   "id": "7b6035a0",
   "metadata": {},
   "outputs": [],
   "source": [
    "#Работа индексации с двумерными массивами\n",
    "#Работает она, аналогично с питоновскими списками"
   ]
  },
  {
   "cell_type": "code",
   "execution_count": 10,
   "id": "e58368a0",
   "metadata": {},
   "outputs": [
    {
     "data": {
      "text/plain": [
       "array([[1, 2, 3],\n",
       "       [4, 5, 6]])"
      ]
     },
     "execution_count": 10,
     "metadata": {},
     "output_type": "execute_result"
    }
   ],
   "source": [
    "m2d = np.array([[1,2,3],[4,5,6]])\n",
    "m2d"
   ]
  },
  {
   "cell_type": "code",
   "execution_count": 11,
   "id": "2b4425d1",
   "metadata": {},
   "outputs": [
    {
     "data": {
      "text/plain": [
       "(2, 3)"
      ]
     },
     "execution_count": 11,
     "metadata": {},
     "output_type": "execute_result"
    }
   ],
   "source": [
    "m2d.shape"
   ]
  },
  {
   "cell_type": "code",
   "execution_count": 12,
   "id": "a652cc86",
   "metadata": {},
   "outputs": [
    {
     "data": {
      "text/plain": [
       "5"
      ]
     },
     "execution_count": 12,
     "metadata": {},
     "output_type": "execute_result"
    }
   ],
   "source": [
    "m2d[1][1]"
   ]
  },
  {
   "cell_type": "code",
   "execution_count": 13,
   "id": "ea0084e6",
   "metadata": {},
   "outputs": [
    {
     "data": {
      "text/plain": [
       "5"
      ]
     },
     "execution_count": 13,
     "metadata": {},
     "output_type": "execute_result"
    }
   ],
   "source": [
    "m2d[1, 1] #эквивалентный способ записи"
   ]
  },
  {
   "cell_type": "code",
   "execution_count": null,
   "id": "86275ef2",
   "metadata": {},
   "outputs": [],
   "source": [
    "#Трехмерные массивы"
   ]
  },
  {
   "cell_type": "code",
   "execution_count": 17,
   "id": "bece935a",
   "metadata": {},
   "outputs": [
    {
     "data": {
      "text/plain": [
       "array([[[ 1,  2,  3],\n",
       "        [ 4,  5,  6]],\n",
       "\n",
       "       [[ 7,  8,  9],\n",
       "        [10, 11, 12]]])"
      ]
     },
     "execution_count": 17,
     "metadata": {},
     "output_type": "execute_result"
    }
   ],
   "source": [
    "m3d = np.array([[[1,2,3],[4,5,6]],[[7,8,9],[10,11,12]]])\n",
    "m3d"
   ]
  },
  {
   "cell_type": "code",
   "execution_count": 18,
   "id": "f2dd8338",
   "metadata": {},
   "outputs": [
    {
     "data": {
      "text/plain": [
       "(2, 2, 3)"
      ]
     },
     "execution_count": 18,
     "metadata": {},
     "output_type": "execute_result"
    }
   ],
   "source": [
    "#Для того. чтобы понять что здесь происходит. пользуемся функцией shape\n",
    "m3d.shape\n",
    "#(a,b,c)\n",
    "#a - показывает количество думерных массивов \n",
    "#b - Количество строк в массивах\n",
    "#c - Количество столбцов (элементов в массивах)"
   ]
  },
  {
   "cell_type": "code",
   "execution_count": 19,
   "id": "03b049f1",
   "metadata": {},
   "outputs": [
    {
     "data": {
      "text/plain": [
       "11"
      ]
     },
     "execution_count": 19,
     "metadata": {},
     "output_type": "execute_result"
    }
   ],
   "source": [
    "#вытянем значение 11\n",
    "m3d[1,1,1]"
   ]
  },
  {
   "cell_type": "code",
   "execution_count": 23,
   "id": "ae9c53f2",
   "metadata": {},
   "outputs": [
    {
     "data": {
      "text/plain": [
       "array([[[1, 2, 3],\n",
       "        [4, 5, 6]],\n",
       "\n",
       "       [[0, 0, 0],\n",
       "        [0, 0, 0]]])"
      ]
     },
     "execution_count": 23,
     "metadata": {},
     "output_type": "execute_result"
    }
   ],
   "source": [
    "#занулим одну из матриц\n",
    "m3d[1] = np.zeros(3)\n",
    "m3d"
   ]
  },
  {
   "cell_type": "code",
   "execution_count": null,
   "id": "6f3afa68",
   "metadata": {},
   "outputs": [],
   "source": [
    "#подготовим двумерную матрицу и поработаем с ней"
   ]
  },
  {
   "cell_type": "code",
   "execution_count": 24,
   "id": "cb3a939e",
   "metadata": {},
   "outputs": [
    {
     "data": {
      "text/plain": [
       "array([[ 1,  2,  3,  4],\n",
       "       [ 5,  6,  7,  8],\n",
       "       [ 9, 10, 11, 12],\n",
       "       [13, 14, 15, 16],\n",
       "       [17, 18, 19, 20]])"
      ]
     },
     "execution_count": 24,
     "metadata": {},
     "output_type": "execute_result"
    }
   ],
   "source": [
    "m2d = np.array([[1,2,3,4],[5,6,7,8],[9,10,11,12],[13,14,15,16],[17,18,19,20]])\n",
    "m2d"
   ]
  },
  {
   "cell_type": "code",
   "execution_count": 25,
   "id": "8bf1f64d",
   "metadata": {},
   "outputs": [
    {
     "data": {
      "text/plain": [
       "array([[ 1,  2,  3,  4],\n",
       "       [ 5,  6,  7,  8],\n",
       "       [ 9, 10, 11, 12]])"
      ]
     },
     "execution_count": 25,
     "metadata": {},
     "output_type": "execute_result"
    }
   ],
   "source": [
    "#получим конкретные массивы (в данном случае они же строки)\n",
    "m2d[0:3]"
   ]
  },
  {
   "cell_type": "code",
   "execution_count": 26,
   "id": "c04620da",
   "metadata": {},
   "outputs": [
    {
     "data": {
      "text/plain": [
       "array([[13, 14, 15, 16],\n",
       "       [17, 18, 19, 20]])"
      ]
     },
     "execution_count": 26,
     "metadata": {},
     "output_type": "execute_result"
    }
   ],
   "source": [
    "m2d[3:]"
   ]
  },
  {
   "cell_type": "code",
   "execution_count": 27,
   "id": "3f37381a",
   "metadata": {},
   "outputs": [
    {
     "data": {
      "text/plain": [
       "array([17, 18, 19, 20])"
      ]
     },
     "execution_count": 27,
     "metadata": {},
     "output_type": "execute_result"
    }
   ],
   "source": [
    "m2d[4]"
   ]
  },
  {
   "cell_type": "code",
   "execution_count": 32,
   "id": "46c84c71",
   "metadata": {},
   "outputs": [
    {
     "data": {
      "text/plain": [
       "array([ 1,  5,  9, 13, 17])"
      ]
     },
     "execution_count": 32,
     "metadata": {},
     "output_type": "execute_result"
    }
   ],
   "source": [
    "#теперь получим значения по колонкам (столбацам)\n",
    "#Возьмем первый столбик\n",
    "m2d[:,0]\n",
    "#то есть мы взяли все строки и из каждой строки получили элемент с индексом 0"
   ]
  },
  {
   "cell_type": "code",
   "execution_count": 33,
   "id": "4fdd115a",
   "metadata": {},
   "outputs": [
    {
     "data": {
      "text/plain": [
       "array([ 3,  7, 11, 15, 19])"
      ]
     },
     "execution_count": 33,
     "metadata": {},
     "output_type": "execute_result"
    }
   ],
   "source": [
    "#Возьмем третью колонку\n",
    "m2d[:,2]"
   ]
  },
  {
   "cell_type": "code",
   "execution_count": 37,
   "id": "192b8e76",
   "metadata": {},
   "outputs": [
    {
     "data": {
      "text/plain": [
       "array([[ 2,  3],\n",
       "       [ 6,  7],\n",
       "       [10, 11],\n",
       "       [14, 15],\n",
       "       [18, 19]])"
      ]
     },
     "execution_count": 37,
     "metadata": {},
     "output_type": "execute_result"
    }
   ],
   "source": [
    "#Возьмем вторую и третью колонку\n",
    "m2d[:,1:3]"
   ]
  },
  {
   "cell_type": "code",
   "execution_count": 38,
   "id": "59067091",
   "metadata": {},
   "outputs": [
    {
     "data": {
      "text/plain": [
       "array([[1, 2],\n",
       "       [5, 6]])"
      ]
     },
     "execution_count": 38,
     "metadata": {},
     "output_type": "execute_result"
    }
   ],
   "source": [
    "#Для закрепления получим 1 и 2 строку, элекметны 0,1\n",
    "m2d[:2,0:2]"
   ]
  },
  {
   "cell_type": "code",
   "execution_count": 49,
   "id": "48595bae",
   "metadata": {},
   "outputs": [
    {
     "data": {
      "text/plain": [
       "array([[15, 16],\n",
       "       [19, 20]])"
      ]
     },
     "execution_count": 49,
     "metadata": {},
     "output_type": "execute_result"
    }
   ],
   "source": [
    "#Для закрепления получим 3 и 4 строку, элеметны 3,4\n",
    "m2d[3:5,2:5]"
   ]
  },
  {
   "cell_type": "code",
   "execution_count": 52,
   "id": "579fb661",
   "metadata": {},
   "outputs": [
    {
     "data": {
      "text/plain": [
       "array([[ 6,  7],\n",
       "       [10, 11],\n",
       "       [14, 15]])"
      ]
     },
     "execution_count": 52,
     "metadata": {},
     "output_type": "execute_result"
    }
   ],
   "source": [
    "#Возьмем центр\n",
    "m2d[1:4, 1:3]"
   ]
  },
  {
   "cell_type": "markdown",
   "id": "72404b91",
   "metadata": {},
   "source": [
    "### Получение элементов с помощью маски\n",
    "Когда мы делаем запрос через булевую маску, мы не просто вытягиваем элементы.\n",
    "При использовании маски автоматически происходит копирование."
   ]
  },
  {
   "cell_type": "code",
   "execution_count": 53,
   "id": "c4dc9255",
   "metadata": {},
   "outputs": [
    {
     "data": {
      "text/plain": [
       "array([0, 1, 2, 3, 4])"
      ]
     },
     "execution_count": 53,
     "metadata": {},
     "output_type": "execute_result"
    }
   ],
   "source": [
    "m = np.arange(5)\n",
    "m"
   ]
  },
  {
   "cell_type": "code",
   "execution_count": 54,
   "id": "eda75a26",
   "metadata": {},
   "outputs": [],
   "source": [
    "mask = [True, True, False, False, True]"
   ]
  },
  {
   "cell_type": "code",
   "execution_count": 55,
   "id": "7b4efc1b",
   "metadata": {},
   "outputs": [
    {
     "data": {
      "text/plain": [
       "array([0, 1, 4])"
      ]
     },
     "execution_count": 55,
     "metadata": {},
     "output_type": "execute_result"
    }
   ],
   "source": [
    "m2 = m[mask]\n",
    "m2"
   ]
  },
  {
   "cell_type": "code",
   "execution_count": 56,
   "id": "c2e097dc",
   "metadata": {},
   "outputs": [
    {
     "data": {
      "text/plain": [
       "array([0., 0., 0.])"
      ]
     },
     "execution_count": 56,
     "metadata": {},
     "output_type": "execute_result"
    }
   ],
   "source": [
    "m2 = np.zeros(3)\n",
    "m2"
   ]
  },
  {
   "cell_type": "code",
   "execution_count": 58,
   "id": "4f959f1d",
   "metadata": {},
   "outputs": [
    {
     "data": {
      "text/plain": [
       "array([0, 1, 2, 3, 4])"
      ]
     },
     "execution_count": 58,
     "metadata": {},
     "output_type": "execute_result"
    }
   ],
   "source": [
    "m"
   ]
  },
  {
   "cell_type": "markdown",
   "id": "1ed243a0",
   "metadata": {},
   "source": [
    "Как мы можем применять маски? Допустим мы хотим получить элементы, которые выше, ниже или равны какому то определенном значению. Для этого создаем массив маску."
   ]
  },
  {
   "cell_type": "code",
   "execution_count": 59,
   "id": "d0e74c8b",
   "metadata": {},
   "outputs": [
    {
     "data": {
      "text/plain": [
       "array([234,  23,  12,   3,   4,   6,   1,   6,   3,  56])"
      ]
     },
     "execution_count": 59,
     "metadata": {},
     "output_type": "execute_result"
    }
   ],
   "source": [
    "z = np.array([234,23,12,3,4,6,1,6,3,56])\n",
    "z"
   ]
  },
  {
   "cell_type": "code",
   "execution_count": 60,
   "id": "e882018d",
   "metadata": {},
   "outputs": [
    {
     "data": {
      "text/plain": [
       "array([ True,  True,  True, False, False,  True, False,  True, False,\n",
       "        True])"
      ]
     },
     "execution_count": 60,
     "metadata": {},
     "output_type": "execute_result"
    }
   ],
   "source": [
    "z > 5"
   ]
  },
  {
   "cell_type": "code",
   "execution_count": 62,
   "id": "4774f0ec",
   "metadata": {},
   "outputs": [
    {
     "data": {
      "text/plain": [
       "array([ True,  True,  True, False, False,  True, False,  True, False,\n",
       "        True])"
      ]
     },
     "execution_count": 62,
     "metadata": {},
     "output_type": "execute_result"
    }
   ],
   "source": [
    "m = np.array(z>5)\n",
    "m"
   ]
  },
  {
   "cell_type": "code",
   "execution_count": 63,
   "id": "ba27a6b2",
   "metadata": {},
   "outputs": [
    {
     "data": {
      "text/plain": [
       "array([234,  23,  12,   6,   6,  56])"
      ]
     },
     "execution_count": 63,
     "metadata": {},
     "output_type": "execute_result"
    }
   ],
   "source": [
    "#Обращаемся к нашему массивку по маске и получаем только необходимые элементы.\n",
    "z[m]"
   ]
  },
  {
   "cell_type": "code",
   "execution_count": 65,
   "id": "00078313",
   "metadata": {},
   "outputs": [
    {
     "data": {
      "text/plain": [
       "array([234,  23,  12,  56])"
      ]
     },
     "execution_count": 65,
     "metadata": {},
     "output_type": "execute_result"
    }
   ],
   "source": [
    "#Сделаем это аналогичным образом\n",
    "z[z > 6]"
   ]
  },
  {
   "cell_type": "code",
   "execution_count": 66,
   "id": "81f30e91",
   "metadata": {},
   "outputs": [
    {
     "data": {
      "text/plain": [
       "array([234,  23,  12,   3,   4,   6,   6,   3,  56])"
      ]
     },
     "execution_count": 66,
     "metadata": {},
     "output_type": "execute_result"
    }
   ],
   "source": [
    "z[z > 2]"
   ]
  },
  {
   "cell_type": "code",
   "execution_count": 67,
   "id": "ca21d30c",
   "metadata": {},
   "outputs": [
    {
     "data": {
      "text/plain": [
       "array([12,  3,  4,  6,  1,  6,  3])"
      ]
     },
     "execution_count": 67,
     "metadata": {},
     "output_type": "execute_result"
    }
   ],
   "source": [
    "z[z < 22]"
   ]
  },
  {
   "cell_type": "markdown",
   "id": "96958e5e",
   "metadata": {},
   "source": [
    "В следующем задании у нас есть 5 пользователей. И есть таблица с посещением данных пользователей непример секции по дням недели. всего 7 столбцов (дни недели) и два значения 1 - быд, 0 - не был.\n",
    "Создадим маску, для посещения пользователем Андрей.\n",
    "И по ней уже получим значения его посещений."
   ]
  },
  {
   "cell_type": "code",
   "execution_count": 77,
   "id": "70e62874",
   "metadata": {},
   "outputs": [],
   "source": [
    "users = np.array(['Андрей', 'Михаил', 'Ольга', 'Джон', 'Андрей'])"
   ]
  },
  {
   "cell_type": "code",
   "execution_count": 86,
   "id": "61f2df48",
   "metadata": {},
   "outputs": [],
   "source": [
    "visits = np.array([\n",
    "    [1,0,1,0,0,1,0],\n",
    "    [1,0,0,1,0,1,1],\n",
    "    [1,0,1,0,1,1,1],\n",
    "    [1,0,0,1,0,1,1],\n",
    "    [1,0,1,0,1,1,1],\n",
    "])"
   ]
  },
  {
   "cell_type": "code",
   "execution_count": 87,
   "id": "c33ad21b",
   "metadata": {},
   "outputs": [],
   "source": [
    "mask = users == 'Андрей'"
   ]
  },
  {
   "cell_type": "code",
   "execution_count": 88,
   "id": "fe4122e3",
   "metadata": {},
   "outputs": [
    {
     "data": {
      "text/plain": [
       "array([ True, False, False, False,  True])"
      ]
     },
     "execution_count": 88,
     "metadata": {},
     "output_type": "execute_result"
    }
   ],
   "source": [
    "mask"
   ]
  },
  {
   "cell_type": "code",
   "execution_count": 89,
   "id": "d3cb3b43",
   "metadata": {},
   "outputs": [
    {
     "data": {
      "text/plain": [
       "array([[1, 0, 1, 0, 0, 1, 0],\n",
       "       [1, 0, 1, 0, 1, 1, 1]])"
      ]
     },
     "execution_count": 89,
     "metadata": {},
     "output_type": "execute_result"
    }
   ],
   "source": [
    "visits[mask]"
   ]
  },
  {
   "cell_type": "code",
   "execution_count": null,
   "id": "d16a2324",
   "metadata": {},
   "outputs": [],
   "source": [
    "#Step_2.5.13\n",
    "#На вход подается двумерный массив (матрица):вытяните из матрицы указанную область.\n",
    "#попозже я обязательно научусь вставлять картинки"
   ]
  },
  {
   "cell_type": "code",
   "execution_count": null,
   "id": "864efb1a",
   "metadata": {},
   "outputs": [],
   "source": [
    "import numpy as np\n",
    "\n",
    "def solution(arr):\n",
    "    arr = arr[:2,:2]\n",
    "    return arr"
   ]
  },
  {
   "cell_type": "code",
   "execution_count": null,
   "id": "2b6fe8ad",
   "metadata": {},
   "outputs": [],
   "source": [
    "#Step_2.5.15\n",
    "#На вход подается двумерный массив (матрица):вытяните из матрицы указанную область.\n"
   ]
  },
  {
   "cell_type": "code",
   "execution_count": null,
   "id": "a57b2f53",
   "metadata": {},
   "outputs": [],
   "source": [
    "import numpy as np\n",
    "\n",
    "def solution(arr):\n",
    "    arr = arr[1:3,3:]\n",
    "    return arr"
   ]
  },
  {
   "cell_type": "code",
   "execution_count": null,
   "id": "a7f7fa62",
   "metadata": {},
   "outputs": [],
   "source": []
  }
 ],
 "metadata": {
  "kernelspec": {
   "display_name": "Python 3 (ipykernel)",
   "language": "python",
   "name": "python3"
  },
  "language_info": {
   "codemirror_mode": {
    "name": "ipython",
    "version": 3
   },
   "file_extension": ".py",
   "mimetype": "text/x-python",
   "name": "python",
   "nbconvert_exporter": "python",
   "pygments_lexer": "ipython3",
   "version": "3.9.12"
  }
 },
 "nbformat": 4,
 "nbformat_minor": 5
}
