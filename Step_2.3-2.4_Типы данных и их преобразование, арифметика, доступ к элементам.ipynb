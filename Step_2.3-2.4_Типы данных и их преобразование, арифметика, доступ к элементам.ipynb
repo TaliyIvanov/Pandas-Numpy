{
 "cells": [
  {
   "cell_type": "markdown",
   "id": "b7ae21a3",
   "metadata": {},
   "source": [
    "### STEP_2.3.1\n",
    "Типы данных - https://www.javatpoint.com/numpy-datatypes\n",
    "Иногда необходимо, самим выбирать, какой тип данных будет в массиве."
   ]
  },
  {
   "cell_type": "code",
   "execution_count": 2,
   "id": "3cd9f064",
   "metadata": {},
   "outputs": [
    {
     "data": {
      "text/plain": [
       "dtype('float64')"
      ]
     },
     "execution_count": 2,
     "metadata": {},
     "output_type": "execute_result"
    }
   ],
   "source": [
    "#укажем тип данных с плавающей точкой\n",
    "import numpy as np\n",
    "arr1 = np.array([1,2,3,4,5], dtype=np.float64)\n",
    "arr1.dtype"
   ]
  },
  {
   "cell_type": "code",
   "execution_count": 5,
   "id": "cd08e335",
   "metadata": {},
   "outputs": [
    {
     "data": {
      "text/plain": [
       "array([1, 2, 3, 4, 5], dtype=int64)"
      ]
     },
     "execution_count": 5,
     "metadata": {},
     "output_type": "execute_result"
    }
   ],
   "source": [
    "#допустим, нам необходимо изменить тип данных, используем функцию .astype\n",
    "arr_int = arr1.astype(np.int64)\n",
    "arr_int"
   ]
  },
  {
   "cell_type": "markdown",
   "id": "23370cec",
   "metadata": {},
   "source": [
    "### STEP_2.3.2-2.3.3_Конвертация данных из Int64 во float и обратно"
   ]
  },
  {
   "cell_type": "code",
   "execution_count": 6,
   "id": "0a5a04fe",
   "metadata": {},
   "outputs": [],
   "source": [
    "#создаем массив с дробной частью\n",
    "arr1 = np.array([1.5,2.5,3.5,4.5,5.5], dtype=np.float64)"
   ]
  },
  {
   "cell_type": "code",
   "execution_count": 8,
   "id": "a133f09c",
   "metadata": {},
   "outputs": [
    {
     "data": {
      "text/plain": [
       "dtype('float64')"
      ]
     },
     "execution_count": 8,
     "metadata": {},
     "output_type": "execute_result"
    }
   ],
   "source": [
    "arr1.dtype"
   ]
  },
  {
   "cell_type": "code",
   "execution_count": 9,
   "id": "088aa079",
   "metadata": {},
   "outputs": [
    {
     "data": {
      "text/plain": [
       "array([1, 2, 3, 4, 5], dtype=int64)"
      ]
     },
     "execution_count": 9,
     "metadata": {},
     "output_type": "execute_result"
    }
   ],
   "source": [
    "#предположим, что нам необходимо снова сделать INT\n",
    "#что же произойдет? Numpy или отрежет дробную часть или попробует округлить наши числа\n",
    "arr2 = arr1.astype(np.int64)\n",
    "arr2\n",
    "#Десятичная часть будет отрезана. Останется только целая часть\n",
    "#ОБЯЗАТЕЛЬНО НАДО ЗАПОМНИТЬ ЭТО ПРИ РАБОТЕ С ДАННЫМИ!"
   ]
  },
  {
   "cell_type": "markdown",
   "id": "046fecdf",
   "metadata": {},
   "source": [
    "### STEP_2.3.5 Данные с типом Str"
   ]
  },
  {
   "cell_type": "code",
   "execution_count": 11,
   "id": "6ba3d9f8",
   "metadata": {},
   "outputs": [
    {
     "data": {
      "text/plain": [
       "array(['1.5', '2', '3.5', '4', '6'], dtype='<U11')"
      ]
     },
     "execution_count": 11,
     "metadata": {},
     "output_type": "execute_result"
    }
   ],
   "source": [
    "arr1 = np.array(['1.5', '2', '3.5', 4, 6])\n",
    "arr1"
   ]
  },
  {
   "cell_type": "code",
   "execution_count": 13,
   "id": "e080b97f",
   "metadata": {},
   "outputs": [
    {
     "data": {
      "text/plain": [
       "array([1.5, 2. , 3.5, 4. , 6. ])"
      ]
     },
     "execution_count": 13,
     "metadata": {},
     "output_type": "execute_result"
    }
   ],
   "source": [
    "arr2 = arr1.astype(np.float64)\n",
    "arr2"
   ]
  },
  {
   "cell_type": "code",
   "execution_count": 14,
   "id": "caa9f8b1",
   "metadata": {},
   "outputs": [
    {
     "data": {
      "text/plain": [
       "dtype('float64')"
      ]
     },
     "execution_count": 14,
     "metadata": {},
     "output_type": "execute_result"
    }
   ],
   "source": [
    "arr2.dtype"
   ]
  },
  {
   "cell_type": "code",
   "execution_count": 17,
   "id": "d65486e3",
   "metadata": {},
   "outputs": [],
   "source": [
    "#допустим человек, который заполняд данные совершил ошибку, не один раз\n",
    "arr1 = np.array(['1.5', '2', '3!5', 4, 6])"
   ]
  },
  {
   "cell_type": "code",
   "execution_count": 18,
   "id": "0850e822",
   "metadata": {},
   "outputs": [
    {
     "ename": "ValueError",
     "evalue": "could not convert string to float: '3!5'",
     "output_type": "error",
     "traceback": [
      "\u001b[1;31m---------------------------------------------------------------------------\u001b[0m",
      "\u001b[1;31mValueError\u001b[0m                                Traceback (most recent call last)",
      "Input \u001b[1;32mIn [18]\u001b[0m, in \u001b[0;36m<cell line: 1>\u001b[1;34m()\u001b[0m\n\u001b[1;32m----> 1\u001b[0m arr2 \u001b[38;5;241m=\u001b[39m \u001b[43marr1\u001b[49m\u001b[38;5;241;43m.\u001b[39;49m\u001b[43mastype\u001b[49m\u001b[43m(\u001b[49m\u001b[43mnp\u001b[49m\u001b[38;5;241;43m.\u001b[39;49m\u001b[43mfloat64\u001b[49m\u001b[43m)\u001b[49m\n",
      "\u001b[1;31mValueError\u001b[0m: could not convert string to float: '3!5'"
     ]
    }
   ],
   "source": [
    "#пыатемся преобразовать к float\n",
    "#такое бывает, не стоит этого бояться. Как это исправить будем смотреть дальше\n",
    "arr2 = arr1.astype(np.float64)"
   ]
  },
  {
   "cell_type": "markdown",
   "id": "23295464",
   "metadata": {},
   "source": [
    "### STEP_2.3.6 Данные с типом Str"
   ]
  },
  {
   "cell_type": "code",
   "execution_count": 21,
   "id": "aedf9a0f",
   "metadata": {},
   "outputs": [
    {
     "data": {
      "text/plain": [
       "dtype('int32')"
      ]
     },
     "execution_count": 21,
     "metadata": {},
     "output_type": "execute_result"
    }
   ],
   "source": [
    "m1 = np.arange(10)\n",
    "m1.dtype"
   ]
  },
  {
   "cell_type": "code",
   "execution_count": 22,
   "id": "f76a26b6",
   "metadata": {},
   "outputs": [
    {
     "data": {
      "text/plain": [
       "dtype('float64')"
      ]
     },
     "execution_count": 22,
     "metadata": {},
     "output_type": "execute_result"
    }
   ],
   "source": [
    "m2 = np.array([1.1, 2.2, 3.3], dtype=np.float64)\n",
    "m2.dtype"
   ]
  },
  {
   "cell_type": "code",
   "execution_count": 23,
   "id": "3287a49f",
   "metadata": {},
   "outputs": [
    {
     "data": {
      "text/plain": [
       "array([0., 1., 2., 3., 4., 5., 6., 7., 8., 9.])"
      ]
     },
     "execution_count": 23,
     "metadata": {},
     "output_type": "execute_result"
    }
   ],
   "source": [
    "#Первый вариант приведения к Int\n",
    "m1.astype(np.float64)"
   ]
  },
  {
   "cell_type": "code",
   "execution_count": 26,
   "id": "ee770586",
   "metadata": {},
   "outputs": [
    {
     "data": {
      "text/plain": [
       "dtype('float64')"
      ]
     },
     "execution_count": 26,
     "metadata": {},
     "output_type": "execute_result"
    }
   ],
   "source": [
    "#или мы можем обратиться ко второму массиву, с другим типо\n",
    "m11 = m1.astype(m2.dtype)\n",
    "m11.dtype"
   ]
  },
  {
   "cell_type": "code",
   "execution_count": 27,
   "id": "df731e31",
   "metadata": {},
   "outputs": [
    {
     "data": {
      "text/plain": [
       "dtype('int32')"
      ]
     },
     "execution_count": 27,
     "metadata": {},
     "output_type": "execute_result"
    }
   ],
   "source": [
    "m1.dtype"
   ]
  },
  {
   "cell_type": "code",
   "execution_count": 28,
   "id": "fef8624a",
   "metadata": {},
   "outputs": [],
   "source": [
    "#Основная суть в том, что у numpy массивов есть типы данных"
   ]
  },
  {
   "cell_type": "markdown",
   "id": "5b301ebd",
   "metadata": {},
   "source": [
    "### STEP_2.3.7 Арифметические операции с массивами"
   ]
  },
  {
   "cell_type": "code",
   "execution_count": 30,
   "id": "762efcf1",
   "metadata": {},
   "outputs": [],
   "source": [
    "lst = [1,2,3,4]"
   ]
  },
  {
   "cell_type": "code",
   "execution_count": 31,
   "id": "0f3485d5",
   "metadata": {},
   "outputs": [
    {
     "data": {
      "text/plain": [
       "[1, 2, 3, 4, 1, 2, 3, 4]"
      ]
     },
     "execution_count": 31,
     "metadata": {},
     "output_type": "execute_result"
    }
   ],
   "source": [
    "#попробуем перемножить. Результат: просто повторяется изначальный массив\n",
    "lst * 2"
   ]
  },
  {
   "cell_type": "code",
   "execution_count": 32,
   "id": "0d6ed374",
   "metadata": {},
   "outputs": [
    {
     "data": {
      "text/plain": [
       "array([1, 2, 3, 4])"
      ]
     },
     "execution_count": 32,
     "metadata": {},
     "output_type": "execute_result"
    }
   ],
   "source": [
    "#массивы numpy работают иначе\n",
    "m1 = np.array(lst)\n",
    "m1"
   ]
  },
  {
   "cell_type": "code",
   "execution_count": 34,
   "id": "cb8548fa",
   "metadata": {},
   "outputs": [
    {
     "data": {
      "text/plain": [
       "array([2, 4, 6, 8])"
      ]
     },
     "execution_count": 34,
     "metadata": {},
     "output_type": "execute_result"
    }
   ],
   "source": [
    "#каждый элемент массива numpy перемножился\n",
    "#таким образом мы не зацикливаемся на циклы for\n",
    "m1 * 2"
   ]
  },
  {
   "cell_type": "code",
   "execution_count": 35,
   "id": "1882903a",
   "metadata": {},
   "outputs": [
    {
     "data": {
      "text/plain": [
       "array([ 1,  4,  9, 16])"
      ]
     },
     "execution_count": 35,
     "metadata": {},
     "output_type": "execute_result"
    }
   ],
   "source": [
    "m1 * m1"
   ]
  },
  {
   "cell_type": "code",
   "execution_count": 36,
   "id": "e8f8317d",
   "metadata": {},
   "outputs": [
    {
     "ename": "TypeError",
     "evalue": "can only concatenate list (not \"int\") to list",
     "output_type": "error",
     "traceback": [
      "\u001b[1;31m---------------------------------------------------------------------------\u001b[0m",
      "\u001b[1;31mTypeError\u001b[0m                                 Traceback (most recent call last)",
      "Input \u001b[1;32mIn [36]\u001b[0m, in \u001b[0;36m<cell line: 2>\u001b[1;34m()\u001b[0m\n\u001b[0;32m      1\u001b[0m \u001b[38;5;66;03m#сложение\u001b[39;00m\n\u001b[1;32m----> 2\u001b[0m \u001b[43mlst\u001b[49m\u001b[43m \u001b[49m\u001b[38;5;241;43m+\u001b[39;49m\u001b[43m \u001b[49m\u001b[38;5;241;43m1\u001b[39;49m\n",
      "\u001b[1;31mTypeError\u001b[0m: can only concatenate list (not \"int\") to list"
     ]
    }
   ],
   "source": [
    "#сложение\n",
    "lst + 1"
   ]
  },
  {
   "cell_type": "code",
   "execution_count": 37,
   "id": "ba07d8a9",
   "metadata": {},
   "outputs": [
    {
     "data": {
      "text/plain": [
       "array([2, 3, 4, 5])"
      ]
     },
     "execution_count": 37,
     "metadata": {},
     "output_type": "execute_result"
    }
   ],
   "source": [
    "m1 + 1"
   ]
  },
  {
   "cell_type": "code",
   "execution_count": 38,
   "id": "3abd2c7d",
   "metadata": {},
   "outputs": [
    {
     "ename": "TypeError",
     "evalue": "unsupported operand type(s) for ** or pow(): 'list' and 'int'",
     "output_type": "error",
     "traceback": [
      "\u001b[1;31m---------------------------------------------------------------------------\u001b[0m",
      "\u001b[1;31mTypeError\u001b[0m                                 Traceback (most recent call last)",
      "Input \u001b[1;32mIn [38]\u001b[0m, in \u001b[0;36m<cell line: 1>\u001b[1;34m()\u001b[0m\n\u001b[1;32m----> 1\u001b[0m \u001b[43mlst\u001b[49m\u001b[43m \u001b[49m\u001b[38;5;241;43m*\u001b[39;49m\u001b[38;5;241;43m*\u001b[39;49m\u001b[43m \u001b[49m\u001b[38;5;241;43m2\u001b[39;49m\n",
      "\u001b[1;31mTypeError\u001b[0m: unsupported operand type(s) for ** or pow(): 'list' and 'int'"
     ]
    }
   ],
   "source": [
    "lst ** 2"
   ]
  },
  {
   "cell_type": "code",
   "execution_count": 39,
   "id": "07548758",
   "metadata": {},
   "outputs": [
    {
     "data": {
      "text/plain": [
       "array([ 1,  4,  9, 16], dtype=int32)"
      ]
     },
     "execution_count": 39,
     "metadata": {},
     "output_type": "execute_result"
    }
   ],
   "source": [
    "m1 **2 "
   ]
  },
  {
   "cell_type": "code",
   "execution_count": null,
   "id": "4b65a0b7",
   "metadata": {},
   "outputs": [],
   "source": [
    "#Проверим эти функции для многомерных списков"
   ]
  },
  {
   "cell_type": "code",
   "execution_count": 41,
   "id": "4ac378e4",
   "metadata": {},
   "outputs": [
    {
     "data": {
      "text/plain": [
       "array([[1, 2, 3],\n",
       "       [4, 5, 6]])"
      ]
     },
     "execution_count": 41,
     "metadata": {},
     "output_type": "execute_result"
    }
   ],
   "source": [
    "m2d = np.array([[1,2,3],[4,5,6]])\n",
    "m2d"
   ]
  },
  {
   "cell_type": "code",
   "execution_count": 42,
   "id": "3dabfca0",
   "metadata": {},
   "outputs": [
    {
     "data": {
      "text/plain": [
       "array([[ 1,  4,  9],\n",
       "       [16, 25, 36]], dtype=int32)"
      ]
     },
     "execution_count": 42,
     "metadata": {},
     "output_type": "execute_result"
    }
   ],
   "source": [
    "#убедимся в том, что все прекрасно работает\n",
    "m2d ** 2"
   ]
  },
  {
   "cell_type": "code",
   "execution_count": 43,
   "id": "72dd4c58",
   "metadata": {},
   "outputs": [
    {
     "data": {
      "text/plain": [
       "array([[3.4, 4.4, 5.4],\n",
       "       [6.4, 7.4, 8.4]])"
      ]
     },
     "execution_count": 43,
     "metadata": {},
     "output_type": "execute_result"
    }
   ],
   "source": [
    "m2d + 2.4"
   ]
  },
  {
   "cell_type": "markdown",
   "id": "8df31523",
   "metadata": {},
   "source": [
    "### STEP_2.3.8 Сравнение массивов со списками"
   ]
  },
  {
   "cell_type": "code",
   "execution_count": 44,
   "id": "2c009465",
   "metadata": {},
   "outputs": [],
   "source": [
    "#Сравним данные температуры за 2 дня\n",
    "temp10_01_2023 = [10.5, 5.5, 8.5] "
   ]
  },
  {
   "cell_type": "code",
   "execution_count": 45,
   "id": "ba39916f",
   "metadata": {},
   "outputs": [],
   "source": [
    "temp11_01_2023 = [11.5, 2.5, 3.5] "
   ]
  },
  {
   "cell_type": "code",
   "execution_count": 46,
   "id": "9313c8c4",
   "metadata": {},
   "outputs": [
    {
     "data": {
      "text/plain": [
       "False"
      ]
     },
     "execution_count": 46,
     "metadata": {},
     "output_type": "execute_result"
    }
   ],
   "source": [
    "#Получаем булевое значение\n",
    "temp10_01_2023 > temp11_01_2023"
   ]
  },
  {
   "cell_type": "code",
   "execution_count": 47,
   "id": "0305927d",
   "metadata": {},
   "outputs": [],
   "source": [
    "#Проделаем тоже самое с массивами numpy\n",
    "t1 = np.array(temp10_01_2023)"
   ]
  },
  {
   "cell_type": "code",
   "execution_count": 48,
   "id": "f822deb9",
   "metadata": {},
   "outputs": [],
   "source": [
    "t2 = np.array(temp11_01_2023)"
   ]
  },
  {
   "cell_type": "code",
   "execution_count": 49,
   "id": "c9eed74e",
   "metadata": {},
   "outputs": [
    {
     "data": {
      "text/plain": [
       "array([False,  True,  True])"
      ]
     },
     "execution_count": 49,
     "metadata": {},
     "output_type": "execute_result"
    }
   ],
   "source": [
    "#здесь мы получаем уже набор буевых значений. Каждое значение сравнивалось с каждым\n",
    "t1 > t2"
   ]
  },
  {
   "cell_type": "code",
   "execution_count": 50,
   "id": "0e40ead1",
   "metadata": {},
   "outputs": [
    {
     "data": {
      "text/plain": [
       "array([False,  True,  True])"
      ]
     },
     "execution_count": 50,
     "metadata": {},
     "output_type": "execute_result"
    }
   ],
   "source": [
    "m3 = t1 > t2\n",
    "m3"
   ]
  },
  {
   "cell_type": "markdown",
   "id": "95494b8e",
   "metadata": {},
   "source": [
    "### STEP_2.3.10 Срезы"
   ]
  },
  {
   "cell_type": "code",
   "execution_count": 52,
   "id": "6d21c99a",
   "metadata": {},
   "outputs": [
    {
     "data": {
      "text/plain": [
       "array([0, 1, 2, 3, 4, 5, 6, 7, 8, 9])"
      ]
     },
     "execution_count": 52,
     "metadata": {},
     "output_type": "execute_result"
    }
   ],
   "source": [
    "z1 = np.arange(10)\n",
    "z1"
   ]
  },
  {
   "cell_type": "code",
   "execution_count": 53,
   "id": "3fa8fb18",
   "metadata": {},
   "outputs": [
    {
     "data": {
      "text/plain": [
       "4"
      ]
     },
     "execution_count": 53,
     "metadata": {},
     "output_type": "execute_result"
    }
   ],
   "source": [
    "z1[4]"
   ]
  },
  {
   "cell_type": "code",
   "execution_count": 55,
   "id": "e04c2743",
   "metadata": {},
   "outputs": [
    {
     "data": {
      "text/plain": [
       "array([0, 1, 2, 3, 0, 5, 6, 7, 8, 9])"
      ]
     },
     "execution_count": 55,
     "metadata": {},
     "output_type": "execute_result"
    }
   ],
   "source": [
    "z1[4] = 0\n",
    "z1"
   ]
  },
  {
   "cell_type": "code",
   "execution_count": 56,
   "id": "b096886b",
   "metadata": {},
   "outputs": [
    {
     "data": {
      "text/plain": [
       "array([0, 5, 6])"
      ]
     },
     "execution_count": 56,
     "metadata": {},
     "output_type": "execute_result"
    }
   ],
   "source": [
    "z1[4:7]"
   ]
  },
  {
   "cell_type": "markdown",
   "id": "e6816097",
   "metadata": {},
   "source": [
    "### STEP_2.3.10 Слайсинг"
   ]
  },
  {
   "cell_type": "code",
   "execution_count": 57,
   "id": "79f9bd95",
   "metadata": {},
   "outputs": [
    {
     "data": {
      "text/plain": [
       "array([0, 5, 6])"
      ]
     },
     "execution_count": 57,
     "metadata": {},
     "output_type": "execute_result"
    }
   ],
   "source": [
    "#создаем новый массив на основе первого\n",
    "z2 = z1[4:7]\n",
    "z2"
   ]
  },
  {
   "cell_type": "code",
   "execution_count": 58,
   "id": "06be723e",
   "metadata": {},
   "outputs": [
    {
     "data": {
      "text/plain": [
       "array([387,   5,   6])"
      ]
     },
     "execution_count": 58,
     "metadata": {},
     "output_type": "execute_result"
    }
   ],
   "source": [
    "#изменим в нем одно из значений\n",
    "z2[0] = 387\n",
    "z2"
   ]
  },
  {
   "cell_type": "code",
   "execution_count": 59,
   "id": "29c5f17d",
   "metadata": {},
   "outputs": [
    {
     "data": {
      "text/plain": [
       "array([  0,   1,   2,   3, 387,   5,   6,   7,   8,   9])"
      ]
     },
     "execution_count": 59,
     "metadata": {},
     "output_type": "execute_result"
    }
   ],
   "source": [
    "#Обнаружим то, что в первоначальном массиве данное значение так же было изменено!\n",
    "#Очень важно помнить об этом, когда мы работаем с массивами данных!!!\n",
    "z1"
   ]
  },
  {
   "cell_type": "code",
   "execution_count": null,
   "id": "10410d58",
   "metadata": {},
   "outputs": [],
   "source": [
    "#STEP_2.3.13_Задача\n",
    "#Напишите функцию, которая на основе существующего списка создает numpy массив с типом float64\n",
    "import numpy as np\n",
    "\n",
    "def solution(lst):\n",
    "    arr = np.array(lst, dtype=np.float64)\n",
    "    return arr"
   ]
  },
  {
   "cell_type": "code",
   "execution_count": null,
   "id": "4d99bca8",
   "metadata": {},
   "outputs": [],
   "source": [
    "#STEP_2.3.15_Задача\n",
    "#К вам в распоряжение поступает массив arr с типом float64. \n",
    "#Преобразуйте, пожалуйста, в int32\n",
    "import numpy as np\n",
    "\n",
    "def solution(lst):\n",
    "    arr = lst.astype(np.int32)\n",
    "    return arr"
   ]
  }
 ],
 "metadata": {
  "kernelspec": {
   "display_name": "Python 3 (ipykernel)",
   "language": "python",
   "name": "python3"
  },
  "language_info": {
   "codemirror_mode": {
    "name": "ipython",
    "version": 3
   },
   "file_extension": ".py",
   "mimetype": "text/x-python",
   "name": "python",
   "nbconvert_exporter": "python",
   "pygments_lexer": "ipython3",
   "version": "3.9.12"
  }
 },
 "nbformat": 4,
 "nbformat_minor": 5
}
