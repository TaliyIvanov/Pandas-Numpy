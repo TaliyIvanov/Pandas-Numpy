{
 "cells": [
  {
   "cell_type": "markdown",
   "id": "a56d3552",
   "metadata": {},
   "source": [
    "Step_2.7.1\n",
    "\n",
    "Возможно так же вместе с маской использовать срезы. И если нам нужно получить информцию только для Андрея и только за выходные, мы спокойно это делаем.\n",
    "\n",
    "Что надо запомнить?\n",
    "\n",
    "В скобках можно работать и с маской и с индексами одновременно!\n"
   ]
  },
  {
   "cell_type": "code",
   "execution_count": 3,
   "id": "12dd3f2b",
   "metadata": {},
   "outputs": [],
   "source": [
    "import numpy as np"
   ]
  },
  {
   "cell_type": "code",
   "execution_count": 17,
   "id": "892bb22d",
   "metadata": {},
   "outputs": [],
   "source": [
    "users = np.array(['Андрей', 'Михаил', 'Ольга', 'Джон', 'Андрей'])"
   ]
  },
  {
   "cell_type": "code",
   "execution_count": 18,
   "id": "2c819986",
   "metadata": {},
   "outputs": [],
   "source": [
    "visits = np.array([\n",
    "    [1,0,1,0,0,1,0],\n",
    "    [1,0,0,1,0,1,1],\n",
    "    [1,0,1,0,1,1,1],\n",
    "    [1,0,0,1,0,1,1],\n",
    "    [1,0,1,0,1,1,1],\n",
    "])"
   ]
  },
  {
   "cell_type": "code",
   "execution_count": 19,
   "id": "6e0f57df",
   "metadata": {},
   "outputs": [],
   "source": [
    "mask = users == 'Андрей'"
   ]
  },
  {
   "cell_type": "code",
   "execution_count": 20,
   "id": "01462572",
   "metadata": {},
   "outputs": [
    {
     "data": {
      "text/plain": [
       "array([[1, 0],\n",
       "       [1, 1]])"
      ]
     },
     "execution_count": 20,
     "metadata": {},
     "output_type": "execute_result"
    }
   ],
   "source": [
    "visits[mask,5:]"
   ]
  },
  {
   "cell_type": "markdown",
   "id": "c075a9f7",
   "metadata": {},
   "source": [
    "Step_2.7.2\n",
    "\n",
    "Допустим нам необходимо теперь выбрать всех пользователей, кроме Андрея и получить будние дни.\n",
    "\n",
    "Мы с легкостью это делаем."
   ]
  },
  {
   "cell_type": "code",
   "execution_count": 21,
   "id": "d6008202",
   "metadata": {},
   "outputs": [],
   "source": [
    "mask2 = users != 'Андрей'"
   ]
  },
  {
   "cell_type": "code",
   "execution_count": 22,
   "id": "761d5b10",
   "metadata": {},
   "outputs": [
    {
     "data": {
      "text/plain": [
       "array([[1, 0, 0, 1, 0],\n",
       "       [1, 0, 1, 0, 1],\n",
       "       [1, 0, 0, 1, 0]])"
      ]
     },
     "execution_count": 22,
     "metadata": {},
     "output_type": "execute_result"
    }
   ],
   "source": [
    "visits[mask2,:5]"
   ]
  },
  {
   "cell_type": "markdown",
   "id": "9431ddd0",
   "metadata": {},
   "source": [
    "В Numpy есть возможность инвертировать значения маски, чтобы не создавать дополнительные и т.д.\n",
    "\n",
    "Делается это с помощью тильды. ~"
   ]
  },
  {
   "cell_type": "code",
   "execution_count": 23,
   "id": "6ef9fe2a",
   "metadata": {},
   "outputs": [
    {
     "data": {
      "text/plain": [
       "array([[1, 0, 0, 1, 0],\n",
       "       [1, 0, 1, 0, 1],\n",
       "       [1, 0, 0, 1, 0]])"
      ]
     },
     "execution_count": 23,
     "metadata": {},
     "output_type": "execute_result"
    }
   ],
   "source": [
    "visits[~mask,:5]"
   ]
  },
  {
   "cell_type": "markdown",
   "id": "9f8abd0d",
   "metadata": {},
   "source": [
    "Step_2.7.3\n",
    "\n",
    "При работе с numpy для логических операций вы не работаете со стандартными питоновскими and и or. \n",
    "\n",
    "У numpy свои операторы:\n",
    "\n",
    "Логическое ИЛИ:   |  (ищите выше клавиши Enter)\n",
    "\n",
    "Логическое И:  & (ищите на клавише с цифрой 7)  \n",
    "\n",
    "Нам необходимо вытянуть теперь двух пользователей, Михаил и Джон\n",
    "\n",
    "В данном случае мы делаем двойную маску. И используем в Numpy OR == |"
   ]
  },
  {
   "cell_type": "code",
   "execution_count": 26,
   "id": "d90e77ef",
   "metadata": {},
   "outputs": [],
   "source": [
    "mask_MJ = (users == 'Михаил') | (users == 'Джон')"
   ]
  },
  {
   "cell_type": "code",
   "execution_count": 27,
   "id": "e797d804",
   "metadata": {},
   "outputs": [
    {
     "data": {
      "text/plain": [
       "array([[1, 0, 0, 1, 0, 1, 1],\n",
       "       [1, 0, 0, 1, 0, 1, 1]])"
      ]
     },
     "execution_count": 27,
     "metadata": {},
     "output_type": "execute_result"
    }
   ],
   "source": [
    "visits[mask_MJ]"
   ]
  },
  {
   "cell_type": "code",
   "execution_count": 29,
   "id": "a4b9ff51",
   "metadata": {},
   "outputs": [
    {
     "data": {
      "text/plain": [
       "array([[1, 0, 1, 0, 0, 1, 0],\n",
       "       [1, 0, 1, 0, 1, 1, 1],\n",
       "       [1, 0, 1, 0, 1, 1, 1]])"
      ]
     },
     "execution_count": 29,
     "metadata": {},
     "output_type": "execute_result"
    }
   ],
   "source": [
    "#Инверсия маски\n",
    "visits[~mask_MJ]"
   ]
  },
  {
   "cell_type": "markdown",
   "id": "d3729201",
   "metadata": {},
   "source": [
    "Step_2.7.4\n",
    "\n",
    "Что надо взять на заметку:\n",
    "\n",
    "Раньше мы умели вытягивать значения вот так:\n",
    "\n",
    "m2d[1, : ]  <- передаем конкретный индекс (один)\n",
    "\n",
    "m2d[1:4, : ]  <- передаем слайсинг (диапазон индексов)\n",
    "\n",
    "m2d[[True, True, False, True], : ]  <- передаем маску\n",
    "\n",
    "\n",
    "\n",
    "*А теперь знаем еще про один способ - прихотливая индексация:*\n",
    "\n",
    "m2d[[0, 2, 4], : ]  - передаем список/массив с индексами по которым надо вытащить значения. \n",
    "\n",
    "Индексы могут идти не по порядку."
   ]
  },
  {
   "cell_type": "code",
   "execution_count": 33,
   "id": "1c217f03",
   "metadata": {},
   "outputs": [
    {
     "data": {
      "text/plain": [
       "array([[1, 1, 1, 1],\n",
       "       [2, 2, 2, 2],\n",
       "       [3, 3, 3, 3],\n",
       "       [4, 4, 4, 4],\n",
       "       [5, 5, 5, 5]])"
      ]
     },
     "execution_count": 33,
     "metadata": {},
     "output_type": "execute_result"
    }
   ],
   "source": [
    "m2d = np.array([[1,1,1,1],[2,2,2,2],[3,3,3,3],[4,4,4,4],[5,5,5,5]])\n",
    "m2d"
   ]
  },
  {
   "cell_type": "code",
   "execution_count": 34,
   "id": "312571e4",
   "metadata": {},
   "outputs": [
    {
     "data": {
      "text/plain": [
       "array([[1, 1, 1, 1],\n",
       "       [3, 3, 3, 3],\n",
       "       [5, 5, 5, 5]])"
      ]
     },
     "execution_count": 34,
     "metadata": {},
     "output_type": "execute_result"
    }
   ],
   "source": [
    "m2d[[0,2,4]]"
   ]
  },
  {
   "cell_type": "code",
   "execution_count": 35,
   "id": "abc7bfab",
   "metadata": {},
   "outputs": [
    {
     "data": {
      "text/plain": [
       "array([[5, 5, 5, 5],\n",
       "       [3, 3, 3, 3],\n",
       "       [1, 1, 1, 1]])"
      ]
     },
     "execution_count": 35,
     "metadata": {},
     "output_type": "execute_result"
    }
   ],
   "source": [
    "m2d[[4,2,0]]"
   ]
  },
  {
   "cell_type": "markdown",
   "id": "34eeabe8",
   "metadata": {},
   "source": [
    "Step_2.7.6\n",
    "\n",
    "Интересно заметить, что в случае записи\n",
    "\n",
    "m2d[[4,2,0],[1,2,3]]\n",
    "\n",
    "Будет совершенно не то, что мы ожидали. Мы хотели вытянуть столбцы, но увы-с.\n",
    "\n",
    "В целом это может быть полезно в других случаях.\n",
    "\n",
    "Numpy воспринимет это так, как если нам нужны элементы, расположенные по конкретным индексам. Парам индексов. То есть 4,1; 2,1; 0,3"
   ]
  },
  {
   "cell_type": "code",
   "execution_count": 36,
   "id": "e6001e85",
   "metadata": {},
   "outputs": [
    {
     "data": {
      "text/plain": [
       "array([5, 3, 1])"
      ]
     },
     "execution_count": 36,
     "metadata": {},
     "output_type": "execute_result"
    }
   ],
   "source": [
    "m2d[[4,2,0],[1,2,3]]"
   ]
  },
  {
   "cell_type": "markdown",
   "id": "6663d215",
   "metadata": {},
   "source": [
    "И все так получить нужные нам колонки в Numpy можно следующим методом:"
   ]
  },
  {
   "cell_type": "code",
   "execution_count": 40,
   "id": "e9ae935e",
   "metadata": {},
   "outputs": [
    {
     "data": {
      "text/plain": [
       "array([[1, 1, 1],\n",
       "       [3, 3, 3],\n",
       "       [5, 5, 5]])"
      ]
     },
     "execution_count": 40,
     "metadata": {},
     "output_type": "execute_result"
    }
   ],
   "source": [
    "#Способ 1\n",
    "m2d[[0, 2, 4]][:,[1,2,3]]"
   ]
  },
  {
   "cell_type": "code",
   "execution_count": 37,
   "id": "7caedef3",
   "metadata": {},
   "outputs": [
    {
     "data": {
      "text/plain": [
       "array([[1, 1, 1],\n",
       "       [3, 3, 3],\n",
       "       [5, 5, 5]])"
      ]
     },
     "execution_count": 37,
     "metadata": {},
     "output_type": "execute_result"
    }
   ],
   "source": [
    "#Способ 2:\n",
    "m2d[[0, 2, 4], 1: ]"
   ]
  },
  {
   "cell_type": "markdown",
   "id": "afe5371d",
   "metadata": {},
   "source": [
    "Step_2.7.8 - Трансформации, .reshape\n",
    "\n",
    "!Важно. При передаче количества строк и столбцов в функцию .reshape(). Умножая одно значение на другое, мы должны получать количество элементов! В противном случае, мы будем получать ошибку."
   ]
  },
  {
   "cell_type": "code",
   "execution_count": 42,
   "id": "8de18891",
   "metadata": {},
   "outputs": [
    {
     "data": {
      "text/plain": [
       "array([ 0,  1,  2,  3,  4,  5,  6,  7,  8,  9, 10, 11, 12, 13, 14, 15, 16,\n",
       "       17, 18, 19, 20, 21, 22, 23, 24, 25, 26, 27, 28, 29, 30, 31, 32, 33,\n",
       "       34, 35, 36, 37, 38, 39, 40, 41, 42, 43, 44, 45, 46, 47, 48, 49])"
      ]
     },
     "execution_count": 42,
     "metadata": {},
     "output_type": "execute_result"
    }
   ],
   "source": [
    "m1 = np.arange(50)\n",
    "m1"
   ]
  },
  {
   "cell_type": "code",
   "execution_count": 44,
   "id": "b775842f",
   "metadata": {},
   "outputs": [
    {
     "data": {
      "text/plain": [
       "array([[ 0,  1,  2,  3,  4,  5,  6,  7,  8,  9],\n",
       "       [10, 11, 12, 13, 14, 15, 16, 17, 18, 19],\n",
       "       [20, 21, 22, 23, 24, 25, 26, 27, 28, 29],\n",
       "       [30, 31, 32, 33, 34, 35, 36, 37, 38, 39],\n",
       "       [40, 41, 42, 43, 44, 45, 46, 47, 48, 49]])"
      ]
     },
     "execution_count": 44,
     "metadata": {},
     "output_type": "execute_result"
    }
   ],
   "source": [
    "#Предположим, я хочу вывести данный одномерный массив в матрицу 5 строк, 10 столбцов\n",
    "m1.reshape(5,10)"
   ]
  },
  {
   "cell_type": "code",
   "execution_count": 45,
   "id": "0aaa6e31",
   "metadata": {},
   "outputs": [
    {
     "ename": "ValueError",
     "evalue": "cannot reshape array of size 50 into shape (4,10)",
     "output_type": "error",
     "traceback": [
      "\u001b[1;31m---------------------------------------------------------------------------\u001b[0m",
      "\u001b[1;31mValueError\u001b[0m                                Traceback (most recent call last)",
      "Input \u001b[1;32mIn [45]\u001b[0m, in \u001b[0;36m<cell line: 2>\u001b[1;34m()\u001b[0m\n\u001b[0;32m      1\u001b[0m \u001b[38;5;66;03m#имитация ошибки\u001b[39;00m\n\u001b[1;32m----> 2\u001b[0m \u001b[43mm1\u001b[49m\u001b[38;5;241;43m.\u001b[39;49m\u001b[43mreshape\u001b[49m\u001b[43m(\u001b[49m\u001b[38;5;241;43m4\u001b[39;49m\u001b[43m,\u001b[49m\u001b[38;5;241;43m10\u001b[39;49m\u001b[43m)\u001b[49m\n",
      "\u001b[1;31mValueError\u001b[0m: cannot reshape array of size 50 into shape (4,10)"
     ]
    }
   ],
   "source": [
    "#имитация ошибки\n",
    "m1.reshape(4,10)"
   ]
  },
  {
   "cell_type": "markdown",
   "id": "22844a49",
   "metadata": {},
   "source": [
    "Step_2.7.10 - Создание трехмерного массива.\n",
    "\n",
    "!Здесь тоже важно, чтобы при перемножение количество элементов совпадало!."
   ]
  },
  {
   "cell_type": "code",
   "execution_count": 47,
   "id": "6bda7a83",
   "metadata": {},
   "outputs": [
    {
     "data": {
      "text/plain": [
       "array([[[ 0,  1,  2,  3,  4],\n",
       "        [ 5,  6,  7,  8,  9]],\n",
       "\n",
       "       [[10, 11, 12, 13, 14],\n",
       "        [15, 16, 17, 18, 19]],\n",
       "\n",
       "       [[20, 21, 22, 23, 24],\n",
       "        [25, 26, 27, 28, 29]],\n",
       "\n",
       "       [[30, 31, 32, 33, 34],\n",
       "        [35, 36, 37, 38, 39]],\n",
       "\n",
       "       [[40, 41, 42, 43, 44],\n",
       "        [45, 46, 47, 48, 49]]])"
      ]
     },
     "execution_count": 47,
     "metadata": {},
     "output_type": "execute_result"
    }
   ],
   "source": [
    "m1.reshape(5,2,5)"
   ]
  },
  {
   "cell_type": "code",
   "execution_count": 49,
   "id": "5d7e14e6",
   "metadata": {},
   "outputs": [
    {
     "ename": "ValueError",
     "evalue": "cannot reshape array of size 50 into shape (2,2,5)",
     "output_type": "error",
     "traceback": [
      "\u001b[1;31m---------------------------------------------------------------------------\u001b[0m",
      "\u001b[1;31mValueError\u001b[0m                                Traceback (most recent call last)",
      "Input \u001b[1;32mIn [49]\u001b[0m, in \u001b[0;36m<cell line: 2>\u001b[1;34m()\u001b[0m\n\u001b[0;32m      1\u001b[0m \u001b[38;5;66;03m#Имитация ошибки\u001b[39;00m\n\u001b[1;32m----> 2\u001b[0m \u001b[43mm1\u001b[49m\u001b[38;5;241;43m.\u001b[39;49m\u001b[43mreshape\u001b[49m\u001b[43m(\u001b[49m\u001b[38;5;241;43m2\u001b[39;49m\u001b[43m,\u001b[49m\u001b[38;5;241;43m2\u001b[39;49m\u001b[43m,\u001b[49m\u001b[38;5;241;43m5\u001b[39;49m\u001b[43m)\u001b[49m\n",
      "\u001b[1;31mValueError\u001b[0m: cannot reshape array of size 50 into shape (2,2,5)"
     ]
    }
   ],
   "source": [
    "#Имитация ошибки\n",
    "m1.reshape(2,2,5)"
   ]
  },
  {
   "cell_type": "markdown",
   "id": "7037ed17",
   "metadata": {},
   "source": [
    "Step_2.7.10 - Задача\n",
    "На вход функции подается двумерный массив:\n",
    "\n",
    "![Картинка испарилась(((](https://ucarecdn.com/49ccd304-d7b8-4203-9457-1cf4338b4056/)\n",
    "\n",
    "доработайте функцию так чтобы она вернула маску по которой потом можно будет выбрать значения меньше 20 или больше 40."
   ]
  },
  {
   "cell_type": "code",
   "execution_count": null,
   "id": "84145768",
   "metadata": {},
   "outputs": [],
   "source": [
    "import numpy as np\n",
    "\n",
    "def solution(arr):\n",
    "    arr = (arr < 20) | (arr > 40)\n",
    "    return arr"
   ]
  },
  {
   "cell_type": "markdown",
   "id": "8ef5d8f1",
   "metadata": {},
   "source": [
    "Step_2.7.11 - Задача\n",
    "На вход функции подается двумерный массив:\n",
    "\n",
    "![Картинка испарилась(((](https://ucarecdn.com/62de17b8-9f2b-41e1-964e-736642e80acc/)\n",
    "\n",
    "доработайте функцию так чтобы она вернула значения, которые лежат на главной диагонали. Значения должны быть в одномерном массиве (Для особых знатоков: функцией diag не пользоваться!). Работайте с прихотливой индексацией."
   ]
  },
  {
   "cell_type": "code",
   "execution_count": 61,
   "id": "e8bdc979",
   "metadata": {},
   "outputs": [],
   "source": [
    "#мое решение\n",
    "import numpy as np\n",
    "\n",
    "def solution(arr):\n",
    "    arr = arr[[0,1,2,3,4],[0,1,2,3,4]]\n",
    "    return arr"
   ]
  },
  {
   "cell_type": "code",
   "execution_count": 71,
   "id": "8f8abf32",
   "metadata": {},
   "outputs": [],
   "source": [
    "test = np.arange(25)\n",
    "test = test.reshape(5,5)"
   ]
  },
  {
   "cell_type": "code",
   "execution_count": 72,
   "id": "03460e1a",
   "metadata": {},
   "outputs": [
    {
     "data": {
      "text/plain": [
       "array([ 0,  6, 12, 18, 24])"
      ]
     },
     "execution_count": 72,
     "metadata": {},
     "output_type": "execute_result"
    }
   ],
   "source": [
    "solution(test)"
   ]
  },
  {
   "cell_type": "code",
   "execution_count": 73,
   "id": "a2ca4ec0",
   "metadata": {},
   "outputs": [],
   "source": [
    "#пара вариантов других возможных решений\n",
    "import numpy as np\n",
    "\n",
    "def solution(arr):\n",
    "    indx = np.arange(len(arr))\n",
    "    return arr[indx, indx]"
   ]
  },
  {
   "cell_type": "code",
   "execution_count": null,
   "id": "5b82644c",
   "metadata": {},
   "outputs": [],
   "source": [
    "import numpy as np\n",
    "\n",
    "def solution(arr):\n",
    "    arr = arr[[range(5)], [range(5)]]#ваш код здесь\n",
    "    return arr"
   ]
  },
  {
   "cell_type": "markdown",
   "id": "85babba1",
   "metadata": {},
   "source": [
    "Step_2.7.13 - Задача\n",
    "На вход функции подается двумерный массив:\n",
    "\n",
    "![Картинка испарилась(((](https://ucarecdn.com/3bb5b4e9-f8bf-4230-be95-304d24c5ae1f/)\n",
    "\n",
    "доработайте функцию так чтобы она вернула значения, которые лежат на побочной диагонали. Значения должны быть в одномерном массиве array([1, 32, 84, 19, 20]) (Для особых знатоков: функцией diag не пользоваться!). Работайте с прихотливой индексацией."
   ]
  },
  {
   "cell_type": "code",
   "execution_count": 85,
   "id": "9fad5c04",
   "metadata": {},
   "outputs": [],
   "source": [
    "import numpy as np\n",
    "\n",
    "def solution(arr):\n",
    "    arr = arr[[4,3,2,1,0],[0,1,2,3,4]]\n",
    "    return arr"
   ]
  },
  {
   "cell_type": "code",
   "execution_count": 86,
   "id": "5d0e27c9",
   "metadata": {},
   "outputs": [
    {
     "data": {
      "text/plain": [
       "array([20, 16, 12,  8,  4])"
      ]
     },
     "execution_count": 86,
     "metadata": {},
     "output_type": "execute_result"
    }
   ],
   "source": [
    "solution(test)"
   ]
  },
  {
   "cell_type": "code",
   "execution_count": 84,
   "id": "392bf8f9",
   "metadata": {},
   "outputs": [
    {
     "data": {
      "text/plain": [
       "array([[ 0,  1,  2,  3,  4],\n",
       "       [ 5,  6,  7,  8,  9],\n",
       "       [10, 11, 12, 13, 14],\n",
       "       [15, 16, 17, 18, 19],\n",
       "       [20, 21, 22, 23, 24]])"
      ]
     },
     "execution_count": 84,
     "metadata": {},
     "output_type": "execute_result"
    }
   ],
   "source": [
    "test"
   ]
  },
  {
   "cell_type": "code",
   "execution_count": null,
   "id": "8cb8f499",
   "metadata": {},
   "outputs": [],
   "source": []
  }
 ],
 "metadata": {
  "kernelspec": {
   "display_name": "Python 3 (ipykernel)",
   "language": "python",
   "name": "python3"
  },
  "language_info": {
   "codemirror_mode": {
    "name": "ipython",
    "version": 3
   },
   "file_extension": ".py",
   "mimetype": "text/x-python",
   "name": "python",
   "nbconvert_exporter": "python",
   "pygments_lexer": "ipython3",
   "version": "3.9.12"
  }
 },
 "nbformat": 4,
 "nbformat_minor": 5
}
