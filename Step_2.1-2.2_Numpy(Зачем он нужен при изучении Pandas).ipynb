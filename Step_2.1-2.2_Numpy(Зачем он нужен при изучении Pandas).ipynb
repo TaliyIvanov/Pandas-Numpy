{
 "cells": [
  {
   "cell_type": "markdown",
   "id": "ad4c19fc",
   "metadata": {},
   "source": [
    "## Step_2.1.1\n",
    "ссылка на официальную документацию numpy: https://numpy.org/doc/stable/\n",
    "Предположим, что нам необходимо создавать таблицу стандартными методами python. Как мы это реализуем."
   ]
  },
  {
   "cell_type": "code",
   "execution_count": 3,
   "id": "3e5271db",
   "metadata": {},
   "outputs": [],
   "source": [
    "#Реализую таблицу первым способом, с помощью обычного списка.\n",
    "table1 = [\n",
    "    [1,2,3],\n",
    "    [4,5,6],\n",
    "    [7,8,9]\n",
    "]"
   ]
  },
  {
   "cell_type": "code",
   "execution_count": 4,
   "id": "d9b34bf6",
   "metadata": {},
   "outputs": [
    {
     "data": {
      "text/plain": [
       "5"
      ]
     },
     "execution_count": 4,
     "metadata": {},
     "output_type": "execute_result"
    }
   ],
   "source": [
    "#получим значение 5. Вот так бы мы работали с таблицами, если бы у нас не было pandas.\n",
    "table1[1][1]"
   ]
  },
  {
   "cell_type": "code",
   "execution_count": 5,
   "id": "e2864d10",
   "metadata": {},
   "outputs": [],
   "source": [
    "#Реализуем таблицу с помощью словаря.\n",
    "table2 = {'Столбец1' : [1,4,7],\n",
    "         'Столбец2' : [2,5,6],\n",
    "         'Столбец3' : [7,8,9],\n",
    "         }"
   ]
  },
  {
   "cell_type": "code",
   "execution_count": 8,
   "id": "a274e049",
   "metadata": {},
   "outputs": [
    {
     "data": {
      "text/plain": [
       "5"
      ]
     },
     "execution_count": 8,
     "metadata": {},
     "output_type": "execute_result"
    }
   ],
   "source": [
    "#снова получим 5.Сначала обратимся по ключу, а потом по индексу элемента.\n",
    "table2['Столбец2'][1]"
   ]
  },
  {
   "cell_type": "code",
   "execution_count": null,
   "id": "dfd0e09c",
   "metadata": {},
   "outputs": [],
   "source": [
    "#Идея заключается в том, что для хранения данных необходимо иметь какой то контейнер. \n",
    "#Будет это список или словарь\n",
    "#Numpy - предоставляет контейнеры для хранения данных.\n",
    "#Именно эту библиотеку за основу взяли разработчики Pandas"
   ]
  },
  {
   "cell_type": "markdown",
   "id": "af9130c7",
   "metadata": {},
   "source": [
    "## Step_2.1.2 Библиотека Numpy\n",
    "В данной части посмотрим на скорость выполнения задачи стандартными инструментами python. И на то, как быстро с этим справится библиотека Numpy."
   ]
  },
  {
   "cell_type": "code",
   "execution_count": 9,
   "id": "4f85aa98",
   "metadata": {},
   "outputs": [],
   "source": [
    "#импортируем библиотеку Numpy\n",
    "import numpy as np"
   ]
  },
  {
   "cell_type": "code",
   "execution_count": 17,
   "id": "f205a103",
   "metadata": {},
   "outputs": [],
   "source": [
    "#создаем список на 1кк элементов\n",
    "lst = list(range(1_000_000))"
   ]
  },
  {
   "cell_type": "code",
   "execution_count": 19,
   "id": "9970ac20",
   "metadata": {},
   "outputs": [
    {
     "data": {
      "text/plain": [
       "1000000"
      ]
     },
     "execution_count": 19,
     "metadata": {},
     "output_type": "execute_result"
    }
   ],
   "source": [
    "len(lst)"
   ]
  },
  {
   "cell_type": "code",
   "execution_count": 20,
   "id": "24ce7f81",
   "metadata": {},
   "outputs": [],
   "source": [
    "#создаем аналогичный массив с помощью библиотеки numpy\n",
    "arr = np.arange(1_000_000)"
   ]
  },
  {
   "cell_type": "code",
   "execution_count": 21,
   "id": "3d62f1e9",
   "metadata": {},
   "outputs": [
    {
     "data": {
      "text/plain": [
       "1000000"
      ]
     },
     "execution_count": 21,
     "metadata": {},
     "output_type": "execute_result"
    }
   ],
   "source": [
    "len(arr)"
   ]
  },
  {
   "cell_type": "code",
   "execution_count": 22,
   "id": "5152ba8a",
   "metadata": {},
   "outputs": [
    {
     "name": "stdout",
     "output_type": "stream",
     "text": [
      "CPU times: total: 2.62 s\n",
      "Wall time: 2.62 s\n"
     ]
    }
   ],
   "source": [
    "#возведем каждый элемент в квадрат 10 раз и подсчитаем время выполнения данной операции, командой %time\n",
    "%time for _ in range(10): lst2 = [x**2 for x in lst]\n",
    "#результат: 2,62с"
   ]
  },
  {
   "cell_type": "code",
   "execution_count": 23,
   "id": "d4d59a51",
   "metadata": {},
   "outputs": [
    {
     "name": "stdout",
     "output_type": "stream",
     "text": [
      "CPU times: total: 46.9 ms\n",
      "Wall time: 20 ms\n"
     ]
    }
   ],
   "source": [
    "#возведем каждый элемент в квадрат 10 раз с помощью numpy, командой %time\n",
    "%time for _ in range(10): arr2 = arr ** 2\n",
    "#результат: 20 мс. Выполнение в сотни раз быстрее"
   ]
  },
  {
   "cell_type": "code",
   "execution_count": null,
   "id": "3f49d638",
   "metadata": {},
   "outputs": [],
   "source": [
    "#т.к. у нас будет огромное количество данных. А так же многие другие библиотеки основаны на numpy.\n",
    "#Изучая его сейчас я убиваю сразу двух зайцев."
   ]
  },
  {
   "cell_type": "markdown",
   "id": "72c652b9",
   "metadata": {},
   "source": [
    "## Step_2.1.3 Установка Numpy"
   ]
  },
  {
   "cell_type": "code",
   "execution_count": null,
   "id": "ab2fbc7c",
   "metadata": {},
   "outputs": [],
   "source": [
    "#т.к. я работаю через jupyterNotebook, у меня numpy установлен по умолчанию\n",
    "#Для установки можно использовать !pip install numpy, так же можно делать это специальным средствами\n",
    "#различных IDE не вводя никакие команды. Например в PyCharm"
   ]
  },
  {
   "cell_type": "code",
   "execution_count": 24,
   "id": "72dc8db6",
   "metadata": {},
   "outputs": [
    {
     "name": "stdout",
     "output_type": "stream",
     "text": [
      "Name: numpy\n",
      "Version: 1.21.5\n",
      "Summary: NumPy is the fundamental package for array computing with Python.\n",
      "Home-page: https://www.numpy.org\n",
      "Author: Travis E. Oliphant et al.\n",
      "Author-email: \n",
      "License: BSD\n",
      "Location: c:\\users\\user\\anaconda3\\lib\\site-packages\n",
      "Requires: \n",
      "Required-by: xarray, tifffile, tables, statsmodels, seaborn, scipy, scikit-learn, scikit-image, PyWavelets, pyerfa, patsy, pandas, numexpr, numba, mkl-random, mkl-fft, matplotlib, imageio, imagecodecs, hvplot, holoviews, h5py, gensim, datashape, datashader, daal4py, Bottleneck, bokeh, bkcharts, astropy\n"
     ]
    }
   ],
   "source": [
    "# Так же можно посмотреть есть ли эта библиотека у нас с помощью следующей команды\n",
    "!pip show numpy"
   ]
  },
  {
   "cell_type": "code",
   "execution_count": null,
   "id": "de86ac9e",
   "metadata": {},
   "outputs": [],
   "source": [
    "#При выполнении команды так же видно, какие библиотеки используют numpy"
   ]
  },
  {
   "cell_type": "markdown",
   "id": "1ac9a95d",
   "metadata": {},
   "source": [
    "## Step_2.1.4 Работа с numpy\n",
    "Каждый раз работу с библиотекой начинаем с ее Импорта"
   ]
  },
  {
   "cell_type": "code",
   "execution_count": 25,
   "id": "4816b64e",
   "metadata": {},
   "outputs": [],
   "source": [
    "import numpy as np"
   ]
  },
  {
   "cell_type": "code",
   "execution_count": 33,
   "id": "501f42b2",
   "metadata": {},
   "outputs": [
    {
     "data": {
      "text/plain": [
       "array([1. , 2. , 3. , 4.5])"
      ]
     },
     "execution_count": 33,
     "metadata": {},
     "output_type": "execute_result"
    }
   ],
   "source": [
    "#Создание обычного массива\n",
    "arr1 = np.array([1,2,3,4.5])\n",
    "arr1"
   ]
  },
  {
   "cell_type": "code",
   "execution_count": 34,
   "id": "288549ec",
   "metadata": {},
   "outputs": [
    {
     "data": {
      "text/plain": [
       "array([[1, 2, 3],\n",
       "       [4, 5, 6]])"
      ]
     },
     "execution_count": 34,
     "metadata": {},
     "output_type": "execute_result"
    }
   ],
   "source": [
    "#Создание вложенного массива\n",
    "arr2 = np.array([[1,2,3],[4,5,6]])\n",
    "arr2"
   ]
  },
  {
   "cell_type": "code",
   "execution_count": 36,
   "id": "af742ead",
   "metadata": {},
   "outputs": [
    {
     "data": {
      "text/plain": [
       "2"
      ]
     },
     "execution_count": 36,
     "metadata": {},
     "output_type": "execute_result"
    }
   ],
   "source": [
    "#измерение длины нашего массива\n",
    "len(arr1)\n"
   ]
  },
  {
   "cell_type": "code",
   "execution_count": 37,
   "id": "07e289c6",
   "metadata": {},
   "outputs": [
    {
     "data": {
      "text/plain": [
       "2"
      ]
     },
     "execution_count": 37,
     "metadata": {},
     "output_type": "execute_result"
    }
   ],
   "source": [
    "#в данном случае, мы полчим поличество вложенных списков\n",
    "len(arr2)"
   ]
  },
  {
   "cell_type": "code",
   "execution_count": 38,
   "id": "53a829f4",
   "metadata": {},
   "outputs": [
    {
     "data": {
      "text/plain": [
       "(2, 3)"
      ]
     },
     "execution_count": 38,
     "metadata": {},
     "output_type": "execute_result"
    }
   ],
   "source": [
    "#для того, чтобы понять какое у нас количество массивов и количество элементов в \n",
    "#подмассивах применим .shape\n",
    "arr2.shape"
   ]
  },
  {
   "cell_type": "code",
   "execution_count": 39,
   "id": "702ad6a7",
   "metadata": {},
   "outputs": [
    {
     "name": "stderr",
     "output_type": "stream",
     "text": [
      "C:\\Users\\user\\AppData\\Local\\Temp\\ipykernel_18360\\2919537873.py:2: VisibleDeprecationWarning: Creating an ndarray from ragged nested sequences (which is a list-or-tuple of lists-or-tuples-or ndarrays with different lengths or shapes) is deprecated. If you meant to do this, you must specify 'dtype=object' when creating the ndarray.\n",
      "  arr3 = np.array([[1,2,3],[4,5,6,7]])\n"
     ]
    },
    {
     "data": {
      "text/plain": [
       "(2,)"
      ]
     },
     "execution_count": 39,
     "metadata": {},
     "output_type": "execute_result"
    }
   ],
   "source": [
    "#мне вот интересно, а если у нас будет не одинаковое количество\n",
    "arr3 = np.array([[1,2,3],[4,5,6,7]])\n",
    "arr3.shape\n",
    "#забавно в данном случае эта функция нам не поможет в курсе ничего про это нет=("
   ]
  },
  {
   "cell_type": "code",
   "execution_count": 44,
   "id": "a4af03dc",
   "metadata": {},
   "outputs": [
    {
     "data": {
      "text/plain": [
       "6"
      ]
     },
     "execution_count": 44,
     "metadata": {},
     "output_type": "execute_result"
    }
   ],
   "source": [
    "#я поискал еще возможные варианты функция для подсчета количества элементво массива. \n",
    "#Все они так же работают\n",
    "np.size(arr2) "
   ]
  },
  {
   "cell_type": "code",
   "execution_count": 45,
   "id": "12b30f25",
   "metadata": {},
   "outputs": [
    {
     "data": {
      "text/plain": [
       "2"
      ]
     },
     "execution_count": 45,
     "metadata": {},
     "output_type": "execute_result"
    }
   ],
   "source": [
    "np.size(arr3)"
   ]
  },
  {
   "cell_type": "code",
   "execution_count": 46,
   "id": "96aa2af6",
   "metadata": {},
   "outputs": [
    {
     "data": {
      "text/plain": [
       "6"
      ]
     },
     "execution_count": 46,
     "metadata": {},
     "output_type": "execute_result"
    }
   ],
   "source": [
    "np.prod(arr2.shape)"
   ]
  },
  {
   "cell_type": "code",
   "execution_count": 47,
   "id": "a2405a2c",
   "metadata": {},
   "outputs": [
    {
     "data": {
      "text/plain": [
       "2"
      ]
     },
     "execution_count": 47,
     "metadata": {},
     "output_type": "execute_result"
    }
   ],
   "source": [
    "np.prod(arr3.shape)"
   ]
  },
  {
   "cell_type": "markdown",
   "id": "09d56909",
   "metadata": {},
   "source": [
    "Свойство ndim - сокращение от number of dimensions (переводится как количество измерений).  Поможет ответить на вопрос: а сколько измерений в моем массиве (какая вложенность)? Наиболее частые случаи:\n",
    "Если ndim =1 значит у вас 1D array (см. выше). Он же одномерный массив.\n",
    "Если ndim =2 значит у вас 2D array (см. выше). Он же двумерный массив. Она же матрица.\n",
    "Если ndim =3 значит у вас 3D array (см. выше). \n",
    "2) Свойство shape (переводится как форма) - показывает размер каждого измерений.\n",
    "Если у вас shape = (4,) это значит, что у вас одномерный массив длинной 4\n",
    "Если у вас shape = (2, 3) это значит, что у вас двумерный массив (массив, который состоит из подмассивов). Каждый подмассив длинной 3.\n",
    "Если у вас shape = (4, 3, 2) это значит, что у вас трехмерный массив. Но из чего он состоит? Представьте себе двумерный массив размером (3, 2). Вот таких двухмерных массивов (называют матрицами) у вас будет 4.\n",
    "\n",
    "Про shape мы еще будем говорить. Если не совсем уловили, ничего страшного) "
   ]
  },
  {
   "cell_type": "code",
   "execution_count": 48,
   "id": "db8599f0",
   "metadata": {},
   "outputs": [
    {
     "data": {
      "text/plain": [
       "2"
      ]
     },
     "execution_count": 48,
     "metadata": {},
     "output_type": "execute_result"
    }
   ],
   "source": [
    "arr2.ndim"
   ]
  },
  {
   "cell_type": "code",
   "execution_count": 49,
   "id": "c27fca35",
   "metadata": {},
   "outputs": [
    {
     "data": {
      "text/plain": [
       "1"
      ]
     },
     "execution_count": 49,
     "metadata": {},
     "output_type": "execute_result"
    }
   ],
   "source": [
    "arr3.ndim"
   ]
  },
  {
   "cell_type": "markdown",
   "id": "5bc98325",
   "metadata": {},
   "source": [
    "## Step_2.1.6 Типы данных\n",
    "1) Когда вы создаете массив, Numpy пытается понять из каких элементов вы пытаетесь его создать и подбирает наиболее подходящий тип данных.\n",
    "Зачем Numpy вообще что-то подбирать? - Это долгая история, просто запомните, что у каждого элемента массива есть свой тип данных. Это сильно помогает массиву быть быстрее чем его брату питоновскому списку. Numpy старается не выдавать ошибку.\n",
    "2) Свойство dtype подскажет, какой тип данных у каждого элемента вашего массива. "
   ]
  },
  {
   "cell_type": "code",
   "execution_count": 50,
   "id": "0810ff38",
   "metadata": {},
   "outputs": [
    {
     "data": {
      "text/plain": [
       "dtype('float64')"
      ]
     },
     "execution_count": 50,
     "metadata": {},
     "output_type": "execute_result"
    }
   ],
   "source": [
    "#нампаевским массивам присваивается тип. Посмотреть его можно через .dtype\n",
    "arr1.dtype"
   ]
  },
  {
   "cell_type": "code",
   "execution_count": 51,
   "id": "8e045807",
   "metadata": {},
   "outputs": [
    {
     "data": {
      "text/plain": [
       "dtype('int32')"
      ]
     },
     "execution_count": 51,
     "metadata": {},
     "output_type": "execute_result"
    }
   ],
   "source": [
    "arr2.dtype"
   ]
  },
  {
   "cell_type": "markdown",
   "id": "502a9f7d",
   "metadata": {},
   "source": [
    "## Step_2.1.7 Функция .zeros"
   ]
  },
  {
   "cell_type": "code",
   "execution_count": null,
   "id": "e1ba1ade",
   "metadata": {},
   "outputs": [],
   "source": [
    "lst = [0, 0, 0, 0, 0, 0, 0]"
   ]
  },
  {
   "cell_type": "code",
   "execution_count": 54,
   "id": "b44143cc",
   "metadata": {},
   "outputs": [
    {
     "data": {
      "text/plain": [
       "array([0., 0., 0., 0., 0.])"
      ]
     },
     "execution_count": 54,
     "metadata": {},
     "output_type": "execute_result"
    }
   ],
   "source": [
    "#Используем функцию zeros\n",
    "arr1 = np.zeros(5)\n",
    "arr1"
   ]
  },
  {
   "cell_type": "code",
   "execution_count": 55,
   "id": "a056e1bc",
   "metadata": {},
   "outputs": [
    {
     "data": {
      "text/plain": [
       "array([[0., 0., 0.],\n",
       "       [0., 0., 0.]])"
      ]
     },
     "execution_count": 55,
     "metadata": {},
     "output_type": "execute_result"
    }
   ],
   "source": [
    "#создаем вложенные массивы \n",
    "#arr2 = np.zeros((a, b))\n",
    "#где а - количество подмассивов, b - количество элементов в подмассивах\n",
    "arr2 = np.zeros((2, 3))\n",
    "arr2"
   ]
  },
  {
   "cell_type": "markdown",
   "id": "0eed7f3d",
   "metadata": {},
   "source": [
    "## Step_2.1.8 Инициализация значений элементов .ones"
   ]
  },
  {
   "cell_type": "code",
   "execution_count": 57,
   "id": "237bd5a3",
   "metadata": {},
   "outputs": [
    {
     "data": {
      "text/plain": [
       "array([1., 1., 1., 1., 1.])"
      ]
     },
     "execution_count": 57,
     "metadata": {},
     "output_type": "execute_result"
    }
   ],
   "source": [
    "arr1 = np.ones(5)\n",
    "arr1"
   ]
  },
  {
   "cell_type": "code",
   "execution_count": 56,
   "id": "bcdf4270",
   "metadata": {},
   "outputs": [
    {
     "data": {
      "text/plain": [
       "array([[1., 1., 1.],\n",
       "       [1., 1., 1.]])"
      ]
     },
     "execution_count": 56,
     "metadata": {},
     "output_type": "execute_result"
    }
   ],
   "source": [
    "arr2 = np.ones((2, 3))\n",
    "arr2"
   ]
  },
  {
   "cell_type": "markdown",
   "id": "e1e9fbcf",
   "metadata": {},
   "source": [
    "## Step_2.1.9 функция .full"
   ]
  },
  {
   "cell_type": "code",
   "execution_count": null,
   "id": "f6360ff3",
   "metadata": {},
   "outputs": [],
   "source": [
    "#Функция .full может заполняться теми значениями, которые нам нужны\n",
    "#правда они все так же однотивны\n",
    "arr1 = np.full(5, -1)\n",
    "arr1"
   ]
  },
  {
   "cell_type": "code",
   "execution_count": 58,
   "id": "5addd98f",
   "metadata": {},
   "outputs": [
    {
     "data": {
      "text/plain": [
       "array([[-1, -1, -1],\n",
       "       [-1, -1, -1]])"
      ]
     },
     "execution_count": 58,
     "metadata": {},
     "output_type": "execute_result"
    }
   ],
   "source": [
    "arr2 = np.full((2,3), -1)\n",
    "arr2"
   ]
  },
  {
   "cell_type": "markdown",
   "id": "1f38f18a",
   "metadata": {},
   "source": [
    "## Step_2.1.10 np.arange создание массивов"
   ]
  },
  {
   "cell_type": "code",
   "execution_count": 59,
   "id": "f6e2b620",
   "metadata": {},
   "outputs": [
    {
     "data": {
      "text/plain": [
       "array([0, 1, 2, 3, 4, 5, 6, 7, 8, 9])"
      ]
     },
     "execution_count": 59,
     "metadata": {},
     "output_type": "execute_result"
    }
   ],
   "source": [
    "arr = np.arange(10)\n",
    "arr"
   ]
  },
  {
   "cell_type": "markdown",
   "id": "90bf82a4",
   "metadata": {},
   "source": [
    "## Step_2.1.12\n",
    "Напишите функцию, которая возвращает numpy массив на основе предложенного списка (lst)."
   ]
  },
  {
   "cell_type": "code",
   "execution_count": 63,
   "id": "0bc4bad8",
   "metadata": {},
   "outputs": [],
   "source": [
    "import numpy as np\n",
    "\n",
    "def solution(lst):\n",
    "    arr = np.array(lst)\n",
    "    return arr"
   ]
  },
  {
   "cell_type": "markdown",
   "id": "e9268dbf",
   "metadata": {},
   "source": [
    "## Step_2.1.12\n",
    "Напишите функцию, которая возвращает одномерный массив длинной 100 и заполненный нулями."
   ]
  },
  {
   "cell_type": "code",
   "execution_count": null,
   "id": "a6528818",
   "metadata": {},
   "outputs": [],
   "source": [
    "import numpy as np\n",
    "\n",
    "def solution():\n",
    "    arr = np.zeros(100)\n",
    "    return arr"
   ]
  },
  {
   "cell_type": "code",
   "execution_count": null,
   "id": "e91e37ed",
   "metadata": {},
   "outputs": [],
   "source": []
  },
  {
   "cell_type": "code",
   "execution_count": null,
   "id": "f4a5f7d8",
   "metadata": {},
   "outputs": [],
   "source": [
    "#Step_2.2.3 - Создайте массив заполненный нулями у которого shape = (2, 5)\n",
    "import numpy as np\n",
    "\n",
    "def solution():\n",
    "    arr = np.zeros((2,5))\n",
    "    return arr"
   ]
  },
  {
   "cell_type": "code",
   "execution_count": null,
   "id": "56fc6784",
   "metadata": {},
   "outputs": [],
   "source": [
    "#Step_2.2.5 - Создайте массив заполненный единицами, \n",
    "#у которого 5 строк и 8 столбцов (5 вложенных массивов длинной 8)\n",
    "import numpy as np\n",
    "\n",
    "def solution():\n",
    "    arr = np.ones((5,8))\n",
    "    return arr"
   ]
  },
  {
   "cell_type": "code",
   "execution_count": null,
   "id": "f959fe60",
   "metadata": {},
   "outputs": [],
   "source": [
    "#Step_2.2.5 - Создайте двумерный массив размером 5 х 2, который полностью будет заполнен значением 'G' \n",
    "import numpy as np\n",
    "\n",
    "def solution():\n",
    "    arr = np.full((5, 2), 'G')\n",
    "    return arr"
   ]
  },
  {
   "cell_type": "code",
   "execution_count": null,
   "id": "38976906",
   "metadata": {},
   "outputs": [],
   "source": []
  }
 ],
 "metadata": {
  "kernelspec": {
   "display_name": "Python 3 (ipykernel)",
   "language": "python",
   "name": "python3"
  },
  "language_info": {
   "codemirror_mode": {
    "name": "ipython",
    "version": 3
   },
   "file_extension": ".py",
   "mimetype": "text/x-python",
   "name": "python",
   "nbconvert_exporter": "python",
   "pygments_lexer": "ipython3",
   "version": "3.9.12"
  }
 },
 "nbformat": 4,
 "nbformat_minor": 5
}
