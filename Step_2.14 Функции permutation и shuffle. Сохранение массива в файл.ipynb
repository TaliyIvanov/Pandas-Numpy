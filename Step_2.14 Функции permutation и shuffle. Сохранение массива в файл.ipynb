{
 "cells": [
  {
   "cell_type": "code",
   "execution_count": 1,
   "id": "97e77bed",
   "metadata": {},
   "outputs": [],
   "source": [
    "import numpy as np"
   ]
  },
  {
   "cell_type": "code",
   "execution_count": 2,
   "id": "8ee0da87",
   "metadata": {},
   "outputs": [
    {
     "data": {
      "text/plain": [
       "array([0, 4, 8, 1, 1, 4, 2, 4, 1, 5])"
      ]
     },
     "execution_count": 2,
     "metadata": {},
     "output_type": "execute_result"
    }
   ],
   "source": [
    "np.random.randint(0, 10, size= 10)"
   ]
  },
  {
   "cell_type": "code",
   "execution_count": null,
   "id": "3d2d2467",
   "metadata": {},
   "outputs": [],
   "source": [
    "#Допустим мы хотим получить массив. чтобы гарантировано каждый элементы был создан 1 раз"
   ]
  },
  {
   "cell_type": "code",
   "execution_count": 7,
   "id": "4df53623",
   "metadata": {},
   "outputs": [
    {
     "data": {
      "text/plain": [
       "array([0, 1, 2, 3, 4, 5, 6, 7, 8, 9])"
      ]
     },
     "execution_count": 7,
     "metadata": {},
     "output_type": "execute_result"
    }
   ],
   "source": [
    "#Простой массив, который мы хотели бы перемешать\n",
    "m1 = np.arange(10)\n",
    "m1"
   ]
  },
  {
   "cell_type": "code",
   "execution_count": 5,
   "id": "13130d9f",
   "metadata": {},
   "outputs": [
    {
     "data": {
      "text/plain": [
       "array([1, 8, 7, 0, 9, 4, 2, 5, 3, 6])"
      ]
     },
     "execution_count": 5,
     "metadata": {},
     "output_type": "execute_result"
    }
   ],
   "source": [
    "#Данная функция генерирует для нас массив, а затем перемешивает его\n",
    "np.random.permutation(10)"
   ]
  },
  {
   "cell_type": "code",
   "execution_count": 9,
   "id": "bcb569e5",
   "metadata": {},
   "outputs": [
    {
     "data": {
      "text/plain": [
       "array([4, 2, 5, 8, 6, 7, 0, 9, 3, 1])"
      ]
     },
     "execution_count": 9,
     "metadata": {},
     "output_type": "execute_result"
    }
   ],
   "source": [
    "#Что если, нам необходимо перемешать готовый массив\n",
    "#Данная функция ничего не возвращает, она меняет последовательность эл-ов в исходном массиве\n",
    "np.random.shuffle(m1)\n",
    "m1"
   ]
  },
  {
   "cell_type": "code",
   "execution_count": 10,
   "id": "1936634f",
   "metadata": {},
   "outputs": [
    {
     "data": {
      "text/plain": [
       "array([-0.4006988 ,  0.41916956,  0.37794302,  0.35190651,  0.3795758 ,\n",
       "        1.0648061 ,  1.33714709,  1.77096803, -0.08398946,  0.55392703])"
      ]
     },
     "execution_count": 10,
     "metadata": {},
     "output_type": "execute_result"
    }
   ],
   "source": [
    "#Сгенерируем массив со значениями типа float()\n",
    "np.random.randn(10)"
   ]
  },
  {
   "cell_type": "markdown",
   "id": "8840f155",
   "metadata": {},
   "source": [
    "Пояснения про функцию np.random.randn() неудачные. Раз np.random.randn() генерирует нормально распределённые случайные значения, значит есть ненулевая вероятность получить произвольно большое или произвольно малое число, т.е. любое число на действительной оси. Поэтому предложение \"прибавить единицу или прибавить двойку\", хотя и сработало в данном случае, на видео, совершенно запросто может не сработать. Поэтому для генерации случайных чисел с плавающей точкой удобнее пользоваться функцией np.random.rand(), которая генерирует равномерно распределённые случайные величины больше либо равные 0, и строго меньшие чем 1"
   ]
  },
  {
   "cell_type": "code",
   "execution_count": 11,
   "id": "403b622f",
   "metadata": {},
   "outputs": [
    {
     "data": {
      "text/plain": [
       "array([[-0.52406178,  1.22711039,  1.99577702,  0.53423668,  1.39337756],\n",
       "       [-0.35436891,  0.76666152,  1.81681273, -1.41520767, -0.1460786 ],\n",
       "       [-0.07812421,  0.02407406,  1.52390221, -0.85958381, -1.18307535]])"
      ]
     },
     "execution_count": 11,
     "metadata": {},
     "output_type": "execute_result"
    }
   ],
   "source": [
    "#Для генерация двумерного массива необходимо передать два значения\n",
    "np.random.randn(3,5)"
   ]
  },
  {
   "cell_type": "markdown",
   "id": "64bbe276",
   "metadata": {},
   "source": [
    "#### Сохранение массива, функция np.save()\n",
    "Для этого нам необходимо передать первому аргументы функции название файла, а второму аргументу - массив"
   ]
  },
  {
   "cell_type": "code",
   "execution_count": 12,
   "id": "b8f1fdf2",
   "metadata": {},
   "outputs": [
    {
     "data": {
      "text/plain": [
       "array([0, 1, 2, 3, 4, 5, 6, 7, 8, 9])"
      ]
     },
     "execution_count": 12,
     "metadata": {},
     "output_type": "execute_result"
    }
   ],
   "source": [
    "m1 = np.arange(10)\n",
    "m1"
   ]
  },
  {
   "cell_type": "code",
   "execution_count": 13,
   "id": "c2fd040c",
   "metadata": {},
   "outputs": [],
   "source": [
    "#Сохраним наш файл\n",
    "#Формат указывать не будем, по умолчанию он будет \".npy\"\n",
    "np.save('my-array', m1)"
   ]
  },
  {
   "cell_type": "code",
   "execution_count": 15,
   "id": "5d94a7da",
   "metadata": {},
   "outputs": [
    {
     "data": {
      "text/plain": [
       "array([0, 1, 2, 3, 4, 5, 6, 7, 8, 9])"
      ]
     },
     "execution_count": 15,
     "metadata": {},
     "output_type": "execute_result"
    }
   ],
   "source": [
    "#Загрузим наш файл\n",
    "np.load('my-array.npy')"
   ]
  },
  {
   "cell_type": "markdown",
   "id": "b897d2b1",
   "metadata": {},
   "source": [
    "Сохранение нескольких массивов в один файл"
   ]
  },
  {
   "cell_type": "code",
   "execution_count": 19,
   "id": "ba2c7f1a",
   "metadata": {},
   "outputs": [
    {
     "data": {
      "text/plain": [
       "array([4, 2, 4, 4, 4, 4, 3, 4, 2, 3, 4, 4, 4, 4, 3])"
      ]
     },
     "execution_count": 19,
     "metadata": {},
     "output_type": "execute_result"
    }
   ],
   "source": [
    "m2 = np.random.randint(2,5, size=15)\n",
    "m2"
   ]
  },
  {
   "cell_type": "code",
   "execution_count": 26,
   "id": "27c82666",
   "metadata": {},
   "outputs": [],
   "source": [
    "#Данная функция сохраняет массивы с расширением .npz\n",
    "np.savez('arrays', key1=m1, name2=m2)"
   ]
  },
  {
   "cell_type": "code",
   "execution_count": 27,
   "id": "48785c11",
   "metadata": {},
   "outputs": [
    {
     "data": {
      "text/plain": [
       "<numpy.lib.npyio.NpzFile at 0x18246a77e20>"
      ]
     },
     "execution_count": 27,
     "metadata": {},
     "output_type": "execute_result"
    }
   ],
   "source": [
    "#При загрузке получаем абракадабру\n",
    "m12 = np.load('arrays.npz')\n",
    "m12"
   ]
  },
  {
   "cell_type": "code",
   "execution_count": 28,
   "id": "50f745de",
   "metadata": {},
   "outputs": [
    {
     "data": {
      "text/plain": [
       "array([0, 1, 2, 3, 4, 5, 6, 7, 8, 9])"
      ]
     },
     "execution_count": 28,
     "metadata": {},
     "output_type": "execute_result"
    }
   ],
   "source": [
    "#Чтобы получить массив, нам необходимо обратиться к нему по ключу.\n",
    "m12['key1']"
   ]
  },
  {
   "cell_type": "code",
   "execution_count": 29,
   "id": "d0f514f6",
   "metadata": {},
   "outputs": [
    {
     "data": {
      "text/plain": [
       "array([4, 2, 4, 4, 4, 4, 3, 4, 2, 3, 4, 4, 4, 4, 3])"
      ]
     },
     "execution_count": 29,
     "metadata": {},
     "output_type": "execute_result"
    }
   ],
   "source": [
    "m12['name2']"
   ]
  },
  {
   "cell_type": "markdown",
   "id": "c37890e5",
   "metadata": {},
   "source": [
    "#### Функция savez_compressed\n",
    "Сохранение больших массивов со сжатием. Для экономии дискового пространства."
   ]
  },
  {
   "cell_type": "code",
   "execution_count": 30,
   "id": "40d2b5a8",
   "metadata": {},
   "outputs": [],
   "source": [
    "np.savez_compressed('compressed', key1=m1,key2=m2)"
   ]
  },
  {
   "cell_type": "code",
   "execution_count": 32,
   "id": "5d47927c",
   "metadata": {},
   "outputs": [],
   "source": [
    "arch = np.load('compressed.npz')"
   ]
  },
  {
   "cell_type": "code",
   "execution_count": 33,
   "id": "ef3cad2b",
   "metadata": {},
   "outputs": [
    {
     "data": {
      "text/plain": [
       "array([0, 1, 2, 3, 4, 5, 6, 7, 8, 9])"
      ]
     },
     "execution_count": 33,
     "metadata": {},
     "output_type": "execute_result"
    }
   ],
   "source": [
    "arch['key1']"
   ]
  },
  {
   "cell_type": "markdown",
   "id": "bc7ff935",
   "metadata": {},
   "source": [
    "Вообще функция np.load() очень умная, она видит расширение файла и если оно .npz, то она просто держит ссылку на этот файл. Она не грузит его сразу в память. Т.к. в нем может оказаться огромное количество массивов. Она подружает только необходимый массив, когда мы к нему обращаемся по ключу."
   ]
  }
 ],
 "metadata": {
  "kernelspec": {
   "display_name": "Python 3 (ipykernel)",
   "language": "python",
   "name": "python3"
  },
  "language_info": {
   "codemirror_mode": {
    "name": "ipython",
    "version": 3
   },
   "file_extension": ".py",
   "mimetype": "text/x-python",
   "name": "python",
   "nbconvert_exporter": "python",
   "pygments_lexer": "ipython3",
   "version": "3.9.12"
  }
 },
 "nbformat": 4,
 "nbformat_minor": 5
}
