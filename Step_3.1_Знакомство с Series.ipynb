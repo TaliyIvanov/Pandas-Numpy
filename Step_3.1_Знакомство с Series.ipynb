{
 "cells": [
  {
   "cell_type": "markdown",
   "id": "77a83723",
   "metadata": {},
   "source": [
    "NumPy - создавался для работы с числами.\n",
    "Pandas разрабатывался для работы не только с числами, но для работы с \"разнотипными данными\". При этом они взяли все лучшее от NumPy\n",
    "Series - это одномерный \"контейнер\" в пандас. "
   ]
  },
  {
   "cell_type": "code",
   "execution_count": 33,
   "id": "59987c1f",
   "metadata": {},
   "outputs": [],
   "source": [
    "import pandas as pd\n",
    "import numpy as np"
   ]
  },
  {
   "cell_type": "code",
   "execution_count": 7,
   "id": "b5ebc0f3",
   "metadata": {},
   "outputs": [
    {
     "data": {
      "text/plain": [
       "'1.4.2'"
      ]
     },
     "execution_count": 7,
     "metadata": {},
     "output_type": "execute_result"
    }
   ],
   "source": [
    "pd.__version__"
   ]
  },
  {
   "cell_type": "code",
   "execution_count": 11,
   "id": "b8370379",
   "metadata": {},
   "outputs": [
    {
     "data": {
      "text/plain": [
       "0    4\n",
       "1    3\n",
       "2   -7\n",
       "3    5\n",
       "dtype: int64"
      ]
     },
     "execution_count": 11,
     "metadata": {},
     "output_type": "execute_result"
    }
   ],
   "source": [
    "#Левый столбец - ключи, сгенерированные автоматически\n",
    "#Правый столбец - наши значения\n",
    "#dtype - тип наших данных\n",
    "s1 = pd.Series([4,3,-7,5])\n",
    "s1"
   ]
  },
  {
   "cell_type": "code",
   "execution_count": 12,
   "id": "889caf59",
   "metadata": {},
   "outputs": [
    {
     "data": {
      "text/plain": [
       "array([ 4,  3, -7,  5], dtype=int64)"
      ]
     },
     "execution_count": 12,
     "metadata": {},
     "output_type": "execute_result"
    }
   ],
   "source": [
    "#Получим только наши значения\n",
    "s1.values"
   ]
  },
  {
   "cell_type": "code",
   "execution_count": 14,
   "id": "b9c45306",
   "metadata": {},
   "outputs": [
    {
     "data": {
      "text/plain": [
       "RangeIndex(start=0, stop=4, step=1)"
      ]
     },
     "execution_count": 14,
     "metadata": {},
     "output_type": "execute_result"
    }
   ],
   "source": [
    "#Получим только индексы\n",
    "s1.index"
   ]
  },
  {
   "cell_type": "code",
   "execution_count": 16,
   "id": "d9b3b51c",
   "metadata": {},
   "outputs": [
    {
     "data": {
      "text/plain": [
       "a    4\n",
       "b    3\n",
       "c   -7\n",
       "d    5\n",
       "dtype: int64"
      ]
     },
     "execution_count": 16,
     "metadata": {},
     "output_type": "execute_result"
    }
   ],
   "source": [
    "#Создадим серию с индексами, которые зададим сами\n",
    "s2 = pd.Series([4,3,-7,5], index=['a','b','c','d'])\n",
    "s2"
   ]
  },
  {
   "cell_type": "code",
   "execution_count": 17,
   "id": "cabe0928",
   "metadata": {},
   "outputs": [
    {
     "data": {
      "text/plain": [
       "Index(['a', 'b', 'c', 'd'], dtype='object')"
      ]
     },
     "execution_count": 17,
     "metadata": {},
     "output_type": "execute_result"
    }
   ],
   "source": [
    "#Получим индексы\n",
    "s2.index"
   ]
  },
  {
   "cell_type": "code",
   "execution_count": 52,
   "id": "179491ad",
   "metadata": {},
   "outputs": [
    {
     "data": {
      "text/plain": [
       "7"
      ]
     },
     "execution_count": 52,
     "metadata": {},
     "output_type": "execute_result"
    }
   ],
   "source": [
    "#Вытянем определнное значение по индексy\n",
    "s2['c']"
   ]
  },
  {
   "cell_type": "code",
   "execution_count": 53,
   "id": "cd9f4da4",
   "metadata": {},
   "outputs": [
    {
     "data": {
      "text/plain": [
       "a    4\n",
       "c    7\n",
       "dtype: int64"
      ]
     },
     "execution_count": 53,
     "metadata": {},
     "output_type": "execute_result"
    }
   ],
   "source": [
    "#Несколько индексов необходимо передавать в листе! s[list('ac')]\n",
    "s2[list('ac')]"
   ]
  },
  {
   "cell_type": "code",
   "execution_count": 20,
   "id": "27111360",
   "metadata": {},
   "outputs": [
    {
     "data": {
      "text/plain": [
       "3"
      ]
     },
     "execution_count": 20,
     "metadata": {},
     "output_type": "execute_result"
    }
   ],
   "source": [
    "#Тип индекса тоже важен\n",
    "s1[1]"
   ]
  },
  {
   "cell_type": "code",
   "execution_count": 22,
   "id": "72543da2",
   "metadata": {},
   "outputs": [
    {
     "data": {
      "text/plain": [
       "7"
      ]
     },
     "execution_count": 22,
     "metadata": {},
     "output_type": "execute_result"
    }
   ],
   "source": [
    "#Измененим значение конкретного элемента\n",
    "s2['c'] = 7\n",
    "s2['c']"
   ]
  },
  {
   "cell_type": "code",
   "execution_count": 23,
   "id": "8944de21",
   "metadata": {},
   "outputs": [
    {
     "data": {
      "text/plain": [
       "dtype('int64')"
      ]
     },
     "execution_count": 23,
     "metadata": {},
     "output_type": "execute_result"
    }
   ],
   "source": [
    "#Узнаем к какому типу данных принадлежат значния массива\n",
    "s2.values.dtype"
   ]
  },
  {
   "cell_type": "markdown",
   "id": "ca93c95e",
   "metadata": {},
   "source": [
    "Step_3.1.10 - Создайте серию, которая будет содержать элементы 1, 2, 3, 4, 5. Функция должна вернуть серию."
   ]
  },
  {
   "cell_type": "code",
   "execution_count": 40,
   "id": "338e5f29",
   "metadata": {},
   "outputs": [],
   "source": [
    "import pandas as pd\n",
    "\n",
    "def solution():\n",
    "    result = pd.Series(range(1,6))\n",
    "    return result"
   ]
  },
  {
   "cell_type": "code",
   "execution_count": 41,
   "id": "3b24a2f0",
   "metadata": {},
   "outputs": [
    {
     "data": {
      "text/plain": [
       "0    1\n",
       "1    2\n",
       "2    3\n",
       "3    4\n",
       "4    5\n",
       "dtype: int64"
      ]
     },
     "execution_count": 41,
     "metadata": {},
     "output_type": "execute_result"
    }
   ],
   "source": [
    "solution()"
   ]
  },
  {
   "cell_type": "markdown",
   "id": "cfb79e33",
   "metadata": {},
   "source": [
    "Step_3.1.11 - На вход функции подаётся серия. Доработайте функцию так чтобы она возвращала индексы серии"
   ]
  },
  {
   "cell_type": "code",
   "execution_count": 42,
   "id": "dc1354be",
   "metadata": {},
   "outputs": [],
   "source": [
    "import pandas as pd\n",
    "\n",
    "def solution(s1):\n",
    "    return s1.index"
   ]
  },
  {
   "cell_type": "markdown",
   "id": "6dd11d62",
   "metadata": {},
   "source": [
    "Step_3.1.12 - Создайте серию, которая будет содержать элементы 1, 2, 3, 4, 5 и индексы a, b, c, d, e. Функция должна вернуть серию."
   ]
  },
  {
   "cell_type": "code",
   "execution_count": 46,
   "id": "a1e5ff8f",
   "metadata": {},
   "outputs": [],
   "source": [
    "import pandas as pd\n",
    "\n",
    "def solution():\n",
    "    return pd.Series(range(1,6), index = list['abcde'])"
   ]
  },
  {
   "cell_type": "markdown",
   "id": "f5728126",
   "metadata": {},
   "source": [
    "Step_3.1.12 - На вход функции подаётся серия. Вытяните из нее элементы с индексами a и с. Функция должна вернуть серию.\n",
    "Несколько индексов необходимо передавать в листе!"
   ]
  },
  {
   "cell_type": "code",
   "execution_count": 49,
   "id": "0c98a7a1",
   "metadata": {},
   "outputs": [],
   "source": [
    "import pandas as pd\n",
    "\n",
    "def solution(s):\n",
    "    return s[list('ac')]"
   ]
  },
  {
   "cell_type": "markdown",
   "id": "0f0480e6",
   "metadata": {},
   "source": [
    "Step_3.1.13 - На вход функции подаётся серия. Замените элемент по индексу c на 0. Функция должна вернуть серию с измененным элементом по индексу с."
   ]
  },
  {
   "cell_type": "code",
   "execution_count": 54,
   "id": "e1b0d8c5",
   "metadata": {},
   "outputs": [],
   "source": [
    "import pandas as pd\n",
    "\n",
    "def solution(s):\n",
    "    s['c'] = 0\n",
    "    return s"
   ]
  },
  {
   "cell_type": "markdown",
   "id": "f0ae8eaa",
   "metadata": {},
   "source": [
    "Step_3.1.14 - На вход функции подаётся серия. Доработайте функцию так чтобы она возвращала numpy массив, который содержит значения серии\n"
   ]
  },
  {
   "cell_type": "code",
   "execution_count": null,
   "id": "f20eda8c",
   "metadata": {},
   "outputs": [],
   "source": [
    "import pandas as pd\n",
    "\n",
    "def solution(s):\n",
    "    return s.values"
   ]
  }
 ],
 "metadata": {
  "kernelspec": {
   "display_name": "Python 3 (ipykernel)",
   "language": "python",
   "name": "python3"
  },
  "language_info": {
   "codemirror_mode": {
    "name": "ipython",
    "version": 3
   },
   "file_extension": ".py",
   "mimetype": "text/x-python",
   "name": "python",
   "nbconvert_exporter": "python",
   "pygments_lexer": "ipython3",
   "version": "3.9.12"
  }
 },
 "nbformat": 4,
 "nbformat_minor": 5
}
