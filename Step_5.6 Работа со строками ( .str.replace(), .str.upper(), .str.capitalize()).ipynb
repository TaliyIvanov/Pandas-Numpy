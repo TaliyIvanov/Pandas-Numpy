{
 "cells": [
  {
   "cell_type": "code",
   "execution_count": 1,
   "id": "1405a548",
   "metadata": {},
   "outputs": [],
   "source": [
    "import pandas as pd\n",
    "import numpy as np"
   ]
  },
  {
   "cell_type": "code",
   "execution_count": 4,
   "id": "704f34d2",
   "metadata": {},
   "outputs": [],
   "source": [
    "df = pd.DataFrame({'user': ['Petr@', 'Nikolay', 'Igor', 'Pavel!'],\n",
    "                       'fullname': ['Petr::Ivanov', 'Nikolay::Petrov', 'Igor::Sidorov', 'Pavel::Ivanov']})"
   ]
  },
  {
   "cell_type": "code",
   "execution_count": 5,
   "id": "309c0ead",
   "metadata": {},
   "outputs": [
    {
     "data": {
      "text/html": [
       "<div>\n",
       "<style scoped>\n",
       "    .dataframe tbody tr th:only-of-type {\n",
       "        vertical-align: middle;\n",
       "    }\n",
       "\n",
       "    .dataframe tbody tr th {\n",
       "        vertical-align: top;\n",
       "    }\n",
       "\n",
       "    .dataframe thead th {\n",
       "        text-align: right;\n",
       "    }\n",
       "</style>\n",
       "<table border=\"1\" class=\"dataframe\">\n",
       "  <thead>\n",
       "    <tr style=\"text-align: right;\">\n",
       "      <th></th>\n",
       "      <th>user</th>\n",
       "      <th>fullname</th>\n",
       "    </tr>\n",
       "  </thead>\n",
       "  <tbody>\n",
       "    <tr>\n",
       "      <th>0</th>\n",
       "      <td>Petr@</td>\n",
       "      <td>Petr::Ivanov</td>\n",
       "    </tr>\n",
       "    <tr>\n",
       "      <th>1</th>\n",
       "      <td>Nikolay</td>\n",
       "      <td>Nikolay::Petrov</td>\n",
       "    </tr>\n",
       "    <tr>\n",
       "      <th>2</th>\n",
       "      <td>Igor</td>\n",
       "      <td>Igor::Sidorov</td>\n",
       "    </tr>\n",
       "    <tr>\n",
       "      <th>3</th>\n",
       "      <td>Pavel!</td>\n",
       "      <td>Pavel::Ivanov</td>\n",
       "    </tr>\n",
       "  </tbody>\n",
       "</table>\n",
       "</div>"
      ],
      "text/plain": [
       "      user         fullname\n",
       "0    Petr@     Petr::Ivanov\n",
       "1  Nikolay  Nikolay::Petrov\n",
       "2     Igor    Igor::Sidorov\n",
       "3   Pavel!    Pavel::Ivanov"
      ]
     },
     "execution_count": 5,
     "metadata": {},
     "output_type": "execute_result"
    }
   ],
   "source": [
    "df"
   ]
  },
  {
   "cell_type": "markdown",
   "id": "ed0af5c3",
   "metadata": {},
   "source": [
    "Мы рассмотрим строковую функцию .str.replace(). Не путайте, пожалуйста, ее с этой функцией replace"
   ]
  },
  {
   "cell_type": "code",
   "execution_count": 10,
   "id": "ea5ebd36",
   "metadata": {},
   "outputs": [],
   "source": [
    "df['user'] = df['user'].str.replace('@', '')"
   ]
  },
  {
   "cell_type": "code",
   "execution_count": 11,
   "id": "c612be9f",
   "metadata": {},
   "outputs": [
    {
     "data": {
      "text/html": [
       "<div>\n",
       "<style scoped>\n",
       "    .dataframe tbody tr th:only-of-type {\n",
       "        vertical-align: middle;\n",
       "    }\n",
       "\n",
       "    .dataframe tbody tr th {\n",
       "        vertical-align: top;\n",
       "    }\n",
       "\n",
       "    .dataframe thead th {\n",
       "        text-align: right;\n",
       "    }\n",
       "</style>\n",
       "<table border=\"1\" class=\"dataframe\">\n",
       "  <thead>\n",
       "    <tr style=\"text-align: right;\">\n",
       "      <th></th>\n",
       "      <th>user</th>\n",
       "      <th>fullname</th>\n",
       "    </tr>\n",
       "  </thead>\n",
       "  <tbody>\n",
       "    <tr>\n",
       "      <th>0</th>\n",
       "      <td>Petr</td>\n",
       "      <td>Petr::Ivanov</td>\n",
       "    </tr>\n",
       "    <tr>\n",
       "      <th>1</th>\n",
       "      <td>Nikolay</td>\n",
       "      <td>Nikolay::Petrov</td>\n",
       "    </tr>\n",
       "    <tr>\n",
       "      <th>2</th>\n",
       "      <td>Igor</td>\n",
       "      <td>Igor::Sidorov</td>\n",
       "    </tr>\n",
       "    <tr>\n",
       "      <th>3</th>\n",
       "      <td>Pavel!</td>\n",
       "      <td>Pavel::Ivanov</td>\n",
       "    </tr>\n",
       "  </tbody>\n",
       "</table>\n",
       "</div>"
      ],
      "text/plain": [
       "      user         fullname\n",
       "0     Petr     Petr::Ivanov\n",
       "1  Nikolay  Nikolay::Petrov\n",
       "2     Igor    Igor::Sidorov\n",
       "3   Pavel!    Pavel::Ivanov"
      ]
     },
     "execution_count": 11,
     "metadata": {},
     "output_type": "execute_result"
    }
   ],
   "source": [
    "df"
   ]
  },
  {
   "cell_type": "markdown",
   "id": "daf8da60",
   "metadata": {},
   "source": [
    "Данного результата можно достигнуть с помощью функции map"
   ]
  },
  {
   "cell_type": "code",
   "execution_count": 12,
   "id": "63ab4ac5",
   "metadata": {},
   "outputs": [],
   "source": [
    "def f(x):\n",
    "    return x.replace('@','')"
   ]
  },
  {
   "cell_type": "code",
   "execution_count": 13,
   "id": "a8a85f2b",
   "metadata": {},
   "outputs": [
    {
     "data": {
      "text/plain": [
       "0       Petr\n",
       "1    Nikolay\n",
       "2       Igor\n",
       "3     Pavel!\n",
       "Name: user, dtype: object"
      ]
     },
     "execution_count": 13,
     "metadata": {},
     "output_type": "execute_result"
    }
   ],
   "source": [
    "df['user'].map(f)"
   ]
  },
  {
   "cell_type": "markdown",
   "id": "b8e17bab",
   "metadata": {},
   "source": [
    "В случае с map и нашей функцией, есть одно но! Если у нас пропуск в серии. то мы получим ошибку!\n",
    "Перепишем наш Датафрэйм и нашу функцию."
   ]
  },
  {
   "cell_type": "code",
   "execution_count": 14,
   "id": "a771b4b1",
   "metadata": {},
   "outputs": [],
   "source": [
    "df = pd.DataFrame({'user': ['Petr@', 'Nikolay', 'Igor', 'Pavel!', np.nan],\n",
    "                       'fullname': ['Petr::Ivanov', 'Nikolay::Petrov', 'Igor::Sidorov', 'Pavel::Ivanov',np.nan]})"
   ]
  },
  {
   "cell_type": "code",
   "execution_count": 15,
   "id": "f7578f52",
   "metadata": {},
   "outputs": [
    {
     "data": {
      "text/html": [
       "<div>\n",
       "<style scoped>\n",
       "    .dataframe tbody tr th:only-of-type {\n",
       "        vertical-align: middle;\n",
       "    }\n",
       "\n",
       "    .dataframe tbody tr th {\n",
       "        vertical-align: top;\n",
       "    }\n",
       "\n",
       "    .dataframe thead th {\n",
       "        text-align: right;\n",
       "    }\n",
       "</style>\n",
       "<table border=\"1\" class=\"dataframe\">\n",
       "  <thead>\n",
       "    <tr style=\"text-align: right;\">\n",
       "      <th></th>\n",
       "      <th>user</th>\n",
       "      <th>fullname</th>\n",
       "    </tr>\n",
       "  </thead>\n",
       "  <tbody>\n",
       "    <tr>\n",
       "      <th>0</th>\n",
       "      <td>Petr@</td>\n",
       "      <td>Petr::Ivanov</td>\n",
       "    </tr>\n",
       "    <tr>\n",
       "      <th>1</th>\n",
       "      <td>Nikolay</td>\n",
       "      <td>Nikolay::Petrov</td>\n",
       "    </tr>\n",
       "    <tr>\n",
       "      <th>2</th>\n",
       "      <td>Igor</td>\n",
       "      <td>Igor::Sidorov</td>\n",
       "    </tr>\n",
       "    <tr>\n",
       "      <th>3</th>\n",
       "      <td>Pavel!</td>\n",
       "      <td>Pavel::Ivanov</td>\n",
       "    </tr>\n",
       "    <tr>\n",
       "      <th>4</th>\n",
       "      <td>NaN</td>\n",
       "      <td>NaN</td>\n",
       "    </tr>\n",
       "  </tbody>\n",
       "</table>\n",
       "</div>"
      ],
      "text/plain": [
       "      user         fullname\n",
       "0    Petr@     Petr::Ivanov\n",
       "1  Nikolay  Nikolay::Petrov\n",
       "2     Igor    Igor::Sidorov\n",
       "3   Pavel!    Pavel::Ivanov\n",
       "4      NaN              NaN"
      ]
     },
     "execution_count": 15,
     "metadata": {},
     "output_type": "execute_result"
    }
   ],
   "source": [
    "df"
   ]
  },
  {
   "cell_type": "code",
   "execution_count": 16,
   "id": "c48d1bef",
   "metadata": {},
   "outputs": [],
   "source": [
    "def f(x):\n",
    "    print(x)\n",
    "    return x.replace('@','')"
   ]
  },
  {
   "cell_type": "code",
   "execution_count": 18,
   "id": "837b4c66",
   "metadata": {},
   "outputs": [
    {
     "name": "stdout",
     "output_type": "stream",
     "text": [
      "Petr@\n",
      "Nikolay\n",
      "Igor\n",
      "Pavel!\n",
      "nan\n"
     ]
    },
    {
     "ename": "AttributeError",
     "evalue": "'float' object has no attribute 'replace'",
     "output_type": "error",
     "traceback": [
      "\u001b[1;31m---------------------------------------------------------------------------\u001b[0m",
      "\u001b[1;31mAttributeError\u001b[0m                            Traceback (most recent call last)",
      "Input \u001b[1;32mIn [18]\u001b[0m, in \u001b[0;36m<cell line: 2>\u001b[1;34m()\u001b[0m\n\u001b[0;32m      1\u001b[0m \u001b[38;5;66;03m#На nan наша функция сломалась!\u001b[39;00m\n\u001b[1;32m----> 2\u001b[0m \u001b[43mdf\u001b[49m\u001b[43m[\u001b[49m\u001b[38;5;124;43m'\u001b[39;49m\u001b[38;5;124;43muser\u001b[39;49m\u001b[38;5;124;43m'\u001b[39;49m\u001b[43m]\u001b[49m\u001b[38;5;241;43m.\u001b[39;49m\u001b[43mmap\u001b[49m\u001b[43m(\u001b[49m\u001b[43mf\u001b[49m\u001b[43m)\u001b[49m\n",
      "File \u001b[1;32m~\\anaconda3\\lib\\site-packages\\pandas\\core\\series.py:4237\u001b[0m, in \u001b[0;36mSeries.map\u001b[1;34m(self, arg, na_action)\u001b[0m\n\u001b[0;32m   4162\u001b[0m \u001b[38;5;28;01mdef\u001b[39;00m \u001b[38;5;21mmap\u001b[39m(\u001b[38;5;28mself\u001b[39m, arg, na_action\u001b[38;5;241m=\u001b[39m\u001b[38;5;28;01mNone\u001b[39;00m) \u001b[38;5;241m-\u001b[39m\u001b[38;5;241m>\u001b[39m Series:\n\u001b[0;32m   4163\u001b[0m     \u001b[38;5;124;03m\"\"\"\u001b[39;00m\n\u001b[0;32m   4164\u001b[0m \u001b[38;5;124;03m    Map values of Series according to an input mapping or function.\u001b[39;00m\n\u001b[0;32m   4165\u001b[0m \n\u001b[1;32m   (...)\u001b[0m\n\u001b[0;32m   4235\u001b[0m \u001b[38;5;124;03m    dtype: object\u001b[39;00m\n\u001b[0;32m   4236\u001b[0m \u001b[38;5;124;03m    \"\"\"\u001b[39;00m\n\u001b[1;32m-> 4237\u001b[0m     new_values \u001b[38;5;241m=\u001b[39m \u001b[38;5;28;43mself\u001b[39;49m\u001b[38;5;241;43m.\u001b[39;49m\u001b[43m_map_values\u001b[49m\u001b[43m(\u001b[49m\u001b[43marg\u001b[49m\u001b[43m,\u001b[49m\u001b[43m \u001b[49m\u001b[43mna_action\u001b[49m\u001b[38;5;241;43m=\u001b[39;49m\u001b[43mna_action\u001b[49m\u001b[43m)\u001b[49m\n\u001b[0;32m   4238\u001b[0m     \u001b[38;5;28;01mreturn\u001b[39;00m \u001b[38;5;28mself\u001b[39m\u001b[38;5;241m.\u001b[39m_constructor(new_values, index\u001b[38;5;241m=\u001b[39m\u001b[38;5;28mself\u001b[39m\u001b[38;5;241m.\u001b[39mindex)\u001b[38;5;241m.\u001b[39m__finalize__(\n\u001b[0;32m   4239\u001b[0m         \u001b[38;5;28mself\u001b[39m, method\u001b[38;5;241m=\u001b[39m\u001b[38;5;124m\"\u001b[39m\u001b[38;5;124mmap\u001b[39m\u001b[38;5;124m\"\u001b[39m\n\u001b[0;32m   4240\u001b[0m     )\n",
      "File \u001b[1;32m~\\anaconda3\\lib\\site-packages\\pandas\\core\\base.py:880\u001b[0m, in \u001b[0;36mIndexOpsMixin._map_values\u001b[1;34m(self, mapper, na_action)\u001b[0m\n\u001b[0;32m    877\u001b[0m         \u001b[38;5;28;01mraise\u001b[39;00m \u001b[38;5;167;01mValueError\u001b[39;00m(msg)\n\u001b[0;32m    879\u001b[0m \u001b[38;5;66;03m# mapper is a function\u001b[39;00m\n\u001b[1;32m--> 880\u001b[0m new_values \u001b[38;5;241m=\u001b[39m \u001b[43mmap_f\u001b[49m\u001b[43m(\u001b[49m\u001b[43mvalues\u001b[49m\u001b[43m,\u001b[49m\u001b[43m \u001b[49m\u001b[43mmapper\u001b[49m\u001b[43m)\u001b[49m\n\u001b[0;32m    882\u001b[0m \u001b[38;5;28;01mreturn\u001b[39;00m new_values\n",
      "File \u001b[1;32m~\\anaconda3\\lib\\site-packages\\pandas\\_libs\\lib.pyx:2870\u001b[0m, in \u001b[0;36mpandas._libs.lib.map_infer\u001b[1;34m()\u001b[0m\n",
      "Input \u001b[1;32mIn [16]\u001b[0m, in \u001b[0;36mf\u001b[1;34m(x)\u001b[0m\n\u001b[0;32m      1\u001b[0m \u001b[38;5;28;01mdef\u001b[39;00m \u001b[38;5;21mf\u001b[39m(x):\n\u001b[0;32m      2\u001b[0m     \u001b[38;5;28mprint\u001b[39m(x)\n\u001b[1;32m----> 3\u001b[0m     \u001b[38;5;28;01mreturn\u001b[39;00m \u001b[43mx\u001b[49m\u001b[38;5;241;43m.\u001b[39;49m\u001b[43mreplace\u001b[49m(\u001b[38;5;124m'\u001b[39m\u001b[38;5;124m@\u001b[39m\u001b[38;5;124m'\u001b[39m,\u001b[38;5;124m'\u001b[39m\u001b[38;5;124m'\u001b[39m)\n",
      "\u001b[1;31mAttributeError\u001b[0m: 'float' object has no attribute 'replace'"
     ]
    }
   ],
   "source": [
    "#На nan наша функция сломалась!\n",
    "df['user'].map(f)"
   ]
  },
  {
   "cell_type": "code",
   "execution_count": 20,
   "id": "82c3c6ad",
   "metadata": {},
   "outputs": [
    {
     "data": {
      "text/plain": [
       "0       Petr\n",
       "1    Nikolay\n",
       "2       Igor\n",
       "3     Pavel!\n",
       "4        NaN\n",
       "Name: user, dtype: object"
      ]
     },
     "execution_count": 20,
     "metadata": {},
     "output_type": "execute_result"
    }
   ],
   "source": [
    "#Обратимся к нашему датафрэйму с помощью .str.replace()\n",
    "#Никаких проблем у нас нет\n",
    "df['user'].str.replace('@', '')"
   ]
  },
  {
   "cell_type": "markdown",
   "id": "f26f9e90",
   "metadata": {},
   "source": [
    "Чтобы использовать остальные строковые ф-ии, к которым мы привыкли, необходимо использовать .str!!!"
   ]
  },
  {
   "cell_type": "code",
   "execution_count": 21,
   "id": "76803666",
   "metadata": {},
   "outputs": [
    {
     "data": {
      "text/plain": [
       "0      PETR@\n",
       "1    NIKOLAY\n",
       "2       IGOR\n",
       "3     PAVEL!\n",
       "4        NaN\n",
       "Name: user, dtype: object"
      ]
     },
     "execution_count": 21,
     "metadata": {},
     "output_type": "execute_result"
    }
   ],
   "source": [
    "df['user'].str.upper()"
   ]
  },
  {
   "cell_type": "code",
   "execution_count": 22,
   "id": "b3b1c390",
   "metadata": {},
   "outputs": [
    {
     "data": {
      "text/plain": [
       "0      e\n",
       "1      i\n",
       "2      g\n",
       "3      a\n",
       "4    NaN\n",
       "Name: user, dtype: object"
      ]
     },
     "execution_count": 22,
     "metadata": {},
     "output_type": "execute_result"
    }
   ],
   "source": [
    "df['user'].str[1]"
   ]
  },
  {
   "cell_type": "code",
   "execution_count": 24,
   "id": "6741dd66",
   "metadata": {},
   "outputs": [
    {
     "data": {
      "text/plain": [
       "0      Petr@\n",
       "1    Nikolay\n",
       "2       Igor\n",
       "3     Pavel!\n",
       "4        NaN\n",
       "Name: user, dtype: object"
      ]
     },
     "execution_count": 24,
     "metadata": {},
     "output_type": "execute_result"
    }
   ],
   "source": [
    "df['user'].str.capitalize()"
   ]
  },
  {
   "cell_type": "markdown",
   "id": "45c1bc81",
   "metadata": {},
   "source": [
    "Если вы хотите чтобы каждое слово в строке начиналось с большой буквы, тогда воспользуйтесь функций title.\n",
    "\n",
    "Сравнение upper с title:\n",
    "\n",
    "Функция upper преобразует \"hello dear pandas!\" в  \"HELLO DEAR PANDAS!\"\n",
    "\n",
    "Функция title преобразует \"hello dear pandas!\" в  \"Hello Dear Pandas!\" "
   ]
  },
  {
   "cell_type": "markdown",
   "id": "82dc5aad",
   "metadata": {},
   "source": [
    "# Практика"
   ]
  },
  {
   "cell_type": "code",
   "execution_count": null,
   "id": "ca0623a3",
   "metadata": {},
   "outputs": [],
   "source": []
  }
 ],
 "metadata": {
  "kernelspec": {
   "display_name": "Python 3 (ipykernel)",
   "language": "python",
   "name": "python3"
  },
  "language_info": {
   "codemirror_mode": {
    "name": "ipython",
    "version": 3
   },
   "file_extension": ".py",
   "mimetype": "text/x-python",
   "name": "python",
   "nbconvert_exporter": "python",
   "pygments_lexer": "ipython3",
   "version": "3.9.12"
  }
 },
 "nbformat": 4,
 "nbformat_minor": 5
}
