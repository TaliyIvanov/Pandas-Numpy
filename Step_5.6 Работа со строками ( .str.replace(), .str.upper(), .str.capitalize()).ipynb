{
 "cells": [
  {
   "cell_type": "code",
   "execution_count": 1,
   "id": "1405a548",
   "metadata": {},
   "outputs": [],
   "source": [
    "import pandas as pd\n",
    "import numpy as np"
   ]
  },
  {
   "cell_type": "code",
   "execution_count": 4,
   "id": "704f34d2",
   "metadata": {},
   "outputs": [],
   "source": [
    "df = pd.DataFrame({'user': ['Petr@', 'Nikolay', 'Igor', 'Pavel!'],\n",
    "                       'fullname': ['Petr::Ivanov', 'Nikolay::Petrov', 'Igor::Sidorov', 'Pavel::Ivanov']})"
   ]
  },
  {
   "cell_type": "code",
   "execution_count": 5,
   "id": "309c0ead",
   "metadata": {},
   "outputs": [
    {
     "data": {
      "text/html": [
       "<div>\n",
       "<style scoped>\n",
       "    .dataframe tbody tr th:only-of-type {\n",
       "        vertical-align: middle;\n",
       "    }\n",
       "\n",
       "    .dataframe tbody tr th {\n",
       "        vertical-align: top;\n",
       "    }\n",
       "\n",
       "    .dataframe thead th {\n",
       "        text-align: right;\n",
       "    }\n",
       "</style>\n",
       "<table border=\"1\" class=\"dataframe\">\n",
       "  <thead>\n",
       "    <tr style=\"text-align: right;\">\n",
       "      <th></th>\n",
       "      <th>user</th>\n",
       "      <th>fullname</th>\n",
       "    </tr>\n",
       "  </thead>\n",
       "  <tbody>\n",
       "    <tr>\n",
       "      <th>0</th>\n",
       "      <td>Petr@</td>\n",
       "      <td>Petr::Ivanov</td>\n",
       "    </tr>\n",
       "    <tr>\n",
       "      <th>1</th>\n",
       "      <td>Nikolay</td>\n",
       "      <td>Nikolay::Petrov</td>\n",
       "    </tr>\n",
       "    <tr>\n",
       "      <th>2</th>\n",
       "      <td>Igor</td>\n",
       "      <td>Igor::Sidorov</td>\n",
       "    </tr>\n",
       "    <tr>\n",
       "      <th>3</th>\n",
       "      <td>Pavel!</td>\n",
       "      <td>Pavel::Ivanov</td>\n",
       "    </tr>\n",
       "  </tbody>\n",
       "</table>\n",
       "</div>"
      ],
      "text/plain": [
       "      user         fullname\n",
       "0    Petr@     Petr::Ivanov\n",
       "1  Nikolay  Nikolay::Petrov\n",
       "2     Igor    Igor::Sidorov\n",
       "3   Pavel!    Pavel::Ivanov"
      ]
     },
     "execution_count": 5,
     "metadata": {},
     "output_type": "execute_result"
    }
   ],
   "source": [
    "df"
   ]
  },
  {
   "cell_type": "markdown",
   "id": "ed0af5c3",
   "metadata": {},
   "source": [
    "Мы рассмотрим строковую функцию .str.replace(). Не путайте, пожалуйста, ее с этой функцией replace"
   ]
  },
  {
   "cell_type": "code",
   "execution_count": 10,
   "id": "ea5ebd36",
   "metadata": {},
   "outputs": [],
   "source": [
    "df['user'] = df['user'].str.replace('@', '')"
   ]
  },
  {
   "cell_type": "code",
   "execution_count": 11,
   "id": "c612be9f",
   "metadata": {},
   "outputs": [
    {
     "data": {
      "text/html": [
       "<div>\n",
       "<style scoped>\n",
       "    .dataframe tbody tr th:only-of-type {\n",
       "        vertical-align: middle;\n",
       "    }\n",
       "\n",
       "    .dataframe tbody tr th {\n",
       "        vertical-align: top;\n",
       "    }\n",
       "\n",
       "    .dataframe thead th {\n",
       "        text-align: right;\n",
       "    }\n",
       "</style>\n",
       "<table border=\"1\" class=\"dataframe\">\n",
       "  <thead>\n",
       "    <tr style=\"text-align: right;\">\n",
       "      <th></th>\n",
       "      <th>user</th>\n",
       "      <th>fullname</th>\n",
       "    </tr>\n",
       "  </thead>\n",
       "  <tbody>\n",
       "    <tr>\n",
       "      <th>0</th>\n",
       "      <td>Petr</td>\n",
       "      <td>Petr::Ivanov</td>\n",
       "    </tr>\n",
       "    <tr>\n",
       "      <th>1</th>\n",
       "      <td>Nikolay</td>\n",
       "      <td>Nikolay::Petrov</td>\n",
       "    </tr>\n",
       "    <tr>\n",
       "      <th>2</th>\n",
       "      <td>Igor</td>\n",
       "      <td>Igor::Sidorov</td>\n",
       "    </tr>\n",
       "    <tr>\n",
       "      <th>3</th>\n",
       "      <td>Pavel!</td>\n",
       "      <td>Pavel::Ivanov</td>\n",
       "    </tr>\n",
       "  </tbody>\n",
       "</table>\n",
       "</div>"
      ],
      "text/plain": [
       "      user         fullname\n",
       "0     Petr     Petr::Ivanov\n",
       "1  Nikolay  Nikolay::Petrov\n",
       "2     Igor    Igor::Sidorov\n",
       "3   Pavel!    Pavel::Ivanov"
      ]
     },
     "execution_count": 11,
     "metadata": {},
     "output_type": "execute_result"
    }
   ],
   "source": [
    "df"
   ]
  },
  {
   "cell_type": "markdown",
   "id": "daf8da60",
   "metadata": {},
   "source": [
    "Данного результата можно достигнуть с помощью функции map"
   ]
  },
  {
   "cell_type": "code",
   "execution_count": 12,
   "id": "63ab4ac5",
   "metadata": {},
   "outputs": [],
   "source": [
    "def f(x):\n",
    "    return x.replace('@','')"
   ]
  },
  {
   "cell_type": "code",
   "execution_count": 13,
   "id": "a8a85f2b",
   "metadata": {},
   "outputs": [
    {
     "data": {
      "text/plain": [
       "0       Petr\n",
       "1    Nikolay\n",
       "2       Igor\n",
       "3     Pavel!\n",
       "Name: user, dtype: object"
      ]
     },
     "execution_count": 13,
     "metadata": {},
     "output_type": "execute_result"
    }
   ],
   "source": [
    "df['user'].map(f)"
   ]
  },
  {
   "cell_type": "markdown",
   "id": "b8e17bab",
   "metadata": {},
   "source": [
    "В случае с map и нашей функцией, есть одно но! Если у нас пропуск в серии. то мы получим ошибку!\n",
    "Перепишем наш Датафрэйм и нашу функцию."
   ]
  },
  {
   "cell_type": "code",
   "execution_count": 14,
   "id": "a771b4b1",
   "metadata": {},
   "outputs": [],
   "source": [
    "df = pd.DataFrame({'user': ['Petr@', 'Nikolay', 'Igor', 'Pavel!', np.nan],\n",
    "                       'fullname': ['Petr::Ivanov', 'Nikolay::Petrov', 'Igor::Sidorov', 'Pavel::Ivanov',np.nan]})"
   ]
  },
  {
   "cell_type": "code",
   "execution_count": 15,
   "id": "f7578f52",
   "metadata": {},
   "outputs": [
    {
     "data": {
      "text/html": [
       "<div>\n",
       "<style scoped>\n",
       "    .dataframe tbody tr th:only-of-type {\n",
       "        vertical-align: middle;\n",
       "    }\n",
       "\n",
       "    .dataframe tbody tr th {\n",
       "        vertical-align: top;\n",
       "    }\n",
       "\n",
       "    .dataframe thead th {\n",
       "        text-align: right;\n",
       "    }\n",
       "</style>\n",
       "<table border=\"1\" class=\"dataframe\">\n",
       "  <thead>\n",
       "    <tr style=\"text-align: right;\">\n",
       "      <th></th>\n",
       "      <th>user</th>\n",
       "      <th>fullname</th>\n",
       "    </tr>\n",
       "  </thead>\n",
       "  <tbody>\n",
       "    <tr>\n",
       "      <th>0</th>\n",
       "      <td>Petr@</td>\n",
       "      <td>Petr::Ivanov</td>\n",
       "    </tr>\n",
       "    <tr>\n",
       "      <th>1</th>\n",
       "      <td>Nikolay</td>\n",
       "      <td>Nikolay::Petrov</td>\n",
       "    </tr>\n",
       "    <tr>\n",
       "      <th>2</th>\n",
       "      <td>Igor</td>\n",
       "      <td>Igor::Sidorov</td>\n",
       "    </tr>\n",
       "    <tr>\n",
       "      <th>3</th>\n",
       "      <td>Pavel!</td>\n",
       "      <td>Pavel::Ivanov</td>\n",
       "    </tr>\n",
       "    <tr>\n",
       "      <th>4</th>\n",
       "      <td>NaN</td>\n",
       "      <td>NaN</td>\n",
       "    </tr>\n",
       "  </tbody>\n",
       "</table>\n",
       "</div>"
      ],
      "text/plain": [
       "      user         fullname\n",
       "0    Petr@     Petr::Ivanov\n",
       "1  Nikolay  Nikolay::Petrov\n",
       "2     Igor    Igor::Sidorov\n",
       "3   Pavel!    Pavel::Ivanov\n",
       "4      NaN              NaN"
      ]
     },
     "execution_count": 15,
     "metadata": {},
     "output_type": "execute_result"
    }
   ],
   "source": [
    "df"
   ]
  },
  {
   "cell_type": "code",
   "execution_count": 16,
   "id": "c48d1bef",
   "metadata": {},
   "outputs": [],
   "source": [
    "def f(x):\n",
    "    print(x)\n",
    "    return x.replace('@','')"
   ]
  },
  {
   "cell_type": "code",
   "execution_count": 18,
   "id": "837b4c66",
   "metadata": {},
   "outputs": [
    {
     "name": "stdout",
     "output_type": "stream",
     "text": [
      "Petr@\n",
      "Nikolay\n",
      "Igor\n",
      "Pavel!\n",
      "nan\n"
     ]
    },
    {
     "ename": "AttributeError",
     "evalue": "'float' object has no attribute 'replace'",
     "output_type": "error",
     "traceback": [
      "\u001b[1;31m---------------------------------------------------------------------------\u001b[0m",
      "\u001b[1;31mAttributeError\u001b[0m                            Traceback (most recent call last)",
      "Input \u001b[1;32mIn [18]\u001b[0m, in \u001b[0;36m<cell line: 2>\u001b[1;34m()\u001b[0m\n\u001b[0;32m      1\u001b[0m \u001b[38;5;66;03m#На nan наша функция сломалась!\u001b[39;00m\n\u001b[1;32m----> 2\u001b[0m \u001b[43mdf\u001b[49m\u001b[43m[\u001b[49m\u001b[38;5;124;43m'\u001b[39;49m\u001b[38;5;124;43muser\u001b[39;49m\u001b[38;5;124;43m'\u001b[39;49m\u001b[43m]\u001b[49m\u001b[38;5;241;43m.\u001b[39;49m\u001b[43mmap\u001b[49m\u001b[43m(\u001b[49m\u001b[43mf\u001b[49m\u001b[43m)\u001b[49m\n",
      "File \u001b[1;32m~\\anaconda3\\lib\\site-packages\\pandas\\core\\series.py:4237\u001b[0m, in \u001b[0;36mSeries.map\u001b[1;34m(self, arg, na_action)\u001b[0m\n\u001b[0;32m   4162\u001b[0m \u001b[38;5;28;01mdef\u001b[39;00m \u001b[38;5;21mmap\u001b[39m(\u001b[38;5;28mself\u001b[39m, arg, na_action\u001b[38;5;241m=\u001b[39m\u001b[38;5;28;01mNone\u001b[39;00m) \u001b[38;5;241m-\u001b[39m\u001b[38;5;241m>\u001b[39m Series:\n\u001b[0;32m   4163\u001b[0m     \u001b[38;5;124;03m\"\"\"\u001b[39;00m\n\u001b[0;32m   4164\u001b[0m \u001b[38;5;124;03m    Map values of Series according to an input mapping or function.\u001b[39;00m\n\u001b[0;32m   4165\u001b[0m \n\u001b[1;32m   (...)\u001b[0m\n\u001b[0;32m   4235\u001b[0m \u001b[38;5;124;03m    dtype: object\u001b[39;00m\n\u001b[0;32m   4236\u001b[0m \u001b[38;5;124;03m    \"\"\"\u001b[39;00m\n\u001b[1;32m-> 4237\u001b[0m     new_values \u001b[38;5;241m=\u001b[39m \u001b[38;5;28;43mself\u001b[39;49m\u001b[38;5;241;43m.\u001b[39;49m\u001b[43m_map_values\u001b[49m\u001b[43m(\u001b[49m\u001b[43marg\u001b[49m\u001b[43m,\u001b[49m\u001b[43m \u001b[49m\u001b[43mna_action\u001b[49m\u001b[38;5;241;43m=\u001b[39;49m\u001b[43mna_action\u001b[49m\u001b[43m)\u001b[49m\n\u001b[0;32m   4238\u001b[0m     \u001b[38;5;28;01mreturn\u001b[39;00m \u001b[38;5;28mself\u001b[39m\u001b[38;5;241m.\u001b[39m_constructor(new_values, index\u001b[38;5;241m=\u001b[39m\u001b[38;5;28mself\u001b[39m\u001b[38;5;241m.\u001b[39mindex)\u001b[38;5;241m.\u001b[39m__finalize__(\n\u001b[0;32m   4239\u001b[0m         \u001b[38;5;28mself\u001b[39m, method\u001b[38;5;241m=\u001b[39m\u001b[38;5;124m\"\u001b[39m\u001b[38;5;124mmap\u001b[39m\u001b[38;5;124m\"\u001b[39m\n\u001b[0;32m   4240\u001b[0m     )\n",
      "File \u001b[1;32m~\\anaconda3\\lib\\site-packages\\pandas\\core\\base.py:880\u001b[0m, in \u001b[0;36mIndexOpsMixin._map_values\u001b[1;34m(self, mapper, na_action)\u001b[0m\n\u001b[0;32m    877\u001b[0m         \u001b[38;5;28;01mraise\u001b[39;00m \u001b[38;5;167;01mValueError\u001b[39;00m(msg)\n\u001b[0;32m    879\u001b[0m \u001b[38;5;66;03m# mapper is a function\u001b[39;00m\n\u001b[1;32m--> 880\u001b[0m new_values \u001b[38;5;241m=\u001b[39m \u001b[43mmap_f\u001b[49m\u001b[43m(\u001b[49m\u001b[43mvalues\u001b[49m\u001b[43m,\u001b[49m\u001b[43m \u001b[49m\u001b[43mmapper\u001b[49m\u001b[43m)\u001b[49m\n\u001b[0;32m    882\u001b[0m \u001b[38;5;28;01mreturn\u001b[39;00m new_values\n",
      "File \u001b[1;32m~\\anaconda3\\lib\\site-packages\\pandas\\_libs\\lib.pyx:2870\u001b[0m, in \u001b[0;36mpandas._libs.lib.map_infer\u001b[1;34m()\u001b[0m\n",
      "Input \u001b[1;32mIn [16]\u001b[0m, in \u001b[0;36mf\u001b[1;34m(x)\u001b[0m\n\u001b[0;32m      1\u001b[0m \u001b[38;5;28;01mdef\u001b[39;00m \u001b[38;5;21mf\u001b[39m(x):\n\u001b[0;32m      2\u001b[0m     \u001b[38;5;28mprint\u001b[39m(x)\n\u001b[1;32m----> 3\u001b[0m     \u001b[38;5;28;01mreturn\u001b[39;00m \u001b[43mx\u001b[49m\u001b[38;5;241;43m.\u001b[39;49m\u001b[43mreplace\u001b[49m(\u001b[38;5;124m'\u001b[39m\u001b[38;5;124m@\u001b[39m\u001b[38;5;124m'\u001b[39m,\u001b[38;5;124m'\u001b[39m\u001b[38;5;124m'\u001b[39m)\n",
      "\u001b[1;31mAttributeError\u001b[0m: 'float' object has no attribute 'replace'"
     ]
    }
   ],
   "source": [
    "#На nan наша функция сломалась!\n",
    "df['user'].map(f)"
   ]
  },
  {
   "cell_type": "code",
   "execution_count": 20,
   "id": "82c3c6ad",
   "metadata": {},
   "outputs": [
    {
     "data": {
      "text/plain": [
       "0       Petr\n",
       "1    Nikolay\n",
       "2       Igor\n",
       "3     Pavel!\n",
       "4        NaN\n",
       "Name: user, dtype: object"
      ]
     },
     "execution_count": 20,
     "metadata": {},
     "output_type": "execute_result"
    }
   ],
   "source": [
    "#Обратимся к нашему датафрэйму с помощью .str.replace()\n",
    "#Никаких проблем у нас нет\n",
    "df['user'].str.replace('@', '')"
   ]
  },
  {
   "cell_type": "markdown",
   "id": "f26f9e90",
   "metadata": {},
   "source": [
    "Чтобы использовать остальные строковые ф-ии, к которым мы привыкли, необходимо использовать .str!!!"
   ]
  },
  {
   "cell_type": "code",
   "execution_count": 21,
   "id": "76803666",
   "metadata": {},
   "outputs": [
    {
     "data": {
      "text/plain": [
       "0      PETR@\n",
       "1    NIKOLAY\n",
       "2       IGOR\n",
       "3     PAVEL!\n",
       "4        NaN\n",
       "Name: user, dtype: object"
      ]
     },
     "execution_count": 21,
     "metadata": {},
     "output_type": "execute_result"
    }
   ],
   "source": [
    "df['user'].str.upper()"
   ]
  },
  {
   "cell_type": "code",
   "execution_count": 22,
   "id": "b3b1c390",
   "metadata": {},
   "outputs": [
    {
     "data": {
      "text/plain": [
       "0      e\n",
       "1      i\n",
       "2      g\n",
       "3      a\n",
       "4    NaN\n",
       "Name: user, dtype: object"
      ]
     },
     "execution_count": 22,
     "metadata": {},
     "output_type": "execute_result"
    }
   ],
   "source": [
    "df['user'].str[1]"
   ]
  },
  {
   "cell_type": "code",
   "execution_count": 24,
   "id": "6741dd66",
   "metadata": {},
   "outputs": [
    {
     "data": {
      "text/plain": [
       "0      Petr@\n",
       "1    Nikolay\n",
       "2       Igor\n",
       "3     Pavel!\n",
       "4        NaN\n",
       "Name: user, dtype: object"
      ]
     },
     "execution_count": 24,
     "metadata": {},
     "output_type": "execute_result"
    }
   ],
   "source": [
    "df['user'].str.capitalize()"
   ]
  },
  {
   "cell_type": "markdown",
   "id": "45c1bc81",
   "metadata": {},
   "source": [
    "Если вы хотите чтобы каждое слово в строке начиналось с большой буквы, тогда воспользуйтесь функций title.\n",
    "\n",
    "Сравнение upper с title:\n",
    "\n",
    "Функция upper преобразует \"hello dear pandas!\" в  \"HELLO DEAR PANDAS!\"\n",
    "\n",
    "Функция title преобразует \"hello dear pandas!\" в  \"Hello Dear Pandas!\" "
   ]
  },
  {
   "cell_type": "markdown",
   "id": "8d7655e6",
   "metadata": {},
   "source": [
    "# Практика"
   ]
  },
  {
   "cell_type": "markdown",
   "id": "64156397",
   "metadata": {},
   "source": [
    "# Задача №1\n",
    "В этом уроке мы будем работать с данными одной автотранспортной компании:\n",
    "![](https://ucarecdn.com/fb572d46-8a8a-44b8-97d8-c1cf27c48ded/)\n",
    "driver - ФИО водителя\n",
    "\n",
    "car - номер транспортного средства\n",
    "\n",
    "car_type - тип транспортного средства\n",
    "\n",
    "fuel_rate - потребление топлива на 100 км.\n",
    "\n",
    " \n",
    "\n",
    "Задание:\n",
    "\n",
    "отфильтруйте датафрейм так чтобы в нем остались водители, которые не были уволены. Для этого выполните проверку на вхождение слова 'уволен' в столбце driver. Для Орлова Б.А. уберите надпись 'Водитель'"
   ]
  },
  {
   "cell_type": "code",
   "execution_count": 5,
   "id": "ffccdbfa",
   "metadata": {},
   "outputs": [],
   "source": [
    "df_dickt = {'driver': {0: 'Петров А.Б', 1: 'Скворцов М.В.',\n",
    "                       2: 'Адреев Н.И.', 3: 'Водитель Орлов Б.А.',\n",
    "                       4: 'Михайлов Д.В. (уволен 01.01.2022)',\n",
    "                       5: 'Торетто Игорь Степанович (уволен за превышение скорости 01.01.2022)'},\n",
    "            'car': {0: 'Б432АВ', 1: 'М012ГД', 2: 'В122УВ', 3: 'А4212ЛД', 4: '432ЯАВ', 5: '432А'},\n",
    "            'car_type': {0: 'Грузовик', 1: 'Легковая', 2: 'Автобус', 3: 'Автокран', 4: '?', 5: '?'},\n",
    "            'fuel_rate': {0: '14.2', 1: '9,8', 2: '19.4', 3: '25,6', 4: '7.8', 5: '5.5'}}"
   ]
  },
  {
   "cell_type": "code",
   "execution_count": 6,
   "id": "58a858f5",
   "metadata": {},
   "outputs": [
    {
     "data": {
      "text/html": [
       "<div>\n",
       "<style scoped>\n",
       "    .dataframe tbody tr th:only-of-type {\n",
       "        vertical-align: middle;\n",
       "    }\n",
       "\n",
       "    .dataframe tbody tr th {\n",
       "        vertical-align: top;\n",
       "    }\n",
       "\n",
       "    .dataframe thead th {\n",
       "        text-align: right;\n",
       "    }\n",
       "</style>\n",
       "<table border=\"1\" class=\"dataframe\">\n",
       "  <thead>\n",
       "    <tr style=\"text-align: right;\">\n",
       "      <th></th>\n",
       "      <th>driver</th>\n",
       "      <th>car</th>\n",
       "      <th>car_type</th>\n",
       "      <th>fuel_rate</th>\n",
       "    </tr>\n",
       "  </thead>\n",
       "  <tbody>\n",
       "    <tr>\n",
       "      <th>0</th>\n",
       "      <td>Петров А.Б</td>\n",
       "      <td>Б432АВ</td>\n",
       "      <td>Грузовик</td>\n",
       "      <td>14.2</td>\n",
       "    </tr>\n",
       "    <tr>\n",
       "      <th>1</th>\n",
       "      <td>Скворцов М.В.</td>\n",
       "      <td>М012ГД</td>\n",
       "      <td>Легковая</td>\n",
       "      <td>9,8</td>\n",
       "    </tr>\n",
       "    <tr>\n",
       "      <th>2</th>\n",
       "      <td>Адреев Н.И.</td>\n",
       "      <td>В122УВ</td>\n",
       "      <td>Автобус</td>\n",
       "      <td>19.4</td>\n",
       "    </tr>\n",
       "    <tr>\n",
       "      <th>3</th>\n",
       "      <td>Водитель Орлов Б.А.</td>\n",
       "      <td>А4212ЛД</td>\n",
       "      <td>Автокран</td>\n",
       "      <td>25,6</td>\n",
       "    </tr>\n",
       "    <tr>\n",
       "      <th>4</th>\n",
       "      <td>Михайлов Д.В. (уволен 01.01.2022)</td>\n",
       "      <td>432ЯАВ</td>\n",
       "      <td>?</td>\n",
       "      <td>7.8</td>\n",
       "    </tr>\n",
       "    <tr>\n",
       "      <th>5</th>\n",
       "      <td>Торетто Игорь Степанович (уволен за превышение...</td>\n",
       "      <td>432А</td>\n",
       "      <td>?</td>\n",
       "      <td>5.5</td>\n",
       "    </tr>\n",
       "  </tbody>\n",
       "</table>\n",
       "</div>"
      ],
      "text/plain": [
       "                                              driver      car  car_type  \\\n",
       "0                                         Петров А.Б   Б432АВ  Грузовик   \n",
       "1                                      Скворцов М.В.   М012ГД  Легковая   \n",
       "2                                        Адреев Н.И.   В122УВ   Автобус   \n",
       "3                                Водитель Орлов Б.А.  А4212ЛД  Автокран   \n",
       "4                  Михайлов Д.В. (уволен 01.01.2022)   432ЯАВ         ?   \n",
       "5  Торетто Игорь Степанович (уволен за превышение...     432А         ?   \n",
       "\n",
       "  fuel_rate  \n",
       "0      14.2  \n",
       "1       9,8  \n",
       "2      19.4  \n",
       "3      25,6  \n",
       "4       7.8  \n",
       "5       5.5  "
      ]
     },
     "execution_count": 6,
     "metadata": {},
     "output_type": "execute_result"
    }
   ],
   "source": [
    "df = pd.DataFrame(df_dickt)\n",
    "df"
   ]
  },
  {
   "cell_type": "code",
   "execution_count": 7,
   "id": "2bb9d39a",
   "metadata": {},
   "outputs": [
    {
     "data": {
      "text/html": [
       "<div>\n",
       "<style scoped>\n",
       "    .dataframe tbody tr th:only-of-type {\n",
       "        vertical-align: middle;\n",
       "    }\n",
       "\n",
       "    .dataframe tbody tr th {\n",
       "        vertical-align: top;\n",
       "    }\n",
       "\n",
       "    .dataframe thead th {\n",
       "        text-align: right;\n",
       "    }\n",
       "</style>\n",
       "<table border=\"1\" class=\"dataframe\">\n",
       "  <thead>\n",
       "    <tr style=\"text-align: right;\">\n",
       "      <th></th>\n",
       "      <th>driver</th>\n",
       "      <th>car</th>\n",
       "      <th>car_type</th>\n",
       "      <th>fuel_rate</th>\n",
       "    </tr>\n",
       "  </thead>\n",
       "  <tbody>\n",
       "    <tr>\n",
       "      <th>0</th>\n",
       "      <td>Петров А.Б</td>\n",
       "      <td>Б432АВ</td>\n",
       "      <td>Грузовик</td>\n",
       "      <td>14.2</td>\n",
       "    </tr>\n",
       "    <tr>\n",
       "      <th>1</th>\n",
       "      <td>Скворцов М.В.</td>\n",
       "      <td>М012ГД</td>\n",
       "      <td>Легковая</td>\n",
       "      <td>9,8</td>\n",
       "    </tr>\n",
       "    <tr>\n",
       "      <th>2</th>\n",
       "      <td>Адреев Н.И.</td>\n",
       "      <td>В122УВ</td>\n",
       "      <td>Автобус</td>\n",
       "      <td>19.4</td>\n",
       "    </tr>\n",
       "    <tr>\n",
       "      <th>3</th>\n",
       "      <td>Орлов Б.А.</td>\n",
       "      <td>А4212ЛД</td>\n",
       "      <td>Автокран</td>\n",
       "      <td>25,6</td>\n",
       "    </tr>\n",
       "    <tr>\n",
       "      <th>4</th>\n",
       "      <td>Михайлов Д.В. (уволен 01.01.2022)</td>\n",
       "      <td>432ЯАВ</td>\n",
       "      <td>?</td>\n",
       "      <td>7.8</td>\n",
       "    </tr>\n",
       "    <tr>\n",
       "      <th>5</th>\n",
       "      <td>Торетто Игорь Степанович (уволен за превышение...</td>\n",
       "      <td>432А</td>\n",
       "      <td>?</td>\n",
       "      <td>5.5</td>\n",
       "    </tr>\n",
       "  </tbody>\n",
       "</table>\n",
       "</div>"
      ],
      "text/plain": [
       "                                              driver      car  car_type  \\\n",
       "0                                         Петров А.Б   Б432АВ  Грузовик   \n",
       "1                                      Скворцов М.В.   М012ГД  Легковая   \n",
       "2                                        Адреев Н.И.   В122УВ   Автобус   \n",
       "3                                         Орлов Б.А.  А4212ЛД  Автокран   \n",
       "4                  Михайлов Д.В. (уволен 01.01.2022)   432ЯАВ         ?   \n",
       "5  Торетто Игорь Степанович (уволен за превышение...     432А         ?   \n",
       "\n",
       "  fuel_rate  \n",
       "0      14.2  \n",
       "1       9,8  \n",
       "2      19.4  \n",
       "3      25,6  \n",
       "4       7.8  \n",
       "5       5.5  "
      ]
     },
     "execution_count": 7,
     "metadata": {},
     "output_type": "execute_result"
    }
   ],
   "source": [
    "#начну с простого, что бы не забыть это сделать, удалим \"водитель\"\n",
    "df['driver'] = df['driver'].str.replace('Водитель', '')\n",
    "df"
   ]
  },
  {
   "cell_type": "code",
   "execution_count": 16,
   "id": "c52656e5",
   "metadata": {},
   "outputs": [
    {
     "data": {
      "text/plain": [
       "0    False\n",
       "1    False\n",
       "2    False\n",
       "3    False\n",
       "4     True\n",
       "5     True\n",
       "Name: driver, dtype: bool"
      ]
     },
     "execution_count": 16,
     "metadata": {},
     "output_type": "execute_result"
    }
   ],
   "source": [
    "#получаем маску для удаления уволенных\n",
    "df['driver'].str.find('уволен') != -1"
   ]
  },
  {
   "cell_type": "code",
   "execution_count": 17,
   "id": "3988ee7d",
   "metadata": {},
   "outputs": [],
   "source": [
    "#создаем маску\n",
    "mask = df['driver'].str.find('уволен') != -1"
   ]
  },
  {
   "cell_type": "code",
   "execution_count": 30,
   "id": "b374ec8e",
   "metadata": {},
   "outputs": [
    {
     "data": {
      "text/plain": [
       "array([4, 5], dtype=int64)"
      ]
     },
     "execution_count": 30,
     "metadata": {},
     "output_type": "execute_result"
    }
   ],
   "source": [
    "#Получаем индексы уволенных, которые дропнем\n",
    "df[mask].index.values"
   ]
  },
  {
   "cell_type": "code",
   "execution_count": 31,
   "id": "96650cb8",
   "metadata": {},
   "outputs": [
    {
     "data": {
      "text/html": [
       "<div>\n",
       "<style scoped>\n",
       "    .dataframe tbody tr th:only-of-type {\n",
       "        vertical-align: middle;\n",
       "    }\n",
       "\n",
       "    .dataframe tbody tr th {\n",
       "        vertical-align: top;\n",
       "    }\n",
       "\n",
       "    .dataframe thead th {\n",
       "        text-align: right;\n",
       "    }\n",
       "</style>\n",
       "<table border=\"1\" class=\"dataframe\">\n",
       "  <thead>\n",
       "    <tr style=\"text-align: right;\">\n",
       "      <th></th>\n",
       "      <th>driver</th>\n",
       "      <th>car</th>\n",
       "      <th>car_type</th>\n",
       "      <th>fuel_rate</th>\n",
       "    </tr>\n",
       "  </thead>\n",
       "  <tbody>\n",
       "    <tr>\n",
       "      <th>0</th>\n",
       "      <td>Петров А.Б</td>\n",
       "      <td>Б432АВ</td>\n",
       "      <td>Грузовик</td>\n",
       "      <td>14.2</td>\n",
       "    </tr>\n",
       "    <tr>\n",
       "      <th>1</th>\n",
       "      <td>Скворцов М.В.</td>\n",
       "      <td>М012ГД</td>\n",
       "      <td>Легковая</td>\n",
       "      <td>9,8</td>\n",
       "    </tr>\n",
       "    <tr>\n",
       "      <th>2</th>\n",
       "      <td>Адреев Н.И.</td>\n",
       "      <td>В122УВ</td>\n",
       "      <td>Автобус</td>\n",
       "      <td>19.4</td>\n",
       "    </tr>\n",
       "    <tr>\n",
       "      <th>3</th>\n",
       "      <td>Орлов Б.А.</td>\n",
       "      <td>А4212ЛД</td>\n",
       "      <td>Автокран</td>\n",
       "      <td>25,6</td>\n",
       "    </tr>\n",
       "  </tbody>\n",
       "</table>\n",
       "</div>"
      ],
      "text/plain": [
       "          driver      car  car_type fuel_rate\n",
       "0     Петров А.Б   Б432АВ  Грузовик      14.2\n",
       "1  Скворцов М.В.   М012ГД  Легковая       9,8\n",
       "2    Адреев Н.И.   В122УВ   Автобус      19.4\n",
       "3     Орлов Б.А.  А4212ЛД  Автокран      25,6"
      ]
     },
     "execution_count": 31,
     "metadata": {},
     "output_type": "execute_result"
    }
   ],
   "source": [
    "#Дропаем из нашего датафрэйма, предварительно ставлю inplace = False, для тестов\n",
    "df.drop(df[mask].index.values, inplace = False)"
   ]
  },
  {
   "cell_type": "code",
   "execution_count": 33,
   "id": "a8535ba7",
   "metadata": {},
   "outputs": [],
   "source": [
    "#заворачиваю все в функцию\n",
    "def drop(df):\n",
    "    df['driver'] = df['driver'].str.replace('Водитель ', '') #удаляем \"водитель\"\n",
    "    mask = df['driver'].str.find('уволен') != -1 #создание маски\n",
    "    df.drop(df[mask].index.values, inplace = True) #Дропаем уволенных\n",
    "    return df"
   ]
  },
  {
   "cell_type": "code",
   "execution_count": 34,
   "id": "16ce3c31",
   "metadata": {},
   "outputs": [
    {
     "data": {
      "text/html": [
       "<div>\n",
       "<style scoped>\n",
       "    .dataframe tbody tr th:only-of-type {\n",
       "        vertical-align: middle;\n",
       "    }\n",
       "\n",
       "    .dataframe tbody tr th {\n",
       "        vertical-align: top;\n",
       "    }\n",
       "\n",
       "    .dataframe thead th {\n",
       "        text-align: right;\n",
       "    }\n",
       "</style>\n",
       "<table border=\"1\" class=\"dataframe\">\n",
       "  <thead>\n",
       "    <tr style=\"text-align: right;\">\n",
       "      <th></th>\n",
       "      <th>driver</th>\n",
       "      <th>car</th>\n",
       "      <th>car_type</th>\n",
       "      <th>fuel_rate</th>\n",
       "    </tr>\n",
       "  </thead>\n",
       "  <tbody>\n",
       "    <tr>\n",
       "      <th>0</th>\n",
       "      <td>Петров А.Б</td>\n",
       "      <td>Б432АВ</td>\n",
       "      <td>Грузовик</td>\n",
       "      <td>14.2</td>\n",
       "    </tr>\n",
       "    <tr>\n",
       "      <th>1</th>\n",
       "      <td>Скворцов М.В.</td>\n",
       "      <td>М012ГД</td>\n",
       "      <td>Легковая</td>\n",
       "      <td>9,8</td>\n",
       "    </tr>\n",
       "    <tr>\n",
       "      <th>2</th>\n",
       "      <td>Адреев Н.И.</td>\n",
       "      <td>В122УВ</td>\n",
       "      <td>Автобус</td>\n",
       "      <td>19.4</td>\n",
       "    </tr>\n",
       "    <tr>\n",
       "      <th>3</th>\n",
       "      <td>Орлов Б.А.</td>\n",
       "      <td>А4212ЛД</td>\n",
       "      <td>Автокран</td>\n",
       "      <td>25,6</td>\n",
       "    </tr>\n",
       "  </tbody>\n",
       "</table>\n",
       "</div>"
      ],
      "text/plain": [
       "          driver      car  car_type fuel_rate\n",
       "0     Петров А.Б   Б432АВ  Грузовик      14.2\n",
       "1  Скворцов М.В.   М012ГД  Легковая       9,8\n",
       "2    Адреев Н.И.   В122УВ   Автобус      19.4\n",
       "3     Орлов Б.А.  А4212ЛД  Автокран      25,6"
      ]
     },
     "execution_count": 34,
     "metadata": {},
     "output_type": "execute_result"
    }
   ],
   "source": [
    "drop(df)"
   ]
  },
  {
   "cell_type": "markdown",
   "id": "ec3890e5",
   "metadata": {},
   "source": [
    "# Задача 2\n",
    "Продолжаем работу с датафреймом:\n",
    "![](https://ucarecdn.com/fb572d46-8a8a-44b8-97d8-c1cf27c48ded/)\n",
    "Выполните проверку ошибочных номеров. Номер должен состоять из 6 символов, а первый обязательно буква. Отсортируйте датафрейм так чтобы остались записи с ошибочными номерами. "
   ]
  },
  {
   "cell_type": "code",
   "execution_count": 35,
   "id": "2a5a6066",
   "metadata": {},
   "outputs": [],
   "source": [
    "df_dickt = {'driver': {0: 'Петров А.Б', 1: 'Скворцов М.В.',\n",
    "                       2: 'Адреев Н.И.', 3: 'Водитель Орлов Б.А.',\n",
    "                       4: 'Михайлов Д.В. (уволен 01.01.2022)',\n",
    "                       5: 'Торетто Игорь Степанович (уволен за превышение скорости 01.01.2022)'},\n",
    "            'car': {0: 'Б432АВ', 1: 'М012ГД', 2: 'В122УВ', 3: 'А4212ЛД', 4: '432ЯАВ', 5: '432А'},\n",
    "            'car_type': {0: 'Грузовик', 1: 'Легковая', 2: 'Автобус', 3: 'Автокран', 4: '?', 5: '?'},\n",
    "            'fuel_rate': {0: '14.2', 1: '9,8', 2: '19.4', 3: '25,6', 4: '7.8', 5: '5.5'}}\n",
    "df = pd.DataFrame(df_dickt)"
   ]
  },
  {
   "cell_type": "code",
   "execution_count": 50,
   "id": "abfacff2",
   "metadata": {},
   "outputs": [
    {
     "data": {
      "text/plain": [
       "0    False\n",
       "1    False\n",
       "2    False\n",
       "3     True\n",
       "4    False\n",
       "5     True\n",
       "Name: car, dtype: bool"
      ]
     },
     "execution_count": 50,
     "metadata": {},
     "output_type": "execute_result"
    }
   ],
   "source": [
    "#подготавливаю маску \n",
    "df['car'].str.len() != 6"
   ]
  },
  {
   "cell_type": "code",
   "execution_count": 64,
   "id": "8363553c",
   "metadata": {},
   "outputs": [
    {
     "data": {
      "text/plain": [
       "0     True\n",
       "1     True\n",
       "2     True\n",
       "3     True\n",
       "4    False\n",
       "5    False\n",
       "Name: car, dtype: bool"
      ]
     },
     "execution_count": 64,
     "metadata": {},
     "output_type": "execute_result"
    }
   ],
   "source": [
    "df['car'].str[0].str.isalpha()"
   ]
  },
  {
   "cell_type": "code",
   "execution_count": 67,
   "id": "7fe91d24",
   "metadata": {},
   "outputs": [],
   "source": [
    "mask = (df['car'].str.len() != 6) | (df['car'].str[0].str.isdigit())"
   ]
  },
  {
   "cell_type": "code",
   "execution_count": 68,
   "id": "86abb148",
   "metadata": {},
   "outputs": [
    {
     "data": {
      "text/html": [
       "<div>\n",
       "<style scoped>\n",
       "    .dataframe tbody tr th:only-of-type {\n",
       "        vertical-align: middle;\n",
       "    }\n",
       "\n",
       "    .dataframe tbody tr th {\n",
       "        vertical-align: top;\n",
       "    }\n",
       "\n",
       "    .dataframe thead th {\n",
       "        text-align: right;\n",
       "    }\n",
       "</style>\n",
       "<table border=\"1\" class=\"dataframe\">\n",
       "  <thead>\n",
       "    <tr style=\"text-align: right;\">\n",
       "      <th></th>\n",
       "      <th>driver</th>\n",
       "      <th>car</th>\n",
       "      <th>car_type</th>\n",
       "      <th>fuel_rate</th>\n",
       "    </tr>\n",
       "  </thead>\n",
       "  <tbody>\n",
       "    <tr>\n",
       "      <th>5</th>\n",
       "      <td>Торетто Игорь Степанович (уволен за превышение...</td>\n",
       "      <td>432А</td>\n",
       "      <td>?</td>\n",
       "      <td>5.5</td>\n",
       "    </tr>\n",
       "  </tbody>\n",
       "</table>\n",
       "</div>"
      ],
      "text/plain": [
       "                                              driver   car car_type fuel_rate\n",
       "5  Торетто Игорь Степанович (уволен за превышение...  432А        ?       5.5"
      ]
     },
     "execution_count": 68,
     "metadata": {},
     "output_type": "execute_result"
    }
   ],
   "source": [
    "#проверяю\n",
    "df[mask]"
   ]
  },
  {
   "cell_type": "code",
   "execution_count": 69,
   "id": "1c3fc6cf",
   "metadata": {},
   "outputs": [],
   "source": [
    "#заворачиваю все в функцию\n",
    "def solution(df):\n",
    "    mask = (df['car'].str.len() != 6) | (df['car'].str[0].str.isdigit())\n",
    "    return df[mask]"
   ]
  },
  {
   "cell_type": "code",
   "execution_count": 70,
   "id": "f38dcb7b",
   "metadata": {},
   "outputs": [
    {
     "data": {
      "text/html": [
       "<div>\n",
       "<style scoped>\n",
       "    .dataframe tbody tr th:only-of-type {\n",
       "        vertical-align: middle;\n",
       "    }\n",
       "\n",
       "    .dataframe tbody tr th {\n",
       "        vertical-align: top;\n",
       "    }\n",
       "\n",
       "    .dataframe thead th {\n",
       "        text-align: right;\n",
       "    }\n",
       "</style>\n",
       "<table border=\"1\" class=\"dataframe\">\n",
       "  <thead>\n",
       "    <tr style=\"text-align: right;\">\n",
       "      <th></th>\n",
       "      <th>driver</th>\n",
       "      <th>car</th>\n",
       "      <th>car_type</th>\n",
       "      <th>fuel_rate</th>\n",
       "    </tr>\n",
       "  </thead>\n",
       "  <tbody>\n",
       "    <tr>\n",
       "      <th>5</th>\n",
       "      <td>Торетто Игорь Степанович (уволен за превышение...</td>\n",
       "      <td>432А</td>\n",
       "      <td>?</td>\n",
       "      <td>5.5</td>\n",
       "    </tr>\n",
       "  </tbody>\n",
       "</table>\n",
       "</div>"
      ],
      "text/plain": [
       "                                              driver   car car_type fuel_rate\n",
       "5  Торетто Игорь Степанович (уволен за превышение...  432А        ?       5.5"
      ]
     },
     "execution_count": 70,
     "metadata": {},
     "output_type": "execute_result"
    }
   ],
   "source": [
    "solution(df)"
   ]
  },
  {
   "cell_type": "markdown",
   "id": "90415ce3",
   "metadata": {},
   "source": [
    "# Задача 3\n",
    "Продолжаем работу с датафреймом:\n",
    "![](https://ucarecdn.com/fb572d46-8a8a-44b8-97d8-c1cf27c48ded/)\n",
    "В столбце fuel_rate содержится информация о потреблении топлива. Определите среднее потребление топлива. "
   ]
  },
  {
   "cell_type": "code",
   "execution_count": 71,
   "id": "20ec9d95",
   "metadata": {},
   "outputs": [],
   "source": [
    "df_dickt = {'driver': {0: 'Петров А.Б', 1: 'Скворцов М.В.',\n",
    "                       2: 'Адреев Н.И.', 3: 'Водитель Орлов Б.А.',\n",
    "                       4: 'Михайлов Д.В. (уволен 01.01.2022)',\n",
    "                       5: 'Торетто Игорь Степанович (уволен за превышение скорости 01.01.2022)'},\n",
    "            'car': {0: 'Б432АВ', 1: 'М012ГД', 2: 'В122УВ', 3: 'А4212ЛД', 4: '432ЯАВ', 5: '432А'},\n",
    "            'car_type': {0: 'Грузовик', 1: 'Легковая', 2: 'Автобус', 3: 'Автокран', 4: '?', 5: '?'},\n",
    "            'fuel_rate': {0: '14.2', 1: '9,8', 2: '19.4', 3: '25,6', 4: '7.8', 5: '5.5'}}\n",
    "df = pd.DataFrame(df_dickt)"
   ]
  },
  {
   "cell_type": "code",
   "execution_count": 89,
   "id": "cb0246fb",
   "metadata": {},
   "outputs": [],
   "source": [
    "#исправляю данные\n",
    "df['fuel_rate'] = df['fuel_rate'].str.replace(',', '.')"
   ]
  },
  {
   "cell_type": "code",
   "execution_count": 90,
   "id": "edc0da35",
   "metadata": {},
   "outputs": [],
   "source": [
    "#конвертирую тип данных\n",
    "df['fuel_rate'] = df['fuel_rate'].astype('float')"
   ]
  },
  {
   "cell_type": "code",
   "execution_count": 93,
   "id": "29951298",
   "metadata": {},
   "outputs": [
    {
     "data": {
      "text/plain": [
       "13.716666666666667"
      ]
     },
     "execution_count": 93,
     "metadata": {},
     "output_type": "execute_result"
    }
   ],
   "source": [
    "#вычисляю среднее\n",
    "df['fuel_rate'].mean()"
   ]
  },
  {
   "cell_type": "code",
   "execution_count": null,
   "id": "1bb8c393",
   "metadata": {},
   "outputs": [],
   "source": [
    "#Заворачиваю все в функцию\n",
    "def solution(df):\n",
    "    df['fuel_rate'] = df['fuel_rate'].str.replace(',', '.')\n",
    "    df['fuel_rate'] = df['fuel_rate'].astype('float')\n",
    "    return df['fuel_rate'].mean()"
   ]
  },
  {
   "cell_type": "markdown",
   "id": "1232d9a5",
   "metadata": {},
   "source": [
    "# Задача 4\n",
    "Продолжаем работу с датафреймом:\n",
    "![](https://ucarecdn.com/fb572d46-8a8a-44b8-97d8-c1cf27c48ded/)\n",
    "Найдите максимальное потребление топлива среди автомобилей с номерами, которые заканчиваются на букву В"
   ]
  },
  {
   "cell_type": "code",
   "execution_count": 133,
   "id": "3fc54671",
   "metadata": {},
   "outputs": [],
   "source": [
    "df_dickt = {'driver': {0: 'Петров А.Б', 1: 'Скворцов М.В.',\n",
    "                       2: 'Адреев Н.И.', 3: 'Водитель Орлов Б.А.',\n",
    "                       4: 'Михайлов Д.В. (уволен 01.01.2022)',\n",
    "                       5: 'Торетто Игорь Степанович (уволен за превышение скорости 01.01.2022)'},\n",
    "            'car': {0: 'Б432АВ', 1: 'М012ГД', 2: 'В122УВ', 3: 'А4212ЛД', 4: '432ЯАВ', 5: '432А'},\n",
    "            'car_type': {0: 'Грузовик', 1: 'Легковая', 2: 'Автобус', 3: 'Автокран', 4: '?', 5: '?'},\n",
    "            'fuel_rate': {0: '14.2', 1: '9,8', 2: '19.4', 3: '25,6', 4: '7.8', 5: '5.5'}}\n",
    "df = pd.DataFrame(df_dickt)"
   ]
  },
  {
   "cell_type": "code",
   "execution_count": 114,
   "id": "d17d884d",
   "metadata": {},
   "outputs": [],
   "source": [
    "#исправляю данные\n",
    "df['fuel_rate'] = df['fuel_rate'].str.replace(',', '.')"
   ]
  },
  {
   "cell_type": "code",
   "execution_count": 115,
   "id": "886e26fc",
   "metadata": {},
   "outputs": [],
   "source": [
    "#конвертирую тип данных\n",
    "df['fuel_rate'] = df['fuel_rate'].astype('float')"
   ]
  },
  {
   "cell_type": "code",
   "execution_count": 116,
   "id": "8c052ce4",
   "metadata": {},
   "outputs": [
    {
     "data": {
      "text/plain": [
       "0     True\n",
       "1    False\n",
       "2     True\n",
       "3    False\n",
       "4     True\n",
       "5    False\n",
       "Name: car, dtype: bool"
      ]
     },
     "execution_count": 116,
     "metadata": {},
     "output_type": "execute_result"
    }
   ],
   "source": [
    "#подготавливаю условие для маски для авто с номерами, заканчивающимся на \"В\"\n",
    "df['car'].str[-1] == 'В'"
   ]
  },
  {
   "cell_type": "code",
   "execution_count": 117,
   "id": "ec738ba6",
   "metadata": {},
   "outputs": [],
   "source": [
    "#создаю маску\n",
    "mask = df['car'].str[-1] == 'В'"
   ]
  },
  {
   "cell_type": "code",
   "execution_count": 118,
   "id": "a3e15137",
   "metadata": {},
   "outputs": [
    {
     "data": {
      "text/plain": [
       "19.4"
      ]
     },
     "execution_count": 118,
     "metadata": {},
     "output_type": "execute_result"
    }
   ],
   "source": [
    "#получаю информацию\n",
    "df['fuel_rate'][df['car'].str[-1] == 'В'].max()"
   ]
  },
  {
   "cell_type": "code",
   "execution_count": 119,
   "id": "3a3d81e5",
   "metadata": {},
   "outputs": [],
   "source": [
    "#заворачиваю все в функцию\n",
    "def solution(df):\n",
    "    df['fuel_rate'] = df['fuel_rate'].str.replace(',', '.')\n",
    "    df['fuel_rate'] = df['fuel_rate'].astype('float')\n",
    "    mask = df['car'].str[-1] == 'В'\n",
    "    return df['fuel_rate'][mask].max()"
   ]
  },
  {
   "cell_type": "code",
   "execution_count": 122,
   "id": "9eea49d1",
   "metadata": {},
   "outputs": [
    {
     "data": {
      "text/plain": [
       "19.4"
      ]
     },
     "execution_count": 122,
     "metadata": {},
     "output_type": "execute_result"
    }
   ],
   "source": [
    "solution(df)"
   ]
  },
  {
   "cell_type": "markdown",
   "id": "bbd25c7a",
   "metadata": {},
   "source": [
    "На платформе получаем ответ:\n",
    "\n",
    "- Ответ не совпадает. У вас: 14.2, а должен: 19.4"
   ]
  },
  {
   "cell_type": "markdown",
   "id": "a395f90c",
   "metadata": {},
   "source": [
    "И вот сейчас то я понял, что у нас в номере английская B"
   ]
  },
  {
   "cell_type": "markdown",
   "id": "426adb63",
   "metadata": {},
   "source": [
    "- Комментарий автора курса:\n",
    "    \n",
    "оператор, когда вносил данные в систему, не обратил внимание, что раскладка поменялась и внес такие данные) Кстати, система была совсем не против (такое бывает). Тут для решения потребуется не только техника, но и внимательность 😎 \n",
    "\n",
    "Тебе могут поставить задачу, но тот кто ее ставит, может не до конца понимать всех особенностей набора данных. Или тебе просто забыли сказать о некоторых особенностях. Может быть и так, что тебе вообще ничего не скажут, а на тебя ляжет вся работа. Твоя ценность будет очень высока, если ты научишься подмечать такие особенности. Я стараюсь местами добавлять в задачи немного таких сценариев чтобы прокачивать не только твою технику пандаса, но и культуру работы с данными"
   ]
  },
  {
   "cell_type": "code",
   "execution_count": 134,
   "id": "7d624ccc",
   "metadata": {},
   "outputs": [],
   "source": [
    "#переписываю условие\n",
    "def solution(df):\n",
    "    df['fuel_rate'] = df['fuel_rate'].str.replace(',', '.')\n",
    "    df['fuel_rate'] = df['fuel_rate'].astype('float')\n",
    "    mask = df['car'].str[-1] == 'В'\n",
    "    return df['fuel_rate'][mask].max()"
   ]
  },
  {
   "cell_type": "code",
   "execution_count": 135,
   "id": "acb80e35",
   "metadata": {},
   "outputs": [
    {
     "data": {
      "text/plain": [
       "19.4"
      ]
     },
     "execution_count": 135,
     "metadata": {},
     "output_type": "execute_result"
    }
   ],
   "source": [
    "solution(df)"
   ]
  },
  {
   "cell_type": "markdown",
   "id": "83bac711",
   "metadata": {},
   "source": [
    "# Задача 5\n",
    "Продолжаем работу с датафреймом:\n",
    "![](https://ucarecdn.com/fb572d46-8a8a-44b8-97d8-c1cf27c48ded/)\n",
    "Преобразуйте строковые значения в столбце car_type следующим образом: первый символ должен быть в нижнем регистре, а все остальные в верхнем:\n",
    "![](https://ucarecdn.com/6018e903-437b-4b0f-8e23-cb3952f2ae93/)"
   ]
  },
  {
   "cell_type": "code",
   "execution_count": 144,
   "id": "eed1309e",
   "metadata": {},
   "outputs": [],
   "source": [
    "df_dickt = {'driver': {0: 'Петров А.Б', 1: 'Скворцов М.В.',\n",
    "                       2: 'Адреев Н.И.', 3: 'Водитель Орлов Б.А.',\n",
    "                       4: 'Михайлов Д.В. (уволен 01.01.2022)',\n",
    "                       5: 'Торетто Игорь Степанович (уволен за превышение скорости 01.01.2022)'},\n",
    "            'car': {0: 'Б432АВ', 1: 'М012ГД', 2: 'В122УВ', 3: 'А4212ЛД', 4: '432ЯАВ', 5: '432А'},\n",
    "            'car_type': {0: 'Грузовик', 1: 'Легковая', 2: 'Автобус', 3: 'Автокран', 4: '?', 5: '?'},\n",
    "            'fuel_rate': {0: '14.2', 1: '9,8', 2: '19.4', 3: '25,6', 4: '7.8', 5: '5.5'}}\n",
    "df = pd.DataFrame(df_dickt)"
   ]
  },
  {
   "cell_type": "code",
   "execution_count": 147,
   "id": "26558567",
   "metadata": {},
   "outputs": [],
   "source": [
    "#меняем первый символ на нижний регистр оставшиеся на верхний и переписываем значения\n",
    "#Используем конкатенацию строк\n",
    "df['car_type'] = df['car_type'].str[0].str.lower() + df['car_type'].str[1:].str.upper()"
   ]
  },
  {
   "cell_type": "code",
   "execution_count": 148,
   "id": "ce2fcddb",
   "metadata": {},
   "outputs": [
    {
     "data": {
      "text/plain": [
       "0    гРУЗОВИК\n",
       "1    лЕГКОВАЯ\n",
       "2     аВТОБУС\n",
       "3    аВТОКРАН\n",
       "4           ?\n",
       "5           ?\n",
       "Name: car_type, dtype: object"
      ]
     },
     "execution_count": 148,
     "metadata": {},
     "output_type": "execute_result"
    }
   ],
   "source": [
    "#проверяем\n",
    "df['car_type']"
   ]
  },
  {
   "cell_type": "code",
   "execution_count": 149,
   "id": "d83aa249",
   "metadata": {},
   "outputs": [],
   "source": [
    "#Кладем все в функцию\n",
    "def solution(df):\n",
    "    df['car_type'] = df['car_type'].str[0].str.lower() + df['car_type'].str[1:].str.upper()\n",
    "    return df"
   ]
  },
  {
   "cell_type": "code",
   "execution_count": 150,
   "id": "f7f39fec",
   "metadata": {},
   "outputs": [
    {
     "data": {
      "text/html": [
       "<div>\n",
       "<style scoped>\n",
       "    .dataframe tbody tr th:only-of-type {\n",
       "        vertical-align: middle;\n",
       "    }\n",
       "\n",
       "    .dataframe tbody tr th {\n",
       "        vertical-align: top;\n",
       "    }\n",
       "\n",
       "    .dataframe thead th {\n",
       "        text-align: right;\n",
       "    }\n",
       "</style>\n",
       "<table border=\"1\" class=\"dataframe\">\n",
       "  <thead>\n",
       "    <tr style=\"text-align: right;\">\n",
       "      <th></th>\n",
       "      <th>driver</th>\n",
       "      <th>car</th>\n",
       "      <th>car_type</th>\n",
       "      <th>fuel_rate</th>\n",
       "    </tr>\n",
       "  </thead>\n",
       "  <tbody>\n",
       "    <tr>\n",
       "      <th>0</th>\n",
       "      <td>Петров А.Б</td>\n",
       "      <td>Б432АВ</td>\n",
       "      <td>гРУЗОВИК</td>\n",
       "      <td>14.2</td>\n",
       "    </tr>\n",
       "    <tr>\n",
       "      <th>1</th>\n",
       "      <td>Скворцов М.В.</td>\n",
       "      <td>М012ГД</td>\n",
       "      <td>лЕГКОВАЯ</td>\n",
       "      <td>9,8</td>\n",
       "    </tr>\n",
       "    <tr>\n",
       "      <th>2</th>\n",
       "      <td>Адреев Н.И.</td>\n",
       "      <td>В122УВ</td>\n",
       "      <td>аВТОБУС</td>\n",
       "      <td>19.4</td>\n",
       "    </tr>\n",
       "    <tr>\n",
       "      <th>3</th>\n",
       "      <td>Водитель Орлов Б.А.</td>\n",
       "      <td>А4212ЛД</td>\n",
       "      <td>аВТОКРАН</td>\n",
       "      <td>25,6</td>\n",
       "    </tr>\n",
       "    <tr>\n",
       "      <th>4</th>\n",
       "      <td>Михайлов Д.В. (уволен 01.01.2022)</td>\n",
       "      <td>432ЯАВ</td>\n",
       "      <td>?</td>\n",
       "      <td>7.8</td>\n",
       "    </tr>\n",
       "    <tr>\n",
       "      <th>5</th>\n",
       "      <td>Торетто Игорь Степанович (уволен за превышение...</td>\n",
       "      <td>432А</td>\n",
       "      <td>?</td>\n",
       "      <td>5.5</td>\n",
       "    </tr>\n",
       "  </tbody>\n",
       "</table>\n",
       "</div>"
      ],
      "text/plain": [
       "                                              driver      car  car_type  \\\n",
       "0                                         Петров А.Б   Б432АВ  гРУЗОВИК   \n",
       "1                                      Скворцов М.В.   М012ГД  лЕГКОВАЯ   \n",
       "2                                        Адреев Н.И.   В122УВ   аВТОБУС   \n",
       "3                                Водитель Орлов Б.А.  А4212ЛД  аВТОКРАН   \n",
       "4                  Михайлов Д.В. (уволен 01.01.2022)   432ЯАВ         ?   \n",
       "5  Торетто Игорь Степанович (уволен за превышение...     432А         ?   \n",
       "\n",
       "  fuel_rate  \n",
       "0      14.2  \n",
       "1       9,8  \n",
       "2      19.4  \n",
       "3      25,6  \n",
       "4       7.8  \n",
       "5       5.5  "
      ]
     },
     "execution_count": 150,
     "metadata": {},
     "output_type": "execute_result"
    }
   ],
   "source": [
    "solution(df)"
   ]
  },
  {
   "cell_type": "markdown",
   "id": "e7cdebb3",
   "metadata": {},
   "source": [
    "Метод swapcase() - возвращает копию строки, в которой все символы, основанные на регистре, поменялись местами."
   ]
  },
  {
   "cell_type": "code",
   "execution_count": 151,
   "id": "1fc4183a",
   "metadata": {},
   "outputs": [],
   "source": [
    "#Решение данным методом\n",
    "def solution(df):\n",
    "    df.car_type = df.car_type.str.swapcase()\n",
    "    return df"
   ]
  },
  {
   "cell_type": "code",
   "execution_count": 152,
   "id": "c06cb02b",
   "metadata": {},
   "outputs": [
    {
     "data": {
      "text/html": [
       "<div>\n",
       "<style scoped>\n",
       "    .dataframe tbody tr th:only-of-type {\n",
       "        vertical-align: middle;\n",
       "    }\n",
       "\n",
       "    .dataframe tbody tr th {\n",
       "        vertical-align: top;\n",
       "    }\n",
       "\n",
       "    .dataframe thead th {\n",
       "        text-align: right;\n",
       "    }\n",
       "</style>\n",
       "<table border=\"1\" class=\"dataframe\">\n",
       "  <thead>\n",
       "    <tr style=\"text-align: right;\">\n",
       "      <th></th>\n",
       "      <th>driver</th>\n",
       "      <th>car</th>\n",
       "      <th>car_type</th>\n",
       "      <th>fuel_rate</th>\n",
       "    </tr>\n",
       "  </thead>\n",
       "  <tbody>\n",
       "    <tr>\n",
       "      <th>0</th>\n",
       "      <td>Петров А.Б</td>\n",
       "      <td>Б432АВ</td>\n",
       "      <td>Грузовик</td>\n",
       "      <td>14.2</td>\n",
       "    </tr>\n",
       "    <tr>\n",
       "      <th>1</th>\n",
       "      <td>Скворцов М.В.</td>\n",
       "      <td>М012ГД</td>\n",
       "      <td>Легковая</td>\n",
       "      <td>9,8</td>\n",
       "    </tr>\n",
       "    <tr>\n",
       "      <th>2</th>\n",
       "      <td>Адреев Н.И.</td>\n",
       "      <td>В122УВ</td>\n",
       "      <td>Автобус</td>\n",
       "      <td>19.4</td>\n",
       "    </tr>\n",
       "    <tr>\n",
       "      <th>3</th>\n",
       "      <td>Водитель Орлов Б.А.</td>\n",
       "      <td>А4212ЛД</td>\n",
       "      <td>Автокран</td>\n",
       "      <td>25,6</td>\n",
       "    </tr>\n",
       "    <tr>\n",
       "      <th>4</th>\n",
       "      <td>Михайлов Д.В. (уволен 01.01.2022)</td>\n",
       "      <td>432ЯАВ</td>\n",
       "      <td>?</td>\n",
       "      <td>7.8</td>\n",
       "    </tr>\n",
       "    <tr>\n",
       "      <th>5</th>\n",
       "      <td>Торетто Игорь Степанович (уволен за превышение...</td>\n",
       "      <td>432А</td>\n",
       "      <td>?</td>\n",
       "      <td>5.5</td>\n",
       "    </tr>\n",
       "  </tbody>\n",
       "</table>\n",
       "</div>"
      ],
      "text/plain": [
       "                                              driver      car  car_type  \\\n",
       "0                                         Петров А.Б   Б432АВ  Грузовик   \n",
       "1                                      Скворцов М.В.   М012ГД  Легковая   \n",
       "2                                        Адреев Н.И.   В122УВ   Автобус   \n",
       "3                                Водитель Орлов Б.А.  А4212ЛД  Автокран   \n",
       "4                  Михайлов Д.В. (уволен 01.01.2022)   432ЯАВ         ?   \n",
       "5  Торетто Игорь Степанович (уволен за превышение...     432А         ?   \n",
       "\n",
       "  fuel_rate  \n",
       "0      14.2  \n",
       "1       9,8  \n",
       "2      19.4  \n",
       "3      25,6  \n",
       "4       7.8  \n",
       "5       5.5  "
      ]
     },
     "execution_count": 152,
     "metadata": {},
     "output_type": "execute_result"
    }
   ],
   "source": [
    "solution(df)"
   ]
  },
  {
   "cell_type": "markdown",
   "id": "3e5d7dad",
   "metadata": {},
   "source": [
    "Если честно я даже хрен знает когда, помимо этой задачи данный методом может пригодиться"
   ]
  },
  {
   "cell_type": "markdown",
   "id": "1af3bfa5",
   "metadata": {},
   "source": [
    "# Задача 6\n",
    "Продолжаем работу с датафреймом:\n",
    "![](https://ucarecdn.com/fb572d46-8a8a-44b8-97d8-c1cf27c48ded/)\n",
    "Если номер транспортного средства начинается с буквы В, то замените эту букву на Б"
   ]
  },
  {
   "cell_type": "code",
   "execution_count": 195,
   "id": "f0eaac8a",
   "metadata": {},
   "outputs": [],
   "source": [
    "df_dickt = {'driver': {0: 'Петров А.Б', 1: 'Скворцов М.В.',\n",
    "                       2: 'Адреев Н.И.', 3: 'Водитель Орлов Б.А.',\n",
    "                       4: 'Михайлов Д.В. (уволен 01.01.2022)',\n",
    "                       5: 'Торетто Игорь Степанович (уволен за превышение скорости 01.01.2022)'},\n",
    "            'car': {0: 'Б432АВ', 1: 'М012ГД', 2: 'В122УВ', 3: 'А4212ЛД', 4: '432ЯАВ', 5: '432А'},\n",
    "            'car_type': {0: 'Грузовик', 1: 'Легковая', 2: 'Автобус', 3: 'Автокран', 4: '?', 5: '?'},\n",
    "            'fuel_rate': {0: '14.2', 1: '9,8', 2: '19.4', 3: '25,6', 4: '7.8', 5: '5.5'}}\n",
    "df = pd.DataFrame(df_dickt)"
   ]
  },
  {
   "cell_type": "code",
   "execution_count": 192,
   "id": "7d133bf1",
   "metadata": {},
   "outputs": [],
   "source": [
    "#Аналогично, конкатенцией пересобираю номер\n",
    "df['car'] = df['car'].str[0].str.replace('В','Б') + df['car'].str[1:]"
   ]
  },
  {
   "cell_type": "code",
   "execution_count": 193,
   "id": "222c806b",
   "metadata": {},
   "outputs": [
    {
     "data": {
      "text/html": [
       "<div>\n",
       "<style scoped>\n",
       "    .dataframe tbody tr th:only-of-type {\n",
       "        vertical-align: middle;\n",
       "    }\n",
       "\n",
       "    .dataframe tbody tr th {\n",
       "        vertical-align: top;\n",
       "    }\n",
       "\n",
       "    .dataframe thead th {\n",
       "        text-align: right;\n",
       "    }\n",
       "</style>\n",
       "<table border=\"1\" class=\"dataframe\">\n",
       "  <thead>\n",
       "    <tr style=\"text-align: right;\">\n",
       "      <th></th>\n",
       "      <th>driver</th>\n",
       "      <th>car</th>\n",
       "      <th>car_type</th>\n",
       "      <th>fuel_rate</th>\n",
       "    </tr>\n",
       "  </thead>\n",
       "  <tbody>\n",
       "    <tr>\n",
       "      <th>0</th>\n",
       "      <td>Петров А.Б</td>\n",
       "      <td>Б432АВ</td>\n",
       "      <td>Грузовик</td>\n",
       "      <td>14.2</td>\n",
       "    </tr>\n",
       "    <tr>\n",
       "      <th>1</th>\n",
       "      <td>Скворцов М.В.</td>\n",
       "      <td>М012ГД</td>\n",
       "      <td>Легковая</td>\n",
       "      <td>9,8</td>\n",
       "    </tr>\n",
       "    <tr>\n",
       "      <th>2</th>\n",
       "      <td>Адреев Н.И.</td>\n",
       "      <td>Б122УВ</td>\n",
       "      <td>Автобус</td>\n",
       "      <td>19.4</td>\n",
       "    </tr>\n",
       "    <tr>\n",
       "      <th>3</th>\n",
       "      <td>Водитель Орлов Б.А.</td>\n",
       "      <td>А4212ЛД</td>\n",
       "      <td>Автокран</td>\n",
       "      <td>25,6</td>\n",
       "    </tr>\n",
       "    <tr>\n",
       "      <th>4</th>\n",
       "      <td>Михайлов Д.В. (уволен 01.01.2022)</td>\n",
       "      <td>432ЯАВ</td>\n",
       "      <td>?</td>\n",
       "      <td>7.8</td>\n",
       "    </tr>\n",
       "    <tr>\n",
       "      <th>5</th>\n",
       "      <td>Торетто Игорь Степанович (уволен за превышение...</td>\n",
       "      <td>432А</td>\n",
       "      <td>?</td>\n",
       "      <td>5.5</td>\n",
       "    </tr>\n",
       "  </tbody>\n",
       "</table>\n",
       "</div>"
      ],
      "text/plain": [
       "                                              driver      car  car_type  \\\n",
       "0                                         Петров А.Б   Б432АВ  Грузовик   \n",
       "1                                      Скворцов М.В.   М012ГД  Легковая   \n",
       "2                                        Адреев Н.И.   Б122УВ   Автобус   \n",
       "3                                Водитель Орлов Б.А.  А4212ЛД  Автокран   \n",
       "4                  Михайлов Д.В. (уволен 01.01.2022)   432ЯАВ         ?   \n",
       "5  Торетто Игорь Степанович (уволен за превышение...     432А         ?   \n",
       "\n",
       "  fuel_rate  \n",
       "0      14.2  \n",
       "1       9,8  \n",
       "2      19.4  \n",
       "3      25,6  \n",
       "4       7.8  \n",
       "5       5.5  "
      ]
     },
     "execution_count": 193,
     "metadata": {},
     "output_type": "execute_result"
    }
   ],
   "source": [
    "df"
   ]
  },
  {
   "cell_type": "code",
   "execution_count": 194,
   "id": "79eaaf02",
   "metadata": {},
   "outputs": [],
   "source": [
    "#Заворачию в функцию\n",
    "def solution(df):\n",
    "    df['car'] = df['car'].str[0].str.replace('В','Б') + df['car'].str[1:]\n",
    "    return df"
   ]
  },
  {
   "cell_type": "code",
   "execution_count": 197,
   "id": "4dc13c28",
   "metadata": {},
   "outputs": [
    {
     "data": {
      "text/html": [
       "<div>\n",
       "<style scoped>\n",
       "    .dataframe tbody tr th:only-of-type {\n",
       "        vertical-align: middle;\n",
       "    }\n",
       "\n",
       "    .dataframe tbody tr th {\n",
       "        vertical-align: top;\n",
       "    }\n",
       "\n",
       "    .dataframe thead th {\n",
       "        text-align: right;\n",
       "    }\n",
       "</style>\n",
       "<table border=\"1\" class=\"dataframe\">\n",
       "  <thead>\n",
       "    <tr style=\"text-align: right;\">\n",
       "      <th></th>\n",
       "      <th>driver</th>\n",
       "      <th>car</th>\n",
       "      <th>car_type</th>\n",
       "      <th>fuel_rate</th>\n",
       "    </tr>\n",
       "  </thead>\n",
       "  <tbody>\n",
       "    <tr>\n",
       "      <th>0</th>\n",
       "      <td>Петров А.Б</td>\n",
       "      <td>Б432АВ</td>\n",
       "      <td>Грузовик</td>\n",
       "      <td>14.2</td>\n",
       "    </tr>\n",
       "    <tr>\n",
       "      <th>1</th>\n",
       "      <td>Скворцов М.В.</td>\n",
       "      <td>М012ГД</td>\n",
       "      <td>Легковая</td>\n",
       "      <td>9,8</td>\n",
       "    </tr>\n",
       "    <tr>\n",
       "      <th>2</th>\n",
       "      <td>Адреев Н.И.</td>\n",
       "      <td>Б122УВ</td>\n",
       "      <td>Автобус</td>\n",
       "      <td>19.4</td>\n",
       "    </tr>\n",
       "    <tr>\n",
       "      <th>3</th>\n",
       "      <td>Водитель Орлов Б.А.</td>\n",
       "      <td>А4212ЛД</td>\n",
       "      <td>Автокран</td>\n",
       "      <td>25,6</td>\n",
       "    </tr>\n",
       "    <tr>\n",
       "      <th>4</th>\n",
       "      <td>Михайлов Д.В. (уволен 01.01.2022)</td>\n",
       "      <td>432ЯАВ</td>\n",
       "      <td>?</td>\n",
       "      <td>7.8</td>\n",
       "    </tr>\n",
       "    <tr>\n",
       "      <th>5</th>\n",
       "      <td>Торетто Игорь Степанович (уволен за превышение...</td>\n",
       "      <td>432А</td>\n",
       "      <td>?</td>\n",
       "      <td>5.5</td>\n",
       "    </tr>\n",
       "  </tbody>\n",
       "</table>\n",
       "</div>"
      ],
      "text/plain": [
       "                                              driver      car  car_type  \\\n",
       "0                                         Петров А.Б   Б432АВ  Грузовик   \n",
       "1                                      Скворцов М.В.   М012ГД  Легковая   \n",
       "2                                        Адреев Н.И.   Б122УВ   Автобус   \n",
       "3                                Водитель Орлов Б.А.  А4212ЛД  Автокран   \n",
       "4                  Михайлов Д.В. (уволен 01.01.2022)   432ЯАВ         ?   \n",
       "5  Торетто Игорь Степанович (уволен за превышение...     432А         ?   \n",
       "\n",
       "  fuel_rate  \n",
       "0      14.2  \n",
       "1       9,8  \n",
       "2      19.4  \n",
       "3      25,6  \n",
       "4       7.8  \n",
       "5       5.5  "
      ]
     },
     "execution_count": 197,
     "metadata": {},
     "output_type": "execute_result"
    }
   ],
   "source": [
    "#Проверяем\n",
    "solution(df)"
   ]
  },
  {
   "cell_type": "code",
   "execution_count": 198,
   "id": "6e75825b",
   "metadata": {},
   "outputs": [],
   "source": [
    "#Решения коллег с курса, показавшиеся наиболее лучшими"
   ]
  },
  {
   "cell_type": "code",
   "execution_count": 199,
   "id": "cb42b955",
   "metadata": {},
   "outputs": [],
   "source": [
    "def solution(df):\n",
    "    df['car'] = df.car.str.replace('^В', 'Б', regex=True)\n",
    "    return df"
   ]
  }
 ],
 "metadata": {
  "kernelspec": {
   "display_name": "Python 3 (ipykernel)",
   "language": "python",
   "name": "python3"
  },
  "language_info": {
   "codemirror_mode": {
    "name": "ipython",
    "version": 3
   },
   "file_extension": ".py",
   "mimetype": "text/x-python",
   "name": "python",
   "nbconvert_exporter": "python",
   "pygments_lexer": "ipython3",
   "version": "3.9.12"
  }
 },
 "nbformat": 4,
 "nbformat_minor": 5
}
