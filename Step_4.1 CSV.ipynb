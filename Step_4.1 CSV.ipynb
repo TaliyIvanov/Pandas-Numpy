{
 "cells": [
  {
   "cell_type": "code",
   "execution_count": 2,
   "id": "63052388",
   "metadata": {},
   "outputs": [],
   "source": [
    "import numpy as np\n",
    "import pandas as pd"
   ]
  },
  {
   "cell_type": "markdown",
   "id": "653574e6",
   "metadata": {},
   "source": [
    "csv - comma separated values - значения, разделенные запятыми"
   ]
  },
  {
   "cell_type": "markdown",
   "id": "38c5f78f",
   "metadata": {},
   "source": [
    "- Разберем механизм чтения файла и создания DataFrame\n",
    "\n",
    "Это просто пример для понимания как работает функция чтения csv файла!"
   ]
  },
  {
   "cell_type": "code",
   "execution_count": 19,
   "id": "8f5192bf",
   "metadata": {},
   "outputs": [],
   "source": [
    "#загрузить файл можно с помощью следующей команды\n",
    "f = open('example.csv')"
   ]
  },
  {
   "cell_type": "code",
   "execution_count": 6,
   "id": "6de6bc41",
   "metadata": {},
   "outputs": [
    {
     "name": "stdout",
     "output_type": "stream",
     "text": [
      "a,b,c\n",
      "\n",
      "1,2,3\n",
      "\n",
      "4,5,6\n",
      "\n",
      "7,8,9\n"
     ]
    }
   ],
   "source": [
    "#Получения данных\n",
    "for line in f:\n",
    "    print(line)"
   ]
  },
  {
   "cell_type": "code",
   "execution_count": 13,
   "id": "35a095d5",
   "metadata": {},
   "outputs": [
    {
     "name": "stdout",
     "output_type": "stream",
     "text": [
      "['a', 'b', 'c\\n']\n",
      "['1', '2', '3\\n']\n",
      "['4', '5', '6\\n']\n",
      "['7', '8', '9']\n"
     ]
    }
   ],
   "source": [
    "#Разделение по сепаратору\n",
    "for line in f:\n",
    "    print(line.split(','))\n"
   ]
  },
  {
   "cell_type": "code",
   "execution_count": 20,
   "id": "70b0d713",
   "metadata": {},
   "outputs": [],
   "source": [
    "#Присвоение значений матрице\n",
    "matrix = []\n",
    "for line in f:\n",
    "    _lst = line.split(',')\n",
    "    matrix.append(_lst)"
   ]
  },
  {
   "cell_type": "code",
   "execution_count": 21,
   "id": "4f94cf24",
   "metadata": {},
   "outputs": [
    {
     "data": {
      "text/plain": [
       "[['a', 'b', 'c\\n'], ['1', '2', '3\\n'], ['4', '5', '6\\n'], ['7', '8', '9']]"
      ]
     },
     "execution_count": 21,
     "metadata": {},
     "output_type": "execute_result"
    }
   ],
   "source": [
    "matrix"
   ]
  },
  {
   "cell_type": "code",
   "execution_count": 26,
   "id": "451cbc8c",
   "metadata": {},
   "outputs": [
    {
     "data": {
      "text/html": [
       "<div>\n",
       "<style scoped>\n",
       "    .dataframe tbody tr th:only-of-type {\n",
       "        vertical-align: middle;\n",
       "    }\n",
       "\n",
       "    .dataframe tbody tr th {\n",
       "        vertical-align: top;\n",
       "    }\n",
       "\n",
       "    .dataframe thead th {\n",
       "        text-align: right;\n",
       "    }\n",
       "</style>\n",
       "<table border=\"1\" class=\"dataframe\">\n",
       "  <thead>\n",
       "    <tr style=\"text-align: right;\">\n",
       "      <th></th>\n",
       "      <th>a</th>\n",
       "      <th>b</th>\n",
       "      <th>c</th>\n",
       "    </tr>\n",
       "  </thead>\n",
       "  <tbody>\n",
       "    <tr>\n",
       "      <th>0</th>\n",
       "      <td>a</td>\n",
       "      <td>b</td>\n",
       "      <td>c\\n</td>\n",
       "    </tr>\n",
       "    <tr>\n",
       "      <th>1</th>\n",
       "      <td>1</td>\n",
       "      <td>2</td>\n",
       "      <td>3\\n</td>\n",
       "    </tr>\n",
       "    <tr>\n",
       "      <th>2</th>\n",
       "      <td>4</td>\n",
       "      <td>5</td>\n",
       "      <td>6\\n</td>\n",
       "    </tr>\n",
       "    <tr>\n",
       "      <th>3</th>\n",
       "      <td>7</td>\n",
       "      <td>8</td>\n",
       "      <td>9</td>\n",
       "    </tr>\n",
       "  </tbody>\n",
       "</table>\n",
       "</div>"
      ],
      "text/plain": [
       "   a  b    c\n",
       "0  a  b  c\\n\n",
       "1  1  2  3\\n\n",
       "2  4  5  6\\n\n",
       "3  7  8    9"
      ]
     },
     "execution_count": 26,
     "metadata": {},
     "output_type": "execute_result"
    }
   ],
   "source": [
    "#Создание датафрэйма по матрице\n",
    "df = pd.DataFrame(matrix, columns = ['a','b','c'])\n",
    "df"
   ]
  },
  {
   "cell_type": "markdown",
   "id": "c26fbb55",
   "metadata": {},
   "source": [
    "- Разумеется это не весь код. Т.к. у нас могт быть пропуски и т.д. В коде появятся различные ответвления для того или иного случая. Поэтому это все учли разработчки Pandas"
   ]
  },
  {
   "cell_type": "markdown",
   "id": "ca3af298",
   "metadata": {},
   "source": [
    "- .read_csv\n",
    "\n",
    "ВАЖНО!!!  - nrowsint, optional\n",
    "Number of rows of file to read. Useful for reading pieces of large files."
   ]
  },
  {
   "cell_type": "code",
   "execution_count": 28,
   "id": "2f76e8e8",
   "metadata": {},
   "outputs": [
    {
     "data": {
      "text/html": [
       "<div>\n",
       "<style scoped>\n",
       "    .dataframe tbody tr th:only-of-type {\n",
       "        vertical-align: middle;\n",
       "    }\n",
       "\n",
       "    .dataframe tbody tr th {\n",
       "        vertical-align: top;\n",
       "    }\n",
       "\n",
       "    .dataframe thead th {\n",
       "        text-align: right;\n",
       "    }\n",
       "</style>\n",
       "<table border=\"1\" class=\"dataframe\">\n",
       "  <thead>\n",
       "    <tr style=\"text-align: right;\">\n",
       "      <th></th>\n",
       "      <th>a</th>\n",
       "      <th>b</th>\n",
       "      <th>c</th>\n",
       "    </tr>\n",
       "  </thead>\n",
       "  <tbody>\n",
       "    <tr>\n",
       "      <th>0</th>\n",
       "      <td>1</td>\n",
       "      <td>2</td>\n",
       "      <td>3</td>\n",
       "    </tr>\n",
       "    <tr>\n",
       "      <th>1</th>\n",
       "      <td>4</td>\n",
       "      <td>5</td>\n",
       "      <td>6</td>\n",
       "    </tr>\n",
       "    <tr>\n",
       "      <th>2</th>\n",
       "      <td>7</td>\n",
       "      <td>8</td>\n",
       "      <td>9</td>\n",
       "    </tr>\n",
       "  </tbody>\n",
       "</table>\n",
       "</div>"
      ],
      "text/plain": [
       "   a  b  c\n",
       "0  1  2  3\n",
       "1  4  5  6\n",
       "2  7  8  9"
      ]
     },
     "execution_count": 28,
     "metadata": {},
     "output_type": "execute_result"
    }
   ],
   "source": [
    "df = pd.read_csv('example.csv')\n",
    "df"
   ]
  },
  {
   "cell_type": "markdown",
   "id": "71911d8f",
   "metadata": {},
   "source": [
    "- Указание пути к файлу\n",
    "\n",
    "Важно, при указании пути к файлу. необходимо развернуть наши слэши. Иначе функция ждет получения служебного символа.\n",
    "\n",
    "Python ожидает, что после символов \\u будет идти код символа в кодировке Unicode, но увидел какие-то другие символы и выдал ошибку. Со временем вы лучше будете понимать происходящее, а сейчас для указания пути используйте / (слэш на правую сторону)\n",
    "\n",
    "Вам может повезти и в пути не встретятся служебные символы (\\t \\n \\u), тогда всё сработает и со слэшами с наклоном налево, но гораздо проще использовать слэш с наклоном на правую сторону и не думать о возможных проблемах.\n",
    "\n",
    "Это поможет избежать вам избежать сложностей при чтении файлов."
   ]
  },
  {
   "cell_type": "code",
   "execution_count": 29,
   "id": "be9d9d34",
   "metadata": {},
   "outputs": [
    {
     "data": {
      "text/html": [
       "<div>\n",
       "<style scoped>\n",
       "    .dataframe tbody tr th:only-of-type {\n",
       "        vertical-align: middle;\n",
       "    }\n",
       "\n",
       "    .dataframe tbody tr th {\n",
       "        vertical-align: top;\n",
       "    }\n",
       "\n",
       "    .dataframe thead th {\n",
       "        text-align: right;\n",
       "    }\n",
       "</style>\n",
       "<table border=\"1\" class=\"dataframe\">\n",
       "  <thead>\n",
       "    <tr style=\"text-align: right;\">\n",
       "      <th></th>\n",
       "      <th>a</th>\n",
       "      <th>b</th>\n",
       "      <th>c</th>\n",
       "    </tr>\n",
       "  </thead>\n",
       "  <tbody>\n",
       "    <tr>\n",
       "      <th>0</th>\n",
       "      <td>1</td>\n",
       "      <td>2</td>\n",
       "      <td>3</td>\n",
       "    </tr>\n",
       "    <tr>\n",
       "      <th>1</th>\n",
       "      <td>4</td>\n",
       "      <td>5</td>\n",
       "      <td>6</td>\n",
       "    </tr>\n",
       "    <tr>\n",
       "      <th>2</th>\n",
       "      <td>7</td>\n",
       "      <td>8</td>\n",
       "      <td>9</td>\n",
       "    </tr>\n",
       "  </tbody>\n",
       "</table>\n",
       "</div>"
      ],
      "text/plain": [
       "   a  b  c\n",
       "0  1  2  3\n",
       "1  4  5  6\n",
       "2  7  8  9"
      ]
     },
     "execution_count": 29,
     "metadata": {},
     "output_type": "execute_result"
    }
   ],
   "source": [
    "#Такая запись может выдать ошибку\n",
    "df2 = pd.read_csv('Z:\\Programming\\DataSciense\\Stepik_Pandas_Numpy\\example2.csv')\n",
    "df2"
   ]
  },
  {
   "cell_type": "code",
   "execution_count": 31,
   "id": "d0471c51",
   "metadata": {},
   "outputs": [
    {
     "data": {
      "text/html": [
       "<div>\n",
       "<style scoped>\n",
       "    .dataframe tbody tr th:only-of-type {\n",
       "        vertical-align: middle;\n",
       "    }\n",
       "\n",
       "    .dataframe tbody tr th {\n",
       "        vertical-align: top;\n",
       "    }\n",
       "\n",
       "    .dataframe thead th {\n",
       "        text-align: right;\n",
       "    }\n",
       "</style>\n",
       "<table border=\"1\" class=\"dataframe\">\n",
       "  <thead>\n",
       "    <tr style=\"text-align: right;\">\n",
       "      <th></th>\n",
       "      <th>a</th>\n",
       "      <th>b</th>\n",
       "      <th>c</th>\n",
       "    </tr>\n",
       "  </thead>\n",
       "  <tbody>\n",
       "    <tr>\n",
       "      <th>0</th>\n",
       "      <td>1</td>\n",
       "      <td>2</td>\n",
       "      <td>3</td>\n",
       "    </tr>\n",
       "    <tr>\n",
       "      <th>1</th>\n",
       "      <td>4</td>\n",
       "      <td>5</td>\n",
       "      <td>6</td>\n",
       "    </tr>\n",
       "    <tr>\n",
       "      <th>2</th>\n",
       "      <td>7</td>\n",
       "      <td>8</td>\n",
       "      <td>9</td>\n",
       "    </tr>\n",
       "  </tbody>\n",
       "</table>\n",
       "</div>"
      ],
      "text/plain": [
       "   a  b  c\n",
       "0  1  2  3\n",
       "1  4  5  6\n",
       "2  7  8  9"
      ]
     },
     "execution_count": 31,
     "metadata": {},
     "output_type": "execute_result"
    }
   ],
   "source": [
    "#Корректно писать именно так\n",
    "df2 = pd.read_csv('Z:/Programming/DataSciense/Stepik_Pandas_Numpy/example2.csv')\n",
    "df2"
   ]
  },
  {
   "cell_type": "code",
   "execution_count": null,
   "id": "0589a690",
   "metadata": {},
   "outputs": [],
   "source": [
    "#Либо указывайте два слэша"
   ]
  },
  {
   "cell_type": "code",
   "execution_count": 32,
   "id": "f1012a3a",
   "metadata": {},
   "outputs": [
    {
     "data": {
      "text/html": [
       "<div>\n",
       "<style scoped>\n",
       "    .dataframe tbody tr th:only-of-type {\n",
       "        vertical-align: middle;\n",
       "    }\n",
       "\n",
       "    .dataframe tbody tr th {\n",
       "        vertical-align: top;\n",
       "    }\n",
       "\n",
       "    .dataframe thead th {\n",
       "        text-align: right;\n",
       "    }\n",
       "</style>\n",
       "<table border=\"1\" class=\"dataframe\">\n",
       "  <thead>\n",
       "    <tr style=\"text-align: right;\">\n",
       "      <th></th>\n",
       "      <th>a</th>\n",
       "      <th>b</th>\n",
       "      <th>c</th>\n",
       "    </tr>\n",
       "  </thead>\n",
       "  <tbody>\n",
       "    <tr>\n",
       "      <th>0</th>\n",
       "      <td>1</td>\n",
       "      <td>2</td>\n",
       "      <td>3</td>\n",
       "    </tr>\n",
       "    <tr>\n",
       "      <th>1</th>\n",
       "      <td>4</td>\n",
       "      <td>5</td>\n",
       "      <td>6</td>\n",
       "    </tr>\n",
       "    <tr>\n",
       "      <th>2</th>\n",
       "      <td>7</td>\n",
       "      <td>8</td>\n",
       "      <td>9</td>\n",
       "    </tr>\n",
       "  </tbody>\n",
       "</table>\n",
       "</div>"
      ],
      "text/plain": [
       "   a  b  c\n",
       "0  1  2  3\n",
       "1  4  5  6\n",
       "2  7  8  9"
      ]
     },
     "execution_count": 32,
     "metadata": {},
     "output_type": "execute_result"
    }
   ],
   "source": [
    "#Такая запись может выдать ошибку\n",
    "df2 = pd.read_csv('Z:\\\\Programming\\\\DataSciense\\\\Stepik_Pandas_Numpy\\\\example2.csv')\n",
    "df2"
   ]
  },
  {
   "cell_type": "markdown",
   "id": "5d64b7c8",
   "metadata": {},
   "source": [
    "По умолчанию у функции read_csv параметр sep=',' , но если вы видите, что у вас в файле другой разделитель, то вы можете его заменить, например, на точку с запятой sep=';'"
   ]
  },
  {
   "cell_type": "markdown",
   "id": "fb2ea982",
   "metadata": {},
   "source": [
    "- ссылка на документацию read_csv\n",
    "\n",
    "https://pandas.pydata.org/docs/reference/api/pandas.read_csv.html"
   ]
  },
  {
   "cell_type": "markdown",
   "id": "b3bad575",
   "metadata": {},
   "source": [
    "- Задача №1\n",
    "Задание:\n",
    "\n",
    "1) скачайте файл с данными\n",
    "\n",
    "2) определите разделитель и загрузите данные в датафрейм\n",
    "\n",
    "3) определите название станции, на которой было наибольшее количество входов за 4 квартал 2021 года\n",
    "\n",
    "В ответе укажите название станции"
   ]
  },
  {
   "cell_type": "code",
   "execution_count": 109,
   "id": "fc4f5190",
   "metadata": {},
   "outputs": [],
   "source": [
    "df_metro = pd.read_csv('Z:\\\\Programming\\\\DataSciense\\\\Stepik_Pandas_Numpy\\\\Пассажиропоток_МосМетро_2.csv', sep = ';', skiprows=[1])"
   ]
  },
  {
   "cell_type": "code",
   "execution_count": 79,
   "id": "aaf7c6f3",
   "metadata": {},
   "outputs": [],
   "source": [
    "#План выполнения:\n",
    "#Получить записи только 4 квартала 2021\n",
    "#Получить станцию с максимальным количеством входов"
   ]
  },
  {
   "cell_type": "code",
   "execution_count": 111,
   "id": "4bf7bd26",
   "metadata": {},
   "outputs": [],
   "source": [
    "df_m_s = df_metro[(df_metro['Year'] == 2021) & (df_metro['Quarter'] == \t'I квартал')]"
   ]
  },
  {
   "cell_type": "code",
   "execution_count": 112,
   "id": "3c67078f",
   "metadata": {},
   "outputs": [
    {
     "data": {
      "text/plain": [
       "509    Комсомольская\n",
       "Name: NameOfStation, dtype: object"
      ]
     },
     "execution_count": 112,
     "metadata": {},
     "output_type": "execute_result"
    }
   ],
   "source": [
    "df_m_s.loc[df_m_s['IncomingPassengers'] == df_m_s.IncomingPassengers.max()]['NameOfStation']"
   ]
  },
  {
   "cell_type": "markdown",
   "id": "4afecf2e",
   "metadata": {},
   "source": [
    "- Задача №2\n",
    "Задание:\n",
    "\n",
    "1) скачайте файл с данными\n",
    "\n",
    "2) определите разделитель и загрузите данные в датафрейм. Возможно потребуется пропустить какие-то записи для того чтобы загрузка прошла успешно.\n",
    "\n",
    "3) определите сколько всего было входов по всем станциям за всё время (сумма по столбцу IncomingPassengers)\n",
    "\n",
    "В ответе укажите целое число без пробелов"
   ]
  },
  {
   "cell_type": "code",
   "execution_count": 78,
   "id": "7086fd37",
   "metadata": {},
   "outputs": [],
   "source": [
    "df_m2 = pd.read_csv('Z:\\\\Programming\\\\DataSciense\\\\Stepik_Pandas_Numpy\\\\Пассажиропоток_МосМетро_4.2.1.csv', sep = '|',skiprows=[0,1,2,3,5,6])"
   ]
  },
  {
   "cell_type": "code",
   "execution_count": 79,
   "id": "1a2cd95d",
   "metadata": {},
   "outputs": [
    {
     "data": {
      "text/html": [
       "<div>\n",
       "<style scoped>\n",
       "    .dataframe tbody tr th:only-of-type {\n",
       "        vertical-align: middle;\n",
       "    }\n",
       "\n",
       "    .dataframe tbody tr th {\n",
       "        vertical-align: top;\n",
       "    }\n",
       "\n",
       "    .dataframe thead th {\n",
       "        text-align: right;\n",
       "    }\n",
       "</style>\n",
       "<table border=\"1\" class=\"dataframe\">\n",
       "  <thead>\n",
       "    <tr style=\"text-align: right;\">\n",
       "      <th></th>\n",
       "      <th>NameOfStation</th>\n",
       "      <th>Line</th>\n",
       "      <th>Year</th>\n",
       "      <th>Quarter</th>\n",
       "      <th>IncomingPassengers</th>\n",
       "      <th>OutgoingPassengers</th>\n",
       "      <th>global_id</th>\n",
       "      <th>NameOfStation_en</th>\n",
       "      <th>Line_en</th>\n",
       "      <th>Year_en</th>\n",
       "      <th>Quarter_en</th>\n",
       "      <th>IncomingPassengers_en</th>\n",
       "      <th>OutgoingPassengers_en</th>\n",
       "      <th>Unnamed: 13</th>\n",
       "    </tr>\n",
       "  </thead>\n",
       "  <tbody>\n",
       "    <tr>\n",
       "      <th>0</th>\n",
       "      <td>Митино</td>\n",
       "      <td>Арбатско-Покровская линия</td>\n",
       "      <td>2021.0</td>\n",
       "      <td>I квартал</td>\n",
       "      <td>1913498.0</td>\n",
       "      <td>1829031.0</td>\n",
       "      <td>1.138976e+09</td>\n",
       "      <td>NaN</td>\n",
       "      <td>NaN</td>\n",
       "      <td>NaN</td>\n",
       "      <td>NaN</td>\n",
       "      <td>NaN</td>\n",
       "      <td>NaN</td>\n",
       "      <td>NaN</td>\n",
       "    </tr>\n",
       "    <tr>\n",
       "      <th>1</th>\n",
       "      <td>Волоколамская</td>\n",
       "      <td>Арбатско-Покровская линия</td>\n",
       "      <td>2021.0</td>\n",
       "      <td>I квартал</td>\n",
       "      <td>1236714.0</td>\n",
       "      <td>1222309.0</td>\n",
       "      <td>1.138976e+09</td>\n",
       "      <td>NaN</td>\n",
       "      <td>NaN</td>\n",
       "      <td>NaN</td>\n",
       "      <td>NaN</td>\n",
       "      <td>NaN</td>\n",
       "      <td>NaN</td>\n",
       "      <td>NaN</td>\n",
       "    </tr>\n",
       "    <tr>\n",
       "      <th>2</th>\n",
       "      <td>Строгино</td>\n",
       "      <td>Арбатско-Покровская линия</td>\n",
       "      <td>2021.0</td>\n",
       "      <td>I квартал</td>\n",
       "      <td>1938816.0</td>\n",
       "      <td>1903731.0</td>\n",
       "      <td>1.138976e+09</td>\n",
       "      <td>NaN</td>\n",
       "      <td>NaN</td>\n",
       "      <td>NaN</td>\n",
       "      <td>NaN</td>\n",
       "      <td>NaN</td>\n",
       "      <td>NaN</td>\n",
       "      <td>NaN</td>\n",
       "    </tr>\n",
       "    <tr>\n",
       "      <th>3</th>\n",
       "      <td>Крылатское</td>\n",
       "      <td>Арбатско-Покровская линия</td>\n",
       "      <td>2021.0</td>\n",
       "      <td>I квартал</td>\n",
       "      <td>1849616.0</td>\n",
       "      <td>1818208.0</td>\n",
       "      <td>1.138976e+09</td>\n",
       "      <td>NaN</td>\n",
       "      <td>NaN</td>\n",
       "      <td>NaN</td>\n",
       "      <td>NaN</td>\n",
       "      <td>NaN</td>\n",
       "      <td>NaN</td>\n",
       "      <td>NaN</td>\n",
       "    </tr>\n",
       "    <tr>\n",
       "      <th>4</th>\n",
       "      <td>Площадь Революции</td>\n",
       "      <td>Арбатско-Покровская линия</td>\n",
       "      <td>2021.0</td>\n",
       "      <td>I квартал</td>\n",
       "      <td>2324687.0</td>\n",
       "      <td>2319343.0</td>\n",
       "      <td>1.138976e+09</td>\n",
       "      <td>NaN</td>\n",
       "      <td>NaN</td>\n",
       "      <td>NaN</td>\n",
       "      <td>NaN</td>\n",
       "      <td>NaN</td>\n",
       "      <td>NaN</td>\n",
       "      <td>NaN</td>\n",
       "    </tr>\n",
       "  </tbody>\n",
       "</table>\n",
       "</div>"
      ],
      "text/plain": [
       "       NameOfStation                       Line    Year    Quarter  \\\n",
       "0             Митино  Арбатско-Покровская линия  2021.0  I квартал   \n",
       "1      Волоколамская  Арбатско-Покровская линия  2021.0  I квартал   \n",
       "2           Строгино  Арбатско-Покровская линия  2021.0  I квартал   \n",
       "3         Крылатское  Арбатско-Покровская линия  2021.0  I квартал   \n",
       "4  Площадь Революции  Арбатско-Покровская линия  2021.0  I квартал   \n",
       "\n",
       "   IncomingPassengers  OutgoingPassengers     global_id  NameOfStation_en  \\\n",
       "0           1913498.0           1829031.0  1.138976e+09               NaN   \n",
       "1           1236714.0           1222309.0  1.138976e+09               NaN   \n",
       "2           1938816.0           1903731.0  1.138976e+09               NaN   \n",
       "3           1849616.0           1818208.0  1.138976e+09               NaN   \n",
       "4           2324687.0           2319343.0  1.138976e+09               NaN   \n",
       "\n",
       "   Line_en  Year_en  Quarter_en  IncomingPassengers_en  OutgoingPassengers_en  \\\n",
       "0      NaN      NaN         NaN                    NaN                    NaN   \n",
       "1      NaN      NaN         NaN                    NaN                    NaN   \n",
       "2      NaN      NaN         NaN                    NaN                    NaN   \n",
       "3      NaN      NaN         NaN                    NaN                    NaN   \n",
       "4      NaN      NaN         NaN                    NaN                    NaN   \n",
       "\n",
       "   Unnamed: 13  \n",
       "0          NaN  \n",
       "1          NaN  \n",
       "2          NaN  \n",
       "3          NaN  \n",
       "4          NaN  "
      ]
     },
     "execution_count": 79,
     "metadata": {},
     "output_type": "execute_result"
    }
   ],
   "source": [
    "df_m2.head(5)"
   ]
  },
  {
   "cell_type": "code",
   "execution_count": 81,
   "id": "cce60903",
   "metadata": {},
   "outputs": [
    {
     "data": {
      "text/plain": [
       "2514195123.0"
      ]
     },
     "execution_count": 81,
     "metadata": {},
     "output_type": "execute_result"
    }
   ],
   "source": [
    "df_m2.IncomingPassengers.fillna(0).sum()"
   ]
  },
  {
   "cell_type": "markdown",
   "id": "c475919f",
   "metadata": {},
   "source": [
    "Задача №3\n",
    "Задание:\n",
    "\n",
    "1) скачайте файл с данными (это новый файл и он отличается от файла с предыдущего степа)\n",
    "\n",
    "В столбце IncomingPassengers присутствуют пропущенные значения: 0, NULL, None, не указано\n",
    "\n",
    "2) определите разделитель и загрузите данные в датафрейм. На этапе загрузки сконвертируйте 0, NULL, None, не указано в NaN\n",
    "\n",
    "В столбце OutgoingPassengers нули не должны сконвертироваться в NaN!\n",
    "\n",
    "3) С помощью функции pd.isnull определите количество записей, у которых пропущено значение в столбце IncomingPassengers\n",
    "\n",
    "В ответе укажите число строк в которых пропущено значение в столбце IncomingPassengers"
   ]
  },
  {
   "cell_type": "code",
   "execution_count": 85,
   "id": "43864a9c",
   "metadata": {},
   "outputs": [],
   "source": [
    "df_m3 = pd.read_csv('Z:\\\\Programming\\\\DataSciense\\\\Stepik_Pandas_Numpy\\\\Пассажиропоток_МосМетро_4.2.2.csv', na_values={'IncomingPassengers':[0, 'NULL', None, 'не указано']},sep = '|')"
   ]
  },
  {
   "cell_type": "code",
   "execution_count": 86,
   "id": "e497ecda",
   "metadata": {},
   "outputs": [
    {
     "data": {
      "text/html": [
       "<div>\n",
       "<style scoped>\n",
       "    .dataframe tbody tr th:only-of-type {\n",
       "        vertical-align: middle;\n",
       "    }\n",
       "\n",
       "    .dataframe tbody tr th {\n",
       "        vertical-align: top;\n",
       "    }\n",
       "\n",
       "    .dataframe thead th {\n",
       "        text-align: right;\n",
       "    }\n",
       "</style>\n",
       "<table border=\"1\" class=\"dataframe\">\n",
       "  <thead>\n",
       "    <tr style=\"text-align: right;\">\n",
       "      <th></th>\n",
       "      <th>NameOfStation</th>\n",
       "      <th>Line</th>\n",
       "      <th>Year</th>\n",
       "      <th>Quarter</th>\n",
       "      <th>IncomingPassengers</th>\n",
       "      <th>OutgoingPassengers</th>\n",
       "      <th>global_id</th>\n",
       "      <th>NameOfStation_en</th>\n",
       "      <th>Line_en</th>\n",
       "      <th>Year_en</th>\n",
       "      <th>Quarter_en</th>\n",
       "      <th>IncomingPassengers_en</th>\n",
       "      <th>OutgoingPassengers_en</th>\n",
       "      <th>Unnamed: 13</th>\n",
       "    </tr>\n",
       "  </thead>\n",
       "  <tbody>\n",
       "    <tr>\n",
       "      <th>0</th>\n",
       "      <td>Станция метрополитена</td>\n",
       "      <td>Линия</td>\n",
       "      <td>Год</td>\n",
       "      <td>Квартал</td>\n",
       "      <td>Входы пассажиров</td>\n",
       "      <td>Выходы пассажиров</td>\n",
       "      <td>global_id</td>\n",
       "      <td>NameOfStation_en</td>\n",
       "      <td>Line_en</td>\n",
       "      <td>Year_en</td>\n",
       "      <td>Quarter_en</td>\n",
       "      <td>IncomingPassengers_en</td>\n",
       "      <td>OutgoingPassengers_en</td>\n",
       "      <td>NaN</td>\n",
       "    </tr>\n",
       "    <tr>\n",
       "      <th>1</th>\n",
       "      <td>Митино</td>\n",
       "      <td>Арбатско-Покровская линия</td>\n",
       "      <td>2021</td>\n",
       "      <td>I квартал</td>\n",
       "      <td>1913498</td>\n",
       "      <td>1829031</td>\n",
       "      <td>1138975996</td>\n",
       "      <td>NaN</td>\n",
       "      <td>NaN</td>\n",
       "      <td>NaN</td>\n",
       "      <td>NaN</td>\n",
       "      <td>NaN</td>\n",
       "      <td>NaN</td>\n",
       "      <td>NaN</td>\n",
       "    </tr>\n",
       "    <tr>\n",
       "      <th>2</th>\n",
       "      <td>Волоколамская</td>\n",
       "      <td>Арбатско-Покровская линия</td>\n",
       "      <td>2021</td>\n",
       "      <td>I квартал</td>\n",
       "      <td>1236714</td>\n",
       "      <td>1222309</td>\n",
       "      <td>1138975997</td>\n",
       "      <td>NaN</td>\n",
       "      <td>NaN</td>\n",
       "      <td>NaN</td>\n",
       "      <td>NaN</td>\n",
       "      <td>NaN</td>\n",
       "      <td>NaN</td>\n",
       "      <td>NaN</td>\n",
       "    </tr>\n",
       "    <tr>\n",
       "      <th>3</th>\n",
       "      <td>Строгино</td>\n",
       "      <td>Арбатско-Покровская линия</td>\n",
       "      <td>2021</td>\n",
       "      <td>I квартал</td>\n",
       "      <td>1938816</td>\n",
       "      <td>1903731</td>\n",
       "      <td>1138975999</td>\n",
       "      <td>NaN</td>\n",
       "      <td>NaN</td>\n",
       "      <td>NaN</td>\n",
       "      <td>NaN</td>\n",
       "      <td>NaN</td>\n",
       "      <td>NaN</td>\n",
       "      <td>NaN</td>\n",
       "    </tr>\n",
       "    <tr>\n",
       "      <th>4</th>\n",
       "      <td>Крылатское</td>\n",
       "      <td>Арбатско-Покровская линия</td>\n",
       "      <td>2021</td>\n",
       "      <td>I квартал</td>\n",
       "      <td>1849616</td>\n",
       "      <td>1818208</td>\n",
       "      <td>1138976000</td>\n",
       "      <td>NaN</td>\n",
       "      <td>NaN</td>\n",
       "      <td>NaN</td>\n",
       "      <td>NaN</td>\n",
       "      <td>NaN</td>\n",
       "      <td>NaN</td>\n",
       "      <td>NaN</td>\n",
       "    </tr>\n",
       "    <tr>\n",
       "      <th>5</th>\n",
       "      <td>Площадь Революции</td>\n",
       "      <td>Арбатско-Покровская линия</td>\n",
       "      <td>2021</td>\n",
       "      <td>I квартал</td>\n",
       "      <td>2324687</td>\n",
       "      <td>2319343</td>\n",
       "      <td>1138976008</td>\n",
       "      <td>NaN</td>\n",
       "      <td>NaN</td>\n",
       "      <td>NaN</td>\n",
       "      <td>NaN</td>\n",
       "      <td>NaN</td>\n",
       "      <td>NaN</td>\n",
       "      <td>NaN</td>\n",
       "    </tr>\n",
       "    <tr>\n",
       "      <th>6</th>\n",
       "      <td>Бауманская</td>\n",
       "      <td>Арбатско-Покровская линия</td>\n",
       "      <td>2021</td>\n",
       "      <td>I квартал</td>\n",
       "      <td>3757697</td>\n",
       "      <td>3919091</td>\n",
       "      <td>1138976010</td>\n",
       "      <td>NaN</td>\n",
       "      <td>NaN</td>\n",
       "      <td>NaN</td>\n",
       "      <td>NaN</td>\n",
       "      <td>NaN</td>\n",
       "      <td>NaN</td>\n",
       "      <td>NaN</td>\n",
       "    </tr>\n",
       "    <tr>\n",
       "      <th>7</th>\n",
       "      <td>Первомайская</td>\n",
       "      <td>Арбатско-Покровская линия</td>\n",
       "      <td>2021</td>\n",
       "      <td>I квартал</td>\n",
       "      <td>2554914</td>\n",
       "      <td>2542396</td>\n",
       "      <td>1138976015</td>\n",
       "      <td>NaN</td>\n",
       "      <td>NaN</td>\n",
       "      <td>NaN</td>\n",
       "      <td>NaN</td>\n",
       "      <td>NaN</td>\n",
       "      <td>NaN</td>\n",
       "      <td>NaN</td>\n",
       "    </tr>\n",
       "    <tr>\n",
       "      <th>8</th>\n",
       "      <td>Беломорская</td>\n",
       "      <td>Замоскворецкая линия</td>\n",
       "      <td>2021</td>\n",
       "      <td>I квартал</td>\n",
       "      <td>2093304</td>\n",
       "      <td>2007519</td>\n",
       "      <td>1138976018</td>\n",
       "      <td>NaN</td>\n",
       "      <td>NaN</td>\n",
       "      <td>NaN</td>\n",
       "      <td>NaN</td>\n",
       "      <td>NaN</td>\n",
       "      <td>NaN</td>\n",
       "      <td>NaN</td>\n",
       "    </tr>\n",
       "    <tr>\n",
       "      <th>9</th>\n",
       "      <td>Речной вокзал</td>\n",
       "      <td>Замоскворецкая линия</td>\n",
       "      <td>2021</td>\n",
       "      <td>I квартал</td>\n",
       "      <td>1976604</td>\n",
       "      <td>1932752</td>\n",
       "      <td>1138976019</td>\n",
       "      <td>NaN</td>\n",
       "      <td>NaN</td>\n",
       "      <td>NaN</td>\n",
       "      <td>NaN</td>\n",
       "      <td>NaN</td>\n",
       "      <td>NaN</td>\n",
       "      <td>NaN</td>\n",
       "    </tr>\n",
       "  </tbody>\n",
       "</table>\n",
       "</div>"
      ],
      "text/plain": [
       "           NameOfStation                       Line  Year    Quarter  \\\n",
       "0  Станция метрополитена                      Линия   Год    Квартал   \n",
       "1                 Митино  Арбатско-Покровская линия  2021  I квартал   \n",
       "2          Волоколамская  Арбатско-Покровская линия  2021  I квартал   \n",
       "3               Строгино  Арбатско-Покровская линия  2021  I квартал   \n",
       "4             Крылатское  Арбатско-Покровская линия  2021  I квартал   \n",
       "5      Площадь Революции  Арбатско-Покровская линия  2021  I квартал   \n",
       "6             Бауманская  Арбатско-Покровская линия  2021  I квартал   \n",
       "7           Первомайская  Арбатско-Покровская линия  2021  I квартал   \n",
       "8            Беломорская       Замоскворецкая линия  2021  I квартал   \n",
       "9          Речной вокзал       Замоскворецкая линия  2021  I квартал   \n",
       "\n",
       "  IncomingPassengers OutgoingPassengers   global_id  NameOfStation_en  \\\n",
       "0   Входы пассажиров  Выходы пассажиров   global_id  NameOfStation_en   \n",
       "1            1913498            1829031  1138975996               NaN   \n",
       "2            1236714            1222309  1138975997               NaN   \n",
       "3            1938816            1903731  1138975999               NaN   \n",
       "4            1849616            1818208  1138976000               NaN   \n",
       "5            2324687            2319343  1138976008               NaN   \n",
       "6            3757697            3919091  1138976010               NaN   \n",
       "7            2554914            2542396  1138976015               NaN   \n",
       "8            2093304            2007519  1138976018               NaN   \n",
       "9            1976604            1932752  1138976019               NaN   \n",
       "\n",
       "   Line_en  Year_en  Quarter_en  IncomingPassengers_en  OutgoingPassengers_en  \\\n",
       "0  Line_en  Year_en  Quarter_en  IncomingPassengers_en  OutgoingPassengers_en   \n",
       "1      NaN      NaN         NaN                    NaN                    NaN   \n",
       "2      NaN      NaN         NaN                    NaN                    NaN   \n",
       "3      NaN      NaN         NaN                    NaN                    NaN   \n",
       "4      NaN      NaN         NaN                    NaN                    NaN   \n",
       "5      NaN      NaN         NaN                    NaN                    NaN   \n",
       "6      NaN      NaN         NaN                    NaN                    NaN   \n",
       "7      NaN      NaN         NaN                    NaN                    NaN   \n",
       "8      NaN      NaN         NaN                    NaN                    NaN   \n",
       "9      NaN      NaN         NaN                    NaN                    NaN   \n",
       "\n",
       "   Unnamed: 13  \n",
       "0          NaN  \n",
       "1          NaN  \n",
       "2          NaN  \n",
       "3          NaN  \n",
       "4          NaN  \n",
       "5          NaN  \n",
       "6          NaN  \n",
       "7          NaN  \n",
       "8          NaN  \n",
       "9          NaN  "
      ]
     },
     "execution_count": 86,
     "metadata": {},
     "output_type": "execute_result"
    }
   ],
   "source": [
    "df_m3.head(10)"
   ]
  },
  {
   "cell_type": "code",
   "execution_count": 90,
   "id": "0e150946",
   "metadata": {},
   "outputs": [
    {
     "data": {
      "text/plain": [
       "37"
      ]
     },
     "execution_count": 90,
     "metadata": {},
     "output_type": "execute_result"
    }
   ],
   "source": [
    "df_m3.IncomingPassengers.isnull().sum()"
   ]
  }
 ],
 "metadata": {
  "kernelspec": {
   "display_name": "Python 3 (ipykernel)",
   "language": "python",
   "name": "python3"
  },
  "language_info": {
   "codemirror_mode": {
    "name": "ipython",
    "version": 3
   },
   "file_extension": ".py",
   "mimetype": "text/x-python",
   "name": "python",
   "nbconvert_exporter": "python",
   "pygments_lexer": "ipython3",
   "version": "3.9.12"
  }
 },
 "nbformat": 4,
 "nbformat_minor": 5
}
