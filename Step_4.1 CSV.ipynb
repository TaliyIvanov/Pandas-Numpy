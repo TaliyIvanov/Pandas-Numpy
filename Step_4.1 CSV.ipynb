{
 "cells": [
  {
   "cell_type": "code",
   "execution_count": 23,
   "id": "63052388",
   "metadata": {},
   "outputs": [],
   "source": [
    "import numpy as np\n",
    "import pandas as pd"
   ]
  },
  {
   "cell_type": "markdown",
   "id": "653574e6",
   "metadata": {},
   "source": [
    "csv - comma separated values - значения, разделенные запятыми"
   ]
  },
  {
   "cell_type": "markdown",
   "id": "38c5f78f",
   "metadata": {},
   "source": [
    "- Разберем механизм чтения файла и создания DataFrame\n",
    "\n",
    "Это просто пример для понимания как работает функция чтения csv файла!"
   ]
  },
  {
   "cell_type": "code",
   "execution_count": 19,
   "id": "8f5192bf",
   "metadata": {},
   "outputs": [],
   "source": [
    "#загрузить файл можно с помощью следующей команды\n",
    "f = open('example.csv')"
   ]
  },
  {
   "cell_type": "code",
   "execution_count": 6,
   "id": "6de6bc41",
   "metadata": {},
   "outputs": [
    {
     "name": "stdout",
     "output_type": "stream",
     "text": [
      "a,b,c\n",
      "\n",
      "1,2,3\n",
      "\n",
      "4,5,6\n",
      "\n",
      "7,8,9\n"
     ]
    }
   ],
   "source": [
    "#Получения данных\n",
    "for line in f:\n",
    "    print(line)"
   ]
  },
  {
   "cell_type": "code",
   "execution_count": 13,
   "id": "35a095d5",
   "metadata": {},
   "outputs": [
    {
     "name": "stdout",
     "output_type": "stream",
     "text": [
      "['a', 'b', 'c\\n']\n",
      "['1', '2', '3\\n']\n",
      "['4', '5', '6\\n']\n",
      "['7', '8', '9']\n"
     ]
    }
   ],
   "source": [
    "#Разделение по сепаратору\n",
    "for line in f:\n",
    "    print(line.split(','))\n"
   ]
  },
  {
   "cell_type": "code",
   "execution_count": 20,
   "id": "70b0d713",
   "metadata": {},
   "outputs": [],
   "source": [
    "#Присвоение значений матрице\n",
    "matrix = []\n",
    "for line in f:\n",
    "    _lst = line.split(',')\n",
    "    matrix.append(_lst)"
   ]
  },
  {
   "cell_type": "code",
   "execution_count": 21,
   "id": "4f94cf24",
   "metadata": {},
   "outputs": [
    {
     "data": {
      "text/plain": [
       "[['a', 'b', 'c\\n'], ['1', '2', '3\\n'], ['4', '5', '6\\n'], ['7', '8', '9']]"
      ]
     },
     "execution_count": 21,
     "metadata": {},
     "output_type": "execute_result"
    }
   ],
   "source": [
    "matrix"
   ]
  },
  {
   "cell_type": "code",
   "execution_count": 26,
   "id": "451cbc8c",
   "metadata": {},
   "outputs": [
    {
     "data": {
      "text/html": [
       "<div>\n",
       "<style scoped>\n",
       "    .dataframe tbody tr th:only-of-type {\n",
       "        vertical-align: middle;\n",
       "    }\n",
       "\n",
       "    .dataframe tbody tr th {\n",
       "        vertical-align: top;\n",
       "    }\n",
       "\n",
       "    .dataframe thead th {\n",
       "        text-align: right;\n",
       "    }\n",
       "</style>\n",
       "<table border=\"1\" class=\"dataframe\">\n",
       "  <thead>\n",
       "    <tr style=\"text-align: right;\">\n",
       "      <th></th>\n",
       "      <th>a</th>\n",
       "      <th>b</th>\n",
       "      <th>c</th>\n",
       "    </tr>\n",
       "  </thead>\n",
       "  <tbody>\n",
       "    <tr>\n",
       "      <th>0</th>\n",
       "      <td>a</td>\n",
       "      <td>b</td>\n",
       "      <td>c\\n</td>\n",
       "    </tr>\n",
       "    <tr>\n",
       "      <th>1</th>\n",
       "      <td>1</td>\n",
       "      <td>2</td>\n",
       "      <td>3\\n</td>\n",
       "    </tr>\n",
       "    <tr>\n",
       "      <th>2</th>\n",
       "      <td>4</td>\n",
       "      <td>5</td>\n",
       "      <td>6\\n</td>\n",
       "    </tr>\n",
       "    <tr>\n",
       "      <th>3</th>\n",
       "      <td>7</td>\n",
       "      <td>8</td>\n",
       "      <td>9</td>\n",
       "    </tr>\n",
       "  </tbody>\n",
       "</table>\n",
       "</div>"
      ],
      "text/plain": [
       "   a  b    c\n",
       "0  a  b  c\\n\n",
       "1  1  2  3\\n\n",
       "2  4  5  6\\n\n",
       "3  7  8    9"
      ]
     },
     "execution_count": 26,
     "metadata": {},
     "output_type": "execute_result"
    }
   ],
   "source": [
    "#Создание датафрэйма по матрице\n",
    "df = pd.DataFrame(matrix, columns = ['a','b','c'])\n",
    "df"
   ]
  },
  {
   "cell_type": "markdown",
   "id": "c26fbb55",
   "metadata": {},
   "source": [
    "- Разумеется это не весь код. Т.к. у нас могт быть пропуски и т.д. В коде появятся различные ответвления для того или иного случая. Поэтому это все учли разработчки Pandas"
   ]
  },
  {
   "cell_type": "markdown",
   "id": "ca3af298",
   "metadata": {},
   "source": [
    "- .read_csv"
   ]
  },
  {
   "cell_type": "code",
   "execution_count": 28,
   "id": "2f76e8e8",
   "metadata": {},
   "outputs": [
    {
     "data": {
      "text/html": [
       "<div>\n",
       "<style scoped>\n",
       "    .dataframe tbody tr th:only-of-type {\n",
       "        vertical-align: middle;\n",
       "    }\n",
       "\n",
       "    .dataframe tbody tr th {\n",
       "        vertical-align: top;\n",
       "    }\n",
       "\n",
       "    .dataframe thead th {\n",
       "        text-align: right;\n",
       "    }\n",
       "</style>\n",
       "<table border=\"1\" class=\"dataframe\">\n",
       "  <thead>\n",
       "    <tr style=\"text-align: right;\">\n",
       "      <th></th>\n",
       "      <th>a</th>\n",
       "      <th>b</th>\n",
       "      <th>c</th>\n",
       "    </tr>\n",
       "  </thead>\n",
       "  <tbody>\n",
       "    <tr>\n",
       "      <th>0</th>\n",
       "      <td>1</td>\n",
       "      <td>2</td>\n",
       "      <td>3</td>\n",
       "    </tr>\n",
       "    <tr>\n",
       "      <th>1</th>\n",
       "      <td>4</td>\n",
       "      <td>5</td>\n",
       "      <td>6</td>\n",
       "    </tr>\n",
       "    <tr>\n",
       "      <th>2</th>\n",
       "      <td>7</td>\n",
       "      <td>8</td>\n",
       "      <td>9</td>\n",
       "    </tr>\n",
       "  </tbody>\n",
       "</table>\n",
       "</div>"
      ],
      "text/plain": [
       "   a  b  c\n",
       "0  1  2  3\n",
       "1  4  5  6\n",
       "2  7  8  9"
      ]
     },
     "execution_count": 28,
     "metadata": {},
     "output_type": "execute_result"
    }
   ],
   "source": [
    "df = pd.read_csv('example.csv')\n",
    "df"
   ]
  },
  {
   "cell_type": "markdown",
   "id": "71911d8f",
   "metadata": {},
   "source": [
    "- Указание пути к файлу\n",
    "\n",
    "Важно, при указании пути к файлу. необходимо развернуть наши слэши. Иначе функция ждет получения служебного символа.\n",
    "\n",
    "Python ожидает, что после символов \\u будет идти код символа в кодировке Unicode, но увидел какие-то другие символы и выдал ошибку. Со временем вы лучше будете понимать происходящее, а сейчас для указания пути используйте / (слэш на правую сторону)\n",
    "\n",
    "Вам может повезти и в пути не встретятся служебные символы (\\t \\n \\u), тогда всё сработает и со слэшами с наклоном налево, но гораздо проще использовать слэш с наклоном на правую сторону и не думать о возможных проблемах.\n",
    "\n",
    "Это поможет избежать вам избежать сложностей при чтении файлов."
   ]
  },
  {
   "cell_type": "code",
   "execution_count": 29,
   "id": "be9d9d34",
   "metadata": {},
   "outputs": [
    {
     "data": {
      "text/html": [
       "<div>\n",
       "<style scoped>\n",
       "    .dataframe tbody tr th:only-of-type {\n",
       "        vertical-align: middle;\n",
       "    }\n",
       "\n",
       "    .dataframe tbody tr th {\n",
       "        vertical-align: top;\n",
       "    }\n",
       "\n",
       "    .dataframe thead th {\n",
       "        text-align: right;\n",
       "    }\n",
       "</style>\n",
       "<table border=\"1\" class=\"dataframe\">\n",
       "  <thead>\n",
       "    <tr style=\"text-align: right;\">\n",
       "      <th></th>\n",
       "      <th>a</th>\n",
       "      <th>b</th>\n",
       "      <th>c</th>\n",
       "    </tr>\n",
       "  </thead>\n",
       "  <tbody>\n",
       "    <tr>\n",
       "      <th>0</th>\n",
       "      <td>1</td>\n",
       "      <td>2</td>\n",
       "      <td>3</td>\n",
       "    </tr>\n",
       "    <tr>\n",
       "      <th>1</th>\n",
       "      <td>4</td>\n",
       "      <td>5</td>\n",
       "      <td>6</td>\n",
       "    </tr>\n",
       "    <tr>\n",
       "      <th>2</th>\n",
       "      <td>7</td>\n",
       "      <td>8</td>\n",
       "      <td>9</td>\n",
       "    </tr>\n",
       "  </tbody>\n",
       "</table>\n",
       "</div>"
      ],
      "text/plain": [
       "   a  b  c\n",
       "0  1  2  3\n",
       "1  4  5  6\n",
       "2  7  8  9"
      ]
     },
     "execution_count": 29,
     "metadata": {},
     "output_type": "execute_result"
    }
   ],
   "source": [
    "#Такая запись может выдать ошибку\n",
    "df2 = pd.read_csv('Z:\\Programming\\DataSciense\\Stepik_Pandas_Numpy\\example2.csv')\n",
    "df2"
   ]
  },
  {
   "cell_type": "code",
   "execution_count": 31,
   "id": "d0471c51",
   "metadata": {},
   "outputs": [
    {
     "data": {
      "text/html": [
       "<div>\n",
       "<style scoped>\n",
       "    .dataframe tbody tr th:only-of-type {\n",
       "        vertical-align: middle;\n",
       "    }\n",
       "\n",
       "    .dataframe tbody tr th {\n",
       "        vertical-align: top;\n",
       "    }\n",
       "\n",
       "    .dataframe thead th {\n",
       "        text-align: right;\n",
       "    }\n",
       "</style>\n",
       "<table border=\"1\" class=\"dataframe\">\n",
       "  <thead>\n",
       "    <tr style=\"text-align: right;\">\n",
       "      <th></th>\n",
       "      <th>a</th>\n",
       "      <th>b</th>\n",
       "      <th>c</th>\n",
       "    </tr>\n",
       "  </thead>\n",
       "  <tbody>\n",
       "    <tr>\n",
       "      <th>0</th>\n",
       "      <td>1</td>\n",
       "      <td>2</td>\n",
       "      <td>3</td>\n",
       "    </tr>\n",
       "    <tr>\n",
       "      <th>1</th>\n",
       "      <td>4</td>\n",
       "      <td>5</td>\n",
       "      <td>6</td>\n",
       "    </tr>\n",
       "    <tr>\n",
       "      <th>2</th>\n",
       "      <td>7</td>\n",
       "      <td>8</td>\n",
       "      <td>9</td>\n",
       "    </tr>\n",
       "  </tbody>\n",
       "</table>\n",
       "</div>"
      ],
      "text/plain": [
       "   a  b  c\n",
       "0  1  2  3\n",
       "1  4  5  6\n",
       "2  7  8  9"
      ]
     },
     "execution_count": 31,
     "metadata": {},
     "output_type": "execute_result"
    }
   ],
   "source": [
    "#Корректно писать именно так\n",
    "df2 = pd.read_csv('Z:/Programming/DataSciense/Stepik_Pandas_Numpy/example2.csv')\n",
    "df2"
   ]
  },
  {
   "cell_type": "code",
   "execution_count": null,
   "id": "0589a690",
   "metadata": {},
   "outputs": [],
   "source": [
    "#Либо указывайте два слэша"
   ]
  },
  {
   "cell_type": "code",
   "execution_count": 32,
   "id": "f1012a3a",
   "metadata": {},
   "outputs": [
    {
     "data": {
      "text/html": [
       "<div>\n",
       "<style scoped>\n",
       "    .dataframe tbody tr th:only-of-type {\n",
       "        vertical-align: middle;\n",
       "    }\n",
       "\n",
       "    .dataframe tbody tr th {\n",
       "        vertical-align: top;\n",
       "    }\n",
       "\n",
       "    .dataframe thead th {\n",
       "        text-align: right;\n",
       "    }\n",
       "</style>\n",
       "<table border=\"1\" class=\"dataframe\">\n",
       "  <thead>\n",
       "    <tr style=\"text-align: right;\">\n",
       "      <th></th>\n",
       "      <th>a</th>\n",
       "      <th>b</th>\n",
       "      <th>c</th>\n",
       "    </tr>\n",
       "  </thead>\n",
       "  <tbody>\n",
       "    <tr>\n",
       "      <th>0</th>\n",
       "      <td>1</td>\n",
       "      <td>2</td>\n",
       "      <td>3</td>\n",
       "    </tr>\n",
       "    <tr>\n",
       "      <th>1</th>\n",
       "      <td>4</td>\n",
       "      <td>5</td>\n",
       "      <td>6</td>\n",
       "    </tr>\n",
       "    <tr>\n",
       "      <th>2</th>\n",
       "      <td>7</td>\n",
       "      <td>8</td>\n",
       "      <td>9</td>\n",
       "    </tr>\n",
       "  </tbody>\n",
       "</table>\n",
       "</div>"
      ],
      "text/plain": [
       "   a  b  c\n",
       "0  1  2  3\n",
       "1  4  5  6\n",
       "2  7  8  9"
      ]
     },
     "execution_count": 32,
     "metadata": {},
     "output_type": "execute_result"
    }
   ],
   "source": [
    "#Такая запись может выдать ошибку\n",
    "df2 = pd.read_csv('Z:\\\\Programming\\\\DataSciense\\\\Stepik_Pandas_Numpy\\\\example2.csv')\n",
    "df2"
   ]
  },
  {
   "cell_type": "markdown",
   "id": "5d64b7c8",
   "metadata": {},
   "source": [
    "По умолчанию у функции read_csv параметр sep=',' , но если вы видите, что у вас в файле другой разделитель, то вы можете его заменить, например, на точку с запятой sep=';'"
   ]
  },
  {
   "cell_type": "markdown",
   "id": "fb2ea982",
   "metadata": {},
   "source": [
    "- ссылка на документацию read_csv\n",
    "\n",
    "https://pandas.pydata.org/docs/reference/api/pandas.read_csv.html"
   ]
  },
  {
   "cell_type": "markdown",
   "id": "b3bad575",
   "metadata": {},
   "source": [
    "- Задача №1\n",
    "Задание:\n",
    "\n",
    "1) скачайте файл с данными\n",
    "\n",
    "2) определите разделитель и загрузите данные в датафрейм\n",
    "\n",
    "3) определите название станции, на которой было наибольшее количество входов за 4 квартал 2021 года\n",
    "\n",
    "В ответе укажите название станции"
   ]
  },
  {
   "cell_type": "code",
   "execution_count": 109,
   "id": "fc4f5190",
   "metadata": {},
   "outputs": [],
   "source": [
    "df_metro = pd.read_csv('Z:\\\\Programming\\\\DataSciense\\\\Stepik_Pandas_Numpy\\\\Пассажиропоток_МосМетро_2.csv', sep = ';', skiprows=[1])"
   ]
  },
  {
   "cell_type": "code",
   "execution_count": 79,
   "id": "aaf7c6f3",
   "metadata": {},
   "outputs": [],
   "source": [
    "#План выполнения:\n",
    "#Получить записи только 4 квартала 2021\n",
    "#Получить станцию с максимальным количеством входов"
   ]
  },
  {
   "cell_type": "code",
   "execution_count": 111,
   "id": "4bf7bd26",
   "metadata": {},
   "outputs": [],
   "source": [
    "df_m_s = df_metro[(df_metro['Year'] == 2021) & (df_metro['Quarter'] == \t'I квартал')]"
   ]
  },
  {
   "cell_type": "code",
   "execution_count": 112,
   "id": "3c67078f",
   "metadata": {},
   "outputs": [
    {
     "data": {
      "text/plain": [
       "509    Комсомольская\n",
       "Name: NameOfStation, dtype: object"
      ]
     },
     "execution_count": 112,
     "metadata": {},
     "output_type": "execute_result"
    }
   ],
   "source": [
    "df_m_s.loc[df_m_s['IncomingPassengers'] == df_m_s.IncomingPassengers.max()]['NameOfStation']"
   ]
  }
 ],
 "metadata": {
  "kernelspec": {
   "display_name": "Python 3 (ipykernel)",
   "language": "python",
   "name": "python3"
  },
  "language_info": {
   "codemirror_mode": {
    "name": "ipython",
    "version": 3
   },
   "file_extension": ".py",
   "mimetype": "text/x-python",
   "name": "python",
   "nbconvert_exporter": "python",
   "pygments_lexer": "ipython3",
   "version": "3.9.12"
  }
 },
 "nbformat": 4,
 "nbformat_minor": 5
}
