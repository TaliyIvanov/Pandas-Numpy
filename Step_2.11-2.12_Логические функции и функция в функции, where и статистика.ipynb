{
 "cells": [
  {
   "cell_type": "code",
   "execution_count": 2,
   "id": "2310b739",
   "metadata": {},
   "outputs": [],
   "source": [
    "import numpy as np"
   ]
  },
  {
   "cell_type": "code",
   "execution_count": 3,
   "id": "7416ce1e",
   "metadata": {},
   "outputs": [],
   "source": [
    "m1 = np.array([1,2,3,4])"
   ]
  },
  {
   "cell_type": "code",
   "execution_count": 4,
   "id": "b6bb52de",
   "metadata": {},
   "outputs": [],
   "source": [
    "m2 = np.array([0,3,1,6])"
   ]
  },
  {
   "cell_type": "code",
   "execution_count": 5,
   "id": "0287908c",
   "metadata": {},
   "outputs": [
    {
     "data": {
      "text/plain": [
       "array([1, 3, 3, 6])"
      ]
     },
     "execution_count": 5,
     "metadata": {},
     "output_type": "execute_result"
    }
   ],
   "source": [
    "np.maximum(m1, m2)"
   ]
  },
  {
   "cell_type": "code",
   "execution_count": 6,
   "id": "5fdd208b",
   "metadata": {},
   "outputs": [
    {
     "data": {
      "text/plain": [
       "array([ True, False,  True, False])"
      ]
     },
     "execution_count": 6,
     "metadata": {},
     "output_type": "execute_result"
    }
   ],
   "source": [
    "#для получения маски булевых значений при сравнении двух массивов есть функция:\n",
    "np.greater(m1,m2)\n",
    "#она эквивалентна m1 > m2"
   ]
  },
  {
   "cell_type": "code",
   "execution_count": 7,
   "id": "72b1198f",
   "metadata": {},
   "outputs": [],
   "source": [
    "#мы можем получить маску\n",
    "mask_g = np.greater(m1,m2)"
   ]
  },
  {
   "cell_type": "code",
   "execution_count": 8,
   "id": "67b09bd9",
   "metadata": {},
   "outputs": [
    {
     "data": {
      "text/plain": [
       "array([1, 3])"
      ]
     },
     "execution_count": 8,
     "metadata": {},
     "output_type": "execute_result"
    }
   ],
   "source": [
    "#Получим из m1 значения по маске\n",
    "m1[mask_g]"
   ]
  },
  {
   "cell_type": "code",
   "execution_count": null,
   "id": "d1128d1e",
   "metadata": {},
   "outputs": [],
   "source": [
    "#Чтобы сравнить больше или равно >= записывается следующая ф-я:"
   ]
  },
  {
   "cell_type": "code",
   "execution_count": 17,
   "id": "74330373",
   "metadata": {},
   "outputs": [],
   "source": [
    "m1 = np.array([1,2,3,4])"
   ]
  },
  {
   "cell_type": "code",
   "execution_count": 18,
   "id": "05b08373",
   "metadata": {},
   "outputs": [],
   "source": [
    "m2 = np.array([0,3,3,6])"
   ]
  },
  {
   "cell_type": "code",
   "execution_count": 19,
   "id": "7f611f2d",
   "metadata": {},
   "outputs": [
    {
     "data": {
      "text/plain": [
       "array([ True, False,  True, False])"
      ]
     },
     "execution_count": 19,
     "metadata": {},
     "output_type": "execute_result"
    }
   ],
   "source": [
    "np.greater_equal(m1,m2)"
   ]
  },
  {
   "cell_type": "code",
   "execution_count": 20,
   "id": "8e0e74fa",
   "metadata": {},
   "outputs": [
    {
     "data": {
      "text/plain": [
       "array([ True, False,  True, False])"
      ]
     },
     "execution_count": 20,
     "metadata": {},
     "output_type": "execute_result"
    }
   ],
   "source": [
    "m1 >= m2"
   ]
  },
  {
   "cell_type": "code",
   "execution_count": 21,
   "id": "adcbee53",
   "metadata": {},
   "outputs": [
    {
     "data": {
      "text/plain": [
       "array([ True, False, False, False])"
      ]
     },
     "execution_count": 21,
     "metadata": {},
     "output_type": "execute_result"
    }
   ],
   "source": [
    "m1 > m2"
   ]
  },
  {
   "cell_type": "code",
   "execution_count": 22,
   "id": "450c7b17",
   "metadata": {},
   "outputs": [
    {
     "data": {
      "text/plain": [
       "array([ True, False, False, False])"
      ]
     },
     "execution_count": 22,
     "metadata": {},
     "output_type": "execute_result"
    }
   ],
   "source": [
    "#Для проверки m1 < m2 применяется ф-я less:\n",
    "m2 < m1"
   ]
  },
  {
   "cell_type": "code",
   "execution_count": 23,
   "id": "209a89ed",
   "metadata": {},
   "outputs": [
    {
     "data": {
      "text/plain": [
       "array([False,  True, False,  True])"
      ]
     },
     "execution_count": 23,
     "metadata": {},
     "output_type": "execute_result"
    }
   ],
   "source": [
    "np.less(m1, m2)"
   ]
  },
  {
   "cell_type": "code",
   "execution_count": null,
   "id": "952cf88a",
   "metadata": {},
   "outputs": [],
   "source": [
    "# <= соответственно less_equal"
   ]
  },
  {
   "cell_type": "code",
   "execution_count": 24,
   "id": "f26c9fde",
   "metadata": {},
   "outputs": [
    {
     "data": {
      "text/plain": [
       "array([False,  True,  True,  True])"
      ]
     },
     "execution_count": 24,
     "metadata": {},
     "output_type": "execute_result"
    }
   ],
   "source": [
    "np.less_equal(m1, m2)"
   ]
  },
  {
   "cell_type": "code",
   "execution_count": 25,
   "id": "7ed6c201",
   "metadata": {},
   "outputs": [
    {
     "data": {
      "text/plain": [
       "array([False, False,  True, False])"
      ]
     },
     "execution_count": 25,
     "metadata": {},
     "output_type": "execute_result"
    }
   ],
   "source": [
    "#Здесь важно поставить двойное равенство. Если будет =, то мы просто приравняем матрицы\n",
    "m1 == m2"
   ]
  },
  {
   "cell_type": "code",
   "execution_count": 39,
   "id": "bc25523f",
   "metadata": {},
   "outputs": [],
   "source": [
    "m1 = np.array([1,2,3,4])"
   ]
  },
  {
   "cell_type": "code",
   "execution_count": 40,
   "id": "5c9972a9",
   "metadata": {},
   "outputs": [],
   "source": [
    "m2 = np.array([0,-3,3,-6])"
   ]
  },
  {
   "cell_type": "code",
   "execution_count": 36,
   "id": "2ae49eb9",
   "metadata": {},
   "outputs": [
    {
     "data": {
      "text/plain": [
       "array([0, 3, 3, 6])"
      ]
     },
     "execution_count": 36,
     "metadata": {},
     "output_type": "execute_result"
    }
   ],
   "source": [
    "#функции можно комбинировать. Вкладывать друг в друга\n",
    "np.abs(np.minimum(m1, m2))"
   ]
  },
  {
   "cell_type": "code",
   "execution_count": 41,
   "id": "6f1439f4",
   "metadata": {},
   "outputs": [
    {
     "name": "stderr",
     "output_type": "stream",
     "text": [
      "C:\\Users\\user\\AppData\\Local\\Temp\\ipykernel_17920\\3313742552.py:1: RuntimeWarning: invalid value encountered in sqrt\n",
      "  np.sqrt(m1 ** 2 + m2 ** 3)\n"
     ]
    },
    {
     "data": {
      "text/plain": [
       "array([ 1., nan,  6., nan])"
      ]
     },
     "execution_count": 41,
     "metadata": {},
     "output_type": "execute_result"
    }
   ],
   "source": [
    "np.sqrt(m1 ** 2 + m2 ** 3)"
   ]
  },
  {
   "cell_type": "markdown",
   "id": "254d5779",
   "metadata": {},
   "source": [
    "### Where\n",
    "Стандартный IF. np.where(условие, что сделать если выполняется, что сделать если не выполняется)\n",
    "example:\n",
    "\n",
    "np.where(a < 5, a, 10*a)\n",
    "\n",
    "array([ 0,  1,  2,  3,  4, 50, 60, 70, 80, 90])"
   ]
  },
  {
   "cell_type": "code",
   "execution_count": null,
   "id": "a5e220ea",
   "metadata": {},
   "outputs": [],
   "source": [
    "#Если значение <0 , то выводит 100, если > 0, то выводит -100"
   ]
  },
  {
   "cell_type": "code",
   "execution_count": 43,
   "id": "ff6f4750",
   "metadata": {},
   "outputs": [
    {
     "data": {
      "text/plain": [
       "array([ 2, -3,  4, -6,  7, -8])"
      ]
     },
     "execution_count": 43,
     "metadata": {},
     "output_type": "execute_result"
    }
   ],
   "source": [
    "m1 = np.array([2, -3, 4, -6, 7, -8])\n",
    "m1"
   ]
  },
  {
   "cell_type": "code",
   "execution_count": 44,
   "id": "3b7c65e6",
   "metadata": {},
   "outputs": [
    {
     "data": {
      "text/plain": [
       "array([ 100, -100,  100, -100,  100, -100])"
      ]
     },
     "execution_count": 44,
     "metadata": {},
     "output_type": "execute_result"
    }
   ],
   "source": [
    "np.where(m1 > 0,100, -100)"
   ]
  },
  {
   "cell_type": "markdown",
   "id": "82572c29",
   "metadata": {},
   "source": [
    "Проверим как это работает для двумерных массивов"
   ]
  },
  {
   "cell_type": "code",
   "execution_count": 45,
   "id": "2a367730",
   "metadata": {},
   "outputs": [
    {
     "data": {
      "text/plain": [
       "array([[ 0,  1,  2,  3,  4,  5],\n",
       "       [ 6,  7,  8,  9, 10, 11],\n",
       "       [12, 13, 14, 15, 16, 17],\n",
       "       [18, 19, 20, 21, 22, 23],\n",
       "       [24, 25, 26, 27, 28, 29]])"
      ]
     },
     "execution_count": 45,
     "metadata": {},
     "output_type": "execute_result"
    }
   ],
   "source": [
    "m2d = np.arange(30).reshape(5,6)\n",
    "m2d"
   ]
  },
  {
   "cell_type": "code",
   "execution_count": 46,
   "id": "1fd67e43",
   "metadata": {},
   "outputs": [
    {
     "data": {
      "text/plain": [
       "array([[ 0,  0,  0,  0,  0,  0],\n",
       "       [ 0,  0,  0,  0, 10, 11],\n",
       "       [12, 13, 14, 15, 16, 17],\n",
       "       [18, 19, 20, 21, 22, 23],\n",
       "       [24, 25, 26, 27, 28, 29]])"
      ]
     },
     "execution_count": 46,
     "metadata": {},
     "output_type": "execute_result"
    }
   ],
   "source": [
    "np.where(m2d < 10, 0, m2d)"
   ]
  },
  {
   "cell_type": "markdown",
   "id": "d4596221",
   "metadata": {},
   "source": [
    "### Математические и статические функции\n"
   ]
  },
  {
   "cell_type": "code",
   "execution_count": 47,
   "id": "5d6e1500",
   "metadata": {},
   "outputs": [
    {
     "data": {
      "text/plain": [
       "array([0, 1, 2, 3, 4, 5])"
      ]
     },
     "execution_count": 47,
     "metadata": {},
     "output_type": "execute_result"
    }
   ],
   "source": [
    "m1 = np.arange(6)\n",
    "m1"
   ]
  },
  {
   "cell_type": "code",
   "execution_count": 48,
   "id": "c52ec8ef",
   "metadata": {},
   "outputs": [
    {
     "data": {
      "text/plain": [
       "15"
      ]
     },
     "execution_count": 48,
     "metadata": {},
     "output_type": "execute_result"
    }
   ],
   "source": [
    "#суммируем значения\n",
    "np.sum(m1)"
   ]
  },
  {
   "cell_type": "code",
   "execution_count": 50,
   "id": "4f8fcd76",
   "metadata": {},
   "outputs": [
    {
     "data": {
      "text/plain": [
       "15"
      ]
     },
     "execution_count": 50,
     "metadata": {},
     "output_type": "execute_result"
    }
   ],
   "source": [
    "#аналогичный способ записи\n",
    "m1.sum()"
   ]
  },
  {
   "cell_type": "code",
   "execution_count": 49,
   "id": "2e50b4a2",
   "metadata": {},
   "outputs": [
    {
     "data": {
      "text/plain": [
       "2.5"
      ]
     },
     "execution_count": 49,
     "metadata": {},
     "output_type": "execute_result"
    }
   ],
   "source": [
    "#Получаем среднее\n",
    "np.mean(m1)"
   ]
  },
  {
   "cell_type": "code",
   "execution_count": 51,
   "id": "9f2b2a70",
   "metadata": {},
   "outputs": [
    {
     "data": {
      "text/plain": [
       "2.5"
      ]
     },
     "execution_count": 51,
     "metadata": {},
     "output_type": "execute_result"
    }
   ],
   "source": [
    "m1.mean()"
   ]
  },
  {
   "cell_type": "code",
   "execution_count": 55,
   "id": "318a1470",
   "metadata": {},
   "outputs": [
    {
     "data": {
      "text/plain": [
       "array([[ 0,  1,  2,  3,  4,  5],\n",
       "       [ 6,  7,  8,  9, 10, 11]])"
      ]
     },
     "execution_count": 55,
     "metadata": {},
     "output_type": "execute_result"
    }
   ],
   "source": [
    "#теперь посмотрим на двумерные массивы\n",
    "m2d = np.arange(12).reshape((2,6))\n",
    "m2d"
   ]
  },
  {
   "cell_type": "code",
   "execution_count": null,
   "id": "43da5caf",
   "metadata": {},
   "outputs": [],
   "source": [
    "Axis - дает возможность нам считать по столбцам(Axis = 0) или строкам(Axis = 1)"
   ]
  },
  {
   "cell_type": "code",
   "execution_count": 56,
   "id": "e951cc9f",
   "metadata": {},
   "outputs": [
    {
     "data": {
      "text/plain": [
       "array([ 6,  8, 10, 12, 14, 16])"
      ]
     },
     "execution_count": 56,
     "metadata": {},
     "output_type": "execute_result"
    }
   ],
   "source": [
    "m2d.sum(axis = 0)"
   ]
  },
  {
   "cell_type": "code",
   "execution_count": 57,
   "id": "b0143cfc",
   "metadata": {},
   "outputs": [
    {
     "data": {
      "text/plain": [
       "array([15, 51])"
      ]
     },
     "execution_count": 57,
     "metadata": {},
     "output_type": "execute_result"
    }
   ],
   "source": [
    "m2d.sum(axis = 1)"
   ]
  },
  {
   "cell_type": "code",
   "execution_count": 58,
   "id": "cb11ee6a",
   "metadata": {},
   "outputs": [
    {
     "data": {
      "text/plain": [
       "0"
      ]
     },
     "execution_count": 58,
     "metadata": {},
     "output_type": "execute_result"
    }
   ],
   "source": [
    "#Ф-я минимального значения \n",
    "m2d.min()"
   ]
  },
  {
   "cell_type": "code",
   "execution_count": 59,
   "id": "fc9744e4",
   "metadata": {},
   "outputs": [
    {
     "data": {
      "text/plain": [
       "11"
      ]
     },
     "execution_count": 59,
     "metadata": {},
     "output_type": "execute_result"
    }
   ],
   "source": [
    "#Ф-я максимального значения\n",
    "m2d.max()"
   ]
  },
  {
   "cell_type": "markdown",
   "id": "21ab229c",
   "metadata": {},
   "source": [
    "### Функции стандартного отклонения .std(), .var()"
   ]
  },
  {
   "cell_type": "code",
   "execution_count": 60,
   "id": "69984118",
   "metadata": {},
   "outputs": [
    {
     "data": {
      "text/plain": [
       "3.452052529534663"
      ]
     },
     "execution_count": 60,
     "metadata": {},
     "output_type": "execute_result"
    }
   ],
   "source": [
    "m2d.std() # standart deviation"
   ]
  },
  {
   "cell_type": "code",
   "execution_count": 61,
   "id": "5c30906d",
   "metadata": {},
   "outputs": [
    {
     "data": {
      "text/plain": [
       "11.916666666666666"
      ]
     },
     "execution_count": 61,
     "metadata": {},
     "output_type": "execute_result"
    }
   ],
   "source": [
    "m2d.var()"
   ]
  },
  {
   "cell_type": "markdown",
   "id": "6dead3d1",
   "metadata": {},
   "source": [
    "### Функции .argmin(), argmax()\n",
    "Получение индексов минимального и максимального значений"
   ]
  },
  {
   "cell_type": "code",
   "execution_count": 62,
   "id": "ab9b9430",
   "metadata": {},
   "outputs": [],
   "source": [
    "m1 = np.array([1,0,5,6,2]) "
   ]
  },
  {
   "cell_type": "code",
   "execution_count": 63,
   "id": "0ae27344",
   "metadata": {},
   "outputs": [
    {
     "data": {
      "text/plain": [
       "1"
      ]
     },
     "execution_count": 63,
     "metadata": {},
     "output_type": "execute_result"
    }
   ],
   "source": [
    "m1.argmin() #индекс минимального значения"
   ]
  },
  {
   "cell_type": "code",
   "execution_count": 64,
   "id": "ebad1599",
   "metadata": {},
   "outputs": [
    {
     "data": {
      "text/plain": [
       "3"
      ]
     },
     "execution_count": 64,
     "metadata": {},
     "output_type": "execute_result"
    }
   ],
   "source": [
    "m1.argmax() #индекс максимального значения"
   ]
  },
  {
   "cell_type": "markdown",
   "id": "cac7041d",
   "metadata": {},
   "source": [
    "### Суммирование булевых значений\n",
    "True = 1, False = 0"
   ]
  },
  {
   "cell_type": "code",
   "execution_count": 70,
   "id": "97d3116a",
   "metadata": {},
   "outputs": [],
   "source": [
    "bools_arr = np.array([True, True, False, True])"
   ]
  },
  {
   "cell_type": "code",
   "execution_count": 71,
   "id": "650fda57",
   "metadata": {},
   "outputs": [],
   "source": [
    "num_arr = np.array([1,1,0,1])"
   ]
  },
  {
   "cell_type": "code",
   "execution_count": 72,
   "id": "c1ab1223",
   "metadata": {},
   "outputs": [
    {
     "data": {
      "text/plain": [
       "3"
      ]
     },
     "execution_count": 72,
     "metadata": {},
     "output_type": "execute_result"
    }
   ],
   "source": [
    "bools_arr.sum()"
   ]
  },
  {
   "cell_type": "code",
   "execution_count": 73,
   "id": "b58c2d61",
   "metadata": {},
   "outputs": [
    {
     "data": {
      "text/plain": [
       "3"
      ]
     },
     "execution_count": 73,
     "metadata": {},
     "output_type": "execute_result"
    }
   ],
   "source": [
    "num_arr.sum()"
   ]
  },
  {
   "cell_type": "markdown",
   "id": "7fc94d9d",
   "metadata": {},
   "source": [
    "Step_2.11.11 - На вход подаётся два одномерных массива. Сравните их поэлементно: постройте новый массив из минимальных значений. У нового одномерного массива найдите максимальное значение"
   ]
  },
  {
   "cell_type": "code",
   "execution_count": null,
   "id": "d2fabee8",
   "metadata": {},
   "outputs": [],
   "source": [
    "import numpy as np\n",
    "\n",
    "def solution(m1, m2):\n",
    "    arr_min = np.minimum(m1, m2)\n",
    "    result = np.max(arr_min)\n",
    "    return result"
   ]
  },
  {
   "cell_type": "markdown",
   "id": "b691da04",
   "metadata": {},
   "source": [
    "Step_2.11.13 - На вход подаётся два одномерных массива. Сравните их поэлементно. Постройте новый массив из максимальных значений. У нового одномерного массива найдите минимальное значение"
   ]
  },
  {
   "cell_type": "code",
   "execution_count": 75,
   "id": "b0a468d8",
   "metadata": {},
   "outputs": [],
   "source": [
    "import numpy as np\n",
    "\n",
    "def solution(m1, m2):\n",
    "    arr_max = np.maximum(m1, m2)\n",
    "    result = np.min(arr_max)\n",
    "    return result"
   ]
  },
  {
   "cell_type": "markdown",
   "id": "752c80f4",
   "metadata": {},
   "source": [
    "Step_2.11.15 - На вход подаётся одномерный массив. Найдите среднее значение."
   ]
  },
  {
   "cell_type": "code",
   "execution_count": null,
   "id": "17ab6a65",
   "metadata": {},
   "outputs": [],
   "source": [
    "import numpy as np\n",
    "\n",
    "def solution(m1):\n",
    "    result = np.mean(m1)\n",
    "    return result"
   ]
  }
 ],
 "metadata": {
  "kernelspec": {
   "display_name": "Python 3 (ipykernel)",
   "language": "python",
   "name": "python3"
  },
  "language_info": {
   "codemirror_mode": {
    "name": "ipython",
    "version": 3
   },
   "file_extension": ".py",
   "mimetype": "text/x-python",
   "name": "python",
   "nbconvert_exporter": "python",
   "pygments_lexer": "ipython3",
   "version": "3.9.12"
  }
 },
 "nbformat": 4,
 "nbformat_minor": 5
}
