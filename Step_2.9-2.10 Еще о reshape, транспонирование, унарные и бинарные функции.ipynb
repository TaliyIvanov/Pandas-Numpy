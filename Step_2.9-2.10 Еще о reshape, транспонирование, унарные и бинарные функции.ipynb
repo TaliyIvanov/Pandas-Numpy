{
 "cells": [
  {
   "cell_type": "markdown",
   "id": "01991c0e",
   "metadata": {},
   "source": [
    "#### Важное замечание, когда мы к массиву или какому либо контейнеру применяем .reshape(). Функция не создает нам новый массив, а трансформирует уже существующий."
   ]
  },
  {
   "cell_type": "code",
   "execution_count": 1,
   "id": "8fb7b636",
   "metadata": {},
   "outputs": [],
   "source": [
    "import numpy as np\n",
    "m1 = np.arange(50)"
   ]
  },
  {
   "cell_type": "code",
   "execution_count": 5,
   "id": "ecebf26e",
   "metadata": {},
   "outputs": [
    {
     "data": {
      "text/plain": [
       "array([[[ 0,  1,  2,  3,  4],\n",
       "        [ 5,  6,  7,  8,  9]],\n",
       "\n",
       "       [[10, 11, 12, 13, 14],\n",
       "        [15, 16, 17, 18, 19]],\n",
       "\n",
       "       [[20, 21, 22, 23, 24],\n",
       "        [25, 26, 27, 28, 29]],\n",
       "\n",
       "       [[30, 31, 32, 33, 34],\n",
       "        [35, 36, 37, 38, 39]],\n",
       "\n",
       "       [[40, 41, 42, 43, 44],\n",
       "        [45, 46, 47, 48, 49]]])"
      ]
     },
     "execution_count": 5,
     "metadata": {},
     "output_type": "execute_result"
    }
   ],
   "source": [
    "# создадим массив матриц m2\n",
    "m2 = m1.reshape(5,2,5)\n",
    "m2"
   ]
  },
  {
   "cell_type": "code",
   "execution_count": 6,
   "id": "66a88379",
   "metadata": {},
   "outputs": [
    {
     "data": {
      "text/plain": [
       "array([[0, 0, 0, 0, 0],\n",
       "       [0, 0, 0, 0, 0]])"
      ]
     },
     "execution_count": 6,
     "metadata": {},
     "output_type": "execute_result"
    }
   ],
   "source": [
    "#приравняем 1ую матрицу к нулю\n",
    "m2[0] = 0\n",
    "m2[0]"
   ]
  },
  {
   "cell_type": "code",
   "execution_count": 8,
   "id": "281eb71e",
   "metadata": {},
   "outputs": [
    {
     "data": {
      "text/plain": [
       "array([ 0,  0,  0,  0,  0,  0,  0,  0,  0,  0, 10, 11, 12, 13, 14, 15, 16,\n",
       "       17, 18, 19, 20, 21, 22, 23, 24, 25, 26, 27, 28, 29, 30, 31, 32, 33,\n",
       "       34, 35, 36, 37, 38, 39, 40, 41, 42, 43, 44, 45, 46, 47, 48, 49])"
      ]
     },
     "execution_count": 8,
     "metadata": {},
     "output_type": "execute_result"
    }
   ],
   "source": [
    "#мы видим, что исходная матрица изменилась!\n",
    "m1"
   ]
  },
  {
   "cell_type": "markdown",
   "id": "2802e3ea",
   "metadata": {},
   "source": [
    "Почему так происходит? Почему не происходит копирование? Почему трансформируется исходный контейнер?\n",
    "\n",
    "Дело в том, что если бы мы сразу создавали новый контейнер, то вырастало бы потребление памяти и все работало бы гораздо медленнее. Разработчики Numpy спроектировали все таким образом, что само по себе просто так ничего никуда не копируется. Это очень важно!"
   ]
  },
  {
   "cell_type": "markdown",
   "id": "e8f4fc76",
   "metadata": {},
   "source": [
    "Транспонирование — в линейной алгебре это операция над матрицами в результате которой матрица поворачивается относительно своей главной диагонали. При этом столбцы исходной матрицы становятся строками результирующей."
   ]
  },
  {
   "cell_type": "code",
   "execution_count": 11,
   "id": "efab2ce5",
   "metadata": {},
   "outputs": [
    {
     "data": {
      "text/plain": [
       "array([[ 0,  1,  2,  3,  4,  5,  6],\n",
       "       [ 7,  8,  9, 10, 11, 12, 13],\n",
       "       [14, 15, 16, 17, 18, 19, 20]])"
      ]
     },
     "execution_count": 11,
     "metadata": {},
     "output_type": "execute_result"
    }
   ],
   "source": [
    "m_t = np.arange(21).reshape((3,7))\n",
    "m_t"
   ]
  },
  {
   "cell_type": "code",
   "execution_count": 10,
   "id": "3507fff7",
   "metadata": {},
   "outputs": [
    {
     "data": {
      "text/plain": [
       "array([[ 0,  7, 14],\n",
       "       [ 1,  8, 15],\n",
       "       [ 2,  9, 16],\n",
       "       [ 3, 10, 17],\n",
       "       [ 4, 11, 18],\n",
       "       [ 5, 12, 19],\n",
       "       [ 6, 13, 20]])"
      ]
     },
     "execution_count": 10,
     "metadata": {},
     "output_type": "execute_result"
    }
   ],
   "source": [
    "m_t.T"
   ]
  },
  {
   "cell_type": "code",
   "execution_count": 8,
   "id": "f8167d1d",
   "metadata": {},
   "outputs": [
    {
     "data": {
      "text/plain": [
       "array([[ 0,  7, 14],\n",
       "       [ 1,  8, 15],\n",
       "       [ 2,  9, 16],\n",
       "       [ 3, 10, 17],\n",
       "       [ 4, 11, 18],\n",
       "       [ 5, 12, 19],\n",
       "       [ 6, 13, 20]])"
      ]
     },
     "execution_count": 8,
     "metadata": {},
     "output_type": "execute_result"
    }
   ],
   "source": [
    "m_t.transpose()"
   ]
  },
  {
   "cell_type": "code",
   "execution_count": 12,
   "id": "ed5d5af7",
   "metadata": {},
   "outputs": [
    {
     "data": {
      "text/plain": [
       "array([[ 0,  7, 14],\n",
       "       [ 1,  8, 15],\n",
       "       [ 2,  9, 16],\n",
       "       [ 3, 10, 17],\n",
       "       [ 4, 11, 18],\n",
       "       [ 5, 12, 19],\n",
       "       [ 6, 13, 20]])"
      ]
     },
     "execution_count": 12,
     "metadata": {},
     "output_type": "execute_result"
    }
   ],
   "source": [
    "m_t2 = m_t.transpose()\n",
    "m_t2"
   ]
  },
  {
   "cell_type": "code",
   "execution_count": 13,
   "id": "f1270ab7",
   "metadata": {},
   "outputs": [
    {
     "data": {
      "text/plain": [
       "array([[ 0,  0,  0],\n",
       "       [ 1,  8, 15],\n",
       "       [ 2,  9, 16],\n",
       "       [ 3, 10, 17],\n",
       "       [ 4, 11, 18],\n",
       "       [ 5, 12, 19],\n",
       "       [ 6, 13, 20]])"
      ]
     },
     "execution_count": 13,
     "metadata": {},
     "output_type": "execute_result"
    }
   ],
   "source": [
    "m_t2[0] = 0\n",
    "m_t2"
   ]
  },
  {
   "cell_type": "code",
   "execution_count": 14,
   "id": "221c71b4",
   "metadata": {},
   "outputs": [
    {
     "data": {
      "text/plain": [
       "array([[ 0,  1,  2,  3,  4,  5,  6],\n",
       "       [ 0,  8,  9, 10, 11, 12, 13],\n",
       "       [ 0, 15, 16, 17, 18, 19, 20]])"
      ]
     },
     "execution_count": 14,
     "metadata": {},
     "output_type": "execute_result"
    }
   ],
   "source": [
    "#мы видим, что изменение строки в m_t2  привело к изменению столбца m_t\n",
    "m_t"
   ]
  },
  {
   "cell_type": "markdown",
   "id": "20ee3dc4",
   "metadata": {},
   "source": [
    "transpose, как и reshape так же не копирует!"
   ]
  },
  {
   "cell_type": "markdown",
   "id": "53e73a61",
   "metadata": {},
   "source": [
    "### Функции Numpy (sqrt, abs, floor, ceil, round)"
   ]
  },
  {
   "cell_type": "code",
   "execution_count": 21,
   "id": "eaafb3b2",
   "metadata": {},
   "outputs": [],
   "source": [
    "m1 = np.array([2,4,6,8])"
   ]
  },
  {
   "cell_type": "code",
   "execution_count": 22,
   "id": "0aac1846",
   "metadata": {},
   "outputs": [
    {
     "data": {
      "text/plain": [
       "array([3, 5, 7, 9])"
      ]
     },
     "execution_count": 22,
     "metadata": {},
     "output_type": "execute_result"
    }
   ],
   "source": [
    "m1 + 1"
   ]
  },
  {
   "cell_type": "code",
   "execution_count": 23,
   "id": "875b8e2d",
   "metadata": {},
   "outputs": [
    {
     "data": {
      "text/plain": [
       "array([ 4, 16, 36, 64], dtype=int32)"
      ]
     },
     "execution_count": 23,
     "metadata": {},
     "output_type": "execute_result"
    }
   ],
   "source": [
    "m1 ** 2"
   ]
  },
  {
   "cell_type": "code",
   "execution_count": 26,
   "id": "e63290eb",
   "metadata": {},
   "outputs": [
    {
     "data": {
      "text/plain": [
       "array([ 4, 16, 36, 64], dtype=int32)"
      ]
     },
     "execution_count": 26,
     "metadata": {},
     "output_type": "execute_result"
    }
   ],
   "source": [
    "m2 = m1 ** 2\n",
    "m2"
   ]
  },
  {
   "cell_type": "code",
   "execution_count": 27,
   "id": "8bd225ec",
   "metadata": {},
   "outputs": [
    {
     "data": {
      "text/plain": [
       "array([2., 4., 6., 8.])"
      ]
     },
     "execution_count": 27,
     "metadata": {},
     "output_type": "execute_result"
    }
   ],
   "source": [
    "np.sqrt(m2) #Возведение в квадрат"
   ]
  },
  {
   "cell_type": "code",
   "execution_count": 29,
   "id": "3f3d582a",
   "metadata": {},
   "outputs": [
    {
     "data": {
      "text/plain": [
       "array([-2,  4, -6,  8])"
      ]
     },
     "execution_count": 29,
     "metadata": {},
     "output_type": "execute_result"
    }
   ],
   "source": [
    "m3 = np.array([-2,4,-6,8])\n",
    "m3"
   ]
  },
  {
   "cell_type": "code",
   "execution_count": 32,
   "id": "30964a3f",
   "metadata": {},
   "outputs": [
    {
     "data": {
      "text/plain": [
       "array([2, 4, 6, 8])"
      ]
     },
     "execution_count": 32,
     "metadata": {},
     "output_type": "execute_result"
    }
   ],
   "source": [
    "np.abs(m3) #Получение модуля"
   ]
  },
  {
   "cell_type": "code",
   "execution_count": 34,
   "id": "8e0dba15",
   "metadata": {},
   "outputs": [
    {
     "data": {
      "text/plain": [
       "array([2.1, 2.6, 2.5, 2.9])"
      ]
     },
     "execution_count": 34,
     "metadata": {},
     "output_type": "execute_result"
    }
   ],
   "source": [
    "m4 = np.array([2.1,2.6,2.5,2.9])\n",
    "m4"
   ]
  },
  {
   "cell_type": "code",
   "execution_count": 35,
   "id": "ee1e1d98",
   "metadata": {},
   "outputs": [
    {
     "data": {
      "text/plain": [
       "array([2., 3., 2., 3.])"
      ]
     },
     "execution_count": 35,
     "metadata": {},
     "output_type": "execute_result"
    }
   ],
   "source": [
    "np.round(m4) #Округление по правилам округления, за исключение 2.5. Они округляются вниз."
   ]
  },
  {
   "cell_type": "code",
   "execution_count": 36,
   "id": "0a023869",
   "metadata": {},
   "outputs": [
    {
     "data": {
      "text/plain": [
       "array([3., 3., 3., 3.])"
      ]
     },
     "execution_count": 36,
     "metadata": {},
     "output_type": "execute_result"
    }
   ],
   "source": [
    "np.ceil(m4) #Округление до ближайшего целого числа вверх"
   ]
  },
  {
   "cell_type": "code",
   "execution_count": 37,
   "id": "69064857",
   "metadata": {},
   "outputs": [
    {
     "data": {
      "text/plain": [
       "array([2., 2., 2., 2.])"
      ]
     },
     "execution_count": 37,
     "metadata": {},
     "output_type": "execute_result"
    }
   ],
   "source": [
    "np.floor(m4) #Округление до ближайшего целого числа вниз"
   ]
  },
  {
   "cell_type": "markdown",
   "id": "e35b1d89",
   "metadata": {},
   "source": [
    "#### np.nan - None из python"
   ]
  },
  {
   "cell_type": "code",
   "execution_count": 39,
   "id": "bf48c70f",
   "metadata": {},
   "outputs": [
    {
     "data": {
      "text/plain": [
       "array([2.1, 2.6, 2.5, 2.9, nan])"
      ]
     },
     "execution_count": 39,
     "metadata": {},
     "output_type": "execute_result"
    }
   ],
   "source": [
    "m4 = np.array([2.1,2.6,2.5,2.9, np.nan])\n",
    "m4"
   ]
  },
  {
   "cell_type": "code",
   "execution_count": 40,
   "id": "d92fa089",
   "metadata": {},
   "outputs": [
    {
     "data": {
      "text/plain": [
       "5"
      ]
     },
     "execution_count": 40,
     "metadata": {},
     "output_type": "execute_result"
    }
   ],
   "source": [
    "#Допустим мы хотим узнать, сколько в массиве значений\n",
    "len(m4)"
   ]
  },
  {
   "cell_type": "code",
   "execution_count": 42,
   "id": "a3ad97e7",
   "metadata": {},
   "outputs": [
    {
     "data": {
      "text/plain": [
       "array([False, False, False, False,  True])"
      ]
     },
     "execution_count": 42,
     "metadata": {},
     "output_type": "execute_result"
    }
   ],
   "source": [
    "#Мы получили 5 значений, но фактически их 4. Для проверки на наличе nan использовать след ф-ю:\n",
    "np.isnan(m4)"
   ]
  },
  {
   "cell_type": "code",
   "execution_count": 45,
   "id": "c1859f2a",
   "metadata": {},
   "outputs": [
    {
     "data": {
      "text/plain": [
       "array([ 2.,  3.,  2.,  3., nan])"
      ]
     },
     "execution_count": 45,
     "metadata": {},
     "output_type": "execute_result"
    }
   ],
   "source": [
    "#ВАЖНО! Если в данных есть пропуски. и мы используем функции. которые делают что то поэлементно.\n",
    "#Нам необходимо быть аккуратным. Т.к. Numpy их просто пропустит и не предупредит нас!\n",
    "np.round(m4)"
   ]
  },
  {
   "cell_type": "markdown",
   "id": "01fc0245",
   "metadata": {},
   "source": [
    "#### Дополнительный параметр OUT\n",
    "У каждой ф-ии, которая работает пожлементно, есть дополнительный параметр OUT."
   ]
  },
  {
   "cell_type": "code",
   "execution_count": null,
   "id": "7834612c",
   "metadata": {},
   "outputs": [],
   "source": [
    "m3 = np.array([-2,4,-6,8])\n",
    "m3"
   ]
  },
  {
   "cell_type": "code",
   "execution_count": 48,
   "id": "55af4a18",
   "metadata": {},
   "outputs": [
    {
     "data": {
      "text/plain": [
       "array([2, 4, 6, 8])"
      ]
     },
     "execution_count": 48,
     "metadata": {},
     "output_type": "execute_result"
    }
   ],
   "source": [
    "np.abs(m3, out = m3) # == m3 = np.abs(m3)\n",
    "m3"
   ]
  },
  {
   "cell_type": "markdown",
   "id": "47816804",
   "metadata": {},
   "source": [
    "### Бинарные функции\n",
    "Унарные функции - принимают один аргумент.\n",
    "\n",
    "Бинарные принимают 2 аргумента. \n",
    "\n",
    "В нашем случае мы говорим о массивах."
   ]
  },
  {
   "cell_type": "code",
   "execution_count": 52,
   "id": "ed99a094",
   "metadata": {},
   "outputs": [],
   "source": [
    "m1 = np.array([1,2,3,4])"
   ]
  },
  {
   "cell_type": "code",
   "execution_count": 53,
   "id": "4ff181bd",
   "metadata": {},
   "outputs": [],
   "source": [
    "m2 = np.array([0,3,2,6])"
   ]
  },
  {
   "cell_type": "code",
   "execution_count": 54,
   "id": "6ce45a10",
   "metadata": {},
   "outputs": [
    {
     "data": {
      "text/plain": [
       "array([1, 3, 3, 6])"
      ]
     },
     "execution_count": 54,
     "metadata": {},
     "output_type": "execute_result"
    }
   ],
   "source": [
    "#Сравнение двух массивов поэлементно и получие из них максимальных элементов\n",
    "#Сравнение попарное\n",
    "np.maximum(m1 , m2)\n"
   ]
  },
  {
   "cell_type": "code",
   "execution_count": 55,
   "id": "08b22139",
   "metadata": {},
   "outputs": [
    {
     "data": {
      "text/plain": [
       "array([0, 2, 2, 4])"
      ]
     },
     "execution_count": 55,
     "metadata": {},
     "output_type": "execute_result"
    }
   ],
   "source": [
    "#Аналогичная ф-я minimum\n",
    "np.minimum(m1 , m2)"
   ]
  },
  {
   "cell_type": "code",
   "execution_count": 56,
   "id": "b01378c9",
   "metadata": {},
   "outputs": [
    {
     "data": {
      "text/plain": [
       "array([ 1,  5,  5, 10])"
      ]
     },
     "execution_count": 56,
     "metadata": {},
     "output_type": "execute_result"
    }
   ],
   "source": [
    "#Данная ф-я складывает элементы между собой\n",
    "np.add(m1, m2)"
   ]
  },
  {
   "cell_type": "code",
   "execution_count": 57,
   "id": "52cb34ae",
   "metadata": {},
   "outputs": [],
   "source": [
    "#допустим у нас массивы имют разное количество эл-ов\n",
    "m1 = np.array([1,2,3,4,11])\n",
    "m2 = np.array([0,3,2,6])"
   ]
  },
  {
   "cell_type": "code",
   "execution_count": 58,
   "id": "13fc90f7",
   "metadata": {},
   "outputs": [
    {
     "ename": "ValueError",
     "evalue": "operands could not be broadcast together with shapes (5,) (4,) ",
     "output_type": "error",
     "traceback": [
      "\u001b[1;31m---------------------------------------------------------------------------\u001b[0m",
      "\u001b[1;31mValueError\u001b[0m                                Traceback (most recent call last)",
      "Input \u001b[1;32mIn [58]\u001b[0m, in \u001b[0;36m<cell line: 1>\u001b[1;34m()\u001b[0m\n\u001b[1;32m----> 1\u001b[0m \u001b[43mnp\u001b[49m\u001b[38;5;241;43m.\u001b[39;49m\u001b[43madd\u001b[49m\u001b[43m(\u001b[49m\u001b[43mm1\u001b[49m\u001b[43m,\u001b[49m\u001b[43m \u001b[49m\u001b[43mm2\u001b[49m\u001b[43m)\u001b[49m\n",
      "\u001b[1;31mValueError\u001b[0m: operands could not be broadcast together with shapes (5,) (4,) "
     ]
    }
   ],
   "source": [
    "#получаем ошибку\n",
    "np.add(m1, m2)"
   ]
  },
  {
   "cell_type": "code",
   "execution_count": 59,
   "id": "80217a41",
   "metadata": {},
   "outputs": [],
   "source": [
    "#допустим мы имеем nan в массиве\n",
    "m1 = np.array([1,2,np.nan,4])\n",
    "m2 = np.array([0,3,2,6])"
   ]
  },
  {
   "cell_type": "code",
   "execution_count": 60,
   "id": "1cb57cc3",
   "metadata": {},
   "outputs": [
    {
     "data": {
      "text/plain": [
       "array([ 1.,  5., nan, 10.])"
      ]
     },
     "execution_count": 60,
     "metadata": {},
     "output_type": "execute_result"
    }
   ],
   "source": [
    "#Здесь спокойно получаем nan\n",
    "np.add(m1, m2)"
   ]
  },
  {
   "cell_type": "code",
   "execution_count": 61,
   "id": "c1ff41ac",
   "metadata": {},
   "outputs": [
    {
     "data": {
      "text/plain": [
       "array([ 1., -1., nan, -2.])"
      ]
     },
     "execution_count": 61,
     "metadata": {},
     "output_type": "execute_result"
    }
   ],
   "source": [
    "#вычитание\n",
    "np.subtract(m1,m2)"
   ]
  },
  {
   "cell_type": "code",
   "execution_count": 65,
   "id": "0aabf5ba",
   "metadata": {},
   "outputs": [
    {
     "data": {
      "text/plain": [
       "array([ 0.,  6., nan, 24.])"
      ]
     },
     "execution_count": 65,
     "metadata": {},
     "output_type": "execute_result"
    }
   ],
   "source": [
    "#умножение\n",
    "np.multiply(m1, m2)"
   ]
  },
  {
   "cell_type": "code",
   "execution_count": 73,
   "id": "b041583a",
   "metadata": {},
   "outputs": [
    {
     "name": "stderr",
     "output_type": "stream",
     "text": [
      "C:\\Users\\user\\AppData\\Local\\Temp\\ipykernel_13828\\221953607.py:2: RuntimeWarning: divide by zero encountered in true_divide\n",
      "  np.divide(m1, m2)\n",
      "C:\\Users\\user\\AppData\\Local\\Temp\\ipykernel_13828\\221953607.py:4: RuntimeWarning: divide by zero encountered in true_divide\n",
      "  res = m1 / m2\n"
     ]
    }
   ],
   "source": [
    "# деление\n",
    "#inf - это бесконечность, мы попробовали поделить на 0\n",
    "res = m1 / m2"
   ]
  },
  {
   "cell_type": "code",
   "execution_count": 67,
   "id": "36b26bad",
   "metadata": {},
   "outputs": [
    {
     "ename": "ZeroDivisionError",
     "evalue": "division by zero",
     "output_type": "error",
     "traceback": [
      "\u001b[1;31m---------------------------------------------------------------------------\u001b[0m",
      "\u001b[1;31mZeroDivisionError\u001b[0m                         Traceback (most recent call last)",
      "Input \u001b[1;32mIn [67]\u001b[0m, in \u001b[0;36m<cell line: 1>\u001b[1;34m()\u001b[0m\n\u001b[1;32m----> 1\u001b[0m \u001b[38;5;241;43m1\u001b[39;49m\u001b[43m \u001b[49m\u001b[38;5;241;43m/\u001b[39;49m\u001b[43m \u001b[49m\u001b[38;5;241;43m0\u001b[39;49m\n",
      "\u001b[1;31mZeroDivisionError\u001b[0m: division by zero"
     ]
    }
   ],
   "source": [
    "1 / 0"
   ]
  },
  {
   "cell_type": "code",
   "execution_count": 72,
   "id": "36ec2f27",
   "metadata": {},
   "outputs": [
    {
     "data": {
      "text/plain": [
       "array([ True, False, False, False])"
      ]
     },
     "execution_count": 72,
     "metadata": {},
     "output_type": "execute_result"
    }
   ],
   "source": [
    "# проверка на наличие подобных \"бесконечностей\"\n",
    "np.isinf(res)"
   ]
  },
  {
   "cell_type": "code",
   "execution_count": 74,
   "id": "a5191cfc",
   "metadata": {},
   "outputs": [
    {
     "name": "stderr",
     "output_type": "stream",
     "text": [
      "C:\\Users\\user\\AppData\\Local\\Temp\\ipykernel_13828\\3561950422.py:2: RuntimeWarning: divide by zero encountered in true_divide\n",
      "  np.divide(m1, m2)\n"
     ]
    },
    {
     "data": {
      "text/plain": [
       "array([       inf, 0.66666667,        nan, 0.66666667])"
      ]
     },
     "execution_count": 74,
     "metadata": {},
     "output_type": "execute_result"
    }
   ],
   "source": [
    "#деление \n",
    "np.divide(m1, m2)\n"
   ]
  },
  {
   "cell_type": "markdown",
   "id": "bb4b7a88",
   "metadata": {},
   "source": [
    "Step 2.10.9 - На вход подаётся матрица. Выполните ее транспонирование, а затем выполните возведение в квадрат каждого значения."
   ]
  },
  {
   "cell_type": "code",
   "execution_count": 75,
   "id": "5bed6457",
   "metadata": {},
   "outputs": [],
   "source": [
    "import numpy as np\n",
    "\n",
    "def solution(arr):\n",
    "    arr = arr.T ** 2\n",
    "    return arr"
   ]
  },
  {
   "cell_type": "code",
   "execution_count": 76,
   "id": "557fbd90",
   "metadata": {},
   "outputs": [],
   "source": [
    "arr = np.arange(21).reshape((3,7))"
   ]
  },
  {
   "cell_type": "code",
   "execution_count": 77,
   "id": "ff56edf3",
   "metadata": {},
   "outputs": [
    {
     "data": {
      "text/plain": [
       "array([[  0,  49, 196],\n",
       "       [  1,  64, 225],\n",
       "       [  4,  81, 256],\n",
       "       [  9, 100, 289],\n",
       "       [ 16, 121, 324],\n",
       "       [ 25, 144, 361],\n",
       "       [ 36, 169, 400]], dtype=int32)"
      ]
     },
     "execution_count": 77,
     "metadata": {},
     "output_type": "execute_result"
    }
   ],
   "source": [
    "solution(arr)"
   ]
  },
  {
   "cell_type": "markdown",
   "id": "a2d2c5f9",
   "metadata": {},
   "source": [
    "Step 2.10.11 - На вход подаётся матрица. \n",
    "\n",
    "Вытяните первую и последнюю строчки. \n",
    "\n",
    "Сравните поэлементно две строчки и постройте новый одномерный массив, который будет состоять из минимальных значений. \n",
    "Например, если первый элемент первой строки больше чем первый элемент последней строки, то в результат должен пойти первый элемент последней строки. Тоже проделайте с остальными элементами."
   ]
  },
  {
   "cell_type": "code",
   "execution_count": 144,
   "id": "a316c69c",
   "metadata": {},
   "outputs": [],
   "source": [
    "import numpy as np\n",
    "\n",
    "def solution(arr):\n",
    "    arr1, arr2 = arr[0], arr[-1]\n",
    "    arr = np.minimum(arr1 , arr2)\n",
    "    return arr"
   ]
  },
  {
   "cell_type": "code",
   "execution_count": 143,
   "id": "c801c001",
   "metadata": {},
   "outputs": [],
   "source": [
    "#Второй вариант\n",
    "import numpy as np\n",
    "\n",
    "def solution(arr):\n",
    "    arr = np.minimum(arr[0], arr[-1])\n",
    "    return arr"
   ]
  },
  {
   "cell_type": "markdown",
   "id": "13e09a5d",
   "metadata": {},
   "source": [
    "Step 2.10.12 - Прежде чем применять бинарную функцию на двух массивах, вы должны быть уверены, что ваши массивы имеют одинаковую размерность. На вход вашей функции подаётся два контейнера. Проверьте, равны ли размерности. Функция должна вернуть True, если размерности равны и False если нет.\n",
    "Попробуйте оттолкнуться от свойства shape. Посмотрите какие длины у кортежей и что за значения внутри них."
   ]
  },
  {
   "cell_type": "code",
   "execution_count": 146,
   "id": "f543ec10",
   "metadata": {},
   "outputs": [],
   "source": [
    "import numpy as np\n",
    "\n",
    "def solution(a1, a2):\n",
    "    result = np.shape(a1) == np.shape(a2)\n",
    "    return result"
   ]
  }
 ],
 "metadata": {
  "kernelspec": {
   "display_name": "Python 3 (ipykernel)",
   "language": "python",
   "name": "python3"
  },
  "language_info": {
   "codemirror_mode": {
    "name": "ipython",
    "version": 3
   },
   "file_extension": ".py",
   "mimetype": "text/x-python",
   "name": "python",
   "nbconvert_exporter": "python",
   "pygments_lexer": "ipython3",
   "version": "3.9.12"
  }
 },
 "nbformat": 4,
 "nbformat_minor": 5
}
