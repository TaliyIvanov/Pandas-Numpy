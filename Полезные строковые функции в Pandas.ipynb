{
 "cells": [
  {
   "cell_type": "markdown",
   "id": "41489d07",
   "metadata": {},
   "source": [
    "# Некоторые полезные строковые функции в Pandas"
   ]
  },
  {
   "cell_type": "code",
   "execution_count": 5,
   "id": "e45e60b1",
   "metadata": {},
   "outputs": [],
   "source": [
    "import pandas as pd\n",
    "import numpy as np"
   ]
  },
  {
   "cell_type": "markdown",
   "id": "bcf2de10",
   "metadata": {},
   "source": [
    "## Функция cat\n",
    "### Объединяет строки в серии/индексе с заданным разделителем."
   ]
  },
  {
   "cell_type": "code",
   "execution_count": 6,
   "id": "4a5ae5f5",
   "metadata": {},
   "outputs": [],
   "source": [
    "s = pd.Series(['a', 'b', np.nan, 'd'])"
   ]
  },
  {
   "cell_type": "code",
   "execution_count": 7,
   "id": "dd1b4719",
   "metadata": {},
   "outputs": [
    {
     "data": {
      "text/plain": [
       "'a b d'"
      ]
     },
     "execution_count": 7,
     "metadata": {},
     "output_type": "execute_result"
    }
   ],
   "source": [
    "s.str.cat(sep=' ')"
   ]
  },
  {
   "cell_type": "markdown",
   "id": "105518da",
   "metadata": {},
   "source": [
    "## Функция contains\n",
    "### Проверяет, содержится ли шаблон или регулярное выражение в строке серии или индекса."
   ]
  },
  {
   "cell_type": "code",
   "execution_count": 9,
   "id": "18001ef3",
   "metadata": {},
   "outputs": [],
   "source": [
    "s1 = pd.Series(['Mouse', 'dog', 'house and parrot', '23', np.NaN])"
   ]
  },
  {
   "cell_type": "code",
   "execution_count": 11,
   "id": "fc101b28",
   "metadata": {},
   "outputs": [
    {
     "data": {
      "text/plain": [
       "0    False\n",
       "1     True\n",
       "2    False\n",
       "3    False\n",
       "4      NaN\n",
       "dtype: object"
      ]
     },
     "execution_count": 11,
     "metadata": {},
     "output_type": "execute_result"
    }
   ],
   "source": [
    "s1.str.contains('og')"
   ]
  },
  {
   "cell_type": "markdown",
   "id": "d130f9d4",
   "metadata": {},
   "source": [
    "## Функция count\n",
    "### Подсчитывает количество вхождений шаблона в каждой строке серии/индекса."
   ]
  },
  {
   "cell_type": "code",
   "execution_count": 13,
   "id": "92c7dc5e",
   "metadata": {},
   "outputs": [],
   "source": [
    "s = pd.Series(['A', 'B', 'Aaba', 'Baca', np.nan, 'CABA', 'cat'])"
   ]
  },
  {
   "cell_type": "code",
   "execution_count": 14,
   "id": "e7d48e99",
   "metadata": {},
   "outputs": [
    {
     "data": {
      "text/plain": [
       "0    0.0\n",
       "1    0.0\n",
       "2    2.0\n",
       "3    2.0\n",
       "4    NaN\n",
       "5    0.0\n",
       "6    1.0\n",
       "dtype: float64"
      ]
     },
     "execution_count": 14,
     "metadata": {},
     "output_type": "execute_result"
    }
   ],
   "source": [
    "s.str.count('a')"
   ]
  },
  {
   "cell_type": "markdown",
   "id": "454f6a6d",
   "metadata": {},
   "source": [
    "## Функция endswith\n",
    "### Проверяет, соответствует ли конец каждого строкового элемента шаблону."
   ]
  },
  {
   "cell_type": "code",
   "execution_count": 15,
   "id": "1cda4d83",
   "metadata": {},
   "outputs": [],
   "source": [
    "s = pd.Series(['bat', 'bear', 'caT', np.nan])"
   ]
  },
  {
   "cell_type": "code",
   "execution_count": 16,
   "id": "cc97bbcb",
   "metadata": {},
   "outputs": [
    {
     "data": {
      "text/plain": [
       "0     True\n",
       "1    False\n",
       "2    False\n",
       "3      NaN\n",
       "dtype: object"
      ]
     },
     "execution_count": 16,
     "metadata": {},
     "output_type": "execute_result"
    }
   ],
   "source": [
    "s.str.endswith('t')"
   ]
  },
  {
   "cell_type": "markdown",
   "id": "051e4144",
   "metadata": {},
   "source": [
    "## Функция startswith\n",
    "### Проверяет, соответствует ли начало каждого строкового элемента шаблону."
   ]
  },
  {
   "cell_type": "code",
   "execution_count": 18,
   "id": "9e7e5185",
   "metadata": {},
   "outputs": [],
   "source": [
    "s = pd.Series(['bat', 'Bear', 'cat', np.nan])"
   ]
  },
  {
   "cell_type": "code",
   "execution_count": 19,
   "id": "9fe294e6",
   "metadata": {},
   "outputs": [
    {
     "data": {
      "text/plain": [
       "0     True\n",
       "1    False\n",
       "2    False\n",
       "3      NaN\n",
       "dtype: object"
      ]
     },
     "execution_count": 19,
     "metadata": {},
     "output_type": "execute_result"
    }
   ],
   "source": [
    "s.str.startswith('b')"
   ]
  },
  {
   "cell_type": "code",
   "execution_count": 20,
   "id": "4319ffe1",
   "metadata": {},
   "outputs": [],
   "source": [
    "# через параметр na мы можем указать, что выводить в итоговую серию вместо NaN:"
   ]
  },
  {
   "cell_type": "code",
   "execution_count": 21,
   "id": "295f1ec5",
   "metadata": {},
   "outputs": [
    {
     "data": {
      "text/plain": [
       "0     True\n",
       "1    False\n",
       "2    False\n",
       "3    False\n",
       "dtype: bool"
      ]
     },
     "execution_count": 21,
     "metadata": {},
     "output_type": "execute_result"
    }
   ],
   "source": [
    "s.str.startswith('b', na=False)"
   ]
  },
  {
   "cell_type": "code",
   "execution_count": 22,
   "id": "c79cf703",
   "metadata": {},
   "outputs": [
    {
     "data": {
      "text/plain": [
       "0     True\n",
       "1    False\n",
       "2    False\n",
       "3     True\n",
       "dtype: bool"
      ]
     },
     "execution_count": 22,
     "metadata": {},
     "output_type": "execute_result"
    }
   ],
   "source": [
    "s.str.startswith('b', na=True)"
   ]
  },
  {
   "cell_type": "markdown",
   "id": "f005adb7",
   "metadata": {},
   "source": [
    "## Функция get\n",
    "### Извлекает элемент из каждого элемента в указанной позиции. Извлекает элемент из списков, кортежей или строк в каждой ячейки серии/индексе."
   ]
  },
  {
   "cell_type": "code",
   "execution_count": 23,
   "id": "169d59f3",
   "metadata": {},
   "outputs": [],
   "source": [
    "s = pd.Series([\"String\",\n",
    "              (1, 2, 3),\n",
    "              [\"a\", \"b\", \"c\"],\n",
    "              123,\n",
    "              -456,\n",
    "              {1: \"Hello\", \"2\": \"World\"}])"
   ]
  },
  {
   "cell_type": "code",
   "execution_count": 24,
   "id": "4fae158a",
   "metadata": {},
   "outputs": [
    {
     "data": {
      "text/plain": [
       "0        t\n",
       "1        2\n",
       "2        b\n",
       "3      NaN\n",
       "4      NaN\n",
       "5    Hello\n",
       "dtype: object"
      ]
     },
     "execution_count": 24,
     "metadata": {},
     "output_type": "execute_result"
    }
   ],
   "source": [
    "s.str.get(1)"
   ]
  },
  {
   "cell_type": "code",
   "execution_count": 25,
   "id": "f670a2a2",
   "metadata": {},
   "outputs": [
    {
     "data": {
      "text/plain": [
       "0       g\n",
       "1       3\n",
       "2       c\n",
       "3     NaN\n",
       "4     NaN\n",
       "5    None\n",
       "dtype: object"
      ]
     },
     "execution_count": 25,
     "metadata": {},
     "output_type": "execute_result"
    }
   ],
   "source": [
    "s.str.get(-1)"
   ]
  },
  {
   "cell_type": "markdown",
   "id": "049b08ef",
   "metadata": {},
   "source": [
    "## Функция isalnum\n",
    "### Проверяет, все ли символы в каждой строке являются буквенно-цифровыми."
   ]
  },
  {
   "cell_type": "code",
   "execution_count": 26,
   "id": "b728a89e",
   "metadata": {},
   "outputs": [],
   "source": [
    "s1 = pd.Series(['one', 'one1', '1', ''])"
   ]
  },
  {
   "cell_type": "code",
   "execution_count": 27,
   "id": "ad42a06d",
   "metadata": {},
   "outputs": [
    {
     "data": {
      "text/plain": [
       "0     True\n",
       "1    False\n",
       "2    False\n",
       "3    False\n",
       "dtype: bool"
      ]
     },
     "execution_count": 27,
     "metadata": {},
     "output_type": "execute_result"
    }
   ],
   "source": [
    "s1.str.isalpha() # Проверяет, все ли символы в каждой строке являются буквенными."
   ]
  },
  {
   "cell_type": "code",
   "execution_count": 28,
   "id": "c4f95dc6",
   "metadata": {},
   "outputs": [
    {
     "data": {
      "text/plain": [
       "0    False\n",
       "1    False\n",
       "2     True\n",
       "3    False\n",
       "dtype: bool"
      ]
     },
     "execution_count": 28,
     "metadata": {},
     "output_type": "execute_result"
    }
   ],
   "source": [
    "s1.str.isnumeric() # Проверяет, все ли символы в каждой строке являются числовыми."
   ]
  },
  {
   "cell_type": "code",
   "execution_count": 29,
   "id": "171d0146",
   "metadata": {},
   "outputs": [
    {
     "data": {
      "text/plain": [
       "0     True\n",
       "1     True\n",
       "2     True\n",
       "3    False\n",
       "dtype: bool"
      ]
     },
     "execution_count": 29,
     "metadata": {},
     "output_type": "execute_result"
    }
   ],
   "source": [
    "s1.str.isalnum() # isalpha + isnumeric"
   ]
  },
  {
   "cell_type": "markdown",
   "id": "96a8baae",
   "metadata": {},
   "source": [
    "## Функции islower/isupper\n",
    "### Проверяет, все ли символы в каждой строке являются строчными/заглавными"
   ]
  },
  {
   "cell_type": "code",
   "execution_count": 31,
   "id": "3243ed88",
   "metadata": {},
   "outputs": [],
   "source": [
    "s1 = pd.Series(['leopard', 'Golden Eagle', 'SNAKE', ''])"
   ]
  },
  {
   "cell_type": "code",
   "execution_count": 32,
   "id": "163eb34c",
   "metadata": {},
   "outputs": [
    {
     "data": {
      "text/plain": [
       "0     True\n",
       "1    False\n",
       "2    False\n",
       "3    False\n",
       "dtype: bool"
      ]
     },
     "execution_count": 32,
     "metadata": {},
     "output_type": "execute_result"
    }
   ],
   "source": [
    "s1.str.islower()"
   ]
  },
  {
   "cell_type": "code",
   "execution_count": 33,
   "id": "37113a36",
   "metadata": {},
   "outputs": [
    {
     "data": {
      "text/plain": [
       "0    False\n",
       "1    False\n",
       "2     True\n",
       "3    False\n",
       "dtype: bool"
      ]
     },
     "execution_count": 33,
     "metadata": {},
     "output_type": "execute_result"
    }
   ],
   "source": [
    "s1.str.isupper()"
   ]
  },
  {
   "cell_type": "markdown",
   "id": "1d8e5afc",
   "metadata": {},
   "source": [
    "## Функция join\n",
    "### Соединяет значения, которые лежат в списке (list). Сами списки лежат в серии.\n",
    "#### Если какой-либо из элементов списка не является строковым объектом, результатом соединения будет NaN."
   ]
  },
  {
   "cell_type": "code",
   "execution_count": 35,
   "id": "4ec4fdb6",
   "metadata": {},
   "outputs": [],
   "source": [
    "s = pd.Series([['lion', 'elephant', 'zebra'],\n",
    "               [1.1, 2.2, 3.3],\n",
    "               ['cat', np.nan, 'dog'],\n",
    "               ['cow', 4.5, 'goat'],\n",
    "               ['duck', ['swan', 'fish'], 'guppy']])"
   ]
  },
  {
   "cell_type": "code",
   "execution_count": 37,
   "id": "3c9ce5ad",
   "metadata": {},
   "outputs": [
    {
     "data": {
      "text/plain": [
       "0        [lion, elephant, zebra]\n",
       "1                [1.1, 2.2, 3.3]\n",
       "2                [cat, nan, dog]\n",
       "3               [cow, 4.5, goat]\n",
       "4    [duck, [swan, fish], guppy]\n",
       "dtype: object"
      ]
     },
     "execution_count": 37,
     "metadata": {},
     "output_type": "execute_result"
    }
   ],
   "source": [
    "s"
   ]
  },
  {
   "cell_type": "code",
   "execution_count": 36,
   "id": "7b6e025a",
   "metadata": {},
   "outputs": [
    {
     "data": {
      "text/plain": [
       "0    lion-elephant-zebra\n",
       "1                    NaN\n",
       "2                    NaN\n",
       "3                    NaN\n",
       "4                    NaN\n",
       "dtype: object"
      ]
     },
     "execution_count": 36,
     "metadata": {},
     "output_type": "execute_result"
    }
   ],
   "source": [
    "s.str.join('-')"
   ]
  },
  {
   "cell_type": "markdown",
   "id": "2b7c65d3",
   "metadata": {},
   "source": [
    "## Функция strip\n",
    "### Удаляет пробелы (включая символы новой строки) или набор указанных символов из каждой строки в серии/индексе с левой и правой сторон."
   ]
  },
  {
   "cell_type": "code",
   "execution_count": 42,
   "id": "78cbb236",
   "metadata": {},
   "outputs": [],
   "source": [
    "s = pd.Series(['1. Ant.  ', '2. Bee!\\n', '3. Cat?\\t', np.nan])"
   ]
  },
  {
   "cell_type": "code",
   "execution_count": 43,
   "id": "74f41f00",
   "metadata": {},
   "outputs": [
    {
     "data": {
      "text/plain": [
       "0    1. Ant.\n",
       "1    2. Bee!\n",
       "2    3. Cat?\n",
       "3        NaN\n",
       "dtype: object"
      ]
     },
     "execution_count": 43,
     "metadata": {},
     "output_type": "execute_result"
    }
   ],
   "source": [
    "s.str.strip()"
   ]
  },
  {
   "cell_type": "code",
   "execution_count": 44,
   "id": "3a86d254",
   "metadata": {},
   "outputs": [
    {
     "data": {
      "text/plain": [
       "0     Ant.  \n",
       "1     Bee!\\n\n",
       "2     Cat?\\t\n",
       "3        NaN\n",
       "dtype: object"
      ]
     },
     "execution_count": 44,
     "metadata": {},
     "output_type": "execute_result"
    }
   ],
   "source": [
    "s.str.lstrip('123.') # lstrip удаляет только начальные символы"
   ]
  },
  {
   "cell_type": "code",
   "execution_count": 46,
   "id": "c30d9e61",
   "metadata": {},
   "outputs": [
    {
     "data": {
      "text/plain": [
       "0    1. Ant\n",
       "1    2. Bee\n",
       "2    3. Cat\n",
       "3       NaN\n",
       "dtype: object"
      ]
     },
     "execution_count": 46,
     "metadata": {},
     "output_type": "execute_result"
    }
   ],
   "source": [
    "s.str.rstrip('.!? \\n\\t') # rstrip удаляет только последние символы"
   ]
  },
  {
   "cell_type": "code",
   "execution_count": 48,
   "id": "20988ca9",
   "metadata": {},
   "outputs": [
    {
     "data": {
      "text/plain": [
       "0    Ant\n",
       "1    Bee\n",
       "2    Cat\n",
       "3    NaN\n",
       "dtype: object"
      ]
     },
     "execution_count": 48,
     "metadata": {},
     "output_type": "execute_result"
    }
   ],
   "source": [
    "s.str.strip('123.!? \\n\\t') # lstrip + rstrip"
   ]
  }
 ],
 "metadata": {
  "kernelspec": {
   "display_name": "Python 3 (ipykernel)",
   "language": "python",
   "name": "python3"
  },
  "language_info": {
   "codemirror_mode": {
    "name": "ipython",
    "version": 3
   },
   "file_extension": ".py",
   "mimetype": "text/x-python",
   "name": "python",
   "nbconvert_exporter": "python",
   "pygments_lexer": "ipython3",
   "version": "3.9.12"
  }
 },
 "nbformat": 4,
 "nbformat_minor": 5
}
