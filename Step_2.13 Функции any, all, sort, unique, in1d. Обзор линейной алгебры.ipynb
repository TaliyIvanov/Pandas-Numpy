{
 "cells": [
  {
   "cell_type": "code",
   "execution_count": 9,
   "id": "96081a19",
   "metadata": {},
   "outputs": [],
   "source": [
    "import numpy as np"
   ]
  },
  {
   "cell_type": "markdown",
   "id": "e73fe31f",
   "metadata": {},
   "source": [
    "#### Функции .any() и .all()\n",
    ".any() - выведет True, если есть хотя бы 1 True\n",
    ".all() - выведет True, если все элементы True"
   ]
  },
  {
   "cell_type": "code",
   "execution_count": 10,
   "id": "f095c24f",
   "metadata": {},
   "outputs": [],
   "source": [
    "bools_arr_1 = np.array([True,True,False,True])"
   ]
  },
  {
   "cell_type": "code",
   "execution_count": 11,
   "id": "372a744a",
   "metadata": {},
   "outputs": [],
   "source": [
    "bools_arr_2 = np.array([False,False,False,False])"
   ]
  },
  {
   "cell_type": "code",
   "execution_count": 12,
   "id": "89cedd73",
   "metadata": {},
   "outputs": [],
   "source": [
    "bools_arr_3 = np.array([True,True,True,True])"
   ]
  },
  {
   "cell_type": "code",
   "execution_count": 13,
   "id": "43a83651",
   "metadata": {},
   "outputs": [
    {
     "data": {
      "text/plain": [
       "True"
      ]
     },
     "execution_count": 13,
     "metadata": {},
     "output_type": "execute_result"
    }
   ],
   "source": [
    "bools_arr_1.any()"
   ]
  },
  {
   "cell_type": "code",
   "execution_count": 14,
   "id": "12dd35d2",
   "metadata": {},
   "outputs": [
    {
     "data": {
      "text/plain": [
       "False"
      ]
     },
     "execution_count": 14,
     "metadata": {},
     "output_type": "execute_result"
    }
   ],
   "source": [
    "bools_arr_2.any()"
   ]
  },
  {
   "cell_type": "code",
   "execution_count": 15,
   "id": "1a778d25",
   "metadata": {},
   "outputs": [
    {
     "data": {
      "text/plain": [
       "True"
      ]
     },
     "execution_count": 15,
     "metadata": {},
     "output_type": "execute_result"
    }
   ],
   "source": [
    "bools_arr_3.any()"
   ]
  },
  {
   "cell_type": "code",
   "execution_count": 16,
   "id": "21e328ee",
   "metadata": {},
   "outputs": [
    {
     "data": {
      "text/plain": [
       "False"
      ]
     },
     "execution_count": 16,
     "metadata": {},
     "output_type": "execute_result"
    }
   ],
   "source": [
    "bools_arr_1.all()"
   ]
  },
  {
   "cell_type": "code",
   "execution_count": 18,
   "id": "f2155092",
   "metadata": {},
   "outputs": [
    {
     "data": {
      "text/plain": [
       "False"
      ]
     },
     "execution_count": 18,
     "metadata": {},
     "output_type": "execute_result"
    }
   ],
   "source": [
    "bools_arr_2.any()"
   ]
  },
  {
   "cell_type": "code",
   "execution_count": 19,
   "id": "ffa8b023",
   "metadata": {},
   "outputs": [
    {
     "data": {
      "text/plain": [
       "True"
      ]
     },
     "execution_count": 19,
     "metadata": {},
     "output_type": "execute_result"
    }
   ],
   "source": [
    "bools_arr_3.any()"
   ]
  },
  {
   "cell_type": "markdown",
   "id": "31a98024",
   "metadata": {},
   "source": [
    "### Функция .sort()\n",
    "Данная функция ничего не возвращает. Она сортирует уже созданный массив."
   ]
  },
  {
   "cell_type": "code",
   "execution_count": 21,
   "id": "753122bf",
   "metadata": {},
   "outputs": [],
   "source": [
    "m1 = np.array([-1,6,2,3,0,-23])"
   ]
  },
  {
   "cell_type": "code",
   "execution_count": 22,
   "id": "7bbc7d71",
   "metadata": {},
   "outputs": [],
   "source": [
    "m1.sort()"
   ]
  },
  {
   "cell_type": "code",
   "execution_count": 23,
   "id": "67400612",
   "metadata": {},
   "outputs": [
    {
     "data": {
      "text/plain": [
       "array([-23,  -1,   0,   2,   3,   6])"
      ]
     },
     "execution_count": 23,
     "metadata": {},
     "output_type": "execute_result"
    }
   ],
   "source": [
    "m1"
   ]
  },
  {
   "cell_type": "markdown",
   "id": "bb513c8d",
   "metadata": {},
   "source": [
    "Сортировка двумерной матрицы"
   ]
  },
  {
   "cell_type": "code",
   "execution_count": 32,
   "id": "358612d2",
   "metadata": {},
   "outputs": [
    {
     "data": {
      "text/plain": [
       "array([[ 1,  5,  0, -2],\n",
       "       [ 6,  2,  0, -8],\n",
       "       [-2,  4,  8, 12]])"
      ]
     },
     "execution_count": 32,
     "metadata": {},
     "output_type": "execute_result"
    }
   ],
   "source": [
    "m2d = np.array([[1,5,0,-2],[6,2,0,-8],[-2,4,8,12]])\n",
    "m2d"
   ]
  },
  {
   "cell_type": "code",
   "execution_count": 31,
   "id": "046303a8",
   "metadata": {},
   "outputs": [
    {
     "data": {
      "text/plain": [
       "array([[-2,  2,  0, -8],\n",
       "       [ 1,  4,  0, -2],\n",
       "       [ 6,  5,  8, 12]])"
      ]
     },
     "execution_count": 31,
     "metadata": {},
     "output_type": "execute_result"
    }
   ],
   "source": [
    "#Сортирует по столбцам\n",
    "m2d.sort(axis=0)\n",
    "m2d"
   ]
  },
  {
   "cell_type": "code",
   "execution_count": 34,
   "id": "497783c6",
   "metadata": {},
   "outputs": [
    {
     "data": {
      "text/plain": [
       "array([[-2,  0,  1,  5],\n",
       "       [-8,  0,  2,  6],\n",
       "       [-2,  4,  8, 12]])"
      ]
     },
     "execution_count": 34,
     "metadata": {},
     "output_type": "execute_result"
    }
   ],
   "source": [
    "#Сортирует по строкам\n",
    "m2d.sort(axis=1) \n",
    "m2d"
   ]
  },
  {
   "cell_type": "markdown",
   "id": "7192ea7d",
   "metadata": {},
   "source": [
    "### Дубликаты, ф-я np.unique()\n",
    "Проверим наш массив на наличие дубликатов"
   ]
  },
  {
   "cell_type": "code",
   "execution_count": 36,
   "id": "f762704c",
   "metadata": {},
   "outputs": [
    {
     "data": {
      "text/plain": [
       "array(['Ivan', 'Andrey', 'Roman', 'Andrey', 'Sergey', 'Ivan'], dtype='<U6')"
      ]
     },
     "execution_count": 36,
     "metadata": {},
     "output_type": "execute_result"
    }
   ],
   "source": [
    "names = np.array(['Ivan','Andrey','Roman','Andrey','Sergey','Ivan'])\n",
    "names"
   ]
  },
  {
   "cell_type": "code",
   "execution_count": 39,
   "id": "ef21867e",
   "metadata": {},
   "outputs": [],
   "source": [
    "unames = np.unique(names)"
   ]
  },
  {
   "cell_type": "code",
   "execution_count": 40,
   "id": "c67f7583",
   "metadata": {},
   "outputs": [
    {
     "data": {
      "text/plain": [
       "4"
      ]
     },
     "execution_count": 40,
     "metadata": {},
     "output_type": "execute_result"
    }
   ],
   "source": [
    "len(unames)"
   ]
  },
  {
   "cell_type": "code",
   "execution_count": 42,
   "id": "cd28b440",
   "metadata": {},
   "outputs": [
    {
     "data": {
      "text/plain": [
       "False"
      ]
     },
     "execution_count": 42,
     "metadata": {},
     "output_type": "execute_result"
    }
   ],
   "source": [
    "#Проверка на наличие дубликатов\n",
    "len(unames) == len(names)"
   ]
  },
  {
   "cell_type": "markdown",
   "id": "15f7b969",
   "metadata": {},
   "source": [
    "#### Функция np.in1d()\n",
    "Проверим наличие определенных значений(которые могут нас интересовать) в нашем массиве"
   ]
  },
  {
   "cell_type": "code",
   "execution_count": 44,
   "id": "485f97e1",
   "metadata": {},
   "outputs": [
    {
     "data": {
      "text/plain": [
       "array(['Ivan', 'Andrey', 'Roman', 'Andrey', 'Sergey', 'Ivan'], dtype='<U6')"
      ]
     },
     "execution_count": 44,
     "metadata": {},
     "output_type": "execute_result"
    }
   ],
   "source": [
    "names = np.array(['Ivan','Andrey','Roman','Andrey','Sergey','Ivan'])\n",
    "names"
   ]
  },
  {
   "cell_type": "code",
   "execution_count": 45,
   "id": "c2374b67",
   "metadata": {},
   "outputs": [
    {
     "data": {
      "text/plain": [
       "array([False, False,  True, False, False, False])"
      ]
     },
     "execution_count": 45,
     "metadata": {},
     "output_type": "execute_result"
    }
   ],
   "source": [
    "names == 'Roman'"
   ]
  },
  {
   "cell_type": "markdown",
   "id": "4b6cfe6e",
   "metadata": {},
   "source": [
    "Допустим интересующих нас значений несколько"
   ]
  },
  {
   "cell_type": "code",
   "execution_count": 46,
   "id": "32e6717c",
   "metadata": {},
   "outputs": [
    {
     "data": {
      "text/plain": [
       "array([False,  True,  True,  True, False, False])"
      ]
     },
     "execution_count": 46,
     "metadata": {},
     "output_type": "execute_result"
    }
   ],
   "source": [
    "(names == 'Roman') | (names == 'Andrey')"
   ]
  },
  {
   "cell_type": "code",
   "execution_count": 48,
   "id": "a22cb78a",
   "metadata": {},
   "outputs": [
    {
     "data": {
      "text/plain": [
       "array([False,  True,  True,  True, False, False])"
      ]
     },
     "execution_count": 48,
     "metadata": {},
     "output_type": "execute_result"
    }
   ],
   "source": [
    "#Ну мы же не можем делать так до бесконечности, применим функцию\n",
    "#Допустим нам надо проверить пользователей. В BlackList\n",
    "np.in1d(names, ['Roman', 'Andrey'])"
   ]
  },
  {
   "cell_type": "markdown",
   "id": "757b2fa8",
   "metadata": {},
   "source": [
    "#### Линейная Алгебра"
   ]
  },
  {
   "cell_type": "code",
   "execution_count": 49,
   "id": "a26266e6",
   "metadata": {},
   "outputs": [
    {
     "data": {
      "text/plain": [
       "array([[ 1,  5,  0],\n",
       "       [ 6,  2,  0],\n",
       "       [-2,  4,  8]])"
      ]
     },
     "execution_count": 49,
     "metadata": {},
     "output_type": "execute_result"
    }
   ],
   "source": [
    "m = np.array([[1,5,0],[6,2,0],[-2,4,8]])\n",
    "m"
   ]
  },
  {
   "cell_type": "code",
   "execution_count": 50,
   "id": "dce74bc5",
   "metadata": {},
   "outputs": [
    {
     "data": {
      "text/plain": [
       "array([[ 1,  6, -2],\n",
       "       [ 5,  2,  4],\n",
       "       [ 0,  0,  8]])"
      ]
     },
     "execution_count": 50,
     "metadata": {},
     "output_type": "execute_result"
    }
   ],
   "source": [
    "m.T"
   ]
  },
  {
   "cell_type": "code",
   "execution_count": 51,
   "id": "d2b6705b",
   "metadata": {},
   "outputs": [
    {
     "data": {
      "text/plain": [
       "array([[ 41,   9, -16],\n",
       "       [  9,  45,  32],\n",
       "       [-16,  32,  64]])"
      ]
     },
     "execution_count": 51,
     "metadata": {},
     "output_type": "execute_result"
    }
   ],
   "source": [
    "#Функция np.dot - перемножает матрицы\n",
    "#перемножим транспонированную матрицу на ее саму\n",
    "np.dot(m.T, m)"
   ]
  },
  {
   "cell_type": "markdown",
   "id": "e0e58bdf",
   "metadata": {},
   "source": [
    "Детерминант матрицы - Определи́тель (детермина́нт) в линейной алгебре — скалярная величина, которая характеризует ориентированное «растяжение» или «сжатие» многомерного евклидова пространства после преобразования матрицей; имеет смысл только для квадратных матриц.\n",
    "Определитель матрицы равен произведению её собственных значений.\n",
    "Если квадратная матрица выражает линейное преобразование, то её определитель не меняется при замене базиса линейного пространства."
   ]
  },
  {
   "cell_type": "code",
   "execution_count": 52,
   "id": "b09e0a66",
   "metadata": {},
   "outputs": [
    {
     "data": {
      "text/plain": [
       "-224.00000000000014"
      ]
     },
     "execution_count": 52,
     "metadata": {},
     "output_type": "execute_result"
    }
   ],
   "source": [
    "np.linalg.det(m)"
   ]
  },
  {
   "cell_type": "code",
   "execution_count": 53,
   "id": "99d69cb5",
   "metadata": {},
   "outputs": [
    {
     "data": {
      "text/plain": [
       "array([[-0.07142857,  0.17857143,  0.        ],\n",
       "       [ 0.21428571, -0.03571429,  0.        ],\n",
       "       [-0.125     ,  0.0625    ,  0.125     ]])"
      ]
     },
     "execution_count": 53,
     "metadata": {},
     "output_type": "execute_result"
    }
   ],
   "source": [
    "#Обратная матрица\n",
    "np.linalg.inv(m)"
   ]
  },
  {
   "cell_type": "code",
   "execution_count": 54,
   "id": "34e4ff0e",
   "metadata": {},
   "outputs": [
    {
     "data": {
      "text/plain": [
       "array([[ 1,  5,  0],\n",
       "       [ 6,  2,  0],\n",
       "       [-2,  4,  8]])"
      ]
     },
     "execution_count": 54,
     "metadata": {},
     "output_type": "execute_result"
    }
   ],
   "source": [
    "#Получение главной диагонали матрицы\n",
    "m"
   ]
  },
  {
   "cell_type": "code",
   "execution_count": 55,
   "id": "4c9b0c97",
   "metadata": {},
   "outputs": [
    {
     "data": {
      "text/plain": [
       "array([1, 2, 8])"
      ]
     },
     "execution_count": 55,
     "metadata": {},
     "output_type": "execute_result"
    }
   ],
   "source": [
    "np.diag(m)"
   ]
  },
  {
   "cell_type": "code",
   "execution_count": 63,
   "id": "5cf0faad",
   "metadata": {},
   "outputs": [
    {
     "data": {
      "text/plain": [
       "array([5, 0])"
      ]
     },
     "execution_count": 63,
     "metadata": {},
     "output_type": "execute_result"
    }
   ],
   "source": [
    "#Получение элементов выше главной диагонали\n",
    "#Делается это с помощью специального параметра k\n",
    "np.diag(m, k=1)"
   ]
  },
  {
   "cell_type": "code",
   "execution_count": 56,
   "id": "b177df19",
   "metadata": {},
   "outputs": [
    {
     "data": {
      "text/plain": [
       "array([[1, 5, 0],\n",
       "       [0, 2, 0],\n",
       "       [0, 0, 8]])"
      ]
     },
     "execution_count": 56,
     "metadata": {},
     "output_type": "execute_result"
    }
   ],
   "source": [
    "#Получим верхний треугольник матрицы\n",
    "np.triu(m)"
   ]
  },
  {
   "cell_type": "code",
   "execution_count": 58,
   "id": "71e18392",
   "metadata": {},
   "outputs": [
    {
     "data": {
      "text/plain": [
       "16"
      ]
     },
     "execution_count": 58,
     "metadata": {},
     "output_type": "execute_result"
    }
   ],
   "source": [
    "#Получим сумму верхнего треугольника\n",
    "np.triu(m).sum()"
   ]
  },
  {
   "cell_type": "code",
   "execution_count": 57,
   "id": "e22080c9",
   "metadata": {},
   "outputs": [
    {
     "data": {
      "text/plain": [
       "array([[ 1,  0,  0],\n",
       "       [ 6,  2,  0],\n",
       "       [-2,  4,  8]])"
      ]
     },
     "execution_count": 57,
     "metadata": {},
     "output_type": "execute_result"
    }
   ],
   "source": [
    "#Получим нижний треугольник матрицы\n",
    "np.tril(m)"
   ]
  },
  {
   "cell_type": "code",
   "execution_count": 59,
   "id": "e3336f7e",
   "metadata": {},
   "outputs": [
    {
     "data": {
      "text/plain": [
       "19"
      ]
     },
     "execution_count": 59,
     "metadata": {},
     "output_type": "execute_result"
    }
   ],
   "source": [
    "#Получим сумму нижнего треугольника\n",
    "np.tril(m).sum()"
   ]
  },
  {
   "cell_type": "code",
   "execution_count": 60,
   "id": "151e9167",
   "metadata": {},
   "outputs": [
    {
     "data": {
      "text/plain": [
       "11"
      ]
     },
     "execution_count": 60,
     "metadata": {},
     "output_type": "execute_result"
    }
   ],
   "source": [
    "#сумма элементов главной и побочной диагоналей\n",
    "np.trace(m)"
   ]
  },
  {
   "cell_type": "markdown",
   "id": "95b58b31",
   "metadata": {},
   "source": [
    "### Модуль RANDOM"
   ]
  },
  {
   "cell_type": "code",
   "execution_count": 65,
   "id": "33ab65c2",
   "metadata": {},
   "outputs": [
    {
     "data": {
      "text/plain": [
       "array([9, 9, 3, 9, 2])"
      ]
     },
     "execution_count": 65,
     "metadata": {},
     "output_type": "execute_result"
    }
   ],
   "source": [
    "#Генерация одномерного массива int\n",
    "# np.random.randint(минимальное значение, максимальное значение, количество)\n",
    "np.random.randint(1, 10, size = 5)"
   ]
  },
  {
   "cell_type": "code",
   "execution_count": 70,
   "id": "9f291472",
   "metadata": {},
   "outputs": [
    {
     "data": {
      "text/plain": [
       "array([[1, 3, 2, 3, 6],\n",
       "       [7, 1, 1, 9, 3],\n",
       "       [4, 6, 3, 2, 1],\n",
       "       [9, 5, 9, 6, 5]])"
      ]
     },
     "execution_count": 70,
     "metadata": {},
     "output_type": "execute_result"
    }
   ],
   "source": [
    "#Генерация матрицы\n",
    "np.random.randint(1, 10, size = (4,5))"
   ]
  },
  {
   "cell_type": "markdown",
   "id": "70835f8f",
   "metadata": {},
   "source": [
    "Step_2.13.12 - На вход подаётся одномерный массив типа np.bool. Функция должна вернуть True если все значения в массиве равны False. Иначе функция должна вернуть False."
   ]
  },
  {
   "cell_type": "code",
   "execution_count": 73,
   "id": "b6130706",
   "metadata": {},
   "outputs": [],
   "source": [
    "#вариант №1\n",
    "import numpy as np\n",
    "\n",
    "def solution(m1d):\n",
    "    result = np.where(any(m1d) == False, True, False )\n",
    "    return result"
   ]
  },
  {
   "cell_type": "code",
   "execution_count": null,
   "id": "7df50e6e",
   "metadata": {},
   "outputs": [],
   "source": [
    "import numpy as np\n",
    "\n",
    "def solution(m1d):\n",
    "    result = ~any(m1d)\n",
    "    return result"
   ]
  },
  {
   "cell_type": "markdown",
   "id": "8f96acea",
   "metadata": {},
   "source": [
    "Step_2.13.14 - На вход подаётся матрица. Посчитайте сумму элементов верхнего треугольника:\n",
    "![Картинка испарилась(((](https://ucarecdn.com/934e33ab-ab16-4063-a600-267384dcdd03/)"
   ]
  },
  {
   "cell_type": "code",
   "execution_count": null,
   "id": "843bdb6f",
   "metadata": {},
   "outputs": [],
   "source": [
    "import numpy as np\n",
    "\n",
    "def solution(m2d):\n",
    "    return np.triu(m2d).sum()"
   ]
  },
  {
   "cell_type": "markdown",
   "id": "0ee5f637",
   "metadata": {},
   "source": [
    "Step_2.13.16 - На вход подаётся одномерный массив. Посчитайте количество уникальных значений."
   ]
  },
  {
   "cell_type": "code",
   "execution_count": 72,
   "id": "0dcf0708",
   "metadata": {},
   "outputs": [],
   "source": [
    "import numpy as np\n",
    "\n",
    "def solution(m1d):\n",
    "    result = len(np.unique(m1d))\n",
    "    return result"
   ]
  }
 ],
 "metadata": {
  "kernelspec": {
   "display_name": "Python 3 (ipykernel)",
   "language": "python",
   "name": "python3"
  },
  "language_info": {
   "codemirror_mode": {
    "name": "ipython",
    "version": 3
   },
   "file_extension": ".py",
   "mimetype": "text/x-python",
   "name": "python",
   "nbconvert_exporter": "python",
   "pygments_lexer": "ipython3",
   "version": "3.9.12"
  }
 },
 "nbformat": 4,
 "nbformat_minor": 5
}
