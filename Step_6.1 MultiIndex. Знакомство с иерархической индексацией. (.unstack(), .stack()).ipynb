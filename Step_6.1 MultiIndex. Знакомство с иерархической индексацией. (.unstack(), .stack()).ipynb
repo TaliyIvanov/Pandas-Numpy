{
 "cells": [
  {
   "cell_type": "code",
   "execution_count": 1,
   "id": "ca2d2d3b",
   "metadata": {},
   "outputs": [],
   "source": [
    "import numpy as np\n",
    "import pandas as pd"
   ]
  },
  {
   "cell_type": "markdown",
   "id": "a96c738e",
   "metadata": {},
   "source": [
    "## Работа мультииндексов у Серий"
   ]
  },
  {
   "cell_type": "code",
   "execution_count": null,
   "id": "d21f16b7",
   "metadata": {},
   "outputs": [],
   "source": [
    "#Простая серия"
   ]
  },
  {
   "cell_type": "code",
   "execution_count": 12,
   "id": "ec5b3e72",
   "metadata": {},
   "outputs": [
    {
     "data": {
      "text/plain": [
       "0    10\n",
       "1    20\n",
       "2    30\n",
       "3    40\n",
       "4    50\n",
       "5    60\n",
       "6    70\n",
       "7    80\n",
       "8    90\n",
       "dtype: int64"
      ]
     },
     "execution_count": 12,
     "metadata": {},
     "output_type": "execute_result"
    }
   ],
   "source": [
    "s = pd.Series([10, 20, 30, 40, 50, 60, 70, 80, 90], \n",
    "              index=[0, 1, 2, 3, 4, 5, 6, 7, 8])\n",
    "s"
   ]
  },
  {
   "cell_type": "code",
   "execution_count": 13,
   "id": "ede2ef17",
   "metadata": {},
   "outputs": [],
   "source": [
    "#Мультииндексы\n",
    "s1 = pd.Series([10, 20, 30, 40, 50, 60, 70, 80, 90], \n",
    "              index=[['a', 'a', 'a', 'b', 'b', 'b', 'c', 'c', 'c'], [0, 1, 2, 3, 4, 5, 6, 7, 8]])"
   ]
  },
  {
   "cell_type": "code",
   "execution_count": 14,
   "id": "1910f341",
   "metadata": {},
   "outputs": [
    {
     "data": {
      "text/plain": [
       "a  0    10\n",
       "   1    20\n",
       "   2    30\n",
       "b  3    40\n",
       "   4    50\n",
       "   5    60\n",
       "c  6    70\n",
       "   7    80\n",
       "   8    90\n",
       "dtype: int64"
      ]
     },
     "execution_count": 14,
     "metadata": {},
     "output_type": "execute_result"
    }
   ],
   "source": [
    "s1"
   ]
  },
  {
   "cell_type": "markdown",
   "id": "28ac4dcd",
   "metadata": {},
   "source": [
    "- Получение данных из серии с мультииндексом"
   ]
  },
  {
   "cell_type": "code",
   "execution_count": 15,
   "id": "23b07556",
   "metadata": {},
   "outputs": [
    {
     "data": {
      "text/plain": [
       "0    10\n",
       "1    20\n",
       "2    30\n",
       "dtype: int64"
      ]
     },
     "execution_count": 15,
     "metadata": {},
     "output_type": "execute_result"
    }
   ],
   "source": [
    "#Один \"главный\" индекс\n",
    "s1['a']"
   ]
  },
  {
   "cell_type": "code",
   "execution_count": 18,
   "id": "785e391e",
   "metadata": {},
   "outputs": [
    {
     "data": {
      "text/plain": [
       "b  3    40\n",
       "   4    50\n",
       "   5    60\n",
       "c  6    70\n",
       "   7    80\n",
       "   8    90\n",
       "dtype: int64"
      ]
     },
     "execution_count": 18,
     "metadata": {},
     "output_type": "execute_result"
    }
   ],
   "source": [
    "#Диапазон\n",
    "s1['b':'c']"
   ]
  },
  {
   "cell_type": "code",
   "execution_count": 19,
   "id": "7c839967",
   "metadata": {},
   "outputs": [
    {
     "data": {
      "text/plain": [
       "a  0    10\n",
       "   1    20\n",
       "   2    30\n",
       "c  6    70\n",
       "   7    80\n",
       "   8    90\n",
       "dtype: int64"
      ]
     },
     "execution_count": 19,
     "metadata": {},
     "output_type": "execute_result"
    }
   ],
   "source": [
    "#.loc\n",
    "s1.loc[['a','c']]"
   ]
  },
  {
   "cell_type": "code",
   "execution_count": 24,
   "id": "7c040cf1",
   "metadata": {},
   "outputs": [
    {
     "data": {
      "text/plain": [
       "b    50\n",
       "dtype: int64"
      ]
     },
     "execution_count": 24,
     "metadata": {},
     "output_type": "execute_result"
    }
   ],
   "source": [
    "#Вот это несовсем понятно как работает, надо будет почитать\n",
    "s1.loc[:,4]"
   ]
  },
  {
   "cell_type": "markdown",
   "id": "1c135f6d",
   "metadata": {},
   "source": [
    "- .unstack() - преобразует мультииндексы в датафрэйм"
   ]
  },
  {
   "cell_type": "code",
   "execution_count": 25,
   "id": "633f17da",
   "metadata": {},
   "outputs": [],
   "source": [
    "s3 = pd.Series([50000, 45000, 40000, 55000, 47000, 45000, 52000, 43000, 41000], \n",
    "               index=[['Тестирование', 'Тестирование', 'Тестирование', 'Разработка', 'Разработка', \n",
    "                       'Разработка', 'Аналитика', 'Аналитика', 'Аналитика'], \n",
    "                      ['Начальник', 'Эксперт', 'Специалист', 'Начальник', 'Эксперт', \n",
    "                       'Специалист', 'Начальник', 'Эксперт', 'Специалист']])"
   ]
  },
  {
   "cell_type": "code",
   "execution_count": 27,
   "id": "4c6592cc",
   "metadata": {},
   "outputs": [
    {
     "data": {
      "text/plain": [
       "Тестирование  Начальник     50000\n",
       "              Эксперт       45000\n",
       "              Специалист    40000\n",
       "Разработка    Начальник     55000\n",
       "              Эксперт       47000\n",
       "              Специалист    45000\n",
       "Аналитика     Начальник     52000\n",
       "              Эксперт       43000\n",
       "              Специалист    41000\n",
       "dtype: int64"
      ]
     },
     "execution_count": 27,
     "metadata": {},
     "output_type": "execute_result"
    }
   ],
   "source": [
    "s3"
   ]
  },
  {
   "cell_type": "code",
   "execution_count": 29,
   "id": "06880c0c",
   "metadata": {},
   "outputs": [
    {
     "data": {
      "text/html": [
       "<div>\n",
       "<style scoped>\n",
       "    .dataframe tbody tr th:only-of-type {\n",
       "        vertical-align: middle;\n",
       "    }\n",
       "\n",
       "    .dataframe tbody tr th {\n",
       "        vertical-align: top;\n",
       "    }\n",
       "\n",
       "    .dataframe thead th {\n",
       "        text-align: right;\n",
       "    }\n",
       "</style>\n",
       "<table border=\"1\" class=\"dataframe\">\n",
       "  <thead>\n",
       "    <tr style=\"text-align: right;\">\n",
       "      <th></th>\n",
       "      <th>Начальник</th>\n",
       "      <th>Специалист</th>\n",
       "      <th>Эксперт</th>\n",
       "    </tr>\n",
       "  </thead>\n",
       "  <tbody>\n",
       "    <tr>\n",
       "      <th>Аналитика</th>\n",
       "      <td>52000</td>\n",
       "      <td>41000</td>\n",
       "      <td>43000</td>\n",
       "    </tr>\n",
       "    <tr>\n",
       "      <th>Разработка</th>\n",
       "      <td>55000</td>\n",
       "      <td>45000</td>\n",
       "      <td>47000</td>\n",
       "    </tr>\n",
       "    <tr>\n",
       "      <th>Тестирование</th>\n",
       "      <td>50000</td>\n",
       "      <td>40000</td>\n",
       "      <td>45000</td>\n",
       "    </tr>\n",
       "  </tbody>\n",
       "</table>\n",
       "</div>"
      ],
      "text/plain": [
       "              Начальник  Специалист  Эксперт\n",
       "Аналитика         52000       41000    43000\n",
       "Разработка        55000       45000    47000\n",
       "Тестирование      50000       40000    45000"
      ]
     },
     "execution_count": 29,
     "metadata": {},
     "output_type": "execute_result"
    }
   ],
   "source": [
    "#Первый уровень становится строками\n",
    "#Второй уровень становится колонками\n",
    "s3.unstack()"
   ]
  },
  {
   "cell_type": "markdown",
   "id": "ccfd6170",
   "metadata": {},
   "source": [
    "- .stack() - раскладывает датафрэйм в мультииндексы"
   ]
  },
  {
   "cell_type": "code",
   "execution_count": 32,
   "id": "3798b105",
   "metadata": {},
   "outputs": [],
   "source": [
    "df = s3.unstack()"
   ]
  },
  {
   "cell_type": "code",
   "execution_count": 33,
   "id": "51c87ebf",
   "metadata": {},
   "outputs": [
    {
     "data": {
      "text/plain": [
       "Аналитика     Начальник     52000\n",
       "              Специалист    41000\n",
       "              Эксперт       43000\n",
       "Разработка    Начальник     55000\n",
       "              Специалист    45000\n",
       "              Эксперт       47000\n",
       "Тестирование  Начальник     50000\n",
       "              Специалист    40000\n",
       "              Эксперт       45000\n",
       "dtype: int64"
      ]
     },
     "execution_count": 33,
     "metadata": {},
     "output_type": "execute_result"
    }
   ],
   "source": [
    "df.stack()"
   ]
  },
  {
   "cell_type": "markdown",
   "id": "7765abda",
   "metadata": {},
   "source": [
    "Теперь посмотрим, что будет если у нас будут пропущенные значения"
   ]
  },
  {
   "cell_type": "code",
   "execution_count": 34,
   "id": "d3981a47",
   "metadata": {},
   "outputs": [],
   "source": [
    "s4 = pd.Series([50000, 45000, 40000, 55000, 47000, 45000, 52000, 43000, 41000],\n",
    "               index=[['Тестирование', 'Тестирование', 'Тестирование', 'Разработка', \n",
    "                       'Разработка', 'Разработка', 'Аналитика', 'Аналитика', 'Аналитика'],\n",
    "                      ['Начальник', 'Эксперт', 'Специалист', 'Начальник', 'Эксперт', 'Специалист', \n",
    "                       'Начальник', 'Эксперт', 'Советник']])"
   ]
  },
  {
   "cell_type": "code",
   "execution_count": 35,
   "id": "0ac340eb",
   "metadata": {},
   "outputs": [
    {
     "data": {
      "text/plain": [
       "Тестирование  Начальник     50000\n",
       "              Эксперт       45000\n",
       "              Специалист    40000\n",
       "Разработка    Начальник     55000\n",
       "              Эксперт       47000\n",
       "              Специалист    45000\n",
       "Аналитика     Начальник     52000\n",
       "              Эксперт       43000\n",
       "              Советник      41000\n",
       "dtype: int64"
      ]
     },
     "execution_count": 35,
     "metadata": {},
     "output_type": "execute_result"
    }
   ],
   "source": [
    "s4"
   ]
  },
  {
   "cell_type": "code",
   "execution_count": 37,
   "id": "43982e97",
   "metadata": {},
   "outputs": [
    {
     "data": {
      "text/html": [
       "<div>\n",
       "<style scoped>\n",
       "    .dataframe tbody tr th:only-of-type {\n",
       "        vertical-align: middle;\n",
       "    }\n",
       "\n",
       "    .dataframe tbody tr th {\n",
       "        vertical-align: top;\n",
       "    }\n",
       "\n",
       "    .dataframe thead th {\n",
       "        text-align: right;\n",
       "    }\n",
       "</style>\n",
       "<table border=\"1\" class=\"dataframe\">\n",
       "  <thead>\n",
       "    <tr style=\"text-align: right;\">\n",
       "      <th></th>\n",
       "      <th>Начальник</th>\n",
       "      <th>Советник</th>\n",
       "      <th>Специалист</th>\n",
       "      <th>Эксперт</th>\n",
       "    </tr>\n",
       "  </thead>\n",
       "  <tbody>\n",
       "    <tr>\n",
       "      <th>Аналитика</th>\n",
       "      <td>52000.0</td>\n",
       "      <td>41000.0</td>\n",
       "      <td>NaN</td>\n",
       "      <td>43000.0</td>\n",
       "    </tr>\n",
       "    <tr>\n",
       "      <th>Разработка</th>\n",
       "      <td>55000.0</td>\n",
       "      <td>NaN</td>\n",
       "      <td>45000.0</td>\n",
       "      <td>47000.0</td>\n",
       "    </tr>\n",
       "    <tr>\n",
       "      <th>Тестирование</th>\n",
       "      <td>50000.0</td>\n",
       "      <td>NaN</td>\n",
       "      <td>40000.0</td>\n",
       "      <td>45000.0</td>\n",
       "    </tr>\n",
       "  </tbody>\n",
       "</table>\n",
       "</div>"
      ],
      "text/plain": [
       "              Начальник  Советник  Специалист  Эксперт\n",
       "Аналитика       52000.0   41000.0         NaN  43000.0\n",
       "Разработка      55000.0       NaN     45000.0  47000.0\n",
       "Тестирование    50000.0       NaN     40000.0  45000.0"
      ]
     },
     "execution_count": 37,
     "metadata": {},
     "output_type": "execute_result"
    }
   ],
   "source": [
    "#Пропущенные значения заполняются Nan\n",
    "s4.unstack()"
   ]
  },
  {
   "cell_type": "code",
   "execution_count": 39,
   "id": "4262803a",
   "metadata": {},
   "outputs": [
    {
     "data": {
      "text/plain": [
       "Аналитика     Начальник     52000.0\n",
       "              Советник      41000.0\n",
       "              Эксперт       43000.0\n",
       "Разработка    Начальник     55000.0\n",
       "              Специалист    45000.0\n",
       "              Эксперт       47000.0\n",
       "Тестирование  Начальник     50000.0\n",
       "              Специалист    40000.0\n",
       "              Эксперт       45000.0\n",
       "dtype: float64"
      ]
     },
     "execution_count": 39,
     "metadata": {},
     "output_type": "execute_result"
    }
   ],
   "source": [
    "#После обратного преобразования наши Int преобразовались во Float\n",
    "s4.unstack().stack()"
   ]
  },
  {
   "cell_type": "markdown",
   "id": "f54c95ed",
   "metadata": {},
   "source": [
    "## Работа мультииндексов у Датафрэймов"
   ]
  },
  {
   "cell_type": "code",
   "execution_count": 40,
   "id": "187a1449",
   "metadata": {},
   "outputs": [
    {
     "data": {
      "text/html": [
       "<div>\n",
       "<style scoped>\n",
       "    .dataframe tbody tr th:only-of-type {\n",
       "        vertical-align: middle;\n",
       "    }\n",
       "\n",
       "    .dataframe tbody tr th {\n",
       "        vertical-align: top;\n",
       "    }\n",
       "\n",
       "    .dataframe thead th {\n",
       "        text-align: right;\n",
       "    }\n",
       "</style>\n",
       "<table border=\"1\" class=\"dataframe\">\n",
       "  <thead>\n",
       "    <tr style=\"text-align: right;\">\n",
       "      <th></th>\n",
       "      <th></th>\n",
       "      <th>Зарплата</th>\n",
       "      <th>Уровень</th>\n",
       "    </tr>\n",
       "  </thead>\n",
       "  <tbody>\n",
       "    <tr>\n",
       "      <th rowspan=\"3\" valign=\"top\">Тестирование</th>\n",
       "      <th>Начальник</th>\n",
       "      <td>50000</td>\n",
       "      <td>16</td>\n",
       "    </tr>\n",
       "    <tr>\n",
       "      <th>Эксперт</th>\n",
       "      <td>45000</td>\n",
       "      <td>15</td>\n",
       "    </tr>\n",
       "    <tr>\n",
       "      <th>Специалист</th>\n",
       "      <td>40000</td>\n",
       "      <td>14</td>\n",
       "    </tr>\n",
       "    <tr>\n",
       "      <th rowspan=\"3\" valign=\"top\">Разработка</th>\n",
       "      <th>Начальник</th>\n",
       "      <td>55000</td>\n",
       "      <td>15</td>\n",
       "    </tr>\n",
       "    <tr>\n",
       "      <th>Эксперт</th>\n",
       "      <td>47000</td>\n",
       "      <td>13</td>\n",
       "    </tr>\n",
       "    <tr>\n",
       "      <th>Специалист</th>\n",
       "      <td>45000</td>\n",
       "      <td>12</td>\n",
       "    </tr>\n",
       "    <tr>\n",
       "      <th rowspan=\"3\" valign=\"top\">Аналитика</th>\n",
       "      <th>Начальник</th>\n",
       "      <td>52000</td>\n",
       "      <td>17</td>\n",
       "    </tr>\n",
       "    <tr>\n",
       "      <th>Эксперт</th>\n",
       "      <td>43000</td>\n",
       "      <td>15</td>\n",
       "    </tr>\n",
       "    <tr>\n",
       "      <th>Советник</th>\n",
       "      <td>41000</td>\n",
       "      <td>13</td>\n",
       "    </tr>\n",
       "  </tbody>\n",
       "</table>\n",
       "</div>"
      ],
      "text/plain": [
       "                         Зарплата  Уровень\n",
       "Тестирование Начальник      50000       16\n",
       "             Эксперт        45000       15\n",
       "             Специалист     40000       14\n",
       "Разработка   Начальник      55000       15\n",
       "             Эксперт        47000       13\n",
       "             Специалист     45000       12\n",
       "Аналитика    Начальник      52000       17\n",
       "             Эксперт        43000       15\n",
       "             Советник       41000       13"
      ]
     },
     "execution_count": 40,
     "metadata": {},
     "output_type": "execute_result"
    }
   ],
   "source": [
    "data = np.array([[50000, 16],\n",
    "                 [45000, 15],\n",
    "                 [40000, 14],\n",
    "                 [55000, 15],\n",
    "                 [47000, 13],\n",
    "                 [45000, 12],\n",
    "                 [52000, 17],\n",
    "                 [43000, 15],\n",
    "                 [41000, 13]])\n",
    "\n",
    "index=[['Тестирование', 'Тестирование', 'Тестирование', 'Разработка', 'Разработка', 'Разработка', \n",
    "        'Аналитика', 'Аналитика', 'Аналитика'], \n",
    "       ['Начальник', 'Эксперт', 'Специалист', 'Начальник', 'Эксперт', 'Специалист', 'Начальник', \n",
    "        'Эксперт', 'Советник']]\n",
    "\n",
    "columns = ['Зарплата', 'Уровень']\n",
    "\n",
    "df = pd.DataFrame(data, index=index, columns=columns)\n",
    "df"
   ]
  },
  {
   "cell_type": "code",
   "execution_count": 41,
   "id": "71c5ead3",
   "metadata": {},
   "outputs": [
    {
     "data": {
      "text/html": [
       "<div>\n",
       "<style scoped>\n",
       "    .dataframe tbody tr th:only-of-type {\n",
       "        vertical-align: middle;\n",
       "    }\n",
       "\n",
       "    .dataframe tbody tr th {\n",
       "        vertical-align: top;\n",
       "    }\n",
       "\n",
       "    .dataframe thead th {\n",
       "        text-align: right;\n",
       "    }\n",
       "</style>\n",
       "<table border=\"1\" class=\"dataframe\">\n",
       "  <thead>\n",
       "    <tr style=\"text-align: right;\">\n",
       "      <th></th>\n",
       "      <th>Зарплата</th>\n",
       "      <th>Уровень</th>\n",
       "    </tr>\n",
       "  </thead>\n",
       "  <tbody>\n",
       "    <tr>\n",
       "      <th>Начальник</th>\n",
       "      <td>55000</td>\n",
       "      <td>15</td>\n",
       "    </tr>\n",
       "    <tr>\n",
       "      <th>Эксперт</th>\n",
       "      <td>47000</td>\n",
       "      <td>13</td>\n",
       "    </tr>\n",
       "    <tr>\n",
       "      <th>Специалист</th>\n",
       "      <td>45000</td>\n",
       "      <td>12</td>\n",
       "    </tr>\n",
       "  </tbody>\n",
       "</table>\n",
       "</div>"
      ],
      "text/plain": [
       "            Зарплата  Уровень\n",
       "Начальник      55000       15\n",
       "Эксперт        47000       13\n",
       "Специалист     45000       12"
      ]
     },
     "execution_count": 41,
     "metadata": {},
     "output_type": "execute_result"
    }
   ],
   "source": [
    "df.loc['Разработка']"
   ]
  },
  {
   "cell_type": "code",
   "execution_count": 42,
   "id": "981f916e",
   "metadata": {},
   "outputs": [
    {
     "data": {
      "text/plain": [
       "Зарплата    45000\n",
       "Уровень        12\n",
       "Name: (Разработка, Специалист), dtype: int32"
      ]
     },
     "execution_count": 42,
     "metadata": {},
     "output_type": "execute_result"
    }
   ],
   "source": [
    "#Чтобы получить серию, нам необходимо передать кортеж!\n",
    "df.loc[('Разработка','Специалист')]"
   ]
  },
  {
   "cell_type": "code",
   "execution_count": null,
   "id": "98a9e662",
   "metadata": {},
   "outputs": [],
   "source": []
  }
 ],
 "metadata": {
  "kernelspec": {
   "display_name": "Python 3 (ipykernel)",
   "language": "python",
   "name": "python3"
  },
  "language_info": {
   "codemirror_mode": {
    "name": "ipython",
    "version": 3
   },
   "file_extension": ".py",
   "mimetype": "text/x-python",
   "name": "python",
   "nbconvert_exporter": "python",
   "pygments_lexer": "ipython3",
   "version": "3.9.12"
  }
 },
 "nbformat": 4,
 "nbformat_minor": 5
}
