{
 "cells": [
  {
   "cell_type": "code",
   "execution_count": 3,
   "id": "caab357a",
   "metadata": {},
   "outputs": [],
   "source": [
    "import pandas as pd\n",
    "import numpy as np"
   ]
  },
  {
   "cell_type": "code",
   "execution_count": 2,
   "id": "be2259d7",
   "metadata": {},
   "outputs": [
    {
     "name": "stdout",
     "output_type": "stream",
     "text": [
      "Requirement already satisfied: lxml in c:\\users\\user\\anaconda3\\lib\\site-packages (4.8.0)\n"
     ]
    }
   ],
   "source": [
    "#Установим необходимые расширения для чтения html файлов\n",
    "!pip install lxml"
   ]
  },
  {
   "cell_type": "code",
   "execution_count": 4,
   "id": "6abe567b",
   "metadata": {},
   "outputs": [
    {
     "name": "stdout",
     "output_type": "stream",
     "text": [
      "Collecting html5lib\n",
      "  Downloading html5lib-1.1-py2.py3-none-any.whl (112 kB)\n",
      "Requirement already satisfied: six>=1.9 in c:\\users\\user\\anaconda3\\lib\\site-packages (from html5lib) (1.16.0)\n",
      "Requirement already satisfied: webencodings in c:\\users\\user\\anaconda3\\lib\\site-packages (from html5lib) (0.5.1)\n",
      "Installing collected packages: html5lib\n",
      "Successfully installed html5lib-1.1\n"
     ]
    }
   ],
   "source": [
    "!pip install html5lib"
   ]
  },
  {
   "cell_type": "code",
   "execution_count": 5,
   "id": "26b79de4",
   "metadata": {},
   "outputs": [
    {
     "name": "stdout",
     "output_type": "stream",
     "text": [
      "Requirement already satisfied: beautifulsoup4 in c:\\users\\user\\anaconda3\\lib\\site-packages (4.11.1)\n",
      "Requirement already satisfied: soupsieve>1.2 in c:\\users\\user\\anaconda3\\lib\\site-packages (from beautifulsoup4) (2.3.1)\n"
     ]
    }
   ],
   "source": [
    "!pip install beautifulsoup4"
   ]
  },
  {
   "cell_type": "markdown",
   "id": "234b3803",
   "metadata": {},
   "source": [
    "Сохраняем просто страницу из браузера"
   ]
  },
  {
   "cell_type": "code",
   "execution_count": 7,
   "id": "3fe87100",
   "metadata": {},
   "outputs": [],
   "source": [
    "_lst = pd.read_html(\"Z:\\\\Programming\\\\DataSciense\\\\Stepik_Pandas_Numpy\\\\Обновления сентября, 2022 г. — База знаний Lineage II Essence.html\")"
   ]
  },
  {
   "cell_type": "code",
   "execution_count": 8,
   "id": "ca4e404c",
   "metadata": {},
   "outputs": [
    {
     "data": {
      "text/plain": [
       "79"
      ]
     },
     "execution_count": 8,
     "metadata": {},
     "output_type": "execute_result"
    }
   ],
   "source": [
    "len(_lst)"
   ]
  },
  {
   "cell_type": "code",
   "execution_count": 9,
   "id": "38e3245a",
   "metadata": {},
   "outputs": [
    {
     "data": {
      "text/html": [
       "<div>\n",
       "<style scoped>\n",
       "    .dataframe tbody tr th:only-of-type {\n",
       "        vertical-align: middle;\n",
       "    }\n",
       "\n",
       "    .dataframe tbody tr th {\n",
       "        vertical-align: top;\n",
       "    }\n",
       "\n",
       "    .dataframe thead th {\n",
       "        text-align: right;\n",
       "    }\n",
       "</style>\n",
       "<table border=\"1\" class=\"dataframe\">\n",
       "  <thead>\n",
       "    <tr style=\"text-align: right;\">\n",
       "      <th></th>\n",
       "      <th>0</th>\n",
       "      <th>1</th>\n",
       "      <th>2</th>\n",
       "      <th>3</th>\n",
       "    </tr>\n",
       "  </thead>\n",
       "  <tbody>\n",
       "    <tr>\n",
       "      <th>0</th>\n",
       "      <td>⇓ ОБНОВЛЕНИЕ ОТ 07.09.2022</td>\n",
       "      <td>⇓ ОБНОВЛЕНИЕ ОТ 14.09.2022</td>\n",
       "      <td>⇓ ОБНОВЛЕНИЕ ОТ 21.09.2022</td>\n",
       "      <td>⇓ ОБНОВЛЕНИЕ ОТ 28.09.2022</td>\n",
       "    </tr>\n",
       "    <tr>\n",
       "      <th>1</th>\n",
       "      <td>Классы</td>\n",
       "      <td>Классы</td>\n",
       "      <td>Классы</td>\n",
       "      <td>Классы</td>\n",
       "    </tr>\n",
       "    <tr>\n",
       "      <th>2</th>\n",
       "      <td>Благословенный Венец Героя</td>\n",
       "      <td>Зоны охоты</td>\n",
       "      <td>Агатионы Яйцо Дракона и Валакас</td>\n",
       "      <td>Комплекты экипировки</td>\n",
       "    </tr>\n",
       "    <tr>\n",
       "      <th>3</th>\n",
       "      <td>Особое создание</td>\n",
       "      <td>Прочие изменения</td>\n",
       "      <td>Прочие изменения</td>\n",
       "      <td>Прочие изменения</td>\n",
       "    </tr>\n",
       "    <tr>\n",
       "      <th>4</th>\n",
       "      <td>Олимпиада</td>\n",
       "      <td>Акция</td>\n",
       "      <td>Акция</td>\n",
       "      <td>Акция</td>\n",
       "    </tr>\n",
       "    <tr>\n",
       "      <th>5</th>\n",
       "      <td>Прочие изменения</td>\n",
       "      <td>NaN</td>\n",
       "      <td>NaN</td>\n",
       "      <td>NaN</td>\n",
       "    </tr>\n",
       "    <tr>\n",
       "      <th>6</th>\n",
       "      <td>Акция</td>\n",
       "      <td>NaN</td>\n",
       "      <td>NaN</td>\n",
       "      <td>NaN</td>\n",
       "    </tr>\n",
       "  </tbody>\n",
       "</table>\n",
       "</div>"
      ],
      "text/plain": [
       "                            0                           1  \\\n",
       "0  ⇓ ОБНОВЛЕНИЕ ОТ 07.09.2022  ⇓ ОБНОВЛЕНИЕ ОТ 14.09.2022   \n",
       "1                      Классы                      Классы   \n",
       "2  Благословенный Венец Героя                  Зоны охоты   \n",
       "3             Особое создание            Прочие изменения   \n",
       "4                   Олимпиада                       Акция   \n",
       "5            Прочие изменения                         NaN   \n",
       "6                       Акция                         NaN   \n",
       "\n",
       "                                 2                           3  \n",
       "0       ⇓ ОБНОВЛЕНИЕ ОТ 21.09.2022  ⇓ ОБНОВЛЕНИЕ ОТ 28.09.2022  \n",
       "1                           Классы                      Классы  \n",
       "2  Агатионы Яйцо Дракона и Валакас        Комплекты экипировки  \n",
       "3                 Прочие изменения            Прочие изменения  \n",
       "4                            Акция                       Акция  \n",
       "5                              NaN                         NaN  \n",
       "6                              NaN                         NaN  "
      ]
     },
     "execution_count": 9,
     "metadata": {},
     "output_type": "execute_result"
    }
   ],
   "source": [
    "_lst[0]"
   ]
  },
  {
   "cell_type": "code",
   "execution_count": 10,
   "id": "01a094b6",
   "metadata": {},
   "outputs": [
    {
     "data": {
      "text/html": [
       "<div>\n",
       "<style scoped>\n",
       "    .dataframe tbody tr th:only-of-type {\n",
       "        vertical-align: middle;\n",
       "    }\n",
       "\n",
       "    .dataframe tbody tr th {\n",
       "        vertical-align: top;\n",
       "    }\n",
       "\n",
       "    .dataframe thead th {\n",
       "        text-align: right;\n",
       "    }\n",
       "</style>\n",
       "<table border=\"1\" class=\"dataframe\">\n",
       "  <thead>\n",
       "    <tr style=\"text-align: right;\">\n",
       "      <th></th>\n",
       "      <th>Название умения</th>\n",
       "      <th>Уровень умения</th>\n",
       "      <th>Уровень получения</th>\n",
       "      <th>Цена получения</th>\n",
       "      <th>Эффект</th>\n",
       "    </tr>\n",
       "  </thead>\n",
       "  <tbody>\n",
       "    <tr>\n",
       "      <th>0</th>\n",
       "      <td>Помощь Феникса</td>\n",
       "      <td>2</td>\n",
       "      <td>83</td>\n",
       "      <td>240 000 000 SPSP Книга Заклинаний - Помощь Рыц...</td>\n",
       "      <td>Физ. Атк. +700При использовании указанных атак...</td>\n",
       "    </tr>\n",
       "    <tr>\n",
       "      <th>1</th>\n",
       "      <td>Жизненная Энергия</td>\n",
       "      <td>4</td>\n",
       "      <td>91</td>\n",
       "      <td>840 000 000 SP100 млн. аден</td>\n",
       "      <td>Макс. HP +25%Макс. HP +5000Физ. Защ. +1000Маг....</td>\n",
       "    </tr>\n",
       "  </tbody>\n",
       "</table>\n",
       "</div>"
      ],
      "text/plain": [
       "     Название умения  Уровень умения  Уровень получения  \\\n",
       "0     Помощь Феникса               2                 83   \n",
       "1  Жизненная Энергия               4                 91   \n",
       "\n",
       "                                      Цена получения  \\\n",
       "0  240 000 000 SPSP Книга Заклинаний - Помощь Рыц...   \n",
       "1                        840 000 000 SP100 млн. аден   \n",
       "\n",
       "                                              Эффект  \n",
       "0  Физ. Атк. +700При использовании указанных атак...  \n",
       "1  Макс. HP +25%Макс. HP +5000Физ. Защ. +1000Маг....  "
      ]
     },
     "execution_count": 10,
     "metadata": {},
     "output_type": "execute_result"
    }
   ],
   "source": [
    "_lst[1]"
   ]
  },
  {
   "cell_type": "code",
   "execution_count": 14,
   "id": "87663a50",
   "metadata": {},
   "outputs": [
    {
     "data": {
      "text/html": [
       "<div>\n",
       "<style scoped>\n",
       "    .dataframe tbody tr th:only-of-type {\n",
       "        vertical-align: middle;\n",
       "    }\n",
       "\n",
       "    .dataframe tbody tr th {\n",
       "        vertical-align: top;\n",
       "    }\n",
       "\n",
       "    .dataframe thead th {\n",
       "        text-align: right;\n",
       "    }\n",
       "</style>\n",
       "<table border=\"1\" class=\"dataframe\">\n",
       "  <thead>\n",
       "    <tr style=\"text-align: right;\">\n",
       "      <th></th>\n",
       "      <th>Название умения</th>\n",
       "      <th>Эффект</th>\n",
       "      <th>Уровень получения</th>\n",
       "      <th>Расход SP</th>\n",
       "      <th>Необходимые предметы</th>\n",
       "    </tr>\n",
       "  </thead>\n",
       "  <tbody>\n",
       "    <tr>\n",
       "      <th>0</th>\n",
       "      <td>Игра Танцора Ур. 1</td>\n",
       "      <td>Макс. HP +200Физ. Защ. +200Маг. Защ. +200</td>\n",
       "      <td>76</td>\n",
       "      <td>7 600 000 SP</td>\n",
       "      <td>Книга Заклинаний - Игра Танцора</td>\n",
       "    </tr>\n",
       "  </tbody>\n",
       "</table>\n",
       "</div>"
      ],
      "text/plain": [
       "      Название умения                                     Эффект  \\\n",
       "0  Игра Танцора Ур. 1  Макс. HP +200Физ. Защ. +200Маг. Защ. +200   \n",
       "\n",
       "   Уровень получения     Расход SP             Необходимые предметы  \n",
       "0                 76  7 600 000 SP  Книга Заклинаний - Игра Танцора  "
      ]
     },
     "execution_count": 14,
     "metadata": {},
     "output_type": "execute_result"
    }
   ],
   "source": [
    "_lst[40]"
   ]
  },
  {
   "cell_type": "code",
   "execution_count": 20,
   "id": "7f578aa2",
   "metadata": {},
   "outputs": [
    {
     "data": {
      "text/html": [
       "<div>\n",
       "<style scoped>\n",
       "    .dataframe tbody tr th:only-of-type {\n",
       "        vertical-align: middle;\n",
       "    }\n",
       "\n",
       "    .dataframe tbody tr th {\n",
       "        vertical-align: top;\n",
       "    }\n",
       "\n",
       "    .dataframe thead th {\n",
       "        text-align: right;\n",
       "    }\n",
       "</style>\n",
       "<table border=\"1\" class=\"dataframe\">\n",
       "  <thead>\n",
       "    <tr style=\"text-align: right;\">\n",
       "      <th></th>\n",
       "      <th>Предметы, которые можно получить</th>\n",
       "      <th>Предметы, которые можно получить.1</th>\n",
       "      <th>Предметы, которые можно получить.2</th>\n",
       "    </tr>\n",
       "  </thead>\n",
       "  <tbody>\n",
       "    <tr>\n",
       "      <th>0</th>\n",
       "      <td>Сундук с Оружием Монарха Льда [Запечатано] 1 шт.</td>\n",
       "      <td>Сундук с Доспехами Защиты [Запечатано] 1 шт.</td>\n",
       "      <td>Сундук с Оружием Босса [Запечатано] 1 шт.</td>\n",
       "    </tr>\n",
       "    <tr>\n",
       "      <th>1</th>\n",
       "      <td>Сундук с Особыми Доспехами [Запечатано] 1 шт.</td>\n",
       "      <td>Серьга Антараса 1 шт.</td>\n",
       "      <td>Ожерелье Фринтезы 1 шт.</td>\n",
       "    </tr>\n",
       "    <tr>\n",
       "      <th>2</th>\n",
       "      <td>Кольцо Белефа 1 шт.</td>\n",
       "      <td>Кольцо Баюма 1 шт.</td>\n",
       "      <td>Серьга Закена 1 шт.</td>\n",
       "    </tr>\n",
       "    <tr>\n",
       "      <th>3</th>\n",
       "      <td>Кольцо Королевы Муравьев 1 шт.</td>\n",
       "      <td>Серьга Орфен 1 шт.</td>\n",
       "      <td>Кольцо Ядра 1 шт.</td>\n",
       "    </tr>\n",
       "    <tr>\n",
       "      <th>4</th>\n",
       "      <td>Кристалл Души Хардина Ур. 13 (1 шт.)</td>\n",
       "      <td>Кристалл Души Адена Ур. 13 - Доспехи (1 шт.)</td>\n",
       "      <td>Кристалл Души Адена Ур. 13 - Оружие (1 шт.)</td>\n",
       "    </tr>\n",
       "    <tr>\n",
       "      <th>5</th>\n",
       "      <td>Упаковка: Кристалл Души Хардина (100 шт.) [Зап...</td>\n",
       "      <td>Упаковка: Кристалл Души Адена Ур. 1 - Доспехи ...</td>\n",
       "      <td>Упаковка: Кристалл Души Адена Ур. 1 - Оружие (...</td>\n",
       "    </tr>\n",
       "    <tr>\n",
       "      <th>6</th>\n",
       "      <td>Свиток Благословения - Оружие (1 шт.)</td>\n",
       "      <td>Свиток Благословения - Доспехи (1 шт.)</td>\n",
       "      <td>Кристалл Души Хардина Ур. 1 (2 шт.)</td>\n",
       "    </tr>\n",
       "    <tr>\n",
       "      <th>7</th>\n",
       "      <td>Кристалл Души Адена Ур. 1 - Доспехи (5 шт.)</td>\n",
       "      <td>Кристалл Души Адена Ур. 1 - Оружие (5 шт.)</td>\n",
       "      <td>Камень Зачарования для Оружия [Запечатано] 2 шт.</td>\n",
       "    </tr>\n",
       "    <tr>\n",
       "      <th>8</th>\n",
       "      <td>Камень Зачарования для Доспехов [Запечатано] 2...</td>\n",
       "      <td>Камень Зачарования для Аксессуаров [Запечатано...</td>\n",
       "      <td>NaN</td>\n",
       "    </tr>\n",
       "  </tbody>\n",
       "</table>\n",
       "</div>"
      ],
      "text/plain": [
       "                    Предметы, которые можно получить  \\\n",
       "0   Сундук с Оружием Монарха Льда [Запечатано] 1 шт.   \n",
       "1      Сундук с Особыми Доспехами [Запечатано] 1 шт.   \n",
       "2                                Кольцо Белефа 1 шт.   \n",
       "3                     Кольцо Королевы Муравьев 1 шт.   \n",
       "4               Кристалл Души Хардина Ур. 13 (1 шт.)   \n",
       "5  Упаковка: Кристалл Души Хардина (100 шт.) [Зап...   \n",
       "6              Свиток Благословения - Оружие (1 шт.)   \n",
       "7        Кристалл Души Адена Ур. 1 - Доспехи (5 шт.)   \n",
       "8  Камень Зачарования для Доспехов [Запечатано] 2...   \n",
       "\n",
       "                  Предметы, которые можно получить.1  \\\n",
       "0       Сундук с Доспехами Защиты [Запечатано] 1 шт.   \n",
       "1                              Серьга Антараса 1 шт.   \n",
       "2                                 Кольцо Баюма 1 шт.   \n",
       "3                                 Серьга Орфен 1 шт.   \n",
       "4       Кристалл Души Адена Ур. 13 - Доспехи (1 шт.)   \n",
       "5  Упаковка: Кристалл Души Адена Ур. 1 - Доспехи ...   \n",
       "6             Свиток Благословения - Доспехи (1 шт.)   \n",
       "7         Кристалл Души Адена Ур. 1 - Оружие (5 шт.)   \n",
       "8  Камень Зачарования для Аксессуаров [Запечатано...   \n",
       "\n",
       "                  Предметы, которые можно получить.2  \n",
       "0          Сундук с Оружием Босса [Запечатано] 1 шт.  \n",
       "1                            Ожерелье Фринтезы 1 шт.  \n",
       "2                                Серьга Закена 1 шт.  \n",
       "3                                  Кольцо Ядра 1 шт.  \n",
       "4        Кристалл Души Адена Ур. 13 - Оружие (1 шт.)  \n",
       "5  Упаковка: Кристалл Души Адена Ур. 1 - Оружие (...  \n",
       "6                Кристалл Души Хардина Ур. 1 (2 шт.)  \n",
       "7   Камень Зачарования для Оружия [Запечатано] 2 шт.  \n",
       "8                                                NaN  "
      ]
     },
     "execution_count": 20,
     "metadata": {},
     "output_type": "execute_result"
    }
   ],
   "source": [
    "_lst[71]"
   ]
  },
  {
   "cell_type": "code",
   "execution_count": 21,
   "id": "fc980046",
   "metadata": {},
   "outputs": [],
   "source": [
    "_lst[71].to_csv(\"Z:\\\\Programming\\\\DataSciense\\\\Stepik_Pandas_Numpy\\\\l2.csv\")"
   ]
  },
  {
   "cell_type": "code",
   "execution_count": null,
   "id": "2d668e7e",
   "metadata": {},
   "outputs": [],
   "source": []
  }
 ],
 "metadata": {
  "kernelspec": {
   "display_name": "Python 3 (ipykernel)",
   "language": "python",
   "name": "python3"
  },
  "language_info": {
   "codemirror_mode": {
    "name": "ipython",
    "version": 3
   },
   "file_extension": ".py",
   "mimetype": "text/x-python",
   "name": "python",
   "nbconvert_exporter": "python",
   "pygments_lexer": "ipython3",
   "version": "3.9.12"
  }
 },
 "nbformat": 4,
 "nbformat_minor": 5
}
