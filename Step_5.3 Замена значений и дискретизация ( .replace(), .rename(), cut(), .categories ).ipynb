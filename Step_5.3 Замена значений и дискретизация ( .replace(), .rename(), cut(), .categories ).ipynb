{
 "cells": [
  {
   "cell_type": "code",
   "execution_count": 1,
   "id": "8e17756f",
   "metadata": {},
   "outputs": [],
   "source": [
    "import pandas as pd\n",
    "import numpy as np"
   ]
  },
  {
   "cell_type": "markdown",
   "id": "1cea1e78",
   "metadata": {},
   "source": [
    "- .replace()"
   ]
  },
  {
   "cell_type": "code",
   "execution_count": 2,
   "id": "8c7bf910",
   "metadata": {},
   "outputs": [],
   "source": [
    "temp = pd.Series([24, -9999, 22, -8888, 18, 26, -9999]) "
   ]
  },
  {
   "cell_type": "code",
   "execution_count": 4,
   "id": "f0e1abfd",
   "metadata": {},
   "outputs": [
    {
     "data": {
      "text/plain": [
       "0      24\n",
       "1   -9999\n",
       "2      22\n",
       "3   -8888\n",
       "4      18\n",
       "5      26\n",
       "6   -9999\n",
       "dtype: int64"
      ]
     },
     "execution_count": 4,
     "metadata": {},
     "output_type": "execute_result"
    }
   ],
   "source": [
    "#Допусти у нас есть измерения температур. \n",
    "#Очевидны значения, которые не стоит брать в рассчет (прибор не исправен)\n",
    "temp"
   ]
  },
  {
   "cell_type": "code",
   "execution_count": 5,
   "id": "2f4ef0e8",
   "metadata": {},
   "outputs": [
    {
     "data": {
      "text/plain": [
       "0      24.0\n",
       "1       NaN\n",
       "2      22.0\n",
       "3   -8888.0\n",
       "4      18.0\n",
       "5      26.0\n",
       "6       NaN\n",
       "dtype: float64"
      ]
     },
     "execution_count": 5,
     "metadata": {},
     "output_type": "execute_result"
    }
   ],
   "source": [
    "#Замена конкретного значения\n",
    "temp.replace([-9999], np.nan)"
   ]
  },
  {
   "cell_type": "code",
   "execution_count": 6,
   "id": "42cdd6bf",
   "metadata": {},
   "outputs": [
    {
     "data": {
      "text/plain": [
       "0    24.0\n",
       "1     NaN\n",
       "2    22.0\n",
       "3    -1.0\n",
       "4    18.0\n",
       "5    26.0\n",
       "6     NaN\n",
       "dtype: float64"
      ]
     },
     "execution_count": 6,
     "metadata": {},
     "output_type": "execute_result"
    }
   ],
   "source": [
    "#Замена нескольних конкретных значений\n",
    "temp.replace([-9999, -8888], [np.nan, -1])"
   ]
  },
  {
   "cell_type": "markdown",
   "id": "b4b6e256",
   "metadata": {},
   "source": [
    "Мы можем делать замену значений и с помощью loc/iloc, но replace удобнее т.к. loc/iloc требуют указания координат того значения, которое надо заменить, а replace это сделает за нас. \n",
    "\n",
    "Надо только указать что менять и на какое значение."
   ]
  },
  {
   "cell_type": "code",
   "execution_count": null,
   "id": "9ac9f67e",
   "metadata": {},
   "outputs": [],
   "source": [
    "#Напишем ф-ию, которая будет редактировать наши индексы"
   ]
  },
  {
   "cell_type": "code",
   "execution_count": 56,
   "id": "92fabb14",
   "metadata": {},
   "outputs": [],
   "source": [
    "airport_data = pd.DataFrame({'airline': ['Air China', 'Jet Airways', 'Aeroflot',\n",
    "                                         'easyJet'], 'planes': [10, 4, 30, 2]})\n",
    "country = {'Air China': 'China', 'Jet Airways': 'India', 'Aeroflot': 'Russia',\n",
    "           'easyJet': 'United Kingdom'}"
   ]
  },
  {
   "cell_type": "code",
   "execution_count": 57,
   "id": "5a2c69ed",
   "metadata": {},
   "outputs": [],
   "source": [
    "airport_data['Country'] = airport_data['airline'].map(country)"
   ]
  },
  {
   "cell_type": "code",
   "execution_count": 58,
   "id": "df61efd8",
   "metadata": {},
   "outputs": [],
   "source": [
    "airport_data['RUS'] = airport_data['airline'].map(lambda x: 'RU' if x == 'Aeroflot' else 'not_RU')"
   ]
  },
  {
   "cell_type": "code",
   "execution_count": 59,
   "id": "2602edbc",
   "metadata": {},
   "outputs": [],
   "source": [
    "airport_data = airport_data.set_index('airline')"
   ]
  },
  {
   "cell_type": "code",
   "execution_count": 60,
   "id": "e7d60d57",
   "metadata": {},
   "outputs": [
    {
     "data": {
      "text/plain": [
       "Index(['Air China', 'Jet Airways', 'Aeroflot', 'easyJet'], dtype='object', name='airline')"
      ]
     },
     "execution_count": 60,
     "metadata": {},
     "output_type": "execute_result"
    }
   ],
   "source": [
    "airport_data.index"
   ]
  },
  {
   "cell_type": "code",
   "execution_count": 61,
   "id": "31e6a94f",
   "metadata": {},
   "outputs": [],
   "source": [
    "def rename_index(x):\n",
    "    return x[:5].upper()"
   ]
  },
  {
   "cell_type": "code",
   "execution_count": 62,
   "id": "65b2b662",
   "metadata": {},
   "outputs": [],
   "source": [
    "airport_data.index = airport_data.index.map(rename_index)"
   ]
  },
  {
   "cell_type": "code",
   "execution_count": 63,
   "id": "b42a9fae",
   "metadata": {},
   "outputs": [
    {
     "data": {
      "text/plain": [
       "Index(['AIR C', 'JET A', 'AEROF', 'EASYJ'], dtype='object', name='airline')"
      ]
     },
     "execution_count": 63,
     "metadata": {},
     "output_type": "execute_result"
    }
   ],
   "source": [
    "airport_data.index"
   ]
  },
  {
   "cell_type": "code",
   "execution_count": 64,
   "id": "a1909a16",
   "metadata": {},
   "outputs": [],
   "source": [
    "#Напишем лямбда функцию, которая будет редактировать названия наших колонок"
   ]
  },
  {
   "cell_type": "code",
   "execution_count": 65,
   "id": "5455861d",
   "metadata": {},
   "outputs": [
    {
     "data": {
      "text/plain": [
       "Index(['planes', 'Country', 'RUS'], dtype='object')"
      ]
     },
     "execution_count": 65,
     "metadata": {},
     "output_type": "execute_result"
    }
   ],
   "source": [
    "airport_data.columns"
   ]
  },
  {
   "cell_type": "code",
   "execution_count": 66,
   "id": "5fe64da6",
   "metadata": {},
   "outputs": [],
   "source": [
    "airport_data.columns = airport_data.columns.map(lambda x: x.upper())"
   ]
  },
  {
   "cell_type": "code",
   "execution_count": 67,
   "id": "4a011b50",
   "metadata": {},
   "outputs": [
    {
     "data": {
      "text/html": [
       "<div>\n",
       "<style scoped>\n",
       "    .dataframe tbody tr th:only-of-type {\n",
       "        vertical-align: middle;\n",
       "    }\n",
       "\n",
       "    .dataframe tbody tr th {\n",
       "        vertical-align: top;\n",
       "    }\n",
       "\n",
       "    .dataframe thead th {\n",
       "        text-align: right;\n",
       "    }\n",
       "</style>\n",
       "<table border=\"1\" class=\"dataframe\">\n",
       "  <thead>\n",
       "    <tr style=\"text-align: right;\">\n",
       "      <th></th>\n",
       "      <th>PLANES</th>\n",
       "      <th>COUNTRY</th>\n",
       "      <th>RUS</th>\n",
       "    </tr>\n",
       "    <tr>\n",
       "      <th>airline</th>\n",
       "      <th></th>\n",
       "      <th></th>\n",
       "      <th></th>\n",
       "    </tr>\n",
       "  </thead>\n",
       "  <tbody>\n",
       "    <tr>\n",
       "      <th>AIR C</th>\n",
       "      <td>10</td>\n",
       "      <td>China</td>\n",
       "      <td>not_RU</td>\n",
       "    </tr>\n",
       "    <tr>\n",
       "      <th>JET A</th>\n",
       "      <td>4</td>\n",
       "      <td>India</td>\n",
       "      <td>not_RU</td>\n",
       "    </tr>\n",
       "    <tr>\n",
       "      <th>AEROF</th>\n",
       "      <td>30</td>\n",
       "      <td>Russia</td>\n",
       "      <td>RU</td>\n",
       "    </tr>\n",
       "    <tr>\n",
       "      <th>EASYJ</th>\n",
       "      <td>2</td>\n",
       "      <td>United Kingdom</td>\n",
       "      <td>not_RU</td>\n",
       "    </tr>\n",
       "  </tbody>\n",
       "</table>\n",
       "</div>"
      ],
      "text/plain": [
       "         PLANES         COUNTRY     RUS\n",
       "airline                                \n",
       "AIR C        10           China  not_RU\n",
       "JET A         4           India  not_RU\n",
       "AEROF        30          Russia      RU\n",
       "EASYJ         2  United Kingdom  not_RU"
      ]
     },
     "execution_count": 67,
     "metadata": {},
     "output_type": "execute_result"
    }
   ],
   "source": [
    "airport_data"
   ]
  },
  {
   "cell_type": "markdown",
   "id": "5f2cd882",
   "metadata": {},
   "source": [
    "- .rename()"
   ]
  },
  {
   "cell_type": "code",
   "execution_count": 70,
   "id": "b06f56f6",
   "metadata": {},
   "outputs": [
    {
     "data": {
      "text/html": [
       "<div>\n",
       "<style scoped>\n",
       "    .dataframe tbody tr th:only-of-type {\n",
       "        vertical-align: middle;\n",
       "    }\n",
       "\n",
       "    .dataframe tbody tr th {\n",
       "        vertical-align: top;\n",
       "    }\n",
       "\n",
       "    .dataframe thead th {\n",
       "        text-align: right;\n",
       "    }\n",
       "</style>\n",
       "<table border=\"1\" class=\"dataframe\">\n",
       "  <thead>\n",
       "    <tr style=\"text-align: right;\">\n",
       "      <th></th>\n",
       "      <th>PLANES</th>\n",
       "      <th>COUNTRY</th>\n",
       "      <th>RUS</th>\n",
       "    </tr>\n",
       "    <tr>\n",
       "      <th>airline</th>\n",
       "      <th></th>\n",
       "      <th></th>\n",
       "      <th></th>\n",
       "    </tr>\n",
       "  </thead>\n",
       "  <tbody>\n",
       "    <tr>\n",
       "      <th>EARTH B</th>\n",
       "      <td>10</td>\n",
       "      <td>China</td>\n",
       "      <td>not_RU</td>\n",
       "    </tr>\n",
       "    <tr>\n",
       "      <th>JET A</th>\n",
       "      <td>4</td>\n",
       "      <td>India</td>\n",
       "      <td>not_RU</td>\n",
       "    </tr>\n",
       "    <tr>\n",
       "      <th>AEROF</th>\n",
       "      <td>30</td>\n",
       "      <td>Russia</td>\n",
       "      <td>RU</td>\n",
       "    </tr>\n",
       "    <tr>\n",
       "      <th>EASYJ</th>\n",
       "      <td>2</td>\n",
       "      <td>United Kingdom</td>\n",
       "      <td>not_RU</td>\n",
       "    </tr>\n",
       "  </tbody>\n",
       "</table>\n",
       "</div>"
      ],
      "text/plain": [
       "         PLANES         COUNTRY     RUS\n",
       "airline                                \n",
       "EARTH B      10           China  not_RU\n",
       "JET A         4           India  not_RU\n",
       "AEROF        30          Russia      RU\n",
       "EASYJ         2  United Kingdom  not_RU"
      ]
     },
     "execution_count": 70,
     "metadata": {},
     "output_type": "execute_result"
    }
   ],
   "source": [
    "airport_data = airport_data.rename(index = {'AIR C' : 'EARTH B'})\n",
    "airport_data"
   ]
  },
  {
   "cell_type": "code",
   "execution_count": 71,
   "id": "ca8c4afd",
   "metadata": {},
   "outputs": [
    {
     "data": {
      "text/html": [
       "<div>\n",
       "<style scoped>\n",
       "    .dataframe tbody tr th:only-of-type {\n",
       "        vertical-align: middle;\n",
       "    }\n",
       "\n",
       "    .dataframe tbody tr th {\n",
       "        vertical-align: top;\n",
       "    }\n",
       "\n",
       "    .dataframe thead th {\n",
       "        text-align: right;\n",
       "    }\n",
       "</style>\n",
       "<table border=\"1\" class=\"dataframe\">\n",
       "  <thead>\n",
       "    <tr style=\"text-align: right;\">\n",
       "      <th></th>\n",
       "      <th>PLANES</th>\n",
       "      <th>COUNTRY</th>\n",
       "      <th>SUR</th>\n",
       "    </tr>\n",
       "    <tr>\n",
       "      <th>airline</th>\n",
       "      <th></th>\n",
       "      <th></th>\n",
       "      <th></th>\n",
       "    </tr>\n",
       "  </thead>\n",
       "  <tbody>\n",
       "    <tr>\n",
       "      <th>EARTH B</th>\n",
       "      <td>10</td>\n",
       "      <td>China</td>\n",
       "      <td>not_RU</td>\n",
       "    </tr>\n",
       "    <tr>\n",
       "      <th>JET A</th>\n",
       "      <td>4</td>\n",
       "      <td>India</td>\n",
       "      <td>not_RU</td>\n",
       "    </tr>\n",
       "    <tr>\n",
       "      <th>AEROF</th>\n",
       "      <td>30</td>\n",
       "      <td>Russia</td>\n",
       "      <td>RU</td>\n",
       "    </tr>\n",
       "    <tr>\n",
       "      <th>EASYJ</th>\n",
       "      <td>2</td>\n",
       "      <td>United Kingdom</td>\n",
       "      <td>not_RU</td>\n",
       "    </tr>\n",
       "  </tbody>\n",
       "</table>\n",
       "</div>"
      ],
      "text/plain": [
       "         PLANES         COUNTRY     SUR\n",
       "airline                                \n",
       "EARTH B      10           China  not_RU\n",
       "JET A         4           India  not_RU\n",
       "AEROF        30          Russia      RU\n",
       "EASYJ         2  United Kingdom  not_RU"
      ]
     },
     "execution_count": 71,
     "metadata": {},
     "output_type": "execute_result"
    }
   ],
   "source": [
    "airport_data = airport_data.rename(columns = {'RUS' : 'SUR'})\n",
    "airport_data"
   ]
  },
  {
   "cell_type": "code",
   "execution_count": 72,
   "id": "3d08288a",
   "metadata": {},
   "outputs": [
    {
     "data": {
      "text/html": [
       "<div>\n",
       "<style scoped>\n",
       "    .dataframe tbody tr th:only-of-type {\n",
       "        vertical-align: middle;\n",
       "    }\n",
       "\n",
       "    .dataframe tbody tr th {\n",
       "        vertical-align: top;\n",
       "    }\n",
       "\n",
       "    .dataframe thead th {\n",
       "        text-align: right;\n",
       "    }\n",
       "</style>\n",
       "<table border=\"1\" class=\"dataframe\">\n",
       "  <thead>\n",
       "    <tr style=\"text-align: right;\">\n",
       "      <th></th>\n",
       "      <th>PLANES</th>\n",
       "      <th>COUNTRY</th>\n",
       "      <th>SUR</th>\n",
       "    </tr>\n",
       "    <tr>\n",
       "      <th>airline</th>\n",
       "      <th></th>\n",
       "      <th></th>\n",
       "      <th></th>\n",
       "    </tr>\n",
       "  </thead>\n",
       "  <tbody>\n",
       "    <tr>\n",
       "      <th>AIR C</th>\n",
       "      <td>10</td>\n",
       "      <td>China</td>\n",
       "      <td>not_RU</td>\n",
       "    </tr>\n",
       "    <tr>\n",
       "      <th>JET A</th>\n",
       "      <td>4</td>\n",
       "      <td>India</td>\n",
       "      <td>not_RU</td>\n",
       "    </tr>\n",
       "    <tr>\n",
       "      <th>AEROF</th>\n",
       "      <td>30</td>\n",
       "      <td>Russia</td>\n",
       "      <td>RU</td>\n",
       "    </tr>\n",
       "    <tr>\n",
       "      <th>EASYJ</th>\n",
       "      <td>2</td>\n",
       "      <td>United Kingdom</td>\n",
       "      <td>not_RU</td>\n",
       "    </tr>\n",
       "  </tbody>\n",
       "</table>\n",
       "</div>"
      ],
      "text/plain": [
       "         PLANES         COUNTRY     SUR\n",
       "airline                                \n",
       "AIR C        10           China  not_RU\n",
       "JET A         4           India  not_RU\n",
       "AEROF        30          Russia      RU\n",
       "EASYJ         2  United Kingdom  not_RU"
      ]
     },
     "execution_count": 72,
     "metadata": {},
     "output_type": "execute_result"
    }
   ],
   "source": [
    "airport_data = airport_data.rename({'EARTH B' : 'AIR C'}, axis=0)\n",
    "airport_data"
   ]
  },
  {
   "cell_type": "code",
   "execution_count": 73,
   "id": "01e5229d",
   "metadata": {},
   "outputs": [
    {
     "data": {
      "text/html": [
       "<div>\n",
       "<style scoped>\n",
       "    .dataframe tbody tr th:only-of-type {\n",
       "        vertical-align: middle;\n",
       "    }\n",
       "\n",
       "    .dataframe tbody tr th {\n",
       "        vertical-align: top;\n",
       "    }\n",
       "\n",
       "    .dataframe thead th {\n",
       "        text-align: right;\n",
       "    }\n",
       "</style>\n",
       "<table border=\"1\" class=\"dataframe\">\n",
       "  <thead>\n",
       "    <tr style=\"text-align: right;\">\n",
       "      <th></th>\n",
       "      <th>PLANES</th>\n",
       "      <th>COUNTRY</th>\n",
       "      <th>RUS</th>\n",
       "    </tr>\n",
       "    <tr>\n",
       "      <th>airline</th>\n",
       "      <th></th>\n",
       "      <th></th>\n",
       "      <th></th>\n",
       "    </tr>\n",
       "  </thead>\n",
       "  <tbody>\n",
       "    <tr>\n",
       "      <th>AIR C</th>\n",
       "      <td>10</td>\n",
       "      <td>China</td>\n",
       "      <td>not_RU</td>\n",
       "    </tr>\n",
       "    <tr>\n",
       "      <th>JET A</th>\n",
       "      <td>4</td>\n",
       "      <td>India</td>\n",
       "      <td>not_RU</td>\n",
       "    </tr>\n",
       "    <tr>\n",
       "      <th>AEROF</th>\n",
       "      <td>30</td>\n",
       "      <td>Russia</td>\n",
       "      <td>RU</td>\n",
       "    </tr>\n",
       "    <tr>\n",
       "      <th>EASYJ</th>\n",
       "      <td>2</td>\n",
       "      <td>United Kingdom</td>\n",
       "      <td>not_RU</td>\n",
       "    </tr>\n",
       "  </tbody>\n",
       "</table>\n",
       "</div>"
      ],
      "text/plain": [
       "         PLANES         COUNTRY     RUS\n",
       "airline                                \n",
       "AIR C        10           China  not_RU\n",
       "JET A         4           India  not_RU\n",
       "AEROF        30          Russia      RU\n",
       "EASYJ         2  United Kingdom  not_RU"
      ]
     },
     "execution_count": 73,
     "metadata": {},
     "output_type": "execute_result"
    }
   ],
   "source": [
    "airport_data = airport_data.rename({'SUR' : 'RUS'}, axis=1)\n",
    "airport_data"
   ]
  },
  {
   "cell_type": "markdown",
   "id": "55be31b8",
   "metadata": {},
   "source": [
    "Самособой через rename() мы одновременно можем менять значения столбцов и колонок"
   ]
  },
  {
   "cell_type": "code",
   "execution_count": null,
   "id": "9d423b54",
   "metadata": {},
   "outputs": [],
   "source": [
    "- .cut() "
   ]
  },
  {
   "cell_type": "code",
   "execution_count": 74,
   "id": "255afc1e",
   "metadata": {},
   "outputs": [],
   "source": [
    "ages = [20,15,46,84,25,34,22,12,45,125,15,22]"
   ]
  },
  {
   "cell_type": "markdown",
   "id": "e805f67d",
   "metadata": {},
   "source": [
    "Разобьем наши данные на категории\n",
    "\n",
    "0-18\n",
    "\n",
    "18-25\n",
    "\n",
    "25-35\n",
    "\n",
    "35-45\n",
    "\n",
    "55-65\n",
    "\n",
    "65+"
   ]
  },
  {
   "cell_type": "code",
   "execution_count": 75,
   "id": "1e4fad02",
   "metadata": {},
   "outputs": [],
   "source": [
    "bins = [0, 18, 25, 35, 45, 55, 65]"
   ]
  },
  {
   "cell_type": "code",
   "execution_count": 77,
   "id": "f53d9a3f",
   "metadata": {},
   "outputs": [
    {
     "data": {
      "text/plain": [
       "[(18.0, 25.0], (0.0, 18.0], (45.0, 55.0], NaN, (18.0, 25.0], ..., (0.0, 18.0], (35.0, 45.0], NaN, (0.0, 18.0], (18.0, 25.0]]\n",
       "Length: 12\n",
       "Categories (6, interval[int64, right]): [(0, 18] < (18, 25] < (25, 35] < (35, 45] < (45, 55] < (55, 65]]"
      ]
     },
     "execution_count": 77,
     "metadata": {},
     "output_type": "execute_result"
    }
   ],
   "source": [
    "#Наши значения попали в свои интервалы\n",
    "pd.cut(ages, bins)"
   ]
  },
  {
   "cell_type": "code",
   "execution_count": 78,
   "id": "be41fb98",
   "metadata": {},
   "outputs": [
    {
     "data": {
      "text/plain": [
       "[(18.0, 25.0], (0.0, 18.0], (45.0, 55.0], NaN, (18.0, 25.0], ..., (0.0, 18.0], (35.0, 45.0], NaN, (0.0, 18.0], (18.0, 25.0]]\n",
       "Length: 12\n",
       "Categories (6, interval[int64, right]): [(0, 18] < (18, 25] < (25, 35] < (35, 45] < (45, 55] < (55, 65]]"
      ]
     },
     "execution_count": 78,
     "metadata": {},
     "output_type": "execute_result"
    }
   ],
   "source": [
    "pd.cut(ages, bins, right = True)"
   ]
  },
  {
   "cell_type": "markdown",
   "id": "1561aba2",
   "metadata": {},
   "source": [
    "Иными словами, с помощью функции cut. Мы выполнили переход от непрерывной переменной к категориальной переменной. Такой шаг еще называют дискретизацией. "
   ]
  },
  {
   "cell_type": "code",
   "execution_count": 79,
   "id": "5c471dad",
   "metadata": {},
   "outputs": [
    {
     "data": {
      "text/plain": [
       "[(18.0, 25.0], (0.0, 18.0], (45.0, 55.0], NaN, (18.0, 25.0], ..., (0.0, 18.0], (35.0, 45.0], NaN, (0.0, 18.0], (18.0, 25.0]]\n",
       "Length: 12\n",
       "Categories (6, interval[int64, right]): [(0, 18] < (18, 25] < (25, 35] < (35, 45] < (45, 55] < (55, 65]]"
      ]
     },
     "execution_count": 79,
     "metadata": {},
     "output_type": "execute_result"
    }
   ],
   "source": [
    "result = pd.cut(ages, bins)\n",
    "result"
   ]
  },
  {
   "cell_type": "code",
   "execution_count": 81,
   "id": "061b0829",
   "metadata": {},
   "outputs": [
    {
     "data": {
      "text/plain": [
       "IntervalIndex([(0, 18], (18, 25], (25, 35], (35, 45], (45, 55], (55, 65]], dtype='interval[int64, right]')"
      ]
     },
     "execution_count": 81,
     "metadata": {},
     "output_type": "execute_result"
    }
   ],
   "source": [
    "result.categories"
   ]
  },
  {
   "cell_type": "code",
   "execution_count": 83,
   "id": "abe565e7",
   "metadata": {},
   "outputs": [
    {
     "data": {
      "text/plain": [
       "array([ 1,  0,  4, -1,  1,  2,  1,  0,  3, -1,  0,  1], dtype=int8)"
      ]
     },
     "execution_count": 83,
     "metadata": {},
     "output_type": "execute_result"
    }
   ],
   "source": [
    "result.codes"
   ]
  },
  {
   "cell_type": "code",
   "execution_count": 84,
   "id": "b0465764",
   "metadata": {},
   "outputs": [
    {
     "data": {
      "text/plain": [
       "(0, 18]     3\n",
       "(18, 25]    4\n",
       "(25, 35]    1\n",
       "(35, 45]    1\n",
       "(45, 55]    1\n",
       "(55, 65]    0\n",
       "dtype: int64"
      ]
     },
     "execution_count": 84,
     "metadata": {},
     "output_type": "execute_result"
    }
   ],
   "source": [
    "#Посчитаем количество данных в каждой категории\n",
    "result.value_counts()"
   ]
  },
  {
   "cell_type": "code",
   "execution_count": 86,
   "id": "c6ef70dc",
   "metadata": {},
   "outputs": [],
   "source": [
    "#Зададим лэйблы\n",
    "groups = ['1', '2', '3', '4', '5', '6']"
   ]
  },
  {
   "cell_type": "code",
   "execution_count": 87,
   "id": "0ea6874e",
   "metadata": {},
   "outputs": [],
   "source": [
    "result = pd.cut(ages, bins, labels = groups)"
   ]
  },
  {
   "cell_type": "code",
   "execution_count": 88,
   "id": "74c008b5",
   "metadata": {},
   "outputs": [
    {
     "data": {
      "text/plain": [
       "['2', '1', '5', NaN, '2', ..., '1', '4', NaN, '1', '2']\n",
       "Length: 12\n",
       "Categories (6, object): ['1' < '2' < '3' < '4' < '5' < '6']"
      ]
     },
     "execution_count": 88,
     "metadata": {},
     "output_type": "execute_result"
    }
   ],
   "source": [
    "result"
   ]
  },
  {
   "cell_type": "code",
   "execution_count": 90,
   "id": "37695753",
   "metadata": {},
   "outputs": [
    {
     "data": {
      "text/plain": [
       "1    3\n",
       "2    4\n",
       "3    1\n",
       "4    1\n",
       "5    1\n",
       "6    0\n",
       "dtype: int64"
      ]
     },
     "execution_count": 90,
     "metadata": {},
     "output_type": "execute_result"
    }
   ],
   "source": [
    "#Пересчитаем результат\n",
    "result.value_counts()"
   ]
  },
  {
   "cell_type": "markdown",
   "id": "8eb6c000",
   "metadata": {},
   "source": [
    "- Разобьем данные на количество групп"
   ]
  },
  {
   "cell_type": "code",
   "execution_count": 93,
   "id": "75e19a69",
   "metadata": {},
   "outputs": [],
   "source": [
    "car_gas = [200, 220, 205, 207, 201, 230, 307, 310, 601, 405, 401, 302]"
   ]
  },
  {
   "cell_type": "code",
   "execution_count": 99,
   "id": "86689234",
   "metadata": {},
   "outputs": [],
   "source": [
    "Car_class = pd.cut(car_gas, 4, labels = ['Первый_класс', 'Второй_класс', 'Третий_класс', 'Четвертый_класс'])"
   ]
  },
  {
   "cell_type": "code",
   "execution_count": 100,
   "id": "33d459ad",
   "metadata": {},
   "outputs": [
    {
     "data": {
      "text/plain": [
       "Первый_класс       6\n",
       "Второй_класс       3\n",
       "Третий_класс       2\n",
       "Четвертый_класс    1\n",
       "dtype: int64"
      ]
     },
     "execution_count": 100,
     "metadata": {},
     "output_type": "execute_result"
    }
   ],
   "source": [
    "Car_class.value_counts()"
   ]
  },
  {
   "cell_type": "markdown",
   "id": "ccf70ede",
   "metadata": {},
   "source": [
    "- Разобьем данные на равные группы. Так называемая разбивка на квартили"
   ]
  },
  {
   "cell_type": "code",
   "execution_count": 102,
   "id": "5457ab90",
   "metadata": {},
   "outputs": [],
   "source": [
    "Car_class2 = pd.qcut(car_gas, 4, labels = ['Первый_класс', 'Второй_класс', 'Третий_класс', 'Четвертый_класс'])"
   ]
  },
  {
   "cell_type": "code",
   "execution_count": 104,
   "id": "1d94a31c",
   "metadata": {},
   "outputs": [
    {
     "data": {
      "text/plain": [
       "Первый_класс       3\n",
       "Второй_класс       3\n",
       "Третий_класс       3\n",
       "Четвертый_класс    3\n",
       "dtype: int64"
      ]
     },
     "execution_count": 104,
     "metadata": {},
     "output_type": "execute_result"
    }
   ],
   "source": [
    "Car_class2.value_counts()"
   ]
  },
  {
   "cell_type": "markdown",
   "id": "93126f50",
   "metadata": {},
   "source": [
    "# Практика"
   ]
  },
  {
   "cell_type": "code",
   "execution_count": null,
   "id": "525b3155",
   "metadata": {},
   "outputs": [],
   "source": []
  }
 ],
 "metadata": {
  "kernelspec": {
   "display_name": "Python 3 (ipykernel)",
   "language": "python",
   "name": "python3"
  },
  "language_info": {
   "codemirror_mode": {
    "name": "ipython",
    "version": 3
   },
   "file_extension": ".py",
   "mimetype": "text/x-python",
   "name": "python",
   "nbconvert_exporter": "python",
   "pygments_lexer": "ipython3",
   "version": "3.9.12"
  }
 },
 "nbformat": 4,
 "nbformat_minor": 5
}
