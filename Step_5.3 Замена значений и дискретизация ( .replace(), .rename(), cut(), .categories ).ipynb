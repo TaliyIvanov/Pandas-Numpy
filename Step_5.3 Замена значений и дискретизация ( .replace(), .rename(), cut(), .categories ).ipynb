{
 "cells": [
  {
   "cell_type": "code",
   "execution_count": 1,
   "id": "8e17756f",
   "metadata": {},
   "outputs": [],
   "source": [
    "import pandas as pd\n",
    "import numpy as np"
   ]
  },
  {
   "cell_type": "markdown",
   "id": "1cea1e78",
   "metadata": {},
   "source": [
    "- .replace() - Replace values given in to_replace with value."
   ]
  },
  {
   "cell_type": "code",
   "execution_count": 2,
   "id": "8c7bf910",
   "metadata": {},
   "outputs": [],
   "source": [
    "temp = pd.Series([24, -9999, 22, -8888, 18, 26, -9999]) "
   ]
  },
  {
   "cell_type": "code",
   "execution_count": 4,
   "id": "f0e1abfd",
   "metadata": {},
   "outputs": [
    {
     "data": {
      "text/plain": [
       "0      24\n",
       "1   -9999\n",
       "2      22\n",
       "3   -8888\n",
       "4      18\n",
       "5      26\n",
       "6   -9999\n",
       "dtype: int64"
      ]
     },
     "execution_count": 4,
     "metadata": {},
     "output_type": "execute_result"
    }
   ],
   "source": [
    "#Допустим у нас есть измерения температур. \n",
    "#Очевидны значения, которые не стоит брать в рассчет (прибор не исправен)\n",
    "temp"
   ]
  },
  {
   "cell_type": "code",
   "execution_count": 5,
   "id": "2f4ef0e8",
   "metadata": {},
   "outputs": [
    {
     "data": {
      "text/plain": [
       "0      24.0\n",
       "1       NaN\n",
       "2      22.0\n",
       "3   -8888.0\n",
       "4      18.0\n",
       "5      26.0\n",
       "6       NaN\n",
       "dtype: float64"
      ]
     },
     "execution_count": 5,
     "metadata": {},
     "output_type": "execute_result"
    }
   ],
   "source": [
    "#Замена конкретного значения\n",
    "temp.replace([-9999], np.nan)"
   ]
  },
  {
   "cell_type": "code",
   "execution_count": 6,
   "id": "42cdd6bf",
   "metadata": {},
   "outputs": [
    {
     "data": {
      "text/plain": [
       "0    24.0\n",
       "1     NaN\n",
       "2    22.0\n",
       "3    -1.0\n",
       "4    18.0\n",
       "5    26.0\n",
       "6     NaN\n",
       "dtype: float64"
      ]
     },
     "execution_count": 6,
     "metadata": {},
     "output_type": "execute_result"
    }
   ],
   "source": [
    "#Замена нескольних конкретных значений\n",
    "temp.replace([-9999, -8888], [np.nan, -1])"
   ]
  },
  {
   "cell_type": "markdown",
   "id": "b4b6e256",
   "metadata": {},
   "source": [
    "Мы можем делать замену значений и с помощью loc/iloc, но replace удобнее т.к. loc/iloc требуют указания координат того значения, которое надо заменить, а replace это сделает за нас. \n",
    "\n",
    "Надо только указать что менять и на какое значение."
   ]
  },
  {
   "cell_type": "code",
   "execution_count": null,
   "id": "9ac9f67e",
   "metadata": {},
   "outputs": [],
   "source": [
    "#Напишем ф-ию, которая будет редактировать наши индексы"
   ]
  },
  {
   "cell_type": "code",
   "execution_count": 56,
   "id": "92fabb14",
   "metadata": {},
   "outputs": [],
   "source": [
    "airport_data = pd.DataFrame({'airline': ['Air China', 'Jet Airways', 'Aeroflot',\n",
    "                                         'easyJet'], 'planes': [10, 4, 30, 2]})\n",
    "country = {'Air China': 'China', 'Jet Airways': 'India', 'Aeroflot': 'Russia',\n",
    "           'easyJet': 'United Kingdom'}"
   ]
  },
  {
   "cell_type": "code",
   "execution_count": 57,
   "id": "5a2c69ed",
   "metadata": {},
   "outputs": [],
   "source": [
    "airport_data['Country'] = airport_data['airline'].map(country)"
   ]
  },
  {
   "cell_type": "code",
   "execution_count": 58,
   "id": "df61efd8",
   "metadata": {},
   "outputs": [],
   "source": [
    "airport_data['RUS'] = airport_data['airline'].map(lambda x: 'RU' if x == 'Aeroflot' else 'not_RU')"
   ]
  },
  {
   "cell_type": "code",
   "execution_count": 59,
   "id": "2602edbc",
   "metadata": {},
   "outputs": [],
   "source": [
    "airport_data = airport_data.set_index('airline')"
   ]
  },
  {
   "cell_type": "code",
   "execution_count": 60,
   "id": "e7d60d57",
   "metadata": {},
   "outputs": [
    {
     "data": {
      "text/plain": [
       "Index(['Air China', 'Jet Airways', 'Aeroflot', 'easyJet'], dtype='object', name='airline')"
      ]
     },
     "execution_count": 60,
     "metadata": {},
     "output_type": "execute_result"
    }
   ],
   "source": [
    "airport_data.index"
   ]
  },
  {
   "cell_type": "code",
   "execution_count": 61,
   "id": "31e6a94f",
   "metadata": {},
   "outputs": [],
   "source": [
    "def rename_index(x):\n",
    "    return x[:5].upper()"
   ]
  },
  {
   "cell_type": "code",
   "execution_count": 62,
   "id": "65b2b662",
   "metadata": {},
   "outputs": [],
   "source": [
    "airport_data.index = airport_data.index.map(rename_index)"
   ]
  },
  {
   "cell_type": "code",
   "execution_count": 63,
   "id": "b42a9fae",
   "metadata": {},
   "outputs": [
    {
     "data": {
      "text/plain": [
       "Index(['AIR C', 'JET A', 'AEROF', 'EASYJ'], dtype='object', name='airline')"
      ]
     },
     "execution_count": 63,
     "metadata": {},
     "output_type": "execute_result"
    }
   ],
   "source": [
    "airport_data.index"
   ]
  },
  {
   "cell_type": "code",
   "execution_count": 64,
   "id": "a1909a16",
   "metadata": {},
   "outputs": [],
   "source": [
    "#Напишем лямбда функцию, которая будет редактировать названия наших колонок"
   ]
  },
  {
   "cell_type": "code",
   "execution_count": 65,
   "id": "5455861d",
   "metadata": {},
   "outputs": [
    {
     "data": {
      "text/plain": [
       "Index(['planes', 'Country', 'RUS'], dtype='object')"
      ]
     },
     "execution_count": 65,
     "metadata": {},
     "output_type": "execute_result"
    }
   ],
   "source": [
    "airport_data.columns"
   ]
  },
  {
   "cell_type": "code",
   "execution_count": 66,
   "id": "5fe64da6",
   "metadata": {},
   "outputs": [],
   "source": [
    "airport_data.columns = airport_data.columns.map(lambda x: x.upper())"
   ]
  },
  {
   "cell_type": "code",
   "execution_count": 67,
   "id": "4a011b50",
   "metadata": {},
   "outputs": [
    {
     "data": {
      "text/html": [
       "<div>\n",
       "<style scoped>\n",
       "    .dataframe tbody tr th:only-of-type {\n",
       "        vertical-align: middle;\n",
       "    }\n",
       "\n",
       "    .dataframe tbody tr th {\n",
       "        vertical-align: top;\n",
       "    }\n",
       "\n",
       "    .dataframe thead th {\n",
       "        text-align: right;\n",
       "    }\n",
       "</style>\n",
       "<table border=\"1\" class=\"dataframe\">\n",
       "  <thead>\n",
       "    <tr style=\"text-align: right;\">\n",
       "      <th></th>\n",
       "      <th>PLANES</th>\n",
       "      <th>COUNTRY</th>\n",
       "      <th>RUS</th>\n",
       "    </tr>\n",
       "    <tr>\n",
       "      <th>airline</th>\n",
       "      <th></th>\n",
       "      <th></th>\n",
       "      <th></th>\n",
       "    </tr>\n",
       "  </thead>\n",
       "  <tbody>\n",
       "    <tr>\n",
       "      <th>AIR C</th>\n",
       "      <td>10</td>\n",
       "      <td>China</td>\n",
       "      <td>not_RU</td>\n",
       "    </tr>\n",
       "    <tr>\n",
       "      <th>JET A</th>\n",
       "      <td>4</td>\n",
       "      <td>India</td>\n",
       "      <td>not_RU</td>\n",
       "    </tr>\n",
       "    <tr>\n",
       "      <th>AEROF</th>\n",
       "      <td>30</td>\n",
       "      <td>Russia</td>\n",
       "      <td>RU</td>\n",
       "    </tr>\n",
       "    <tr>\n",
       "      <th>EASYJ</th>\n",
       "      <td>2</td>\n",
       "      <td>United Kingdom</td>\n",
       "      <td>not_RU</td>\n",
       "    </tr>\n",
       "  </tbody>\n",
       "</table>\n",
       "</div>"
      ],
      "text/plain": [
       "         PLANES         COUNTRY     RUS\n",
       "airline                                \n",
       "AIR C        10           China  not_RU\n",
       "JET A         4           India  not_RU\n",
       "AEROF        30          Russia      RU\n",
       "EASYJ         2  United Kingdom  not_RU"
      ]
     },
     "execution_count": 67,
     "metadata": {},
     "output_type": "execute_result"
    }
   ],
   "source": [
    "airport_data"
   ]
  },
  {
   "cell_type": "markdown",
   "id": "5f2cd882",
   "metadata": {},
   "source": [
    "- .rename()"
   ]
  },
  {
   "cell_type": "code",
   "execution_count": 70,
   "id": "b06f56f6",
   "metadata": {},
   "outputs": [
    {
     "data": {
      "text/html": [
       "<div>\n",
       "<style scoped>\n",
       "    .dataframe tbody tr th:only-of-type {\n",
       "        vertical-align: middle;\n",
       "    }\n",
       "\n",
       "    .dataframe tbody tr th {\n",
       "        vertical-align: top;\n",
       "    }\n",
       "\n",
       "    .dataframe thead th {\n",
       "        text-align: right;\n",
       "    }\n",
       "</style>\n",
       "<table border=\"1\" class=\"dataframe\">\n",
       "  <thead>\n",
       "    <tr style=\"text-align: right;\">\n",
       "      <th></th>\n",
       "      <th>PLANES</th>\n",
       "      <th>COUNTRY</th>\n",
       "      <th>RUS</th>\n",
       "    </tr>\n",
       "    <tr>\n",
       "      <th>airline</th>\n",
       "      <th></th>\n",
       "      <th></th>\n",
       "      <th></th>\n",
       "    </tr>\n",
       "  </thead>\n",
       "  <tbody>\n",
       "    <tr>\n",
       "      <th>EARTH B</th>\n",
       "      <td>10</td>\n",
       "      <td>China</td>\n",
       "      <td>not_RU</td>\n",
       "    </tr>\n",
       "    <tr>\n",
       "      <th>JET A</th>\n",
       "      <td>4</td>\n",
       "      <td>India</td>\n",
       "      <td>not_RU</td>\n",
       "    </tr>\n",
       "    <tr>\n",
       "      <th>AEROF</th>\n",
       "      <td>30</td>\n",
       "      <td>Russia</td>\n",
       "      <td>RU</td>\n",
       "    </tr>\n",
       "    <tr>\n",
       "      <th>EASYJ</th>\n",
       "      <td>2</td>\n",
       "      <td>United Kingdom</td>\n",
       "      <td>not_RU</td>\n",
       "    </tr>\n",
       "  </tbody>\n",
       "</table>\n",
       "</div>"
      ],
      "text/plain": [
       "         PLANES         COUNTRY     RUS\n",
       "airline                                \n",
       "EARTH B      10           China  not_RU\n",
       "JET A         4           India  not_RU\n",
       "AEROF        30          Russia      RU\n",
       "EASYJ         2  United Kingdom  not_RU"
      ]
     },
     "execution_count": 70,
     "metadata": {},
     "output_type": "execute_result"
    }
   ],
   "source": [
    "airport_data = airport_data.rename(index = {'AIR C' : 'EARTH B'})\n",
    "airport_data"
   ]
  },
  {
   "cell_type": "code",
   "execution_count": 71,
   "id": "ca8c4afd",
   "metadata": {},
   "outputs": [
    {
     "data": {
      "text/html": [
       "<div>\n",
       "<style scoped>\n",
       "    .dataframe tbody tr th:only-of-type {\n",
       "        vertical-align: middle;\n",
       "    }\n",
       "\n",
       "    .dataframe tbody tr th {\n",
       "        vertical-align: top;\n",
       "    }\n",
       "\n",
       "    .dataframe thead th {\n",
       "        text-align: right;\n",
       "    }\n",
       "</style>\n",
       "<table border=\"1\" class=\"dataframe\">\n",
       "  <thead>\n",
       "    <tr style=\"text-align: right;\">\n",
       "      <th></th>\n",
       "      <th>PLANES</th>\n",
       "      <th>COUNTRY</th>\n",
       "      <th>SUR</th>\n",
       "    </tr>\n",
       "    <tr>\n",
       "      <th>airline</th>\n",
       "      <th></th>\n",
       "      <th></th>\n",
       "      <th></th>\n",
       "    </tr>\n",
       "  </thead>\n",
       "  <tbody>\n",
       "    <tr>\n",
       "      <th>EARTH B</th>\n",
       "      <td>10</td>\n",
       "      <td>China</td>\n",
       "      <td>not_RU</td>\n",
       "    </tr>\n",
       "    <tr>\n",
       "      <th>JET A</th>\n",
       "      <td>4</td>\n",
       "      <td>India</td>\n",
       "      <td>not_RU</td>\n",
       "    </tr>\n",
       "    <tr>\n",
       "      <th>AEROF</th>\n",
       "      <td>30</td>\n",
       "      <td>Russia</td>\n",
       "      <td>RU</td>\n",
       "    </tr>\n",
       "    <tr>\n",
       "      <th>EASYJ</th>\n",
       "      <td>2</td>\n",
       "      <td>United Kingdom</td>\n",
       "      <td>not_RU</td>\n",
       "    </tr>\n",
       "  </tbody>\n",
       "</table>\n",
       "</div>"
      ],
      "text/plain": [
       "         PLANES         COUNTRY     SUR\n",
       "airline                                \n",
       "EARTH B      10           China  not_RU\n",
       "JET A         4           India  not_RU\n",
       "AEROF        30          Russia      RU\n",
       "EASYJ         2  United Kingdom  not_RU"
      ]
     },
     "execution_count": 71,
     "metadata": {},
     "output_type": "execute_result"
    }
   ],
   "source": [
    "airport_data = airport_data.rename(columns = {'RUS' : 'SUR'})\n",
    "airport_data"
   ]
  },
  {
   "cell_type": "code",
   "execution_count": 72,
   "id": "3d08288a",
   "metadata": {},
   "outputs": [
    {
     "data": {
      "text/html": [
       "<div>\n",
       "<style scoped>\n",
       "    .dataframe tbody tr th:only-of-type {\n",
       "        vertical-align: middle;\n",
       "    }\n",
       "\n",
       "    .dataframe tbody tr th {\n",
       "        vertical-align: top;\n",
       "    }\n",
       "\n",
       "    .dataframe thead th {\n",
       "        text-align: right;\n",
       "    }\n",
       "</style>\n",
       "<table border=\"1\" class=\"dataframe\">\n",
       "  <thead>\n",
       "    <tr style=\"text-align: right;\">\n",
       "      <th></th>\n",
       "      <th>PLANES</th>\n",
       "      <th>COUNTRY</th>\n",
       "      <th>SUR</th>\n",
       "    </tr>\n",
       "    <tr>\n",
       "      <th>airline</th>\n",
       "      <th></th>\n",
       "      <th></th>\n",
       "      <th></th>\n",
       "    </tr>\n",
       "  </thead>\n",
       "  <tbody>\n",
       "    <tr>\n",
       "      <th>AIR C</th>\n",
       "      <td>10</td>\n",
       "      <td>China</td>\n",
       "      <td>not_RU</td>\n",
       "    </tr>\n",
       "    <tr>\n",
       "      <th>JET A</th>\n",
       "      <td>4</td>\n",
       "      <td>India</td>\n",
       "      <td>not_RU</td>\n",
       "    </tr>\n",
       "    <tr>\n",
       "      <th>AEROF</th>\n",
       "      <td>30</td>\n",
       "      <td>Russia</td>\n",
       "      <td>RU</td>\n",
       "    </tr>\n",
       "    <tr>\n",
       "      <th>EASYJ</th>\n",
       "      <td>2</td>\n",
       "      <td>United Kingdom</td>\n",
       "      <td>not_RU</td>\n",
       "    </tr>\n",
       "  </tbody>\n",
       "</table>\n",
       "</div>"
      ],
      "text/plain": [
       "         PLANES         COUNTRY     SUR\n",
       "airline                                \n",
       "AIR C        10           China  not_RU\n",
       "JET A         4           India  not_RU\n",
       "AEROF        30          Russia      RU\n",
       "EASYJ         2  United Kingdom  not_RU"
      ]
     },
     "execution_count": 72,
     "metadata": {},
     "output_type": "execute_result"
    }
   ],
   "source": [
    "airport_data = airport_data.rename({'EARTH B' : 'AIR C'}, axis=0)\n",
    "airport_data"
   ]
  },
  {
   "cell_type": "code",
   "execution_count": 73,
   "id": "01e5229d",
   "metadata": {},
   "outputs": [
    {
     "data": {
      "text/html": [
       "<div>\n",
       "<style scoped>\n",
       "    .dataframe tbody tr th:only-of-type {\n",
       "        vertical-align: middle;\n",
       "    }\n",
       "\n",
       "    .dataframe tbody tr th {\n",
       "        vertical-align: top;\n",
       "    }\n",
       "\n",
       "    .dataframe thead th {\n",
       "        text-align: right;\n",
       "    }\n",
       "</style>\n",
       "<table border=\"1\" class=\"dataframe\">\n",
       "  <thead>\n",
       "    <tr style=\"text-align: right;\">\n",
       "      <th></th>\n",
       "      <th>PLANES</th>\n",
       "      <th>COUNTRY</th>\n",
       "      <th>RUS</th>\n",
       "    </tr>\n",
       "    <tr>\n",
       "      <th>airline</th>\n",
       "      <th></th>\n",
       "      <th></th>\n",
       "      <th></th>\n",
       "    </tr>\n",
       "  </thead>\n",
       "  <tbody>\n",
       "    <tr>\n",
       "      <th>AIR C</th>\n",
       "      <td>10</td>\n",
       "      <td>China</td>\n",
       "      <td>not_RU</td>\n",
       "    </tr>\n",
       "    <tr>\n",
       "      <th>JET A</th>\n",
       "      <td>4</td>\n",
       "      <td>India</td>\n",
       "      <td>not_RU</td>\n",
       "    </tr>\n",
       "    <tr>\n",
       "      <th>AEROF</th>\n",
       "      <td>30</td>\n",
       "      <td>Russia</td>\n",
       "      <td>RU</td>\n",
       "    </tr>\n",
       "    <tr>\n",
       "      <th>EASYJ</th>\n",
       "      <td>2</td>\n",
       "      <td>United Kingdom</td>\n",
       "      <td>not_RU</td>\n",
       "    </tr>\n",
       "  </tbody>\n",
       "</table>\n",
       "</div>"
      ],
      "text/plain": [
       "         PLANES         COUNTRY     RUS\n",
       "airline                                \n",
       "AIR C        10           China  not_RU\n",
       "JET A         4           India  not_RU\n",
       "AEROF        30          Russia      RU\n",
       "EASYJ         2  United Kingdom  not_RU"
      ]
     },
     "execution_count": 73,
     "metadata": {},
     "output_type": "execute_result"
    }
   ],
   "source": [
    "airport_data = airport_data.rename({'SUR' : 'RUS'}, axis=1)\n",
    "airport_data"
   ]
  },
  {
   "cell_type": "markdown",
   "id": "55be31b8",
   "metadata": {},
   "source": [
    "Самособой через rename() мы одновременно можем менять значения столбцов и колонок"
   ]
  },
  {
   "cell_type": "markdown",
   "id": "6586dfeb",
   "metadata": {},
   "source": [
    "- .cut() - Use cut when you need to segment and sort data values into bins. This function is also useful for going from a continuous variable to a categorical variable. For example, cut could convert ages to groups of age ranges. Supports binning into an equal number of bins, or a pre-specified array of bins."
   ]
  },
  {
   "cell_type": "code",
   "execution_count": 74,
   "id": "255afc1e",
   "metadata": {},
   "outputs": [],
   "source": [
    "ages = [20,15,46,84,25,34,22,12,45,125,15,22]"
   ]
  },
  {
   "cell_type": "markdown",
   "id": "e805f67d",
   "metadata": {},
   "source": [
    "Разобьем наши данные на категории\n",
    "\n",
    "0-18\n",
    "\n",
    "18-25\n",
    "\n",
    "25-35\n",
    "\n",
    "35-45\n",
    "\n",
    "55-65\n",
    "\n",
    "65+"
   ]
  },
  {
   "cell_type": "code",
   "execution_count": 75,
   "id": "1e4fad02",
   "metadata": {},
   "outputs": [],
   "source": [
    "bins = [0, 18, 25, 35, 45, 55, 65]"
   ]
  },
  {
   "cell_type": "code",
   "execution_count": 77,
   "id": "f53d9a3f",
   "metadata": {},
   "outputs": [
    {
     "data": {
      "text/plain": [
       "[(18.0, 25.0], (0.0, 18.0], (45.0, 55.0], NaN, (18.0, 25.0], ..., (0.0, 18.0], (35.0, 45.0], NaN, (0.0, 18.0], (18.0, 25.0]]\n",
       "Length: 12\n",
       "Categories (6, interval[int64, right]): [(0, 18] < (18, 25] < (25, 35] < (35, 45] < (45, 55] < (55, 65]]"
      ]
     },
     "execution_count": 77,
     "metadata": {},
     "output_type": "execute_result"
    }
   ],
   "source": [
    "#Наши значения попали в свои интервалы\n",
    "pd.cut(ages, bins)"
   ]
  },
  {
   "cell_type": "code",
   "execution_count": 78,
   "id": "be41fb98",
   "metadata": {},
   "outputs": [
    {
     "data": {
      "text/plain": [
       "[(18.0, 25.0], (0.0, 18.0], (45.0, 55.0], NaN, (18.0, 25.0], ..., (0.0, 18.0], (35.0, 45.0], NaN, (0.0, 18.0], (18.0, 25.0]]\n",
       "Length: 12\n",
       "Categories (6, interval[int64, right]): [(0, 18] < (18, 25] < (25, 35] < (35, 45] < (45, 55] < (55, 65]]"
      ]
     },
     "execution_count": 78,
     "metadata": {},
     "output_type": "execute_result"
    }
   ],
   "source": [
    "pd.cut(ages, bins, right = True)"
   ]
  },
  {
   "cell_type": "markdown",
   "id": "1561aba2",
   "metadata": {},
   "source": [
    "Иными словами, с помощью функции cut. Мы выполнили переход от непрерывной переменной к категориальной переменной. Такой шаг еще называют дискретизацией. "
   ]
  },
  {
   "cell_type": "code",
   "execution_count": 79,
   "id": "5c471dad",
   "metadata": {},
   "outputs": [
    {
     "data": {
      "text/plain": [
       "[(18.0, 25.0], (0.0, 18.0], (45.0, 55.0], NaN, (18.0, 25.0], ..., (0.0, 18.0], (35.0, 45.0], NaN, (0.0, 18.0], (18.0, 25.0]]\n",
       "Length: 12\n",
       "Categories (6, interval[int64, right]): [(0, 18] < (18, 25] < (25, 35] < (35, 45] < (45, 55] < (55, 65]]"
      ]
     },
     "execution_count": 79,
     "metadata": {},
     "output_type": "execute_result"
    }
   ],
   "source": [
    "result = pd.cut(ages, bins)\n",
    "result"
   ]
  },
  {
   "cell_type": "code",
   "execution_count": 81,
   "id": "061b0829",
   "metadata": {},
   "outputs": [
    {
     "data": {
      "text/plain": [
       "IntervalIndex([(0, 18], (18, 25], (25, 35], (35, 45], (45, 55], (55, 65]], dtype='interval[int64, right]')"
      ]
     },
     "execution_count": 81,
     "metadata": {},
     "output_type": "execute_result"
    }
   ],
   "source": [
    "result.categories"
   ]
  },
  {
   "cell_type": "code",
   "execution_count": 83,
   "id": "abe565e7",
   "metadata": {},
   "outputs": [
    {
     "data": {
      "text/plain": [
       "array([ 1,  0,  4, -1,  1,  2,  1,  0,  3, -1,  0,  1], dtype=int8)"
      ]
     },
     "execution_count": 83,
     "metadata": {},
     "output_type": "execute_result"
    }
   ],
   "source": [
    "result.codes"
   ]
  },
  {
   "cell_type": "code",
   "execution_count": 84,
   "id": "b0465764",
   "metadata": {},
   "outputs": [
    {
     "data": {
      "text/plain": [
       "(0, 18]     3\n",
       "(18, 25]    4\n",
       "(25, 35]    1\n",
       "(35, 45]    1\n",
       "(45, 55]    1\n",
       "(55, 65]    0\n",
       "dtype: int64"
      ]
     },
     "execution_count": 84,
     "metadata": {},
     "output_type": "execute_result"
    }
   ],
   "source": [
    "#Посчитаем количество данных в каждой категории\n",
    "result.value_counts()"
   ]
  },
  {
   "cell_type": "code",
   "execution_count": 86,
   "id": "c6ef70dc",
   "metadata": {},
   "outputs": [],
   "source": [
    "#Зададим лэйблы\n",
    "groups = ['1', '2', '3', '4', '5', '6']"
   ]
  },
  {
   "cell_type": "code",
   "execution_count": 87,
   "id": "0ea6874e",
   "metadata": {},
   "outputs": [],
   "source": [
    "result = pd.cut(ages, bins, labels = groups)"
   ]
  },
  {
   "cell_type": "code",
   "execution_count": 88,
   "id": "74c008b5",
   "metadata": {},
   "outputs": [
    {
     "data": {
      "text/plain": [
       "['2', '1', '5', NaN, '2', ..., '1', '4', NaN, '1', '2']\n",
       "Length: 12\n",
       "Categories (6, object): ['1' < '2' < '3' < '4' < '5' < '6']"
      ]
     },
     "execution_count": 88,
     "metadata": {},
     "output_type": "execute_result"
    }
   ],
   "source": [
    "result"
   ]
  },
  {
   "cell_type": "code",
   "execution_count": 90,
   "id": "37695753",
   "metadata": {},
   "outputs": [
    {
     "data": {
      "text/plain": [
       "1    3\n",
       "2    4\n",
       "3    1\n",
       "4    1\n",
       "5    1\n",
       "6    0\n",
       "dtype: int64"
      ]
     },
     "execution_count": 90,
     "metadata": {},
     "output_type": "execute_result"
    }
   ],
   "source": [
    "#Пересчитаем результат\n",
    "result.value_counts()"
   ]
  },
  {
   "cell_type": "markdown",
   "id": "8eb6c000",
   "metadata": {},
   "source": [
    "- Разобьем данные на количество групп"
   ]
  },
  {
   "cell_type": "code",
   "execution_count": 93,
   "id": "75e19a69",
   "metadata": {},
   "outputs": [],
   "source": [
    "car_gas = [200, 220, 205, 207, 201, 230, 307, 310, 601, 405, 401, 302]"
   ]
  },
  {
   "cell_type": "code",
   "execution_count": 99,
   "id": "86689234",
   "metadata": {},
   "outputs": [],
   "source": [
    "Car_class = pd.cut(car_gas, 4, labels = ['Первый_класс', 'Второй_класс', 'Третий_класс', 'Четвертый_класс'])"
   ]
  },
  {
   "cell_type": "code",
   "execution_count": 100,
   "id": "33d459ad",
   "metadata": {},
   "outputs": [
    {
     "data": {
      "text/plain": [
       "Первый_класс       6\n",
       "Второй_класс       3\n",
       "Третий_класс       2\n",
       "Четвертый_класс    1\n",
       "dtype: int64"
      ]
     },
     "execution_count": 100,
     "metadata": {},
     "output_type": "execute_result"
    }
   ],
   "source": [
    "Car_class.value_counts()"
   ]
  },
  {
   "cell_type": "markdown",
   "id": "ccf70ede",
   "metadata": {},
   "source": [
    "- Разобьем данные на равные группы. Так называемая разбивка на квартили\n",
    "- .qcut() - Quantile-based discretization function.\n",
    "\n",
    "Discretize variable into equal-sized buckets based on rank or based on sample quantiles. For example 1000 values for 10 quantiles would produce a Categorical object indicating quantile membership for each data point."
   ]
  },
  {
   "cell_type": "code",
   "execution_count": 102,
   "id": "5457ab90",
   "metadata": {},
   "outputs": [],
   "source": [
    "Car_class2 = pd.qcut(car_gas, 4, labels = ['Первый_класс', 'Второй_класс', 'Третий_класс', 'Четвертый_класс'])"
   ]
  },
  {
   "cell_type": "code",
   "execution_count": 104,
   "id": "1d94a31c",
   "metadata": {},
   "outputs": [
    {
     "data": {
      "text/plain": [
       "Первый_класс       3\n",
       "Второй_класс       3\n",
       "Третий_класс       3\n",
       "Четвертый_класс    3\n",
       "dtype: int64"
      ]
     },
     "execution_count": 104,
     "metadata": {},
     "output_type": "execute_result"
    }
   ],
   "source": [
    "Car_class2.value_counts()"
   ]
  },
  {
   "cell_type": "markdown",
   "id": "93126f50",
   "metadata": {},
   "source": [
    "# Практика"
   ]
  },
  {
   "cell_type": "markdown",
   "id": "e579fad3",
   "metadata": {},
   "source": [
    "# Задача 5.3.10\n",
    "Сегодня наш друг Николай (владелец сети кинотеатров) просит нас о помощи. Николай хочет запустить в прокат новый индийский фильм с известным актером, но пока не понимает на сколько фильм может быть успешен. Для этого он собрал группу из 50 человек и устроил для них закрытый показ. После закрытого показа каждый зритель поставил оценку от 0 до 10, где 0 - совсем плохо, 10 - отлично. Николай начинал проходить курс по основам Pandas, но остановился где-то на сериях, поэтому он подготовил серию в которой хранятся все оценки зрителей:\n",
    "![](https://ucarecdn.com/94a5a6f9-5652-44d3-ac8c-63dcc0d17675/)\n",
    "(на скрине первые 10 оценок)\n",
    "\n",
    "И теперь он хочет разбить все оценки на три группы:\n",
    "\n",
    "0-4 - Плохо\n",
    "5-7 - Так себе\n",
    "8-10 - Отлично\n",
    "\n",
    "А потом посчитать по каждой группе количество оценок. Помогите Николаю посчитать результаты) \n",
    "\n",
    "Ваша функция solution должна вернуть серию в которой будут лежать названия групп (индекс) и количество оценок (значения)."
   ]
  },
  {
   "cell_type": "code",
   "execution_count": 51,
   "id": "59692562",
   "metadata": {
    "collapsed": true
   },
   "outputs": [
    {
     "data": {
      "text/plain": [
       "[8,\n",
       " 9,\n",
       " 2,\n",
       " 0,\n",
       " 3,\n",
       " 8,\n",
       " 3,\n",
       " 9,\n",
       " 6,\n",
       " 5,\n",
       " 7,\n",
       " 0,\n",
       " 3,\n",
       " 0,\n",
       " 6,\n",
       " 7,\n",
       " 3,\n",
       " 9,\n",
       " 3,\n",
       " 5,\n",
       " 1,\n",
       " 4,\n",
       " 6,\n",
       " 5,\n",
       " 7,\n",
       " 5,\n",
       " 7,\n",
       " 6,\n",
       " 4,\n",
       " 6,\n",
       " 6,\n",
       " 1,\n",
       " 9,\n",
       " 1,\n",
       " 5,\n",
       " 8,\n",
       " 4,\n",
       " 6,\n",
       " 8,\n",
       " 5,\n",
       " 9,\n",
       " 5,\n",
       " 7,\n",
       " 9,\n",
       " 9,\n",
       " 1,\n",
       " 1,\n",
       " 0,\n",
       " 1,\n",
       " 0]"
      ]
     },
     "execution_count": 51,
     "metadata": {},
     "output_type": "execute_result"
    }
   ],
   "source": [
    "s1 = [8, 9, 2, 0, 3, 8, 3, 9, 6, 5, 7, 0, 3, 0, 6, 7, 3, 9, 3, 5, 1, 4, 6, 5, 7, 5, 7, 6, 4, \n",
    "                6, 6, 1, 9, 1, 5, 8, 4, 6, 8, 5, 9, 5, 7, 9, 9, 1, 1, 0, 1, 0]\n",
    "s1"
   ]
  },
  {
   "cell_type": "code",
   "execution_count": 66,
   "id": "7abbf3f2",
   "metadata": {},
   "outputs": [],
   "source": [
    "#Разобьем на групп 0-4, 5-7, 8-10\n",
    "bins =[0, 4, 7, 11]"
   ]
  },
  {
   "cell_type": "code",
   "execution_count": 67,
   "id": "a46a18f3",
   "metadata": {},
   "outputs": [],
   "source": [
    "#Зададим лейблы\n",
    "groups =  ['Плохо', 'Хорошо', 'Отлично']"
   ]
  },
  {
   "cell_type": "code",
   "execution_count": 68,
   "id": "be48aa55",
   "metadata": {},
   "outputs": [],
   "source": [
    "result = pd.cut(s1, bins, right = False)"
   ]
  },
  {
   "cell_type": "code",
   "execution_count": 71,
   "id": "e95343b4",
   "metadata": {},
   "outputs": [
    {
     "data": {
      "text/plain": [
       "[0, 4)     17\n",
       "[4, 7)     17\n",
       "[7, 11)    16\n",
       "dtype: int64"
      ]
     },
     "execution_count": 71,
     "metadata": {},
     "output_type": "execute_result"
    }
   ],
   "source": [
    "result.value_counts()"
   ]
  },
  {
   "cell_type": "code",
   "execution_count": null,
   "id": "eab203d0",
   "metadata": {},
   "outputs": [],
   "source": []
  },
  {
   "cell_type": "code",
   "execution_count": null,
   "id": "71686462",
   "metadata": {},
   "outputs": [],
   "source": []
  },
  {
   "cell_type": "markdown",
   "id": "535541ab",
   "metadata": {},
   "source": [
    "# Задача 5.3.12\n",
    "Костя, один из студентов нашего курса, кажется все понял про функцию map и решил применить свою функцию get_sklad_number к значениям из серии s1:\n",
    "![](https://ucarecdn.com/a37bebf2-cb34-45ea-b5d0-7cdc5ac54d90/)\n",
    "Функция вытаскивает из названия склада его номер. Но у него что-то пошло не так и код не запускается. Помогите Косте исправить ошибки в коде.  "
   ]
  },
  {
   "cell_type": "code",
   "execution_count": null,
   "id": "d5528336",
   "metadata": {},
   "outputs": [],
   "source": [
    "import pandas as pd\n",
    "\n",
    "\"\"\"\n",
    "На вход функции get_sklad_number подается имя склада\n",
    "Функция разбивает имя склада на слово Sklad и его номер\n",
    "Номер склада преобразуется из str в int\n",
    "Функция возвращает номер склада\n",
    "\"\"\"\n",
    "def get_sklad_number(sklad_name):\n",
    "    sklad_number = sklad_name.split(' ')[1]\n",
    "    number_as_int = int(sklad_number)\n",
    "    return number_as_int\n",
    "\n",
    "def solution(s1):\n",
    "    result = s1.map(get_sklad_number)\n",
    "    return result"
   ]
  },
  {
   "cell_type": "markdown",
   "id": "c982f225",
   "metadata": {},
   "source": [
    "# Задача 5.3.14\n",
    "На вход функции подается датафрейм с наиболее популярными веб-сайтами за последний месяц в мире. У некоторых веб-сайтов не верно записано доменное имя: вместо .com -> .cm или .om, а вместо .ru -> рф. По всей видимости данные в систему вносил человек, который не очень знаком с интернетом. Замените значения в ячейках на корректные:\n",
    "![](https://ucarecdn.com/5b5bd43a-921e-4149-8894-a34faee20973/)\n",
    "Условие: примените функцию replace."
   ]
  },
  {
   "cell_type": "code",
   "execution_count": 72,
   "id": "eec93e33",
   "metadata": {},
   "outputs": [
    {
     "data": {
      "text/html": [
       "<div>\n",
       "<style scoped>\n",
       "    .dataframe tbody tr th:only-of-type {\n",
       "        vertical-align: middle;\n",
       "    }\n",
       "\n",
       "    .dataframe tbody tr th {\n",
       "        vertical-align: top;\n",
       "    }\n",
       "\n",
       "    .dataframe thead th {\n",
       "        text-align: right;\n",
       "    }\n",
       "</style>\n",
       "<table border=\"1\" class=\"dataframe\">\n",
       "  <thead>\n",
       "    <tr style=\"text-align: right;\">\n",
       "      <th></th>\n",
       "      <th>Веб-сайт</th>\n",
       "    </tr>\n",
       "  </thead>\n",
       "  <tbody>\n",
       "    <tr>\n",
       "      <th>0</th>\n",
       "      <td>google.com</td>\n",
       "    </tr>\n",
       "    <tr>\n",
       "      <th>1</th>\n",
       "      <td>youtube.com</td>\n",
       "    </tr>\n",
       "    <tr>\n",
       "      <th>2</th>\n",
       "      <td>facebook.cm</td>\n",
       "    </tr>\n",
       "    <tr>\n",
       "      <th>3</th>\n",
       "      <td>twitter.com</td>\n",
       "    </tr>\n",
       "    <tr>\n",
       "      <th>4</th>\n",
       "      <td>instagram.com</td>\n",
       "    </tr>\n",
       "    <tr>\n",
       "      <th>5</th>\n",
       "      <td>baidu.com</td>\n",
       "    </tr>\n",
       "    <tr>\n",
       "      <th>6</th>\n",
       "      <td>wikipedia.org</td>\n",
       "    </tr>\n",
       "    <tr>\n",
       "      <th>7</th>\n",
       "      <td>yandex.рф</td>\n",
       "    </tr>\n",
       "    <tr>\n",
       "      <th>8</th>\n",
       "      <td>yahoo.cm</td>\n",
       "    </tr>\n",
       "    <tr>\n",
       "      <th>9</th>\n",
       "      <td>whatsapp.om</td>\n",
       "    </tr>\n",
       "  </tbody>\n",
       "</table>\n",
       "</div>"
      ],
      "text/plain": [
       "        Веб-сайт\n",
       "0     google.com\n",
       "1    youtube.com\n",
       "2    facebook.cm\n",
       "3    twitter.com\n",
       "4  instagram.com\n",
       "5      baidu.com\n",
       "6  wikipedia.org\n",
       "7      yandex.рф\n",
       "8       yahoo.cm\n",
       "9    whatsapp.om"
      ]
     },
     "execution_count": 72,
     "metadata": {},
     "output_type": "execute_result"
    }
   ],
   "source": [
    "df = pd.DataFrame({'Веб-сайт': ['google.com', 'youtube.com', 'facebook.cm',\n",
    "                  'twitter.com', 'instagram.com', 'baidu.com', 'wikipedia.org',\n",
    "                   'yandex.рф', 'yahoo.cm', 'whatsapp.om']})\n",
    "df"
   ]
  },
  {
   "cell_type": "code",
   "execution_count": null,
   "id": "abfa2294",
   "metadata": {},
   "outputs": [],
   "source": []
  }
 ],
 "metadata": {
  "kernelspec": {
   "display_name": "Python 3 (ipykernel)",
   "language": "python",
   "name": "python3"
  },
  "language_info": {
   "codemirror_mode": {
    "name": "ipython",
    "version": 3
   },
   "file_extension": ".py",
   "mimetype": "text/x-python",
   "name": "python",
   "nbconvert_exporter": "python",
   "pygments_lexer": "ipython3",
   "version": "3.9.12"
  }
 },
 "nbformat": 4,
 "nbformat_minor": 5
}
