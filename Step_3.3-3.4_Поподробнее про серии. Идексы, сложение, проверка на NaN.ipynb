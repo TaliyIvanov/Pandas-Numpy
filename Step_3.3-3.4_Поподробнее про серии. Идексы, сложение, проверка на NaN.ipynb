{
 "cells": [
  {
   "cell_type": "code",
   "execution_count": 16,
   "id": "8d6e6d0a",
   "metadata": {},
   "outputs": [],
   "source": [
    "import pandas as pd\n",
    "import numpy as np"
   ]
  },
  {
   "cell_type": "code",
   "execution_count": 25,
   "id": "6d00abe5",
   "metadata": {},
   "outputs": [
    {
     "data": {
      "text/plain": [
       "a    4\n",
       "b    3\n",
       "c    7\n",
       "d    5\n",
       "dtype: int64"
      ]
     },
     "execution_count": 25,
     "metadata": {},
     "output_type": "execute_result"
    }
   ],
   "source": [
    "s = pd.Series([4,3,7,5], index = ['a','b','c','d'])\n",
    "s"
   ]
  },
  {
   "cell_type": "code",
   "execution_count": 26,
   "id": "ca9b743f",
   "metadata": {},
   "outputs": [
    {
     "data": {
      "text/plain": [
       "c    7\n",
       "d    5\n",
       "dtype: int64"
      ]
     },
     "execution_count": 26,
     "metadata": {},
     "output_type": "execute_result"
    }
   ],
   "source": [
    "#Получим элементы >4\n",
    "s[s>4]"
   ]
  },
  {
   "cell_type": "code",
   "execution_count": 29,
   "id": "7552072f",
   "metadata": {},
   "outputs": [
    {
     "data": {
      "text/plain": [
       "c    7\n",
       "d    5\n",
       "dtype: int64"
      ]
     },
     "execution_count": 29,
     "metadata": {},
     "output_type": "execute_result"
    }
   ],
   "source": [
    "s3 = s[s>4]\n",
    "s3"
   ]
  },
  {
   "cell_type": "code",
   "execution_count": 30,
   "id": "5e0031b6",
   "metadata": {},
   "outputs": [
    {
     "data": {
      "text/plain": [
       "7"
      ]
     },
     "execution_count": 30,
     "metadata": {},
     "output_type": "execute_result"
    }
   ],
   "source": [
    "s3[0]"
   ]
  },
  {
   "cell_type": "code",
   "execution_count": 28,
   "id": "317da5b0",
   "metadata": {},
   "outputs": [
    {
     "data": {
      "text/plain": [
       "a    40\n",
       "b    30\n",
       "c    70\n",
       "d    50\n",
       "dtype: int64"
      ]
     },
     "execution_count": 28,
     "metadata": {},
     "output_type": "execute_result"
    }
   ],
   "source": [
    "#Умножение каждого элемента\n",
    "s * 10"
   ]
  },
  {
   "cell_type": "markdown",
   "id": "ef98a44d",
   "metadata": {},
   "source": [
    "#### Важно запомнить! \n",
    "- При фильтрации серии индексы остаются, а не пересоздаются.\n",
    "\n",
    "- Арифметические операции не распространяются на индексы"
   ]
  },
  {
   "cell_type": "code",
   "execution_count": 31,
   "id": "4a9289d3",
   "metadata": {},
   "outputs": [],
   "source": [
    "#Создадим словарь\n",
    "d = {'a':1, 'b':2, 'c':3}"
   ]
  },
  {
   "cell_type": "code",
   "execution_count": 32,
   "id": "c3d9aeb0",
   "metadata": {},
   "outputs": [
    {
     "data": {
      "text/plain": [
       "True"
      ]
     },
     "execution_count": 32,
     "metadata": {},
     "output_type": "execute_result"
    }
   ],
   "source": [
    "#Проверим наличие индексов\n",
    "'a' in d"
   ]
  },
  {
   "cell_type": "code",
   "execution_count": 33,
   "id": "10097474",
   "metadata": {},
   "outputs": [
    {
     "data": {
      "text/plain": [
       "True"
      ]
     },
     "execution_count": 33,
     "metadata": {},
     "output_type": "execute_result"
    }
   ],
   "source": [
    "'a' in s"
   ]
  },
  {
   "cell_type": "code",
   "execution_count": 34,
   "id": "b15bf515",
   "metadata": {},
   "outputs": [
    {
     "data": {
      "text/plain": [
       "False"
      ]
     },
     "execution_count": 34,
     "metadata": {},
     "output_type": "execute_result"
    }
   ],
   "source": [
    "'z' in s"
   ]
  },
  {
   "cell_type": "code",
   "execution_count": 36,
   "id": "915cbdf9",
   "metadata": {},
   "outputs": [
    {
     "ename": "TypeError",
     "evalue": "unsupported operand type(s) for +: 'dict' and 'dict'",
     "output_type": "error",
     "traceback": [
      "\u001b[1;31m---------------------------------------------------------------------------\u001b[0m",
      "\u001b[1;31mTypeError\u001b[0m                                 Traceback (most recent call last)",
      "Input \u001b[1;32mIn [36]\u001b[0m, in \u001b[0;36m<cell line: 2>\u001b[1;34m()\u001b[0m\n\u001b[0;32m      1\u001b[0m \u001b[38;5;66;03m#Проведем сложение словаря\u001b[39;00m\n\u001b[1;32m----> 2\u001b[0m \u001b[43md\u001b[49m\u001b[43m \u001b[49m\u001b[38;5;241;43m+\u001b[39;49m\u001b[43m \u001b[49m\u001b[43md\u001b[49m\n",
      "\u001b[1;31mTypeError\u001b[0m: unsupported operand type(s) for +: 'dict' and 'dict'"
     ]
    }
   ],
   "source": [
    "#Проведем сложение словаря\n",
    "#У нас это не получается\n",
    "d + d"
   ]
  },
  {
   "cell_type": "code",
   "execution_count": 38,
   "id": "fdad5c57",
   "metadata": {},
   "outputs": [
    {
     "data": {
      "text/plain": [
       "a     8\n",
       "b     6\n",
       "c    14\n",
       "d    10\n",
       "dtype: int64"
      ]
     },
     "execution_count": 38,
     "metadata": {},
     "output_type": "execute_result"
    }
   ],
   "source": [
    "#Проведем сложение серии\n",
    "#Все работает! Серия это не словарь, хоть она и похожа\n",
    "s + s"
   ]
  },
  {
   "cell_type": "markdown",
   "id": "cba3514a",
   "metadata": {},
   "source": [
    "- Серию можно создавать не только на основе списка. Еще один распространённый сценарий это создание серии из словаря. В этом случае ключи словаря перейдут в индексы серии."
   ]
  },
  {
   "cell_type": "code",
   "execution_count": 82,
   "id": "dc19dc69",
   "metadata": {},
   "outputs": [
    {
     "data": {
      "text/plain": [
       "{'Moscow': 1400, 'Murmansk': 900, 'Kazan': 200, 'Yakutsk': 400, 'Ufa': 300}"
      ]
     },
     "execution_count": 82,
     "metadata": {},
     "output_type": "execute_result"
    }
   ],
   "source": [
    "#создадим новый словарь с информацией просмотров видео по городам\n",
    "d1 = {'Moscow': 1400,'Murmansk':900,'Kazan':200,'Yakutsk':400,'Ufa':300}\n",
    "d1"
   ]
  },
  {
   "cell_type": "code",
   "execution_count": 45,
   "id": "cd6c29f2",
   "metadata": {},
   "outputs": [
    {
     "data": {
      "text/plain": [
       "Moscow      1400\n",
       "Murmansk     900\n",
       "Kazan        200\n",
       "Yakutsk      400\n",
       "Ufa          300\n",
       "dtype: int64"
      ]
     },
     "execution_count": 45,
     "metadata": {},
     "output_type": "execute_result"
    }
   ],
   "source": [
    "#Поскольку серия очень похожа на словарь, мы можем серию создавать на основе словаря\n",
    "#Серия поняла, что ей на вход передали ключи и значения сгенерировала словарь\n",
    "s1 = pd.Series(d1)\n",
    "s1"
   ]
  },
  {
   "cell_type": "code",
   "execution_count": 50,
   "id": "cdf863b7",
   "metadata": {},
   "outputs": [
    {
     "data": {
      "text/plain": [
       "Ufa          300\n",
       "Yakutsk      400\n",
       "Murmansk     900\n",
       "Moscow      1400\n",
       "Kazan        200\n",
       "dtype: int64"
      ]
     },
     "execution_count": 50,
     "metadata": {},
     "output_type": "execute_result"
    }
   ],
   "source": [
    "#Допустим мы хотим создать словарь, но изменить индексы\n",
    "#Для этого мы так же создаем индексы, но перечисляем ключи строго сами\n",
    "s2 = pd.Series(d1, index = ['Ufa','Yakutsk','Murmansk','Moscow','Kazan'] )\n",
    "s2"
   ]
  },
  {
   "cell_type": "code",
   "execution_count": 53,
   "id": "8c4dfc70",
   "metadata": {},
   "outputs": [
    {
     "data": {
      "text/plain": [
       "Ufa          300.0\n",
       "Yakutsk      400.0\n",
       "Murmansk     900.0\n",
       "Moscow      1400.0\n",
       "Kaz1an         NaN\n",
       "dtype: float64"
      ]
     },
     "execution_count": 53,
     "metadata": {},
     "output_type": "execute_result"
    }
   ],
   "source": [
    "#Допустим в индексе ошибку\n",
    "#Серия создается, но в индекс, где допущена ошибка, проставляется Nan\n",
    "s3 = pd.Series(d1, index = ['Ufa','Yakutsk','Murmansk','Moscow','Kaz1an'] )\n",
    "s3"
   ]
  },
  {
   "cell_type": "code",
   "execution_count": 55,
   "id": "7de30ff8",
   "metadata": {},
   "outputs": [
    {
     "data": {
      "text/plain": [
       "Ufa        300\n",
       "Yakutsk    400\n",
       "dtype: int64"
      ]
     },
     "execution_count": 55,
     "metadata": {},
     "output_type": "execute_result"
    }
   ],
   "source": [
    "#Аналогично можно создавать только частичные серии\n",
    "s4 = pd.Series(d1, index = ['Ufa','Yakutsk'] )\n",
    "s4"
   ]
  },
  {
   "cell_type": "markdown",
   "id": "099436ec",
   "metadata": {},
   "source": [
    "#### Важно запомнить!\n",
    "- Вы можете задавать индексы на этапе создания серии\n",
    "\n",
    "- Не обязательно чтобы индексы шли по порядку\n",
    "\n",
    "- Если вы создаёте серию на основе словаря и указали индекс, которого не существует в словаре, то pandas добавит в серию такой индекс, но значение будет равно NaN (пропуск)\n",
    "\n",
    "- Если вы создаете серию на основе словаря и не передали все индексы, то никакой ошибки не будет. Пандас добавит в серию только те значения, которые вы указали в индексе"
   ]
  },
  {
   "cell_type": "code",
   "execution_count": 57,
   "id": "49d73500",
   "metadata": {},
   "outputs": [
    {
     "data": {
      "text/plain": [
       "Ufa          300.0\n",
       "Yakutsk      400.0\n",
       "Murmansk     900.0\n",
       "Moscow      1400.0\n",
       "Kaz1an         NaN\n",
       "Pushkino       NaN\n",
       "dtype: float64"
      ]
     },
     "execution_count": 57,
     "metadata": {},
     "output_type": "execute_result"
    }
   ],
   "source": [
    "#Проверим наши данные на наличие в них NaNов\n",
    "s5 = pd.Series(d1, index = ['Ufa','Yakutsk','Murmansk','Moscow','Kaz1an','Pushkino'] )\n",
    "s5"
   ]
  },
  {
   "cell_type": "code",
   "execution_count": 63,
   "id": "0b6fe41d",
   "metadata": {},
   "outputs": [
    {
     "data": {
      "text/plain": [
       "Ufa         False\n",
       "Yakutsk     False\n",
       "Murmansk    False\n",
       "Moscow      False\n",
       "Kaz1an       True\n",
       "Pushkino     True\n",
       "dtype: bool"
      ]
     },
     "execution_count": 63,
     "metadata": {},
     "output_type": "execute_result"
    }
   ],
   "source": [
    "pd.isnull(s5)"
   ]
  },
  {
   "cell_type": "code",
   "execution_count": 69,
   "id": "a3f8b0bd",
   "metadata": {},
   "outputs": [
    {
     "data": {
      "text/plain": [
       "array([False, False, False, False,  True,  True])"
      ]
     },
     "execution_count": 69,
     "metadata": {},
     "output_type": "execute_result"
    }
   ],
   "source": [
    "#Аналогичный способ записи\n",
    "rez = pd.isna(s5)\n",
    "rez.values"
   ]
  },
  {
   "cell_type": "code",
   "execution_count": 72,
   "id": "e74de436",
   "metadata": {},
   "outputs": [
    {
     "data": {
      "text/plain": [
       "array([ True,  True,  True,  True, False, False])"
      ]
     },
     "execution_count": 72,
     "metadata": {},
     "output_type": "execute_result"
    }
   ],
   "source": [
    "#Еще один способ которые проверяет, что значение не пустое!\n",
    "rez2 = pd.notnull(s5)\n",
    "rez2.values"
   ]
  },
  {
   "cell_type": "markdown",
   "id": "9027c9ad",
   "metadata": {},
   "source": [
    "- s1.isnull().any()   <--- вернет только одно значение, которое будет отвечать на главный вопрос: а есть ли в серии пропуски? \n",
    "\n",
    "- s1.notnull().all() <--- ответит на вопрос: а все ли значения в серии заполнены?"
   ]
  },
  {
   "cell_type": "code",
   "execution_count": 89,
   "id": "d607e718",
   "metadata": {},
   "outputs": [
    {
     "data": {
      "text/plain": [
       "Ufa          300\n",
       "Yakutsk      400\n",
       "Murmansk     900\n",
       "Moscow      1400\n",
       "Kazan        200\n",
       "dtype: int64"
      ]
     },
     "execution_count": 89,
     "metadata": {},
     "output_type": "execute_result"
    }
   ],
   "source": [
    "#Создадим две серии допустим с результатами просмотров но уже за 2 дня\n",
    "#В первой серии у нас стандартные наши варианты\n",
    "#Во второй серии у нас ключи в другом порядке, части ключей нет, и один новый NaN\n",
    "s1 = pd.Series(d1, index=['Ufa','Yakutsk','Murmansk','Moscow','Kazan'])\n",
    "s1"
   ]
  },
  {
   "cell_type": "code",
   "execution_count": 90,
   "id": "a8ad4906",
   "metadata": {},
   "outputs": [
    {
     "data": {
      "text/plain": [
       "Kazan        200.0\n",
       "Murmansk     900.0\n",
       "Moscow      1400.0\n",
       "Pushkino       NaN\n",
       "dtype: float64"
      ]
     },
     "execution_count": 90,
     "metadata": {},
     "output_type": "execute_result"
    }
   ],
   "source": [
    "s2 = pd.Series(d1, index=['Kazan','Murmansk','Moscow','Pushkino'])\n",
    "s2"
   ]
  },
  {
   "cell_type": "code",
   "execution_count": 91,
   "id": "46cc06da",
   "metadata": {},
   "outputs": [
    {
     "data": {
      "text/plain": [
       "Kazan        400.0\n",
       "Moscow      2800.0\n",
       "Murmansk    1800.0\n",
       "Pushkino       NaN\n",
       "Ufa            NaN\n",
       "Yakutsk        NaN\n",
       "dtype: float64"
      ]
     },
     "execution_count": 91,
     "metadata": {},
     "output_type": "execute_result"
    }
   ],
   "source": [
    "#Посмотрим как у нас Словари сложатся\n",
    "s1 + s2"
   ]
  },
  {
   "cell_type": "markdown",
   "id": "0b5071e6",
   "metadata": {},
   "source": [
    "#### Важно запомнить, что при сложении серий:\n",
    "\n",
    "- не обязательно чтобы они были одинаковой длины\n",
    "\n",
    "- сложение будет происходить по индексам\n",
    "\n",
    "- если в одной из серий есть индекс, которого нет в другой серии, то индекс добавляется в результирующую серию, но значение присваивается NaN"
   ]
  },
  {
   "cell_type": "code",
   "execution_count": 92,
   "id": "d3efa89d",
   "metadata": {},
   "outputs": [
    {
     "data": {
      "text/plain": [
       "0    4\n",
       "1    3\n",
       "2    7\n",
       "3    5\n",
       "dtype: int64"
      ]
     },
     "execution_count": 92,
     "metadata": {},
     "output_type": "execute_result"
    }
   ],
   "source": [
    "#Рассмотрим переприсвоение индексов:\n",
    "s = pd.Series([4,3,7,5])\n",
    "s"
   ]
  },
  {
   "cell_type": "code",
   "execution_count": 95,
   "id": "e9175eeb",
   "metadata": {},
   "outputs": [
    {
     "data": {
      "text/plain": [
       "RangeIndex(start=0, stop=4, step=1)"
      ]
     },
     "execution_count": 95,
     "metadata": {},
     "output_type": "execute_result"
    }
   ],
   "source": [
    "s.index"
   ]
  },
  {
   "cell_type": "code",
   "execution_count": 97,
   "id": "be2d31e5",
   "metadata": {},
   "outputs": [],
   "source": [
    "#переприсвоим значения\n",
    "s.index=['a','b','c','d']"
   ]
  },
  {
   "cell_type": "code",
   "execution_count": 99,
   "id": "05183b14",
   "metadata": {},
   "outputs": [
    {
     "data": {
      "text/plain": [
       "a    4\n",
       "b    3\n",
       "c    7\n",
       "d    5\n",
       "dtype: int64"
      ]
     },
     "execution_count": 99,
     "metadata": {},
     "output_type": "execute_result"
    }
   ],
   "source": [
    "#Индексы изменились, а значения остались прежние\n",
    "#Это ползено, если нам надо сложить два массива, а у нас разные индексы.\n",
    "#Сложение происходит именно по индексам\n",
    "s"
   ]
  },
  {
   "cell_type": "markdown",
   "id": "a592a0b4",
   "metadata": {},
   "source": [
    "- У каждой серии есть своё имя. \n",
    "- Задать или прочитать имя можно через свойство name. Имя используется при работе с хранилищем серий - DataFrame (рассматривается дальше)"
   ]
  },
  {
   "attachments": {},
   "cell_type": "markdown",
   "id": "9005bb7e",
   "metadata": {},
   "source": [
    "Step_3.3.14 - На вход функции подаётся серия из 7 значений. Известно, что она хранит количество посещенных сайтов некоторого пользователя за первую неделю:\n",
    "![Картинка испарилась(((](https://ucarecdn.com/624e853b-0065-4f4d-977c-5173040f0168/)\n",
    "Известно, что за вторую неделю пользователь посетил в два раза больше сайтов\n",
    "![Картинка испарилась(((](https://ucarecdn.com/1985976f-ed26-4bf9-bdb8-6ce2fb1a93c9/)\n",
    "Определите сколько сайтов посетил пользователь в сумме за две недели в разрезе по дням недели. Функция должна вернуть только те дни, где количество посещенных сайтов больше 20:\n",
    "![Картинка испарилась(((](https://ucarecdn.com/c89026ec-0080-4671-a61e-2e47f4cf314a/)"
   ]
  },
  {
   "cell_type": "code",
   "execution_count": 100,
   "id": "df4967c9",
   "metadata": {},
   "outputs": [],
   "source": [
    "#Создам для начала словари, чтобы мне удобнее было\n",
    "week1 = {'Понедельник':6,'Вторник':5,'Среда':4,'Четверг':3,'Пятница':7,'Суббота':10,'Воскресенье':14}\n",
    "week2 = {'Понедельник':12,'Вторник':10,'Среда':8,'Четверг':6,'Пятница':14,'Суббота':20,'Воскресенье':28}"
   ]
  },
  {
   "cell_type": "code",
   "execution_count": 104,
   "id": "ae4e6bca",
   "metadata": {},
   "outputs": [
    {
     "data": {
      "text/plain": [
       "Понедельник     6\n",
       "Вторник         5\n",
       "Среда           4\n",
       "Четверг         3\n",
       "Пятница         7\n",
       "Суббота        10\n",
       "Воскресенье    14\n",
       "dtype: int64"
      ]
     },
     "execution_count": 104,
     "metadata": {},
     "output_type": "execute_result"
    }
   ],
   "source": [
    "#Создам серию 1\n",
    "sw1 = pd.Series(week1)\n",
    "sw1"
   ]
  },
  {
   "cell_type": "code",
   "execution_count": 105,
   "id": "9694fe16",
   "metadata": {},
   "outputs": [
    {
     "data": {
      "text/plain": [
       "Понедельник    12\n",
       "Вторник        10\n",
       "Среда           8\n",
       "Четверг         6\n",
       "Пятница        14\n",
       "Суббота        20\n",
       "Воскресенье    28\n",
       "dtype: int64"
      ]
     },
     "execution_count": 105,
     "metadata": {},
     "output_type": "execute_result"
    }
   ],
   "source": [
    "#Создам серию 2\n",
    "sw2 = pd.Series(week2)\n",
    "sw2"
   ]
  },
  {
   "cell_type": "code",
   "execution_count": 106,
   "id": "4a2e58cb",
   "metadata": {},
   "outputs": [],
   "source": [
    "#Теперь создадим необходимую функцию\n",
    "def weekcounter(sw1,sw2):\n",
    "    sw = sw1 + sw2\n",
    "    return sw[sw>20]"
   ]
  },
  {
   "cell_type": "code",
   "execution_count": 107,
   "id": "1fc9bbf6",
   "metadata": {},
   "outputs": [
    {
     "data": {
      "text/plain": [
       "Пятница        21\n",
       "Суббота        30\n",
       "Воскресенье    42\n",
       "dtype: int64"
      ]
     },
     "execution_count": 107,
     "metadata": {},
     "output_type": "execute_result"
    }
   ],
   "source": [
    "weekcounter(sw1,sw2)"
   ]
  },
  {
   "cell_type": "markdown",
   "id": "7bcf2a18",
   "metadata": {},
   "source": [
    "На самом деле я чот береборщил и невнимательно прочел условие, естественно необходимо было умножить на 3 количество посещений первой недели, которая подавалась в функию. Отобрать значения больше 20. Но мне было самому интересно расписать руками все."
   ]
  },
  {
   "cell_type": "code",
   "execution_count": 109,
   "id": "83bbc106",
   "metadata": {},
   "outputs": [],
   "source": [
    "#Функция для корректного ответа на платформе Stepik\n",
    "import pandas as pd\n",
    "\n",
    "def solution(ser1):\n",
    "    result = ser1 * 3\n",
    "    return result[result>20]"
   ]
  },
  {
   "cell_type": "markdown",
   "id": "2d08ee11",
   "metadata": {},
   "source": [
    "Step_3.3.15 - На вход поступает некоторая серия. Проверьте, есть ли в ней индекс 'Пятница'. Верните True если есть иначе False."
   ]
  },
  {
   "cell_type": "code",
   "execution_count": 110,
   "id": "a445412e",
   "metadata": {},
   "outputs": [],
   "source": [
    "def solution(ser1):\n",
    "    result = 'Пятница' in ser1.index \n",
    "    return result"
   ]
  },
  {
   "cell_type": "markdown",
   "id": "7ab86115",
   "metadata": {},
   "source": [
    "Step_3.4.1 - На вход функции подаётся словарь. Постройте из него серию и умножьте каждое значение серии на 2. Функция должна вернуть серию. "
   ]
  },
  {
   "cell_type": "code",
   "execution_count": null,
   "id": "2a4f327c",
   "metadata": {},
   "outputs": [],
   "source": [
    "import pandas as pd\n",
    "\n",
    "def solution(d):\n",
    "    result = pd.Series(d)\n",
    "    return result * 2"
   ]
  },
  {
   "cell_type": "markdown",
   "id": "5fe3d4a9",
   "metadata": {},
   "source": [
    "Step_3.4.3 - На вход функции подаётся словарь. Постройте из него серию так чтобы индексы были расположены в порядке: e, a, c, b, d"
   ]
  },
  {
   "cell_type": "code",
   "execution_count": 112,
   "id": "042090dd",
   "metadata": {},
   "outputs": [],
   "source": [
    "def solution(d):\n",
    "    result = pd.Series(d, index = ['e', 'a', 'c', 'b', 'd'])\n",
    "    return result"
   ]
  },
  {
   "cell_type": "markdown",
   "id": "689f176f",
   "metadata": {},
   "source": [
    "Step_3.4.4 - На вход функции подаётся словарь. Постройте из него серию и добавьте еще один индекс g. Индексу g присвойте значение 10. Функция должна вернуть серию."
   ]
  },
  {
   "cell_type": "code",
   "execution_count": 113,
   "id": "09a75703",
   "metadata": {},
   "outputs": [],
   "source": [
    "import pandas as pd\n",
    "\n",
    "def solution(d):\n",
    "    result = pd.Series(d)\n",
    "    result['g'] = 10\n",
    "    return result"
   ]
  },
  {
   "cell_type": "markdown",
   "id": "e8850e82",
   "metadata": {},
   "source": [
    "Step_3.4.6 - Проверьте, все ли значения серии заполнены? Верните одно значение False - если не все; True - если все заполнены"
   ]
  },
  {
   "cell_type": "code",
   "execution_count": 114,
   "id": "4fd8f67f",
   "metadata": {},
   "outputs": [],
   "source": [
    "import pandas as pd\n",
    "\n",
    "def solution(s1):\n",
    "    result = s1.notnull().all()\n",
    "    return result"
   ]
  },
  {
   "cell_type": "markdown",
   "id": "5db10452",
   "metadata": {},
   "source": [
    "Step_3.4.6 - На вход вам подаётся серия. Разверните индексы в обратном направлении:\n",
    "![Картинка испарилась(((](https://ucarecdn.com/618e5198-6834-43fd-b4c5-c8b8eaad97c0/)\n",
    "Значения оставьте на своих местах)"
   ]
  },
  {
   "cell_type": "code",
   "execution_count": null,
   "id": "2c4a8248",
   "metadata": {},
   "outputs": [],
   "source": [
    "import pandas as pd\n",
    "\n",
    "def solution(s1):\n",
    "    s1.index = [::-1]\n",
    "    return s1"
   ]
  }
 ],
 "metadata": {
  "kernelspec": {
   "display_name": "Python 3 (ipykernel)",
   "language": "python",
   "name": "python3"
  },
  "language_info": {
   "codemirror_mode": {
    "name": "ipython",
    "version": 3
   },
   "file_extension": ".py",
   "mimetype": "text/x-python",
   "name": "python",
   "nbconvert_exporter": "python",
   "pygments_lexer": "ipython3",
   "version": "3.9.12"
  }
 },
 "nbformat": 4,
 "nbformat_minor": 5
}
